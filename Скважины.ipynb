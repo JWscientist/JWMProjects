{
 "cells": [
  {
   "cell_type": "markdown",
   "id": "2ada29b1",
   "metadata": {},
   "source": [
    "# Скважины"
   ]
  },
  {
   "cell_type": "markdown",
   "id": "ae333e9e",
   "metadata": {},
   "source": [
    "<b>Цель работы:</b> построить модель для определения региона, где добыча принесёт наибольшую прибыль. Проанализировать возможную прибыль и риски техникой Bootstrap.\n",
    "\n",
    "<b>Условия задачи:</b>\n",
    "\n",
    "   - Для обучения модели подходит только линейная регрессия (остальные — недостаточно предсказуемые).\n",
    "   - При разведке региона исследуют 500 точек, из которых с помощью машинного обучения выбирают 200 лучших для разработки.\n",
    "   - Бюджет на разработку скважин в регионе — 10 млрд рублей.\n",
    "   - При нынешних ценах один баррель сырья приносит 450 рублей дохода. Доход с каждой единицы продукта составляет 450 тыс. рублей, поскольку объём указан в тысячах баррелей.\n",
    "   - После оценки рисков нужно оставить лишь те регионы, в которых вероятность убытков меньше 2.5%. Среди них выбирают регион с наибольшей средней прибылью.\n"
   ]
  },
  {
   "cell_type": "markdown",
   "id": "cf837ed1",
   "metadata": {},
   "source": [
    "<b> Характеристика данных: </b>\n",
    "- id — уникальный идентификатор скважины;\n",
    "-  f0, f1, f2 — три признака точек (неважно, что они означают, но сами признаки значимы);\n",
    "-  product — объём запасов в скважине (тыс. баррелей)."
   ]
  },
  {
   "cell_type": "code",
   "execution_count": 1,
   "id": "d8b245da",
   "metadata": {},
   "outputs": [],
   "source": [
    "#импортируем основные библиотеки\n",
    "import pandas as pd\n",
    "import numpy as np\n",
    "import math\n",
    "\n",
    "#визуализация\n",
    "import seaborn as sns\n",
    "import matplotlib.pyplot as plt\n",
    "\n",
    "from numpy.random import RandomState\n",
    "\n",
    "#модели & метрики & инструменты\n",
    "from sklearn.model_selection import train_test_split\n",
    "from sklearn.preprocessing import StandardScaler\n",
    "from sklearn.linear_model import LinearRegression\n",
    "from sklearn.metrics import mean_squared_error, r2_score, mean_absolute_error\n",
    "from sklearn.model_selection import GridSearchCV\n",
    "\n",
    "import warnings\n",
    "warnings.filterwarnings(\"ignore\")"
   ]
  },
  {
   "cell_type": "code",
   "execution_count": 2,
   "id": "fabfff45",
   "metadata": {},
   "outputs": [],
   "source": [
    "#прочитаем файлы\n",
    "try:\n",
    "    data_0 = pd.read_csv('desktop/datasets/geo_data_0.csv')\n",
    "    data_1 = pd.read_csv('desktop/datasets/geo_data_1.csv')\n",
    "    data_2 = pd.read_csv('desktop/datasets/geo_data_2.csv')\n",
    "except:\n",
    "    data_0 = pd.read_csv('/datasets/geo_data_0.csv')\n",
    "    data_1 = pd.read_csv('/datasets/geo_data_1.csv')\n",
    "    data_2 = pd.read_csv('/datasets/geo_data_2.csv')\n",
    "    "
   ]
  },
  {
   "cell_type": "code",
   "execution_count": 3,
   "id": "c74fe2d8",
   "metadata": {},
   "outputs": [
    {
     "data": {
      "text/html": [
       "<div>\n",
       "<style scoped>\n",
       "    .dataframe tbody tr th:only-of-type {\n",
       "        vertical-align: middle;\n",
       "    }\n",
       "\n",
       "    .dataframe tbody tr th {\n",
       "        vertical-align: top;\n",
       "    }\n",
       "\n",
       "    .dataframe thead th {\n",
       "        text-align: right;\n",
       "    }\n",
       "</style>\n",
       "<table border=\"1\" class=\"dataframe\">\n",
       "  <thead>\n",
       "    <tr style=\"text-align: right;\">\n",
       "      <th></th>\n",
       "      <th>id</th>\n",
       "      <th>f0</th>\n",
       "      <th>f1</th>\n",
       "      <th>f2</th>\n",
       "      <th>product</th>\n",
       "    </tr>\n",
       "  </thead>\n",
       "  <tbody>\n",
       "    <tr>\n",
       "      <th>0</th>\n",
       "      <td>txEyH</td>\n",
       "      <td>0.705745</td>\n",
       "      <td>-0.497823</td>\n",
       "      <td>1.221170</td>\n",
       "      <td>105.280062</td>\n",
       "    </tr>\n",
       "    <tr>\n",
       "      <th>1</th>\n",
       "      <td>2acmU</td>\n",
       "      <td>1.334711</td>\n",
       "      <td>-0.340164</td>\n",
       "      <td>4.365080</td>\n",
       "      <td>73.037750</td>\n",
       "    </tr>\n",
       "    <tr>\n",
       "      <th>2</th>\n",
       "      <td>409Wp</td>\n",
       "      <td>1.022732</td>\n",
       "      <td>0.151990</td>\n",
       "      <td>1.419926</td>\n",
       "      <td>85.265647</td>\n",
       "    </tr>\n",
       "    <tr>\n",
       "      <th>3</th>\n",
       "      <td>iJLyR</td>\n",
       "      <td>-0.032172</td>\n",
       "      <td>0.139033</td>\n",
       "      <td>2.978566</td>\n",
       "      <td>168.620776</td>\n",
       "    </tr>\n",
       "    <tr>\n",
       "      <th>4</th>\n",
       "      <td>Xdl7t</td>\n",
       "      <td>1.988431</td>\n",
       "      <td>0.155413</td>\n",
       "      <td>4.751769</td>\n",
       "      <td>154.036647</td>\n",
       "    </tr>\n",
       "  </tbody>\n",
       "</table>\n",
       "</div>"
      ],
      "text/plain": [
       "      id        f0        f1        f2     product\n",
       "0  txEyH  0.705745 -0.497823  1.221170  105.280062\n",
       "1  2acmU  1.334711 -0.340164  4.365080   73.037750\n",
       "2  409Wp  1.022732  0.151990  1.419926   85.265647\n",
       "3  iJLyR -0.032172  0.139033  2.978566  168.620776\n",
       "4  Xdl7t  1.988431  0.155413  4.751769  154.036647"
      ]
     },
     "execution_count": 3,
     "metadata": {},
     "output_type": "execute_result"
    }
   ],
   "source": [
    "#посмотрим на датасет по первому региону\n",
    "data_0.head()"
   ]
  },
  {
   "cell_type": "code",
   "execution_count": 4,
   "id": "9a514605",
   "metadata": {},
   "outputs": [
    {
     "data": {
      "text/html": [
       "<div>\n",
       "<style scoped>\n",
       "    .dataframe tbody tr th:only-of-type {\n",
       "        vertical-align: middle;\n",
       "    }\n",
       "\n",
       "    .dataframe tbody tr th {\n",
       "        vertical-align: top;\n",
       "    }\n",
       "\n",
       "    .dataframe thead th {\n",
       "        text-align: right;\n",
       "    }\n",
       "</style>\n",
       "<table border=\"1\" class=\"dataframe\">\n",
       "  <thead>\n",
       "    <tr style=\"text-align: right;\">\n",
       "      <th></th>\n",
       "      <th>id</th>\n",
       "      <th>f0</th>\n",
       "      <th>f1</th>\n",
       "      <th>f2</th>\n",
       "      <th>product</th>\n",
       "    </tr>\n",
       "  </thead>\n",
       "  <tbody>\n",
       "    <tr>\n",
       "      <th>0</th>\n",
       "      <td>kBEdx</td>\n",
       "      <td>-15.001348</td>\n",
       "      <td>-8.276000</td>\n",
       "      <td>-0.005876</td>\n",
       "      <td>3.179103</td>\n",
       "    </tr>\n",
       "    <tr>\n",
       "      <th>1</th>\n",
       "      <td>62mP7</td>\n",
       "      <td>14.272088</td>\n",
       "      <td>-3.475083</td>\n",
       "      <td>0.999183</td>\n",
       "      <td>26.953261</td>\n",
       "    </tr>\n",
       "    <tr>\n",
       "      <th>2</th>\n",
       "      <td>vyE1P</td>\n",
       "      <td>6.263187</td>\n",
       "      <td>-5.948386</td>\n",
       "      <td>5.001160</td>\n",
       "      <td>134.766305</td>\n",
       "    </tr>\n",
       "    <tr>\n",
       "      <th>3</th>\n",
       "      <td>KcrkZ</td>\n",
       "      <td>-13.081196</td>\n",
       "      <td>-11.506057</td>\n",
       "      <td>4.999415</td>\n",
       "      <td>137.945408</td>\n",
       "    </tr>\n",
       "    <tr>\n",
       "      <th>4</th>\n",
       "      <td>AHL4O</td>\n",
       "      <td>12.702195</td>\n",
       "      <td>-8.147433</td>\n",
       "      <td>5.004363</td>\n",
       "      <td>134.766305</td>\n",
       "    </tr>\n",
       "  </tbody>\n",
       "</table>\n",
       "</div>"
      ],
      "text/plain": [
       "      id         f0         f1        f2     product\n",
       "0  kBEdx -15.001348  -8.276000 -0.005876    3.179103\n",
       "1  62mP7  14.272088  -3.475083  0.999183   26.953261\n",
       "2  vyE1P   6.263187  -5.948386  5.001160  134.766305\n",
       "3  KcrkZ -13.081196 -11.506057  4.999415  137.945408\n",
       "4  AHL4O  12.702195  -8.147433  5.004363  134.766305"
      ]
     },
     "execution_count": 4,
     "metadata": {},
     "output_type": "execute_result"
    }
   ],
   "source": [
    "#посмотрим на датасет по второму региону\n",
    "data_1.head()"
   ]
  },
  {
   "cell_type": "code",
   "execution_count": 5,
   "id": "61659e1c",
   "metadata": {},
   "outputs": [
    {
     "data": {
      "text/html": [
       "<div>\n",
       "<style scoped>\n",
       "    .dataframe tbody tr th:only-of-type {\n",
       "        vertical-align: middle;\n",
       "    }\n",
       "\n",
       "    .dataframe tbody tr th {\n",
       "        vertical-align: top;\n",
       "    }\n",
       "\n",
       "    .dataframe thead th {\n",
       "        text-align: right;\n",
       "    }\n",
       "</style>\n",
       "<table border=\"1\" class=\"dataframe\">\n",
       "  <thead>\n",
       "    <tr style=\"text-align: right;\">\n",
       "      <th></th>\n",
       "      <th>id</th>\n",
       "      <th>f0</th>\n",
       "      <th>f1</th>\n",
       "      <th>f2</th>\n",
       "      <th>product</th>\n",
       "    </tr>\n",
       "  </thead>\n",
       "  <tbody>\n",
       "    <tr>\n",
       "      <th>0</th>\n",
       "      <td>fwXo0</td>\n",
       "      <td>-1.146987</td>\n",
       "      <td>0.963328</td>\n",
       "      <td>-0.828965</td>\n",
       "      <td>27.758673</td>\n",
       "    </tr>\n",
       "    <tr>\n",
       "      <th>1</th>\n",
       "      <td>WJtFt</td>\n",
       "      <td>0.262778</td>\n",
       "      <td>0.269839</td>\n",
       "      <td>-2.530187</td>\n",
       "      <td>56.069697</td>\n",
       "    </tr>\n",
       "    <tr>\n",
       "      <th>2</th>\n",
       "      <td>ovLUW</td>\n",
       "      <td>0.194587</td>\n",
       "      <td>0.289035</td>\n",
       "      <td>-5.586433</td>\n",
       "      <td>62.871910</td>\n",
       "    </tr>\n",
       "    <tr>\n",
       "      <th>3</th>\n",
       "      <td>q6cA6</td>\n",
       "      <td>2.236060</td>\n",
       "      <td>-0.553760</td>\n",
       "      <td>0.930038</td>\n",
       "      <td>114.572842</td>\n",
       "    </tr>\n",
       "    <tr>\n",
       "      <th>4</th>\n",
       "      <td>WPMUX</td>\n",
       "      <td>-0.515993</td>\n",
       "      <td>1.716266</td>\n",
       "      <td>5.899011</td>\n",
       "      <td>149.600746</td>\n",
       "    </tr>\n",
       "  </tbody>\n",
       "</table>\n",
       "</div>"
      ],
      "text/plain": [
       "      id        f0        f1        f2     product\n",
       "0  fwXo0 -1.146987  0.963328 -0.828965   27.758673\n",
       "1  WJtFt  0.262778  0.269839 -2.530187   56.069697\n",
       "2  ovLUW  0.194587  0.289035 -5.586433   62.871910\n",
       "3  q6cA6  2.236060 -0.553760  0.930038  114.572842\n",
       "4  WPMUX -0.515993  1.716266  5.899011  149.600746"
      ]
     },
     "execution_count": 5,
     "metadata": {},
     "output_type": "execute_result"
    }
   ],
   "source": [
    "#посмотрим на датасет по третьему региону\n",
    "data_2.head()"
   ]
  },
  {
   "cell_type": "code",
   "execution_count": 6,
   "id": "3bc369ad",
   "metadata": {},
   "outputs": [
    {
     "name": "stdout",
     "output_type": "stream",
     "text": [
      "<class 'pandas.core.frame.DataFrame'>\n",
      "RangeIndex: 100000 entries, 0 to 99999\n",
      "Data columns (total 5 columns):\n",
      " #   Column   Non-Null Count   Dtype  \n",
      "---  ------   --------------   -----  \n",
      " 0   id       100000 non-null  object \n",
      " 1   f0       100000 non-null  float64\n",
      " 2   f1       100000 non-null  float64\n",
      " 3   f2       100000 non-null  float64\n",
      " 4   product  100000 non-null  float64\n",
      "dtypes: float64(4), object(1)\n",
      "memory usage: 3.8+ MB\n",
      "None\n",
      "\n",
      "<class 'pandas.core.frame.DataFrame'>\n",
      "RangeIndex: 100000 entries, 0 to 99999\n",
      "Data columns (total 5 columns):\n",
      " #   Column   Non-Null Count   Dtype  \n",
      "---  ------   --------------   -----  \n",
      " 0   id       100000 non-null  object \n",
      " 1   f0       100000 non-null  float64\n",
      " 2   f1       100000 non-null  float64\n",
      " 3   f2       100000 non-null  float64\n",
      " 4   product  100000 non-null  float64\n",
      "dtypes: float64(4), object(1)\n",
      "memory usage: 3.8+ MB\n",
      "None\n",
      "\n",
      "<class 'pandas.core.frame.DataFrame'>\n",
      "RangeIndex: 100000 entries, 0 to 99999\n",
      "Data columns (total 5 columns):\n",
      " #   Column   Non-Null Count   Dtype  \n",
      "---  ------   --------------   -----  \n",
      " 0   id       100000 non-null  object \n",
      " 1   f0       100000 non-null  float64\n",
      " 2   f1       100000 non-null  float64\n",
      " 3   f2       100000 non-null  float64\n",
      " 4   product  100000 non-null  float64\n",
      "dtypes: float64(4), object(1)\n",
      "memory usage: 3.8+ MB\n",
      "None\n"
     ]
    }
   ],
   "source": [
    "#посмотрим на основную информацию по датасетам\n",
    "print(data_0.info())\n",
    "print('')\n",
    "print(data_1.info())\n",
    "print('')\n",
    "print(data_2.info())"
   ]
  },
  {
   "cell_type": "code",
   "execution_count": 7,
   "id": "32bc779f",
   "metadata": {},
   "outputs": [
    {
     "data": {
      "text/html": [
       "<div>\n",
       "<style scoped>\n",
       "    .dataframe tbody tr th:only-of-type {\n",
       "        vertical-align: middle;\n",
       "    }\n",
       "\n",
       "    .dataframe tbody tr th {\n",
       "        vertical-align: top;\n",
       "    }\n",
       "\n",
       "    .dataframe thead th {\n",
       "        text-align: right;\n",
       "    }\n",
       "</style>\n",
       "<table border=\"1\" class=\"dataframe\">\n",
       "  <thead>\n",
       "    <tr style=\"text-align: right;\">\n",
       "      <th></th>\n",
       "      <th>f0</th>\n",
       "      <th>f1</th>\n",
       "      <th>f2</th>\n",
       "      <th>product</th>\n",
       "    </tr>\n",
       "  </thead>\n",
       "  <tbody>\n",
       "    <tr>\n",
       "      <th>count</th>\n",
       "      <td>100000.000000</td>\n",
       "      <td>100000.000000</td>\n",
       "      <td>100000.000000</td>\n",
       "      <td>100000.000000</td>\n",
       "    </tr>\n",
       "    <tr>\n",
       "      <th>mean</th>\n",
       "      <td>0.500419</td>\n",
       "      <td>0.250143</td>\n",
       "      <td>2.502647</td>\n",
       "      <td>92.500000</td>\n",
       "    </tr>\n",
       "    <tr>\n",
       "      <th>std</th>\n",
       "      <td>0.871832</td>\n",
       "      <td>0.504433</td>\n",
       "      <td>3.248248</td>\n",
       "      <td>44.288691</td>\n",
       "    </tr>\n",
       "    <tr>\n",
       "      <th>min</th>\n",
       "      <td>-1.408605</td>\n",
       "      <td>-0.848218</td>\n",
       "      <td>-12.088328</td>\n",
       "      <td>0.000000</td>\n",
       "    </tr>\n",
       "    <tr>\n",
       "      <th>25%</th>\n",
       "      <td>-0.072580</td>\n",
       "      <td>-0.200881</td>\n",
       "      <td>0.287748</td>\n",
       "      <td>56.497507</td>\n",
       "    </tr>\n",
       "    <tr>\n",
       "      <th>50%</th>\n",
       "      <td>0.502360</td>\n",
       "      <td>0.250252</td>\n",
       "      <td>2.515969</td>\n",
       "      <td>91.849972</td>\n",
       "    </tr>\n",
       "    <tr>\n",
       "      <th>75%</th>\n",
       "      <td>1.073581</td>\n",
       "      <td>0.700646</td>\n",
       "      <td>4.715088</td>\n",
       "      <td>128.564089</td>\n",
       "    </tr>\n",
       "    <tr>\n",
       "      <th>max</th>\n",
       "      <td>2.362331</td>\n",
       "      <td>1.343769</td>\n",
       "      <td>16.003790</td>\n",
       "      <td>185.364347</td>\n",
       "    </tr>\n",
       "  </tbody>\n",
       "</table>\n",
       "</div>"
      ],
      "text/plain": [
       "                  f0             f1             f2        product\n",
       "count  100000.000000  100000.000000  100000.000000  100000.000000\n",
       "mean        0.500419       0.250143       2.502647      92.500000\n",
       "std         0.871832       0.504433       3.248248      44.288691\n",
       "min        -1.408605      -0.848218     -12.088328       0.000000\n",
       "25%        -0.072580      -0.200881       0.287748      56.497507\n",
       "50%         0.502360       0.250252       2.515969      91.849972\n",
       "75%         1.073581       0.700646       4.715088     128.564089\n",
       "max         2.362331       1.343769      16.003790     185.364347"
      ]
     },
     "execution_count": 7,
     "metadata": {},
     "output_type": "execute_result"
    }
   ],
   "source": [
    "#посмотрим на статистику, чтобы предварительно оценить распределение (первый регион)\n",
    "data_0.describe()"
   ]
  },
  {
   "cell_type": "code",
   "execution_count": 8,
   "id": "da52ed21",
   "metadata": {},
   "outputs": [
    {
     "data": {
      "text/html": [
       "<div>\n",
       "<style scoped>\n",
       "    .dataframe tbody tr th:only-of-type {\n",
       "        vertical-align: middle;\n",
       "    }\n",
       "\n",
       "    .dataframe tbody tr th {\n",
       "        vertical-align: top;\n",
       "    }\n",
       "\n",
       "    .dataframe thead th {\n",
       "        text-align: right;\n",
       "    }\n",
       "</style>\n",
       "<table border=\"1\" class=\"dataframe\">\n",
       "  <thead>\n",
       "    <tr style=\"text-align: right;\">\n",
       "      <th></th>\n",
       "      <th>f0</th>\n",
       "      <th>f1</th>\n",
       "      <th>f2</th>\n",
       "      <th>product</th>\n",
       "    </tr>\n",
       "  </thead>\n",
       "  <tbody>\n",
       "    <tr>\n",
       "      <th>count</th>\n",
       "      <td>100000.000000</td>\n",
       "      <td>100000.000000</td>\n",
       "      <td>100000.000000</td>\n",
       "      <td>100000.000000</td>\n",
       "    </tr>\n",
       "    <tr>\n",
       "      <th>mean</th>\n",
       "      <td>1.141296</td>\n",
       "      <td>-4.796579</td>\n",
       "      <td>2.494541</td>\n",
       "      <td>68.825000</td>\n",
       "    </tr>\n",
       "    <tr>\n",
       "      <th>std</th>\n",
       "      <td>8.965932</td>\n",
       "      <td>5.119872</td>\n",
       "      <td>1.703572</td>\n",
       "      <td>45.944423</td>\n",
       "    </tr>\n",
       "    <tr>\n",
       "      <th>min</th>\n",
       "      <td>-31.609576</td>\n",
       "      <td>-26.358598</td>\n",
       "      <td>-0.018144</td>\n",
       "      <td>0.000000</td>\n",
       "    </tr>\n",
       "    <tr>\n",
       "      <th>25%</th>\n",
       "      <td>-6.298551</td>\n",
       "      <td>-8.267985</td>\n",
       "      <td>1.000021</td>\n",
       "      <td>26.953261</td>\n",
       "    </tr>\n",
       "    <tr>\n",
       "      <th>50%</th>\n",
       "      <td>1.153055</td>\n",
       "      <td>-4.813172</td>\n",
       "      <td>2.011479</td>\n",
       "      <td>57.085625</td>\n",
       "    </tr>\n",
       "    <tr>\n",
       "      <th>75%</th>\n",
       "      <td>8.621015</td>\n",
       "      <td>-1.332816</td>\n",
       "      <td>3.999904</td>\n",
       "      <td>107.813044</td>\n",
       "    </tr>\n",
       "    <tr>\n",
       "      <th>max</th>\n",
       "      <td>29.421755</td>\n",
       "      <td>18.734063</td>\n",
       "      <td>5.019721</td>\n",
       "      <td>137.945408</td>\n",
       "    </tr>\n",
       "  </tbody>\n",
       "</table>\n",
       "</div>"
      ],
      "text/plain": [
       "                  f0             f1             f2        product\n",
       "count  100000.000000  100000.000000  100000.000000  100000.000000\n",
       "mean        1.141296      -4.796579       2.494541      68.825000\n",
       "std         8.965932       5.119872       1.703572      45.944423\n",
       "min       -31.609576     -26.358598      -0.018144       0.000000\n",
       "25%        -6.298551      -8.267985       1.000021      26.953261\n",
       "50%         1.153055      -4.813172       2.011479      57.085625\n",
       "75%         8.621015      -1.332816       3.999904     107.813044\n",
       "max        29.421755      18.734063       5.019721     137.945408"
      ]
     },
     "execution_count": 8,
     "metadata": {},
     "output_type": "execute_result"
    }
   ],
   "source": [
    "#посмотрим на статистику, чтобы предварительно оценить распределение (второй регион)\n",
    "data_1.describe()"
   ]
  },
  {
   "cell_type": "code",
   "execution_count": 9,
   "id": "934d881a",
   "metadata": {},
   "outputs": [
    {
     "data": {
      "text/html": [
       "<div>\n",
       "<style scoped>\n",
       "    .dataframe tbody tr th:only-of-type {\n",
       "        vertical-align: middle;\n",
       "    }\n",
       "\n",
       "    .dataframe tbody tr th {\n",
       "        vertical-align: top;\n",
       "    }\n",
       "\n",
       "    .dataframe thead th {\n",
       "        text-align: right;\n",
       "    }\n",
       "</style>\n",
       "<table border=\"1\" class=\"dataframe\">\n",
       "  <thead>\n",
       "    <tr style=\"text-align: right;\">\n",
       "      <th></th>\n",
       "      <th>f0</th>\n",
       "      <th>f1</th>\n",
       "      <th>f2</th>\n",
       "      <th>product</th>\n",
       "    </tr>\n",
       "  </thead>\n",
       "  <tbody>\n",
       "    <tr>\n",
       "      <th>count</th>\n",
       "      <td>100000.000000</td>\n",
       "      <td>100000.000000</td>\n",
       "      <td>100000.000000</td>\n",
       "      <td>100000.000000</td>\n",
       "    </tr>\n",
       "    <tr>\n",
       "      <th>mean</th>\n",
       "      <td>0.002023</td>\n",
       "      <td>-0.002081</td>\n",
       "      <td>2.495128</td>\n",
       "      <td>95.000000</td>\n",
       "    </tr>\n",
       "    <tr>\n",
       "      <th>std</th>\n",
       "      <td>1.732045</td>\n",
       "      <td>1.730417</td>\n",
       "      <td>3.473445</td>\n",
       "      <td>44.749921</td>\n",
       "    </tr>\n",
       "    <tr>\n",
       "      <th>min</th>\n",
       "      <td>-8.760004</td>\n",
       "      <td>-7.084020</td>\n",
       "      <td>-11.970335</td>\n",
       "      <td>0.000000</td>\n",
       "    </tr>\n",
       "    <tr>\n",
       "      <th>25%</th>\n",
       "      <td>-1.162288</td>\n",
       "      <td>-1.174820</td>\n",
       "      <td>0.130359</td>\n",
       "      <td>59.450441</td>\n",
       "    </tr>\n",
       "    <tr>\n",
       "      <th>50%</th>\n",
       "      <td>0.009424</td>\n",
       "      <td>-0.009482</td>\n",
       "      <td>2.484236</td>\n",
       "      <td>94.925613</td>\n",
       "    </tr>\n",
       "    <tr>\n",
       "      <th>75%</th>\n",
       "      <td>1.158535</td>\n",
       "      <td>1.163678</td>\n",
       "      <td>4.858794</td>\n",
       "      <td>130.595027</td>\n",
       "    </tr>\n",
       "    <tr>\n",
       "      <th>max</th>\n",
       "      <td>7.238262</td>\n",
       "      <td>7.844801</td>\n",
       "      <td>16.739402</td>\n",
       "      <td>190.029838</td>\n",
       "    </tr>\n",
       "  </tbody>\n",
       "</table>\n",
       "</div>"
      ],
      "text/plain": [
       "                  f0             f1             f2        product\n",
       "count  100000.000000  100000.000000  100000.000000  100000.000000\n",
       "mean        0.002023      -0.002081       2.495128      95.000000\n",
       "std         1.732045       1.730417       3.473445      44.749921\n",
       "min        -8.760004      -7.084020     -11.970335       0.000000\n",
       "25%        -1.162288      -1.174820       0.130359      59.450441\n",
       "50%         0.009424      -0.009482       2.484236      94.925613\n",
       "75%         1.158535       1.163678       4.858794     130.595027\n",
       "max         7.238262       7.844801      16.739402     190.029838"
      ]
     },
     "execution_count": 9,
     "metadata": {},
     "output_type": "execute_result"
    }
   ],
   "source": [
    "#посмотрим на статистику, чтобы предварительно оценить распределение (третий регион)\n",
    "data_2.describe()"
   ]
  },
  {
   "cell_type": "code",
   "execution_count": 10,
   "id": "c0b9da0f",
   "metadata": {},
   "outputs": [],
   "source": [
    "#посмотрим распределение на boxplot\n",
    "def boxplot_fact(data):\n",
    "   \n",
    "    sns.set_style('darkgrid')  \n",
    "    plt.title('Распределение данных в датесете по столбцам')\n",
    "    data.boxplot(column='f0',figsize=(6,3))\n",
    "    plt.show()\n",
    "    data.boxplot(column='f1',figsize=(6,3))\n",
    "    plt.show()\n",
    "    data.boxplot(column='f2',figsize=(6,3))\n",
    "    plt.show()\n",
    "    data.boxplot(column='product',figsize=(6,3))\n",
    "    plt.show()\n",
    "    "
   ]
  },
  {
   "cell_type": "code",
   "execution_count": 11,
   "id": "9d7b0df9",
   "metadata": {},
   "outputs": [
    {
     "data": {
      "image/png": "[encoded data removed]",
      "text/plain": [
       "<Figure size 432x288 with 1 Axes>"
      ]
     },
     "metadata": {},
     "output_type": "display_data"
    },
    {
     "data": {
      "image/png": "[encoded data removed]",
      "text/plain": [
       "<Figure size 432x216 with 1 Axes>"
      ]
     },
     "metadata": {},
     "output_type": "display_data"
    },
    {
     "data": {
      "image/png": "[encoded data removed]",
      "text/plain": [
       "<Figure size 432x216 with 1 Axes>"
      ]
     },
     "metadata": {},
     "output_type": "display_data"
    },
    {
     "data": {
      "image/png": "[encoded data removed]",
      "text/plain": [
       "<Figure size 432x216 with 1 Axes>"
      ]
     },
     "metadata": {},
     "output_type": "display_data"
    }
   ],
   "source": [
    "#распределение на boxplot, первый регион\n",
    "boxplot_fact(data_0)"
   ]
  },
  {
   "cell_type": "code",
   "execution_count": 12,
   "id": "23835bf2",
   "metadata": {},
   "outputs": [
    {
     "data": {
      "image/png": "[encoded data removed]",
      "text/plain": [
       "<Figure size 432x288 with 1 Axes>"
      ]
     },
     "metadata": {},
     "output_type": "display_data"
    },
    {
     "data": {
      "image/png": "[encoded data removed]",
      "text/plain": [
       "<Figure size 432x216 with 1 Axes>"
      ]
     },
     "metadata": {},
     "output_type": "display_data"
    },
    {
     "data": {
      "image/png": "[encoded data removed]",
      "text/plain": [
       "<Figure size 432x216 with 1 Axes>"
      ]
     },
     "metadata": {},
     "output_type": "display_data"
    },
    {
     "data": {
      "image/png": "[encoded data removed]",
      "text/plain": [
       "<Figure size 432x216 with 1 Axes>"
      ]
     },
     "metadata": {},
     "output_type": "display_data"
    }
   ],
   "source": [
    "#распределение на boxplot, второй регион\n",
    "boxplot_fact(data_1)"
   ]
  },
  {
   "cell_type": "code",
   "execution_count": 13,
   "id": "443282d4",
   "metadata": {},
   "outputs": [
    {
     "data": {
      "image/png": "[encoded data removed]",
      "text/plain": [
       "<Figure size 432x288 with 1 Axes>"
      ]
     },
     "metadata": {},
     "output_type": "display_data"
    },
    {
     "data": {
      "image/png": "[encoded data removed]",
      "text/plain": [
       "<Figure size 432x216 with 1 Axes>"
      ]
     },
     "metadata": {},
     "output_type": "display_data"
    },
    {
     "data": {
      "image/png": "[encoded data removed]",
      "text/plain": [
       "<Figure size 432x216 with 1 Axes>"
      ]
     },
     "metadata": {},
     "output_type": "display_data"
    },
    {
     "data": {
      "image/png": "[encoded data removed]",
      "text/plain": [
       "<Figure size 432x216 with 1 Axes>"
      ]
     },
     "metadata": {},
     "output_type": "display_data"
    }
   ],
   "source": [
    "#распределение на boxplot, третий регион\n",
    "boxplot_fact(data_2)"
   ]
  },
  {
   "cell_type": "code",
   "execution_count": 14,
   "id": "1c59aee3",
   "metadata": {},
   "outputs": [],
   "source": [
    "#функция, позволяющая просмотреть основную информацию о датасете и признаках \n",
    "def distribution(data):\n",
    "    print(\"Количество пропусков: {}\". format(data.isna().sum().sum()))\n",
    "    print(\"Дубликаты: {}\".format(data.duplicated().sum()))\n",
    "    print()\n",
    "    print(\"Распределение признаков:\")\n",
    "    fig, axs = plt.subplots(ncols=4,figsize=(10,5))\n",
    "    data[['f0','f1','f2','product']].hist(bins=15,ax=axs[0],color='g',alpha=0.5)\n",
    "    plt.show()"
   ]
  },
  {
   "cell_type": "code",
   "execution_count": 15,
   "id": "33d79005",
   "metadata": {},
   "outputs": [
    {
     "name": "stdout",
     "output_type": "stream",
     "text": [
      "Количество пропусков: 0\n",
      "Дубликаты: 0\n",
      "\n",
      "Распределение признаков:\n"
     ]
    },
    {
     "data": {
      "image/png": "[encoded data removed]",
      "text/plain": [
       "<Figure size 720x360 with 4 Axes>"
      ]
     },
     "metadata": {},
     "output_type": "display_data"
    }
   ],
   "source": [
    "distribution(data_0)"
   ]
  },
  {
   "cell_type": "code",
   "execution_count": 16,
   "id": "ccc68e5b",
   "metadata": {},
   "outputs": [
    {
     "name": "stdout",
     "output_type": "stream",
     "text": [
      "Количество пропусков: 0\n",
      "Дубликаты: 0\n",
      "\n",
      "Распределение признаков:\n"
     ]
    },
    {
     "data": {
      "image/png": "[encoded data removed]",
      "text/plain": [
       "<Figure size 720x360 with 4 Axes>"
      ]
     },
     "metadata": {},
     "output_type": "display_data"
    }
   ],
   "source": [
    "distribution(data_1)"
   ]
  },
  {
   "cell_type": "code",
   "execution_count": 17,
   "id": "3833318f",
   "metadata": {},
   "outputs": [
    {
     "name": "stdout",
     "output_type": "stream",
     "text": [
      "Количество пропусков: 0\n",
      "Дубликаты: 0\n",
      "\n",
      "Распределение признаков:\n"
     ]
    },
    {
     "data": {
      "image/png": "[encoded data removed]",
      "text/plain": [
       "<Figure size 720x360 with 4 Axes>"
      ]
     },
     "metadata": {},
     "output_type": "display_data"
    }
   ],
   "source": [
    "distribution(data_2)"
   ]
  },
  {
   "cell_type": "code",
   "execution_count": 18,
   "id": "c9b0527c",
   "metadata": {},
   "outputs": [],
   "source": [
    "#посмотрим на наличие нулевых значений\n",
    "def null_counts(data):\n",
    "    zeros_f0 = data[data['f0'] == 0]['f0'].count()\n",
    "    percent_f0 = round((zeros_f0/data.shape[0])*100,3)\n",
    "    print('Количество нулевых значений по f0 -', zeros_f0)\n",
    "    print('Процент нулевых значений f0-', percent_f0,'%')\n",
    "    \n",
    "    print()\n",
    "    zeros_f1 = data[data['f1'] == 0]['f1'].count()\n",
    "    percent_f1 = round((zeros_f1/data.shape[0])*100,3)\n",
    "    print('Количество нулевых значений по f1 -', zeros_f1)\n",
    "    print('Процент нулевых значений f1 -', percent_f1,'%')\n",
    "    \n",
    "    print()\n",
    "    zeros_f2 = data[data['f2'] == 0]['f2'].count()\n",
    "    percent_f2 = round((zeros_f2/data.shape[0])*100,3)\n",
    "    print('Количество нулевых значений по f2 -', zeros_f2)\n",
    "    print('Процент нулевых значений f2 -', percent_f2,'%')\n",
    "    print()\n",
    "\n",
    "    zeros_product = data[data['product'] == 0]['product'].count()\n",
    "    percent_product = round((zeros_product/data.shape[0])*100,3)\n",
    "    print('Количество нулевых значений по Product -', zeros_product)\n",
    "    print('Процент нулевых значений Product -', percent_product,'%')\n",
    "    print()"
   ]
  },
  {
   "cell_type": "code",
   "execution_count": 19,
   "id": "35c5c0cd",
   "metadata": {},
   "outputs": [
    {
     "name": "stdout",
     "output_type": "stream",
     "text": [
      "Количество нулевых значений по f0 - 0\n",
      "Процент нулевых значений f0- 0.0 %\n",
      "\n",
      "Количество нулевых значений по f1 - 0\n",
      "Процент нулевых значений f1 - 0.0 %\n",
      "\n",
      "Количество нулевых значений по f2 - 0\n",
      "Процент нулевых значений f2 - 0.0 %\n",
      "\n",
      "Количество нулевых значений по Product - 1\n",
      "Процент нулевых значений Product - 0.001 %\n",
      "\n"
     ]
    }
   ],
   "source": [
    "#количество нулевых значений в первом датасете\n",
    "null_counts(data_0)"
   ]
  },
  {
   "cell_type": "code",
   "execution_count": 20,
   "id": "188f16ee",
   "metadata": {},
   "outputs": [
    {
     "name": "stdout",
     "output_type": "stream",
     "text": [
      "Количество нулевых значений по f0 - 0\n",
      "Процент нулевых значений f0- 0.0 %\n",
      "\n",
      "Количество нулевых значений по f1 - 0\n",
      "Процент нулевых значений f1 - 0.0 %\n",
      "\n",
      "Количество нулевых значений по f2 - 0\n",
      "Процент нулевых значений f2 - 0.0 %\n",
      "\n",
      "Количество нулевых значений по Product - 8235\n",
      "Процент нулевых значений Product - 8.235 %\n",
      "\n"
     ]
    }
   ],
   "source": [
    "#количество нулевых значений в первом датасете\n",
    "null_counts(data_1)"
   ]
  },
  {
   "cell_type": "code",
   "execution_count": 21,
   "id": "7e043804",
   "metadata": {},
   "outputs": [
    {
     "name": "stdout",
     "output_type": "stream",
     "text": [
      "Количество нулевых значений по f0 - 0\n",
      "Процент нулевых значений f0- 0.0 %\n",
      "\n",
      "Количество нулевых значений по f1 - 0\n",
      "Процент нулевых значений f1 - 0.0 %\n",
      "\n",
      "Количество нулевых значений по f2 - 0\n",
      "Процент нулевых значений f2 - 0.0 %\n",
      "\n",
      "Количество нулевых значений по Product - 1\n",
      "Процент нулевых значений Product - 0.001 %\n",
      "\n"
     ]
    }
   ],
   "source": [
    "#количество нулевых значений в первом датасете\n",
    "null_counts(data_2)"
   ]
  },
  {
   "cell_type": "code",
   "execution_count": 22,
   "id": "a00fa0d8",
   "metadata": {},
   "outputs": [],
   "source": [
    "#удалим лишние столбцы\n",
    "data_0 = data_0.drop(['id'], axis=1)\n",
    "data_1 = data_1.drop(['id'], axis=1)\n",
    "data_2 = data_2.drop(['id'], axis=1)"
   ]
  },
  {
   "cell_type": "markdown",
   "id": "ec5e8079",
   "metadata": {},
   "source": [
    "<b>Вывод по разделу:</b>\n",
    "- пропусков и дубликатов в данных не обнаруждено,\n",
    "- во 1 и 3 региона распределение данных близко к нормальному,\n",
    "- данные во втором регионе распределены странно,\n",
    "- во втором регионе в столбце Product есть нулевые значения, около 8%,\n",
    "- удален столбце id, который не несет смысловой нагрузки для машинного обучения."
   ]
  },
  {
   "cell_type": "markdown",
   "id": "c98cfe7b",
   "metadata": {},
   "source": [
    "## Обучение и проверка модели для каждого региона"
   ]
  },
  {
   "cell_type": "code",
   "execution_count": 23,
   "id": "01b61db2",
   "metadata": {},
   "outputs": [],
   "source": [
    "#обучающая функция и считающая метрики\n",
    "\n",
    "def train_model(data):\n",
    "    # выделим признаки\n",
    "    features = data.drop('product', axis=1) \n",
    "    target = data['product']\n",
    "    \n",
    "    # разобьём данные на тестовую и валидационную выборки в соотношении 75:25\n",
    "    features_train, features_valid, target_train, target_valid = train_test_split(\n",
    "    features, target, test_size=0.25, random_state=12345)\n",
    "    \n",
    "    # обучим модель\n",
    "    parameters = {'fit_intercept':[True,False], 'copy_X':[True, False], 'normalize':[True,False]}\n",
    "    model = GridSearchCV(estimator=LinearRegression(), param_grid=parameters, cv=5)\n",
    "    model.fit(features_train, target_train)\n",
    "    predicted_valid = model.predict(features_valid)\n",
    "        \n",
    "    # посчитаем метрики\n",
    "    data_metrics = {}\n",
    "    \n",
    "    # средний запас предсказанного сырья \n",
    "    data_metrics['predict_valid_mean'] = predicted_valid.mean()\n",
    "    \n",
    "    #метрика RMSE\n",
    "    data_metrics['RMSE'] =  mean_squared_error(target_valid, predicted_valid) ** 0.5\n",
    "    \n",
    "    #лучшие параметры\n",
    "    data_metrics['best_model_params'] = model.best_params_\n",
    "    \n",
    "    df = {'real_product' : target_valid,\n",
    "            'predicted_product' : predicted_valid}\n",
    "    df_df = pd.DataFrame(df, columns = ['real_product', 'predicted_product'])\n",
    "\n",
    "    return data_metrics, df_df"
   ]
  },
  {
   "cell_type": "code",
   "execution_count": 24,
   "id": "f65b1c03",
   "metadata": {},
   "outputs": [],
   "source": [
    "#соберем метрики по каждому датасету и сохраненные предсказания \n",
    "data_metrics_0,real_pred_0=train_model(data_0)\n",
    "data_metrics_1,real_pred_1=train_model(data_1)\n",
    "data_metrics_2,real_pred_2=train_model(data_2)"
   ]
  },
  {
   "cell_type": "code",
   "execution_count": 25,
   "id": "5cc99866",
   "metadata": {},
   "outputs": [
    {
     "data": {
      "text/html": [
       "<div>\n",
       "<style scoped>\n",
       "    .dataframe tbody tr th:only-of-type {\n",
       "        vertical-align: middle;\n",
       "    }\n",
       "\n",
       "    .dataframe tbody tr th {\n",
       "        vertical-align: top;\n",
       "    }\n",
       "\n",
       "    .dataframe thead th {\n",
       "        text-align: right;\n",
       "    }\n",
       "</style>\n",
       "<table border=\"1\" class=\"dataframe\">\n",
       "  <thead>\n",
       "    <tr style=\"text-align: right;\">\n",
       "      <th></th>\n",
       "      <th>real_product</th>\n",
       "      <th>predicted_product</th>\n",
       "    </tr>\n",
       "  </thead>\n",
       "  <tbody>\n",
       "    <tr>\n",
       "      <th>71751</th>\n",
       "      <td>10.038645</td>\n",
       "      <td>95.894952</td>\n",
       "    </tr>\n",
       "    <tr>\n",
       "      <th>80493</th>\n",
       "      <td>114.551489</td>\n",
       "      <td>77.572583</td>\n",
       "    </tr>\n",
       "    <tr>\n",
       "      <th>2655</th>\n",
       "      <td>132.603635</td>\n",
       "      <td>77.892640</td>\n",
       "    </tr>\n",
       "    <tr>\n",
       "      <th>53233</th>\n",
       "      <td>169.072125</td>\n",
       "      <td>90.175134</td>\n",
       "    </tr>\n",
       "    <tr>\n",
       "      <th>91141</th>\n",
       "      <td>122.325180</td>\n",
       "      <td>70.510088</td>\n",
       "    </tr>\n",
       "  </tbody>\n",
       "</table>\n",
       "</div>"
      ],
      "text/plain": [
       "       real_product  predicted_product\n",
       "71751     10.038645          95.894952\n",
       "80493    114.551489          77.572583\n",
       "2655     132.603635          77.892640\n",
       "53233    169.072125          90.175134\n",
       "91141    122.325180          70.510088"
      ]
     },
     "execution_count": 25,
     "metadata": {},
     "output_type": "execute_result"
    }
   ],
   "source": [
    "#посмотрим датасет с предсказаниями и реальными значениями по первому региону\n",
    "real_pred_0.head()"
   ]
  },
  {
   "cell_type": "code",
   "execution_count": 26,
   "id": "7cf326ec",
   "metadata": {},
   "outputs": [
    {
     "data": {
      "text/html": [
       "<div>\n",
       "<style scoped>\n",
       "    .dataframe tbody tr th:only-of-type {\n",
       "        vertical-align: middle;\n",
       "    }\n",
       "\n",
       "    .dataframe tbody tr th {\n",
       "        vertical-align: top;\n",
       "    }\n",
       "\n",
       "    .dataframe thead th {\n",
       "        text-align: right;\n",
       "    }\n",
       "</style>\n",
       "<table border=\"1\" class=\"dataframe\">\n",
       "  <thead>\n",
       "    <tr style=\"text-align: right;\">\n",
       "      <th></th>\n",
       "      <th>real_product</th>\n",
       "      <th>predicted_product</th>\n",
       "    </tr>\n",
       "  </thead>\n",
       "  <tbody>\n",
       "    <tr>\n",
       "      <th>71751</th>\n",
       "      <td>80.859783</td>\n",
       "      <td>82.663314</td>\n",
       "    </tr>\n",
       "    <tr>\n",
       "      <th>80493</th>\n",
       "      <td>53.906522</td>\n",
       "      <td>54.431786</td>\n",
       "    </tr>\n",
       "    <tr>\n",
       "      <th>2655</th>\n",
       "      <td>30.132364</td>\n",
       "      <td>29.748760</td>\n",
       "    </tr>\n",
       "    <tr>\n",
       "      <th>53233</th>\n",
       "      <td>53.906522</td>\n",
       "      <td>53.552133</td>\n",
       "    </tr>\n",
       "    <tr>\n",
       "      <th>91141</th>\n",
       "      <td>0.000000</td>\n",
       "      <td>1.243856</td>\n",
       "    </tr>\n",
       "  </tbody>\n",
       "</table>\n",
       "</div>"
      ],
      "text/plain": [
       "       real_product  predicted_product\n",
       "71751     80.859783          82.663314\n",
       "80493     53.906522          54.431786\n",
       "2655      30.132364          29.748760\n",
       "53233     53.906522          53.552133\n",
       "91141      0.000000           1.243856"
      ]
     },
     "execution_count": 26,
     "metadata": {},
     "output_type": "execute_result"
    }
   ],
   "source": [
    "#посмотрим датасет с предсказаниями и реальными значениями по второму региону\n",
    "real_pred_1.head()"
   ]
  },
  {
   "cell_type": "code",
   "execution_count": 27,
   "id": "06c68b86",
   "metadata": {},
   "outputs": [
    {
     "data": {
      "text/html": [
       "<div>\n",
       "<style scoped>\n",
       "    .dataframe tbody tr th:only-of-type {\n",
       "        vertical-align: middle;\n",
       "    }\n",
       "\n",
       "    .dataframe tbody tr th {\n",
       "        vertical-align: top;\n",
       "    }\n",
       "\n",
       "    .dataframe thead th {\n",
       "        text-align: right;\n",
       "    }\n",
       "</style>\n",
       "<table border=\"1\" class=\"dataframe\">\n",
       "  <thead>\n",
       "    <tr style=\"text-align: right;\">\n",
       "      <th></th>\n",
       "      <th>real_product</th>\n",
       "      <th>predicted_product</th>\n",
       "    </tr>\n",
       "  </thead>\n",
       "  <tbody>\n",
       "    <tr>\n",
       "      <th>71751</th>\n",
       "      <td>61.212375</td>\n",
       "      <td>93.599633</td>\n",
       "    </tr>\n",
       "    <tr>\n",
       "      <th>80493</th>\n",
       "      <td>41.850118</td>\n",
       "      <td>75.105159</td>\n",
       "    </tr>\n",
       "    <tr>\n",
       "      <th>2655</th>\n",
       "      <td>57.776581</td>\n",
       "      <td>90.066809</td>\n",
       "    </tr>\n",
       "    <tr>\n",
       "      <th>53233</th>\n",
       "      <td>100.053761</td>\n",
       "      <td>105.162375</td>\n",
       "    </tr>\n",
       "    <tr>\n",
       "      <th>91141</th>\n",
       "      <td>109.897122</td>\n",
       "      <td>115.303310</td>\n",
       "    </tr>\n",
       "  </tbody>\n",
       "</table>\n",
       "</div>"
      ],
      "text/plain": [
       "       real_product  predicted_product\n",
       "71751     61.212375          93.599633\n",
       "80493     41.850118          75.105159\n",
       "2655      57.776581          90.066809\n",
       "53233    100.053761         105.162375\n",
       "91141    109.897122         115.303310"
      ]
     },
     "execution_count": 27,
     "metadata": {},
     "output_type": "execute_result"
    }
   ],
   "source": [
    "#посмотрим датасет с предсказаниями и реальными значениями по третьему региону\n",
    "real_pred_2.head()"
   ]
  },
  {
   "cell_type": "code",
   "execution_count": 28,
   "id": "0574927c",
   "metadata": {},
   "outputs": [
    {
     "name": "stdout",
     "output_type": "stream",
     "text": [
      "Средняя предсказанного сырья первого региона: 92.59256778438035\n",
      "RMSE первого региона: 37.5794217150813\n",
      "\n",
      "Средняя предсказанного сырья второго региона: 68.72854689544602\n",
      "RMSE первого региона: 0.8930992867756167\n",
      "\n",
      "Средняя предсказанного сырья третьего региона: 94.96504596800489\n",
      "RMSE первого региона: 40.02970873393434\n",
      "\n"
     ]
    }
   ],
   "source": [
    "#напечатаем запас средний запас сырья и метрику rmse + лучшие параметры модели\n",
    "\n",
    "print('Средняя предсказанного сырья первого региона: {}'. format(data_metrics_0['predict_valid_mean']))\n",
    "print('RMSE первого региона: {}'. format(data_metrics_0['RMSE']))\n",
    "\n",
    "print()\n",
    "print('Средняя предсказанного сырья второго региона: {}'. format(data_metrics_1['predict_valid_mean']))\n",
    "print('RMSE первого региона: {}'. format(data_metrics_1['RMSE']))\n",
    "\n",
    "print()\n",
    "print('Средняя предсказанного сырья третьего региона: {}'. format(data_metrics_2['predict_valid_mean']))\n",
    "print('RMSE первого региона: {}'. format(data_metrics_2['RMSE']))\n",
    "\n",
    "print()"
   ]
  },
  {
   "cell_type": "code",
   "execution_count": 29,
   "id": "4ca5ddef",
   "metadata": {},
   "outputs": [
    {
     "data": {
      "text/plain": [
       "{'copy_X': True, 'fit_intercept': True, 'normalize': True}"
      ]
     },
     "execution_count": 29,
     "metadata": {},
     "output_type": "execute_result"
    }
   ],
   "source": [
    "#лучшие параметры модели\n",
    "data_metrics_0['best_model_params']"
   ]
  },
  {
   "cell_type": "markdown",
   "id": "b7149ff6",
   "metadata": {},
   "source": [
    "<b>Вывод по разделу:</b> Лучшей по RMSE оказалась модель во втором регионе. Средняя предсказанного сырья больше у третьего региона. "
   ]
  },
  {
   "cell_type": "markdown",
   "id": "e3543237",
   "metadata": {},
   "source": [
    "## Подготовка к расчёту прибыли"
   ]
  },
  {
   "cell_type": "markdown",
   "id": "17d0c956",
   "metadata": {},
   "source": [
    "<b>3.1. Все ключевые значения для расчётов сохраните в отдельных переменных.</b>"
   ]
  },
  {
   "cell_type": "code",
   "execution_count": 30,
   "id": "780176bb",
   "metadata": {},
   "outputs": [],
   "source": [
    "#бюджет на разработку\n",
    "budget = 10_000_000 #10 млрд в тысячах рублей\n",
    "\n",
    "#число исследуемых точек\n",
    "investigated_points = 500\n",
    "\n",
    "#число лучших точек\n",
    "top_points = 200\n",
    "\n",
    "#доход с 1 точки\n",
    "price_per_barrel = 450"
   ]
  },
  {
   "cell_type": "code",
   "execution_count": 31,
   "id": "71382db2",
   "metadata": {},
   "outputs": [
    {
     "name": "stdout",
     "output_type": "stream",
     "text": [
      "Стоимость разрабоки точки - 50000 тыс.руб.\n",
      "Средний объем нефти на точку - 112 тыс. барелей\n",
      "Средний объем нефти на регион - 22223 тыс. барелей\n"
     ]
    }
   ],
   "source": [
    "#стоимость разработки точки\n",
    "cost_of_point = math.ceil(budget / top_points)\n",
    "print('Стоимость разрабоки точки - {} тыс.руб.'.format(cost_of_point))\n",
    "\n",
    "oil_per_point = math.ceil(cost_of_point  / price_per_barrel)\n",
    "print('Средний объем нефти на точку - {} тыс. барелей'.format(oil_per_point))\n",
    "\n",
    "oil_volume = math.ceil(budget / price_per_barrel)\n",
    "print('Средний объем нефти на регион - {} тыс. барелей'.format(oil_volume))"
   ]
  },
  {
   "cell_type": "markdown",
   "id": "3108033f",
   "metadata": {},
   "source": [
    "<b> 3.2. Рассчитайте достаточный объём сырья для безубыточной разработки новой скважины. Сравните полученный объём сырья со средним запасом в каждом регионе.</b>"
   ]
  },
  {
   "cell_type": "code",
   "execution_count": 32,
   "id": "b94f5034",
   "metadata": {},
   "outputs": [
    {
     "name": "stdout",
     "output_type": "stream",
     "text": [
      "Средний запас фактичекой нефти на скважину в регионе 1 92.49999999999974\n",
      "Средний запас фактичекой нефти на скважину в регионе 2 68.82500000002561\n",
      "Средний запас фактичекой нефти на скважину в регионе 3 95.00000000000041\n"
     ]
    }
   ],
   "source": [
    "#По фактическим запасам\n",
    "print('Средний запас фактичекой нефти на скважину в регионе 1', data_0['product'].mean())\n",
    "print('Средний запас фактичекой нефти на скважину в регионе 2', data_1['product'].mean())\n",
    "print('Средний запас фактичекой нефти на скважину в регионе 3', data_2['product'].mean())"
   ]
  },
  {
   "cell_type": "markdown",
   "id": "858568cb",
   "metadata": {},
   "source": [
    "<b>Вывод по разделу:</b> Средний объем нефти на точку 112 тыс.баррелей, такого запаса нет ни на одной из точек, согласно данным по средней, лучшая модель так же предсказала значение ниже."
   ]
  },
  {
   "cell_type": "markdown",
   "id": "8537659b",
   "metadata": {},
   "source": [
    "## Функция для расчёта прибыли по выбранным скважинам и предсказаниям модели"
   ]
  },
  {
   "cell_type": "markdown",
   "id": "5116bdc0",
   "metadata": {},
   "source": [
    "<b> 4.1. Выберите скважины с максимальными значениями предсказаний.</b>"
   ]
  },
  {
   "cell_type": "code",
   "execution_count": 33,
   "id": "dccbe7a6",
   "metadata": {},
   "outputs": [],
   "source": [
    "#выберем данные из таблиц по регионам: лучшие скважтины по сырью\n",
    "top_prediction_0=real_pred_0.sort_values(by='predicted_product', ascending=False)[:200]\n",
    "top_prediction_1=real_pred_1.sort_values(by='predicted_product', ascending=False)[:200]\n",
    "top_prediction_2=real_pred_2.sort_values(by='predicted_product', ascending=False)[:200]"
   ]
  },
  {
   "cell_type": "markdown",
   "id": "580be7a3",
   "metadata": {},
   "source": [
    "<b> 4.2. Просуммируйте целевое значение объёма сырья, соответствующее этим предсказаниям.</b>"
   ]
  },
  {
   "cell_type": "code",
   "execution_count": 34,
   "id": "eac4f37b",
   "metadata": {},
   "outputs": [
    {
     "name": "stdout",
     "output_type": "stream",
     "text": [
      "Целевое значение объёма сырья первого региона: 29601 тыс.баррелей\n",
      "Целевое значение объёма сырья второго региона: 27589 тыс.баррелей\n",
      "Целевое значение объёма сырья третьего региона: 28245 тыс.баррелей\n"
     ]
    }
   ],
   "source": [
    "#суммируем целевое значение объема сырья по регионам\n",
    "sum_product_0 = math.floor(top_prediction_0['real_product'].sum())\n",
    "print('Целевое значение объёма сырья первого региона: {} тыс.баррелей'.format(sum_product_0))\n",
    "sum_product_1 = math.floor(top_prediction_1['real_product'].sum())\n",
    "print('Целевое значение объёма сырья второго региона: {} тыс.баррелей'.format(sum_product_1))\n",
    "sum_product_2 = math.floor(top_prediction_2['real_product'].sum())\n",
    "print('Целевое значение объёма сырья третьего региона: {} тыс.баррелей'.format(sum_product_2))"
   ]
  },
  {
   "cell_type": "markdown",
   "id": "afa1d682",
   "metadata": {},
   "source": [
    "<b> 4.3. Рассчитайте прибыль для полученного объёма сырья.</b>"
   ]
  },
  {
   "cell_type": "code",
   "execution_count": 35,
   "id": "6174610c",
   "metadata": {},
   "outputs": [
    {
     "name": "stdout",
     "output_type": "stream",
     "text": [
      "Прибыль для полученного объёма сырья первый регион: 3320450 тыс.руб.\n",
      "Прибыль для полученного объёма сырья второй регион: 2415050 тыс.руб.\n",
      "Прибыль для полученного объёма сырья третий регион: 2710250 тыс.руб.\n"
     ]
    }
   ],
   "source": [
    "profit_data_0 = sum_product_0 * price_per_barrel  - budget\n",
    "print('Прибыль для полученного объёма сырья первый регион: {} тыс.руб.'.format(profit_data_0 ))\n",
    "profit_data_1 = sum_product_1 * price_per_barrel  - budget\n",
    "print('Прибыль для полученного объёма сырья второй регион: {} тыс.руб.'.format(profit_data_1 ))\n",
    "profit_data_2 = sum_product_2 * price_per_barrel - budget\n",
    "print('Прибыль для полученного объёма сырья третий регион: {} тыс.руб.'.format(profit_data_2 ))"
   ]
  },
  {
   "cell_type": "markdown",
   "id": "d66bfc60",
   "metadata": {},
   "source": [
    "<b>Вывод по разделу:</b> \n",
    "- Затраты на основение скважины - 50 млн.руб;\n",
    "- По 200 лучшим точкам согласно фактической информации запасов нефти от 28245 тыс.баррелей до 29601 тыс.баррелей\n",
    "- По фактическим данным прибыль на 200 лучших точках составит от 2,7 млрд.р. до 3,3 млрд.руб"
   ]
  },
  {
   "cell_type": "markdown",
   "id": "7191be59",
   "metadata": {},
   "source": [
    "## Риски и прибыль для каждого региона, Bootstrap"
   ]
  },
  {
   "cell_type": "markdown",
   "id": "b68b8e3c",
   "metadata": {},
   "source": [
    "<b>  \n",
    "    \n",
    "5.1. Примените технику Bootstrap с 1000 выборок, чтобы найти распределение прибыли.\n",
    "    \n",
    "5.2. Найдите среднюю прибыль, 95%-й доверительный интервал и риск убытков. Убыток — это отрицательная прибыль.\n",
    "    \n",
    "5.3. Напишите выводы: предложите регион для разработки скважин и обоснуйте выбор.\n",
    "\n",
    "</b>"
   ]
  },
  {
   "cell_type": "code",
   "execution_count": 36,
   "id": "47703015",
   "metadata": {},
   "outputs": [],
   "source": [
    "#функция для подсчет прибыли\n",
    "def profit_counting(target, probabilities, count):\n",
    "    probs_sorted = probabilities.sort_values(ascending=False)\n",
    "    selected = target[probs_sorted.index][:count]\n",
    "    return price_per_barrel * selected.sum() - budget"
   ]
  },
  {
   "cell_type": "code",
   "execution_count": 37,
   "id": "33128b9c",
   "metadata": {},
   "outputs": [],
   "source": [
    "#бутстрап\n",
    "state = np.random.RandomState(12345)\n",
    "\n",
    "def bootstrap_data(target, probs):\n",
    "    values=[]\n",
    "    lost = 0\n",
    "    for i in range(1000):\n",
    "        target_sample = target.sample(replace=True, random_state=state, n=investigated_points)\n",
    "        probs_sample = probs[target_sample.index]\n",
    "        profit = profit_counting(target, probs_sample, top_points)\n",
    "        if profit < 0:\n",
    "            lost +=1\n",
    "        values.append(profit)\n",
    "    \n",
    "    values = pd.Series(values)\n",
    "    lower = values.quantile(0.025)\n",
    "    upper = values.quantile(0.975)\n",
    "    average = values.mean()\n",
    "    risk = lost / 1000\n",
    "    return average, lower, upper, risk"
   ]
  },
  {
   "cell_type": "code",
   "execution_count": 38,
   "id": "56f34d68",
   "metadata": {},
   "outputs": [
    {
     "name": "stdout",
     "output_type": "stream",
     "text": [
      "ПЕРВЫЙ РЕГИОН\n",
      "Средняя прибыль по региону = 396165 тыс.руб.\n",
      "95% доверительный интервал от -111216 до 909767 тыс.руб.\n",
      "Риск 6.90%\n"
     ]
    }
   ],
   "source": [
    "#получим среднюю прибыль/доверительный интервал и риск (в %)  по первому региону\n",
    "average_0, lower_0, upper_0, risk_0 = bootstrap_data(real_pred_0['real_product'],real_pred_0['predicted_product'])\n",
    "print('ПЕРВЫЙ РЕГИОН')\n",
    "print('Средняя прибыль по региону = {:.0f} тыс.руб.'.format(average_0))\n",
    "print('95% доверительный интервал от {:.0f} до {:.0f} тыс.руб.'.format(lower_0, upper_0))\n",
    "print('Риск {:.2%}'.format(risk_0))"
   ]
  },
  {
   "cell_type": "code",
   "execution_count": 39,
   "id": "f49c1782",
   "metadata": {},
   "outputs": [
    {
     "name": "stdout",
     "output_type": "stream",
     "text": [
      "ВТОРОЙ РЕГИОН\n",
      "Средняя прибыль по региону = 461156 тыс.руб.\n",
      "95% доверительный интервал от 78051 до 862952 тыс.руб.\n",
      "Риск 0.70%\n"
     ]
    }
   ],
   "source": [
    "#получим среднюю прибыль/доверительный интервал и риск (в %)  по второму региону\n",
    "average_1, lower_1, upper_1, risk_1 = bootstrap_data(real_pred_1['real_product'],real_pred_1['predicted_product'])\n",
    "print('ВТОРОЙ РЕГИОН')\n",
    "print('Средняя прибыль по региону = {:.0f} тыс.руб.'.format(average_1))\n",
    "print('95% доверительный интервал от {:.0f} до {:.0f} тыс.руб.'.format(lower_1, upper_1))\n",
    "print('Риск {:.2%}'.format(risk_1))"
   ]
  },
  {
   "cell_type": "code",
   "execution_count": 40,
   "id": "679a8049",
   "metadata": {},
   "outputs": [
    {
     "name": "stdout",
     "output_type": "stream",
     "text": [
      "ТРЕТИЙ РЕГИОН\n",
      "Средняя прибыль по региону = 392950 тыс.руб.\n",
      "95% доверительный интервал от -112228 до 934563 тыс.руб.\n",
      "Риск 6.50%\n"
     ]
    }
   ],
   "source": [
    "#получим среднюю прибыль/доверительный интервал и риск (в %) по третьему региону\n",
    "average_2, lower_2, upper_2, risk_2 = bootstrap_data(real_pred_2['real_product'],real_pred_2['predicted_product'])\n",
    "print('ТРЕТИЙ РЕГИОН')\n",
    "print('Средняя прибыль по региону = {:.0f} тыс.руб.'.format(average_2))\n",
    "print('95% доверительный интервал от {:.0f} до {:.0f} тыс.руб.'.format(lower_2, upper_2))\n",
    "print('Риск {:.2%}'.format(risk_2))"
   ]
  },
  {
   "cell_type": "markdown",
   "id": "e240a3b7",
   "metadata": {},
   "source": [
    "<b>Вывод по разделу:</b> \n",
    "- наименьший риск во втором регионе, но насколько известно из подготовки данных именно в этом регионе есть много нулевых значений в целевой переменной (8%) + распределение данных было странным,  возможно стоит выбрать из 1 или 3 региона;\n",
    "- средняя прибыль по 1 и 3 региону сопоставима;\n",
    "- если выбирать по рискам, то следует выбрать регион 3."
   ]
  },
  {
   "cell_type": "markdown",
   "id": "c6d84a45",
   "metadata": {},
   "source": [
    "<b>ОБЩИЙ ВЫВОД:</b>"
   ]
  },
  {
   "cell_type": "markdown",
   "id": "f0d08869",
   "metadata": {},
   "source": [
    "<b>1.</b> Была выполнена подготовки данных, в рамках которой:\n",
    " - проанализировано наличие пропусков и дубликатов (не обнаружено);\n",
    " - проанализировано распределение данных по всем столбцам датасета, представляющего каждый регион:\n",
    " \n",
    "      -  1 и 3 регион все данные распределены близко к нормальному,\n",
    "      - 2 регион распределен нестандартно,\n",
    " - в датасете во 2 регионе обранужены нулевые значения (8%);\n",
    " \n",
    "<b>2.</b> Обучена модель, установлен средний запас предсказанного сырья и RMSE модели в каждом регионе.\n",
    "- Средняя предсказанного сырья первого региона: 92.59256778438035\n",
    "- <b>RMSE первого региона: 37.5794217150813</b>\n",
    "\n",
    "- Средняя предсказанного сырья второго региона: 68.72854689544602\n",
    "- RMSE первого региона: 0.8930992867756167\n",
    "\n",
    "- <b>Средняя предсказанного сырья третьего региона: 94.96504596800489</b>\n",
    "- RMSE первого региона: 40.02970873393434\n",
    "\n",
    "Лидер по RMSE регион 1, по среднему предсказанному сырью - регион 3.\n",
    "\n",
    "<b>3.</b> Выполнена подготовка к расчёту прибыли в рамках которой:\n",
    "- все ключевые значения для расчётов были сохранены в отдельных переменных,\n",
    "- рассчитан достаточный объём сырья для безубыточной разработки новой скважины. Установлено, что по средним фактическим данным и предсказанным моделью\n",
    "\n",
    "<b>4.</b> Выделены 200 точек с максимальнымы запасами в каждом регионе:\n",
    "\n",
    "- Рассчитаны затраты на основение скважины, они составляют 50 млн.руб;\n",
    "- По 200 лучшим точкам согласно фактической информации запасов нефти от 28245 тыс.баррелей до 29601 тыс.баррелей\n",
    "- По фактическим данным прибыль на 200 лучших точках составит от 2,7 млрд.р. до 3,3 млрд.руб\n",
    "\n",
    "<b>5.</b> Применена техника Bootstrap с 1000 выборок, установлено:\n",
    "\n",
    "   - наименьший риск во втором регионе, но насколько известно из подготовки данных именно в этом регионе есть много нулевых значений в целевой переменной (8%) + распределение данных было странным, возможно стоит выбрать из 1 или 3 региона;\n",
    "   - средняя прибыль по 1 и 3 региону сопоставима;\n",
    "   - если выбирать по рискам, то следует выбрать регион 3.\n"
   ]
  },
  {
   "cell_type": "code",
   "execution_count": null,
   "id": "77c0ad23",
   "metadata": {},
   "outputs": [],
   "source": []
  }
 ],
 "metadata": {
  "kernelspec": {
   "display_name": "Python 3 (ipykernel)",
   "language": "python",
   "name": "python3"
  },
  "language_info": {
   "codemirror_mode": {
    "name": "ipython",
    "version": 3
   },
   "file_extension": ".py",
   "mimetype": "text/x-python",
   "name": "python",
   "nbconvert_exporter": "python",
   "pygments_lexer": "ipython3",
   "version": "3.9.12"
  },
  "vp": {
   "vp_config_version": "1.0.0",
   "vp_menu_width": 273,
   "vp_note_display": false,
   "vp_note_width": 0,
   "vp_position": {
    "width": 278
   },
   "vp_section_display": true,
   "vp_signature": "VisualPython"
  }
 },
 "nbformat": 4,
 "nbformat_minor": 5
}
