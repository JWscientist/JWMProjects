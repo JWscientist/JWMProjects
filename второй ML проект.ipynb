{
 "cells": [
  {
   "cell_type": "markdown",
   "id": "b5f54d59",
   "metadata": {
    "toc": true
   },
   "source": [
    "<h1>Содержание<span class=\"tocSkip\"></span></h1>\n",
    "<div class=\"toc\"><ul class=\"toc-item\"><li><span><a href=\"#Подготовка-данных\" data-toc-modified-id=\"Подготовка-данных-1\"><span class=\"toc-item-num\">1&nbsp;&nbsp;</span>Подготовка данных</a></span><ul class=\"toc-item\"><li><span><a href=\"#Предварительная-оценка-(изучение)-данных\" data-toc-modified-id=\"Предварительная-оценка-(изучение)-данных-1.1\"><span class=\"toc-item-num\">1.1&nbsp;&nbsp;</span>Предварительная оценка (изучение) данных</a></span></li><li><span><a href=\"#Подготовка-данных-для-машинного-обучения\" data-toc-modified-id=\"Подготовка-данных-для-машинного-обучения-1.2\"><span class=\"toc-item-num\">1.2&nbsp;&nbsp;</span>Подготовка данных для машинного обучения</a></span></li></ul></li><li><span><a href=\"#Исследование-задачи\" data-toc-modified-id=\"Исследование-задачи-2\"><span class=\"toc-item-num\">2&nbsp;&nbsp;</span>Исследование задачи</a></span></li><li><span><a href=\"#Борьба-с-дисбалансом\" data-toc-modified-id=\"Борьба-с-дисбалансом-3\"><span class=\"toc-item-num\">3&nbsp;&nbsp;</span>Борьба с дисбалансом</a></span></li><li><span><a href=\"#Тестирование-модели\" data-toc-modified-id=\"Тестирование-модели-4\"><span class=\"toc-item-num\">4&nbsp;&nbsp;</span>Тестирование модели</a></span></li><li><span><a href=\"#Чек-лист-готовности-проекта\" data-toc-modified-id=\"Чек-лист-готовности-проекта-5\"><span class=\"toc-item-num\">5&nbsp;&nbsp;</span>Чек-лист готовности проекта</a></span></li></ul></div>"
   ]
  },
  {
   "cell_type": "markdown",
   "id": "4bfcf3a3",
   "metadata": {},
   "source": [
    "# Отток клиентов"
   ]
  },
  {
   "cell_type": "markdown",
   "id": "15506d36",
   "metadata": {},
   "source": [
    "Из «Бета-Банка» стали уходить клиенты. Каждый месяц. Немного, но заметно. Банковские маркетологи посчитали: сохранять текущих клиентов дешевле, чем привлекать новых.\n",
    "\n",
    "Нужно спрогнозировать, уйдёт клиент из банка в ближайшее время или нет. Вам предоставлены исторические данные о поведении клиентов и расторжении договоров с банком. \n",
    "\n",
    "Постройте модель с предельно большим значением *F1*-меры. Чтобы сдать проект успешно, нужно довести метрику до 0.59. Проверьте *F1*-меру на тестовой выборке самостоятельно.\n",
    "\n",
    "Дополнительно измеряйте *AUC-ROC*, сравнивайте её значение с *F1*-мерой.\n",
    "\n",
    "Источник данных: [https://www.kaggle.com/barelydedicated/bank-customer-churn-modeling](https://www.kaggle.com/barelydedicated/bank-customer-churn-modeling)"
   ]
  },
  {
   "cell_type": "markdown",
   "id": "6e6ab9ac",
   "metadata": {},
   "source": [
    "<b>Цель проекта:</b> спрогнозировать, уйдёт клиент из банка в ближайшее время или нет.\n",
    "\n",
    "<b>Признаки</b>\n",
    "\n",
    "   - RowNumber — индекс строки в данных\n",
    "   - CustomerId — уникальный идентификатор клиента\n",
    "   - Surname — фамилия\n",
    "   - CreditScore — кредитный рейтинг\n",
    "   - Geography — страна проживания\n",
    "   - Gender — пол\n",
    "   - Age — возраст\n",
    "   -  Tenure — сколько лет человек является клиентом банка\n",
    "   - Balance — баланс на счёте\n",
    "   - NumOfProducts — количество продуктов банка, используемых клиентом\n",
    "   - HasCrCard — наличие кредитной карты\n",
    "   - IsActiveMember — активность клиента\n",
    "   - EstimatedSalary — предполагаемая зарплата\n",
    "\n",
    "<b>Целевой признак</b>\n",
    "\n",
    "    Exited — факт ухода клиента"
   ]
  },
  {
   "cell_type": "markdown",
   "id": "349062fe",
   "metadata": {},
   "source": [
    "## Подготовка данных"
   ]
  },
  {
   "cell_type": "markdown",
   "id": "7cf95671",
   "metadata": {},
   "source": [
    "### Предварительная оценка (изучение) данных"
   ]
  },
  {
   "cell_type": "code",
   "execution_count": 1,
   "id": "d81dbd4a",
   "metadata": {},
   "outputs": [],
   "source": [
    "import pandas as pd\n",
    "import numpy as np\n",
    "\n",
    "from sklearn.model_selection import train_test_split, GridSearchCV\n",
    "from sklearn.preprocessing import StandardScaler\n",
    "\n",
    "#модели\n",
    "from sklearn.tree import DecisionTreeClassifier\n",
    "from sklearn.ensemble import RandomForestClassifier\n",
    "from sklearn.linear_model import LogisticRegression\n",
    "\n",
    "#метики\n",
    "from sklearn.metrics import accuracy_score\n",
    "from sklearn.metrics import confusion_matrix\n",
    "from sklearn.metrics import recall_score\n",
    "from sklearn.metrics import precision_score\n",
    "from sklearn.metrics import f1_score\n",
    "from sklearn.metrics import roc_auc_score\n",
    "from sklearn.metrics import roc_curve\n",
    "\n",
    "#функции\n",
    "from sklearn.utils import shuffle\n",
    "\n",
    "#визуализация\n",
    "import seaborn as sns\n",
    "import matplotlib.pyplot as plt"
   ]
  },
  {
   "cell_type": "code",
   "execution_count": 2,
   "id": "b00e34fc",
   "metadata": {
    "scrolled": true
   },
   "outputs": [
    {
     "data": {
      "text/html": [
       "<div>\n",
       "<style scoped>\n",
       "    .dataframe tbody tr th:only-of-type {\n",
       "        vertical-align: middle;\n",
       "    }\n",
       "\n",
       "    .dataframe tbody tr th {\n",
       "        vertical-align: top;\n",
       "    }\n",
       "\n",
       "    .dataframe thead th {\n",
       "        text-align: right;\n",
       "    }\n",
       "</style>\n",
       "<table border=\"1\" class=\"dataframe\">\n",
       "  <thead>\n",
       "    <tr style=\"text-align: right;\">\n",
       "      <th></th>\n",
       "      <th>RowNumber</th>\n",
       "      <th>CustomerId</th>\n",
       "      <th>Surname</th>\n",
       "      <th>CreditScore</th>\n",
       "      <th>Geography</th>\n",
       "      <th>Gender</th>\n",
       "      <th>Age</th>\n",
       "      <th>Tenure</th>\n",
       "      <th>Balance</th>\n",
       "      <th>NumOfProducts</th>\n",
       "      <th>HasCrCard</th>\n",
       "      <th>IsActiveMember</th>\n",
       "      <th>EstimatedSalary</th>\n",
       "      <th>Exited</th>\n",
       "    </tr>\n",
       "  </thead>\n",
       "  <tbody>\n",
       "    <tr>\n",
       "      <th>0</th>\n",
       "      <td>1</td>\n",
       "      <td>15634602</td>\n",
       "      <td>Hargrave</td>\n",
       "      <td>619</td>\n",
       "      <td>France</td>\n",
       "      <td>Female</td>\n",
       "      <td>42</td>\n",
       "      <td>2.0</td>\n",
       "      <td>0.00</td>\n",
       "      <td>1</td>\n",
       "      <td>1</td>\n",
       "      <td>1</td>\n",
       "      <td>101348.88</td>\n",
       "      <td>1</td>\n",
       "    </tr>\n",
       "    <tr>\n",
       "      <th>1</th>\n",
       "      <td>2</td>\n",
       "      <td>15647311</td>\n",
       "      <td>Hill</td>\n",
       "      <td>608</td>\n",
       "      <td>Spain</td>\n",
       "      <td>Female</td>\n",
       "      <td>41</td>\n",
       "      <td>1.0</td>\n",
       "      <td>83807.86</td>\n",
       "      <td>1</td>\n",
       "      <td>0</td>\n",
       "      <td>1</td>\n",
       "      <td>112542.58</td>\n",
       "      <td>0</td>\n",
       "    </tr>\n",
       "    <tr>\n",
       "      <th>2</th>\n",
       "      <td>3</td>\n",
       "      <td>15619304</td>\n",
       "      <td>Onio</td>\n",
       "      <td>502</td>\n",
       "      <td>France</td>\n",
       "      <td>Female</td>\n",
       "      <td>42</td>\n",
       "      <td>8.0</td>\n",
       "      <td>159660.80</td>\n",
       "      <td>3</td>\n",
       "      <td>1</td>\n",
       "      <td>0</td>\n",
       "      <td>113931.57</td>\n",
       "      <td>1</td>\n",
       "    </tr>\n",
       "    <tr>\n",
       "      <th>3</th>\n",
       "      <td>4</td>\n",
       "      <td>15701354</td>\n",
       "      <td>Boni</td>\n",
       "      <td>699</td>\n",
       "      <td>France</td>\n",
       "      <td>Female</td>\n",
       "      <td>39</td>\n",
       "      <td>1.0</td>\n",
       "      <td>0.00</td>\n",
       "      <td>2</td>\n",
       "      <td>0</td>\n",
       "      <td>0</td>\n",
       "      <td>93826.63</td>\n",
       "      <td>0</td>\n",
       "    </tr>\n",
       "    <tr>\n",
       "      <th>4</th>\n",
       "      <td>5</td>\n",
       "      <td>15737888</td>\n",
       "      <td>Mitchell</td>\n",
       "      <td>850</td>\n",
       "      <td>Spain</td>\n",
       "      <td>Female</td>\n",
       "      <td>43</td>\n",
       "      <td>2.0</td>\n",
       "      <td>125510.82</td>\n",
       "      <td>1</td>\n",
       "      <td>1</td>\n",
       "      <td>1</td>\n",
       "      <td>79084.10</td>\n",
       "      <td>0</td>\n",
       "    </tr>\n",
       "  </tbody>\n",
       "</table>\n",
       "</div>"
      ],
      "text/plain": [
       "   RowNumber  CustomerId   Surname  CreditScore Geography  Gender  Age  \\\n",
       "0          1    15634602  Hargrave          619    France  Female   42   \n",
       "1          2    15647311      Hill          608     Spain  Female   41   \n",
       "2          3    15619304      Onio          502    France  Female   42   \n",
       "3          4    15701354      Boni          699    France  Female   39   \n",
       "4          5    15737888  Mitchell          850     Spain  Female   43   \n",
       "\n",
       "   Tenure    Balance  NumOfProducts  HasCrCard  IsActiveMember  \\\n",
       "0     2.0       0.00              1          1               1   \n",
       "1     1.0   83807.86              1          0               1   \n",
       "2     8.0  159660.80              3          1               0   \n",
       "3     1.0       0.00              2          0               0   \n",
       "4     2.0  125510.82              1          1               1   \n",
       "\n",
       "   EstimatedSalary  Exited  \n",
       "0        101348.88       1  \n",
       "1        112542.58       0  \n",
       "2        113931.57       1  \n",
       "3         93826.63       0  \n",
       "4         79084.10       0  "
      ]
     },
     "execution_count": 2,
     "metadata": {},
     "output_type": "execute_result"
    }
   ],
   "source": [
    "try:\n",
    "    data=pd.read_csv('desktop/datasets/Churn.csv')\n",
    "except:\n",
    "    data=pd.read_csv('/datasets/Churn.csv')\n",
    "\n",
    "data.head()  "
   ]
  },
  {
   "cell_type": "code",
   "execution_count": 3,
   "id": "babd2de9",
   "metadata": {
    "scrolled": true
   },
   "outputs": [
    {
     "name": "stdout",
     "output_type": "stream",
     "text": [
      "<class 'pandas.core.frame.DataFrame'>\n",
      "RangeIndex: 10000 entries, 0 to 9999\n",
      "Data columns (total 14 columns):\n",
      " #   Column           Non-Null Count  Dtype  \n",
      "---  ------           --------------  -----  \n",
      " 0   RowNumber        10000 non-null  int64  \n",
      " 1   CustomerId       10000 non-null  int64  \n",
      " 2   Surname          10000 non-null  object \n",
      " 3   CreditScore      10000 non-null  int64  \n",
      " 4   Geography        10000 non-null  object \n",
      " 5   Gender           10000 non-null  object \n",
      " 6   Age              10000 non-null  int64  \n",
      " 7   Tenure           9091 non-null   float64\n",
      " 8   Balance          10000 non-null  float64\n",
      " 9   NumOfProducts    10000 non-null  int64  \n",
      " 10  HasCrCard        10000 non-null  int64  \n",
      " 11  IsActiveMember   10000 non-null  int64  \n",
      " 12  EstimatedSalary  10000 non-null  float64\n",
      " 13  Exited           10000 non-null  int64  \n",
      "dtypes: float64(3), int64(8), object(3)\n",
      "memory usage: 1.1+ MB\n"
     ]
    }
   ],
   "source": [
    "#общая информация о датасете\n",
    "data.info()"
   ]
  },
  {
   "cell_type": "code",
   "execution_count": 4,
   "id": "4cd7997f",
   "metadata": {},
   "outputs": [
    {
     "data": {
      "text/html": [
       "<div>\n",
       "<style scoped>\n",
       "    .dataframe tbody tr th:only-of-type {\n",
       "        vertical-align: middle;\n",
       "    }\n",
       "\n",
       "    .dataframe tbody tr th {\n",
       "        vertical-align: top;\n",
       "    }\n",
       "\n",
       "    .dataframe thead th {\n",
       "        text-align: right;\n",
       "    }\n",
       "</style>\n",
       "<table border=\"1\" class=\"dataframe\">\n",
       "  <thead>\n",
       "    <tr style=\"text-align: right;\">\n",
       "      <th></th>\n",
       "      <th>RowNumber</th>\n",
       "      <th>CustomerId</th>\n",
       "      <th>CreditScore</th>\n",
       "      <th>Age</th>\n",
       "      <th>Tenure</th>\n",
       "      <th>Balance</th>\n",
       "      <th>NumOfProducts</th>\n",
       "      <th>HasCrCard</th>\n",
       "      <th>IsActiveMember</th>\n",
       "      <th>EstimatedSalary</th>\n",
       "      <th>Exited</th>\n",
       "    </tr>\n",
       "  </thead>\n",
       "  <tbody>\n",
       "    <tr>\n",
       "      <th>count</th>\n",
       "      <td>10000.00000</td>\n",
       "      <td>1.000000e+04</td>\n",
       "      <td>10000.000000</td>\n",
       "      <td>10000.000000</td>\n",
       "      <td>9091.000000</td>\n",
       "      <td>10000.000000</td>\n",
       "      <td>10000.000000</td>\n",
       "      <td>10000.00000</td>\n",
       "      <td>10000.000000</td>\n",
       "      <td>10000.000000</td>\n",
       "      <td>10000.000000</td>\n",
       "    </tr>\n",
       "    <tr>\n",
       "      <th>mean</th>\n",
       "      <td>5000.50000</td>\n",
       "      <td>1.569094e+07</td>\n",
       "      <td>650.528800</td>\n",
       "      <td>38.921800</td>\n",
       "      <td>4.997690</td>\n",
       "      <td>76485.889288</td>\n",
       "      <td>1.530200</td>\n",
       "      <td>0.70550</td>\n",
       "      <td>0.515100</td>\n",
       "      <td>100090.239881</td>\n",
       "      <td>0.203700</td>\n",
       "    </tr>\n",
       "    <tr>\n",
       "      <th>std</th>\n",
       "      <td>2886.89568</td>\n",
       "      <td>7.193619e+04</td>\n",
       "      <td>96.653299</td>\n",
       "      <td>10.487806</td>\n",
       "      <td>2.894723</td>\n",
       "      <td>62397.405202</td>\n",
       "      <td>0.581654</td>\n",
       "      <td>0.45584</td>\n",
       "      <td>0.499797</td>\n",
       "      <td>57510.492818</td>\n",
       "      <td>0.402769</td>\n",
       "    </tr>\n",
       "    <tr>\n",
       "      <th>min</th>\n",
       "      <td>1.00000</td>\n",
       "      <td>1.556570e+07</td>\n",
       "      <td>350.000000</td>\n",
       "      <td>18.000000</td>\n",
       "      <td>0.000000</td>\n",
       "      <td>0.000000</td>\n",
       "      <td>1.000000</td>\n",
       "      <td>0.00000</td>\n",
       "      <td>0.000000</td>\n",
       "      <td>11.580000</td>\n",
       "      <td>0.000000</td>\n",
       "    </tr>\n",
       "    <tr>\n",
       "      <th>25%</th>\n",
       "      <td>2500.75000</td>\n",
       "      <td>1.562853e+07</td>\n",
       "      <td>584.000000</td>\n",
       "      <td>32.000000</td>\n",
       "      <td>2.000000</td>\n",
       "      <td>0.000000</td>\n",
       "      <td>1.000000</td>\n",
       "      <td>0.00000</td>\n",
       "      <td>0.000000</td>\n",
       "      <td>51002.110000</td>\n",
       "      <td>0.000000</td>\n",
       "    </tr>\n",
       "    <tr>\n",
       "      <th>50%</th>\n",
       "      <td>5000.50000</td>\n",
       "      <td>1.569074e+07</td>\n",
       "      <td>652.000000</td>\n",
       "      <td>37.000000</td>\n",
       "      <td>5.000000</td>\n",
       "      <td>97198.540000</td>\n",
       "      <td>1.000000</td>\n",
       "      <td>1.00000</td>\n",
       "      <td>1.000000</td>\n",
       "      <td>100193.915000</td>\n",
       "      <td>0.000000</td>\n",
       "    </tr>\n",
       "    <tr>\n",
       "      <th>75%</th>\n",
       "      <td>7500.25000</td>\n",
       "      <td>1.575323e+07</td>\n",
       "      <td>718.000000</td>\n",
       "      <td>44.000000</td>\n",
       "      <td>7.000000</td>\n",
       "      <td>127644.240000</td>\n",
       "      <td>2.000000</td>\n",
       "      <td>1.00000</td>\n",
       "      <td>1.000000</td>\n",
       "      <td>149388.247500</td>\n",
       "      <td>0.000000</td>\n",
       "    </tr>\n",
       "    <tr>\n",
       "      <th>max</th>\n",
       "      <td>10000.00000</td>\n",
       "      <td>1.581569e+07</td>\n",
       "      <td>850.000000</td>\n",
       "      <td>92.000000</td>\n",
       "      <td>10.000000</td>\n",
       "      <td>250898.090000</td>\n",
       "      <td>4.000000</td>\n",
       "      <td>1.00000</td>\n",
       "      <td>1.000000</td>\n",
       "      <td>199992.480000</td>\n",
       "      <td>1.000000</td>\n",
       "    </tr>\n",
       "  </tbody>\n",
       "</table>\n",
       "</div>"
      ],
      "text/plain": [
       "         RowNumber    CustomerId   CreditScore           Age       Tenure  \\\n",
       "count  10000.00000  1.000000e+04  10000.000000  10000.000000  9091.000000   \n",
       "mean    5000.50000  1.569094e+07    650.528800     38.921800     4.997690   \n",
       "std     2886.89568  7.193619e+04     96.653299     10.487806     2.894723   \n",
       "min        1.00000  1.556570e+07    350.000000     18.000000     0.000000   \n",
       "25%     2500.75000  1.562853e+07    584.000000     32.000000     2.000000   \n",
       "50%     5000.50000  1.569074e+07    652.000000     37.000000     5.000000   \n",
       "75%     7500.25000  1.575323e+07    718.000000     44.000000     7.000000   \n",
       "max    10000.00000  1.581569e+07    850.000000     92.000000    10.000000   \n",
       "\n",
       "             Balance  NumOfProducts    HasCrCard  IsActiveMember  \\\n",
       "count   10000.000000   10000.000000  10000.00000    10000.000000   \n",
       "mean    76485.889288       1.530200      0.70550        0.515100   \n",
       "std     62397.405202       0.581654      0.45584        0.499797   \n",
       "min         0.000000       1.000000      0.00000        0.000000   \n",
       "25%         0.000000       1.000000      0.00000        0.000000   \n",
       "50%     97198.540000       1.000000      1.00000        1.000000   \n",
       "75%    127644.240000       2.000000      1.00000        1.000000   \n",
       "max    250898.090000       4.000000      1.00000        1.000000   \n",
       "\n",
       "       EstimatedSalary        Exited  \n",
       "count     10000.000000  10000.000000  \n",
       "mean     100090.239881      0.203700  \n",
       "std       57510.492818      0.402769  \n",
       "min          11.580000      0.000000  \n",
       "25%       51002.110000      0.000000  \n",
       "50%      100193.915000      0.000000  \n",
       "75%      149388.247500      0.000000  \n",
       "max      199992.480000      1.000000  "
      ]
     },
     "execution_count": 4,
     "metadata": {},
     "output_type": "execute_result"
    }
   ],
   "source": [
    "data.describe()"
   ]
  },
  {
   "cell_type": "code",
   "execution_count": 5,
   "id": "5d55e31f",
   "metadata": {
    "scrolled": true
   },
   "outputs": [
    {
     "data": {
      "text/html": [
       "<style type=\"text/css\">\n",
       "#T_191d5_row0_col0, #T_191d5_row1_col0, #T_191d5_row2_col0, #T_191d5_row3_col0, #T_191d5_row4_col0, #T_191d5_row5_col0, #T_191d5_row6_col0, #T_191d5_row8_col0, #T_191d5_row9_col0, #T_191d5_row10_col0, #T_191d5_row11_col0, #T_191d5_row12_col0, #T_191d5_row13_col0 {\n",
       "  background-color: #8000ff;\n",
       "  color: #f1f1f1;\n",
       "}\n",
       "#T_191d5_row7_col0 {\n",
       "  background-color: #ff0000;\n",
       "  color: #f1f1f1;\n",
       "}\n",
       "</style>\n",
       "<table id=\"T_191d5_\">\n",
       "  <thead>\n",
       "    <tr>\n",
       "      <th class=\"blank level0\" >&nbsp;</th>\n",
       "      <th class=\"col_heading level0 col0\" >0</th>\n",
       "    </tr>\n",
       "  </thead>\n",
       "  <tbody>\n",
       "    <tr>\n",
       "      <th id=\"T_191d5_level0_row0\" class=\"row_heading level0 row0\" >RowNumber</th>\n",
       "      <td id=\"T_191d5_row0_col0\" class=\"data row0 col0\" >0.000000</td>\n",
       "    </tr>\n",
       "    <tr>\n",
       "      <th id=\"T_191d5_level0_row1\" class=\"row_heading level0 row1\" >CustomerId</th>\n",
       "      <td id=\"T_191d5_row1_col0\" class=\"data row1 col0\" >0.000000</td>\n",
       "    </tr>\n",
       "    <tr>\n",
       "      <th id=\"T_191d5_level0_row2\" class=\"row_heading level0 row2\" >Surname</th>\n",
       "      <td id=\"T_191d5_row2_col0\" class=\"data row2 col0\" >0.000000</td>\n",
       "    </tr>\n",
       "    <tr>\n",
       "      <th id=\"T_191d5_level0_row3\" class=\"row_heading level0 row3\" >CreditScore</th>\n",
       "      <td id=\"T_191d5_row3_col0\" class=\"data row3 col0\" >0.000000</td>\n",
       "    </tr>\n",
       "    <tr>\n",
       "      <th id=\"T_191d5_level0_row4\" class=\"row_heading level0 row4\" >Geography</th>\n",
       "      <td id=\"T_191d5_row4_col0\" class=\"data row4 col0\" >0.000000</td>\n",
       "    </tr>\n",
       "    <tr>\n",
       "      <th id=\"T_191d5_level0_row5\" class=\"row_heading level0 row5\" >Gender</th>\n",
       "      <td id=\"T_191d5_row5_col0\" class=\"data row5 col0\" >0.000000</td>\n",
       "    </tr>\n",
       "    <tr>\n",
       "      <th id=\"T_191d5_level0_row6\" class=\"row_heading level0 row6\" >Age</th>\n",
       "      <td id=\"T_191d5_row6_col0\" class=\"data row6 col0\" >0.000000</td>\n",
       "    </tr>\n",
       "    <tr>\n",
       "      <th id=\"T_191d5_level0_row7\" class=\"row_heading level0 row7\" >Tenure</th>\n",
       "      <td id=\"T_191d5_row7_col0\" class=\"data row7 col0\" >9.090000</td>\n",
       "    </tr>\n",
       "    <tr>\n",
       "      <th id=\"T_191d5_level0_row8\" class=\"row_heading level0 row8\" >Balance</th>\n",
       "      <td id=\"T_191d5_row8_col0\" class=\"data row8 col0\" >0.000000</td>\n",
       "    </tr>\n",
       "    <tr>\n",
       "      <th id=\"T_191d5_level0_row9\" class=\"row_heading level0 row9\" >NumOfProducts</th>\n",
       "      <td id=\"T_191d5_row9_col0\" class=\"data row9 col0\" >0.000000</td>\n",
       "    </tr>\n",
       "    <tr>\n",
       "      <th id=\"T_191d5_level0_row10\" class=\"row_heading level0 row10\" >HasCrCard</th>\n",
       "      <td id=\"T_191d5_row10_col0\" class=\"data row10 col0\" >0.000000</td>\n",
       "    </tr>\n",
       "    <tr>\n",
       "      <th id=\"T_191d5_level0_row11\" class=\"row_heading level0 row11\" >IsActiveMember</th>\n",
       "      <td id=\"T_191d5_row11_col0\" class=\"data row11 col0\" >0.000000</td>\n",
       "    </tr>\n",
       "    <tr>\n",
       "      <th id=\"T_191d5_level0_row12\" class=\"row_heading level0 row12\" >EstimatedSalary</th>\n",
       "      <td id=\"T_191d5_row12_col0\" class=\"data row12 col0\" >0.000000</td>\n",
       "    </tr>\n",
       "    <tr>\n",
       "      <th id=\"T_191d5_level0_row13\" class=\"row_heading level0 row13\" >Exited</th>\n",
       "      <td id=\"T_191d5_row13_col0\" class=\"data row13 col0\" >0.000000</td>\n",
       "    </tr>\n",
       "  </tbody>\n",
       "</table>\n"
      ],
      "text/plain": [
       "<pandas.io.formats.style.Styler at 0x128562a90>"
      ]
     },
     "execution_count": 5,
     "metadata": {},
     "output_type": "execute_result"
    }
   ],
   "source": [
    "#оценка процента пропусков\n",
    "pd.DataFrame(round((data.isna().mean()*100),2)).style.background_gradient('rainbow') "
   ]
  },
  {
   "cell_type": "code",
   "execution_count": 6,
   "id": "9dcddd13",
   "metadata": {},
   "outputs": [
    {
     "data": {
      "text/plain": [
       "0"
      ]
     },
     "execution_count": 6,
     "metadata": {},
     "output_type": "execute_result"
    }
   ],
   "source": [
    "#проверка наличия дубликатов\n",
    "data.duplicated().sum()"
   ]
  },
  {
   "cell_type": "code",
   "execution_count": 7,
   "id": "cd2642b1",
   "metadata": {},
   "outputs": [
    {
     "data": {
      "text/plain": [
       "array(['Female', 'Male'], dtype=object)"
      ]
     },
     "execution_count": 7,
     "metadata": {},
     "output_type": "execute_result"
    }
   ],
   "source": [
    "#просмотр категориальных столбцов\n",
    "data['Gender'].unique()"
   ]
  },
  {
   "cell_type": "code",
   "execution_count": 8,
   "id": "1bf34272",
   "metadata": {},
   "outputs": [
    {
     "data": {
      "text/plain": [
       "array(['France', 'Spain', 'Germany'], dtype=object)"
      ]
     },
     "execution_count": 8,
     "metadata": {},
     "output_type": "execute_result"
    }
   ],
   "source": [
    "#просмотр категориальных столбцов\n",
    "data['Geography'].unique()"
   ]
  },
  {
   "cell_type": "code",
   "execution_count": 9,
   "id": "d59c6b13",
   "metadata": {},
   "outputs": [
    {
     "data": {
      "text/plain": [
       "count    9091.000000\n",
       "mean        4.997690\n",
       "std         2.894723\n",
       "min         0.000000\n",
       "25%         2.000000\n",
       "50%         5.000000\n",
       "75%         7.000000\n",
       "max        10.000000\n",
       "Name: Tenure, dtype: float64"
      ]
     },
     "execution_count": 9,
     "metadata": {},
     "output_type": "execute_result"
    }
   ],
   "source": [
    "#просмотр как распределены данные по столбцу с пропусками \n",
    "data['Tenure'].describe()"
   ]
  },
  {
   "cell_type": "code",
   "execution_count": 10,
   "id": "053187cd",
   "metadata": {},
   "outputs": [
    {
     "data": {
      "image/png": "[encoded data removed]",
      "text/plain": [
       "<Figure size 432x288 with 1 Axes>"
      ]
     },
     "metadata": {},
     "output_type": "display_data"
    }
   ],
   "source": [
    "#посмотрим распределение на boxplot\n",
    "sns.set_style('darkgrid')\n",
    "plt.title('Распределение данных в столбце Tenure (сколько лет в банке)')\n",
    "data.boxplot(column='Tenure')\n",
    "plt.ylabel('период, лет')\n",
    "plt.show()"
   ]
  },
  {
   "cell_type": "code",
   "execution_count": null,
   "id": "99a5ee02",
   "metadata": {},
   "outputs": [],
   "source": []
  },
  {
   "cell_type": "markdown",
   "id": "51712632",
   "metadata": {},
   "source": [
    "<b>Промежуточные выводы по изучению данных:</b> \n",
    "\n",
    "- Данные проанализированы на предмет наличия дубликатов, пропусков и ошибок.\n",
    "- Дубликатов не обнаружено, но обнаружены пропуски в столбце Tenure, просмотрено распределение данных в нем и так как пропусков не более 10% принято решение произвести замену на медиану.\n",
    "- Обнаружены категориальные данные, принято решение произвести их кодирование;\n",
    "- Так же необходимо произвести масштабирование данных.\n"
   ]
  },
  {
   "cell_type": "markdown",
   "id": "e448a16a",
   "metadata": {},
   "source": [
    "### Подготовка данных для машинного обучения"
   ]
  },
  {
   "cell_type": "code",
   "execution_count": 11,
   "id": "222b64b9",
   "metadata": {},
   "outputs": [],
   "source": [
    "#обработка пропусков (замена на медианное значение)\n",
    "data['Tenure']=data['Tenure'].fillna(data['Tenure'].median())"
   ]
  },
  {
   "cell_type": "code",
   "execution_count": 12,
   "id": "2aa81d01",
   "metadata": {},
   "outputs": [
    {
     "data": {
      "text/plain": [
       "RowNumber          0\n",
       "CustomerId         0\n",
       "Surname            0\n",
       "CreditScore        0\n",
       "Geography          0\n",
       "Gender             0\n",
       "Age                0\n",
       "Tenure             0\n",
       "Balance            0\n",
       "NumOfProducts      0\n",
       "HasCrCard          0\n",
       "IsActiveMember     0\n",
       "EstimatedSalary    0\n",
       "Exited             0\n",
       "dtype: int64"
      ]
     },
     "execution_count": 12,
     "metadata": {},
     "output_type": "execute_result"
    }
   ],
   "source": [
    "#проверка обработки пропусков\n",
    "data.isna().sum()"
   ]
  },
  {
   "cell_type": "code",
   "execution_count": 13,
   "id": "83afcdc8",
   "metadata": {},
   "outputs": [
    {
     "name": "stdout",
     "output_type": "stream",
     "text": [
      "<class 'pandas.core.frame.DataFrame'>\n",
      "RangeIndex: 10000 entries, 0 to 9999\n",
      "Data columns (total 14 columns):\n",
      " #   Column           Non-Null Count  Dtype  \n",
      "---  ------           --------------  -----  \n",
      " 0   RowNumber        10000 non-null  int64  \n",
      " 1   CustomerId       10000 non-null  int64  \n",
      " 2   Surname          10000 non-null  object \n",
      " 3   CreditScore      10000 non-null  int64  \n",
      " 4   Geography        10000 non-null  object \n",
      " 5   Gender           10000 non-null  object \n",
      " 6   Age              10000 non-null  int64  \n",
      " 7   Tenure           10000 non-null  float64\n",
      " 8   Balance          10000 non-null  float64\n",
      " 9   NumOfProducts    10000 non-null  int64  \n",
      " 10  HasCrCard        10000 non-null  int64  \n",
      " 11  IsActiveMember   10000 non-null  int64  \n",
      " 12  EstimatedSalary  10000 non-null  float64\n",
      " 13  Exited           10000 non-null  int64  \n",
      "dtypes: float64(3), int64(8), object(3)\n",
      "memory usage: 1.1+ MB\n"
     ]
    }
   ],
   "source": [
    "#проверка обработки пропусков\n",
    "data.info()"
   ]
  },
  {
   "cell_type": "code",
   "execution_count": 14,
   "id": "fcd6e6e5",
   "metadata": {},
   "outputs": [
    {
     "data": {
      "text/html": [
       "<div>\n",
       "<style scoped>\n",
       "    .dataframe tbody tr th:only-of-type {\n",
       "        vertical-align: middle;\n",
       "    }\n",
       "\n",
       "    .dataframe tbody tr th {\n",
       "        vertical-align: top;\n",
       "    }\n",
       "\n",
       "    .dataframe thead th {\n",
       "        text-align: right;\n",
       "    }\n",
       "</style>\n",
       "<table border=\"1\" class=\"dataframe\">\n",
       "  <thead>\n",
       "    <tr style=\"text-align: right;\">\n",
       "      <th></th>\n",
       "      <th>CreditScore</th>\n",
       "      <th>Geography</th>\n",
       "      <th>Gender</th>\n",
       "      <th>Age</th>\n",
       "      <th>Tenure</th>\n",
       "      <th>Balance</th>\n",
       "      <th>NumOfProducts</th>\n",
       "      <th>HasCrCard</th>\n",
       "      <th>IsActiveMember</th>\n",
       "      <th>EstimatedSalary</th>\n",
       "      <th>Exited</th>\n",
       "    </tr>\n",
       "  </thead>\n",
       "  <tbody>\n",
       "    <tr>\n",
       "      <th>0</th>\n",
       "      <td>619</td>\n",
       "      <td>France</td>\n",
       "      <td>Female</td>\n",
       "      <td>42</td>\n",
       "      <td>2.0</td>\n",
       "      <td>0.00</td>\n",
       "      <td>1</td>\n",
       "      <td>1</td>\n",
       "      <td>1</td>\n",
       "      <td>101348.88</td>\n",
       "      <td>1</td>\n",
       "    </tr>\n",
       "    <tr>\n",
       "      <th>1</th>\n",
       "      <td>608</td>\n",
       "      <td>Spain</td>\n",
       "      <td>Female</td>\n",
       "      <td>41</td>\n",
       "      <td>1.0</td>\n",
       "      <td>83807.86</td>\n",
       "      <td>1</td>\n",
       "      <td>0</td>\n",
       "      <td>1</td>\n",
       "      <td>112542.58</td>\n",
       "      <td>0</td>\n",
       "    </tr>\n",
       "    <tr>\n",
       "      <th>2</th>\n",
       "      <td>502</td>\n",
       "      <td>France</td>\n",
       "      <td>Female</td>\n",
       "      <td>42</td>\n",
       "      <td>8.0</td>\n",
       "      <td>159660.80</td>\n",
       "      <td>3</td>\n",
       "      <td>1</td>\n",
       "      <td>0</td>\n",
       "      <td>113931.57</td>\n",
       "      <td>1</td>\n",
       "    </tr>\n",
       "    <tr>\n",
       "      <th>3</th>\n",
       "      <td>699</td>\n",
       "      <td>France</td>\n",
       "      <td>Female</td>\n",
       "      <td>39</td>\n",
       "      <td>1.0</td>\n",
       "      <td>0.00</td>\n",
       "      <td>2</td>\n",
       "      <td>0</td>\n",
       "      <td>0</td>\n",
       "      <td>93826.63</td>\n",
       "      <td>0</td>\n",
       "    </tr>\n",
       "    <tr>\n",
       "      <th>4</th>\n",
       "      <td>850</td>\n",
       "      <td>Spain</td>\n",
       "      <td>Female</td>\n",
       "      <td>43</td>\n",
       "      <td>2.0</td>\n",
       "      <td>125510.82</td>\n",
       "      <td>1</td>\n",
       "      <td>1</td>\n",
       "      <td>1</td>\n",
       "      <td>79084.10</td>\n",
       "      <td>0</td>\n",
       "    </tr>\n",
       "  </tbody>\n",
       "</table>\n",
       "</div>"
      ],
      "text/plain": [
       "   CreditScore Geography  Gender  Age  Tenure    Balance  NumOfProducts  \\\n",
       "0          619    France  Female   42     2.0       0.00              1   \n",
       "1          608     Spain  Female   41     1.0   83807.86              1   \n",
       "2          502    France  Female   42     8.0  159660.80              3   \n",
       "3          699    France  Female   39     1.0       0.00              2   \n",
       "4          850     Spain  Female   43     2.0  125510.82              1   \n",
       "\n",
       "   HasCrCard  IsActiveMember  EstimatedSalary  Exited  \n",
       "0          1               1        101348.88       1  \n",
       "1          0               1        112542.58       0  \n",
       "2          1               0        113931.57       1  \n",
       "3          0               0         93826.63       0  \n",
       "4          1               1         79084.10       0  "
      ]
     },
     "execution_count": 14,
     "metadata": {},
     "output_type": "execute_result"
    }
   ],
   "source": [
    "#оставим в датасете те столбцы, которые представляют ценность для машинного обучения\n",
    "\n",
    "data_ml=data.drop(['RowNumber','CustomerId', 'Surname'],axis=1)\n",
    "data_ml.head()"
   ]
  },
  {
   "cell_type": "code",
   "execution_count": 15,
   "id": "a5782dbb",
   "metadata": {
    "scrolled": true
   },
   "outputs": [
    {
     "data": {
      "text/html": [
       "<div>\n",
       "<style scoped>\n",
       "    .dataframe tbody tr th:only-of-type {\n",
       "        vertical-align: middle;\n",
       "    }\n",
       "\n",
       "    .dataframe tbody tr th {\n",
       "        vertical-align: top;\n",
       "    }\n",
       "\n",
       "    .dataframe thead th {\n",
       "        text-align: right;\n",
       "    }\n",
       "</style>\n",
       "<table border=\"1\" class=\"dataframe\">\n",
       "  <thead>\n",
       "    <tr style=\"text-align: right;\">\n",
       "      <th></th>\n",
       "      <th>CreditScore</th>\n",
       "      <th>Age</th>\n",
       "      <th>Tenure</th>\n",
       "      <th>Balance</th>\n",
       "      <th>NumOfProducts</th>\n",
       "      <th>HasCrCard</th>\n",
       "      <th>IsActiveMember</th>\n",
       "      <th>EstimatedSalary</th>\n",
       "      <th>Exited</th>\n",
       "      <th>Geography_Germany</th>\n",
       "      <th>Geography_Spain</th>\n",
       "      <th>Gender_Male</th>\n",
       "    </tr>\n",
       "  </thead>\n",
       "  <tbody>\n",
       "    <tr>\n",
       "      <th>0</th>\n",
       "      <td>619</td>\n",
       "      <td>42</td>\n",
       "      <td>2.0</td>\n",
       "      <td>0.00</td>\n",
       "      <td>1</td>\n",
       "      <td>1</td>\n",
       "      <td>1</td>\n",
       "      <td>101348.88</td>\n",
       "      <td>1</td>\n",
       "      <td>0</td>\n",
       "      <td>0</td>\n",
       "      <td>0</td>\n",
       "    </tr>\n",
       "    <tr>\n",
       "      <th>1</th>\n",
       "      <td>608</td>\n",
       "      <td>41</td>\n",
       "      <td>1.0</td>\n",
       "      <td>83807.86</td>\n",
       "      <td>1</td>\n",
       "      <td>0</td>\n",
       "      <td>1</td>\n",
       "      <td>112542.58</td>\n",
       "      <td>0</td>\n",
       "      <td>0</td>\n",
       "      <td>1</td>\n",
       "      <td>0</td>\n",
       "    </tr>\n",
       "    <tr>\n",
       "      <th>2</th>\n",
       "      <td>502</td>\n",
       "      <td>42</td>\n",
       "      <td>8.0</td>\n",
       "      <td>159660.80</td>\n",
       "      <td>3</td>\n",
       "      <td>1</td>\n",
       "      <td>0</td>\n",
       "      <td>113931.57</td>\n",
       "      <td>1</td>\n",
       "      <td>0</td>\n",
       "      <td>0</td>\n",
       "      <td>0</td>\n",
       "    </tr>\n",
       "    <tr>\n",
       "      <th>3</th>\n",
       "      <td>699</td>\n",
       "      <td>39</td>\n",
       "      <td>1.0</td>\n",
       "      <td>0.00</td>\n",
       "      <td>2</td>\n",
       "      <td>0</td>\n",
       "      <td>0</td>\n",
       "      <td>93826.63</td>\n",
       "      <td>0</td>\n",
       "      <td>0</td>\n",
       "      <td>0</td>\n",
       "      <td>0</td>\n",
       "    </tr>\n",
       "    <tr>\n",
       "      <th>4</th>\n",
       "      <td>850</td>\n",
       "      <td>43</td>\n",
       "      <td>2.0</td>\n",
       "      <td>125510.82</td>\n",
       "      <td>1</td>\n",
       "      <td>1</td>\n",
       "      <td>1</td>\n",
       "      <td>79084.10</td>\n",
       "      <td>0</td>\n",
       "      <td>0</td>\n",
       "      <td>1</td>\n",
       "      <td>0</td>\n",
       "    </tr>\n",
       "  </tbody>\n",
       "</table>\n",
       "</div>"
      ],
      "text/plain": [
       "   CreditScore  Age  Tenure    Balance  NumOfProducts  HasCrCard  \\\n",
       "0          619   42     2.0       0.00              1          1   \n",
       "1          608   41     1.0   83807.86              1          0   \n",
       "2          502   42     8.0  159660.80              3          1   \n",
       "3          699   39     1.0       0.00              2          0   \n",
       "4          850   43     2.0  125510.82              1          1   \n",
       "\n",
       "   IsActiveMember  EstimatedSalary  Exited  Geography_Germany  \\\n",
       "0               1        101348.88       1                  0   \n",
       "1               1        112542.58       0                  0   \n",
       "2               0        113931.57       1                  0   \n",
       "3               0         93826.63       0                  0   \n",
       "4               1         79084.10       0                  0   \n",
       "\n",
       "   Geography_Spain  Gender_Male  \n",
       "0                0            0  \n",
       "1                1            0  \n",
       "2                0            0  \n",
       "3                0            0  \n",
       "4                1            0  "
      ]
     },
     "execution_count": 15,
     "metadata": {},
     "output_type": "execute_result"
    }
   ],
   "source": [
    "#применение метода OHE к столбцам + просмотр того, что получилось\n",
    "data_ml = pd.get_dummies(data_ml, drop_first=True)\n",
    "data_ml.head()"
   ]
  },
  {
   "cell_type": "markdown",
   "id": "76ac8209",
   "metadata": {},
   "source": [
    "### Разделение на выборки (тренировочная, тестовая, валидационная)"
   ]
  },
  {
   "cell_type": "code",
   "execution_count": 16,
   "id": "2d7dd4ea",
   "metadata": {},
   "outputs": [],
   "source": [
    "#разделим выборки по принципу 3:1:1\n",
    "#(60% train, 20% test, 20% valid)\n",
    "data_train, data_valid = train_test_split(data_ml, test_size=0.4, random_state=12345)\n",
    "data_valid,data_test = train_test_split(data_valid, test_size=0.5, random_state=12345)"
   ]
  },
  {
   "cell_type": "code",
   "execution_count": 17,
   "id": "1e39af0e",
   "metadata": {},
   "outputs": [
    {
     "name": "stdout",
     "output_type": "stream",
     "text": [
      "Размер обучающей выборки: 6000 объектов\n",
      "Размер валидационной выборки: 2000 объектов\n",
      "Размер тестовой выборки: 2000 объектов\n"
     ]
    }
   ],
   "source": [
    "#посмотрим что получилось\n",
    "print('Размер обучающей выборки:', data_train.shape[0],'объектов')\n",
    "print('Размер валидационной выборки:', data_valid.shape[0],'объектов')\n",
    "print('Размер тестовой выборки:',data_test.shape[0],'объектов')"
   ]
  },
  {
   "cell_type": "code",
   "execution_count": 18,
   "id": "aced026a",
   "metadata": {},
   "outputs": [],
   "source": [
    "#выделяем признаки и целевую переменную\n",
    "\n",
    "# тренировочная выборка\n",
    "features_train = data_train.drop('Exited', axis=1)\n",
    "target_train = data_train['Exited']\n",
    "# валидационная выборка\n",
    "features_valid = data_valid.drop('Exited', axis=1)\n",
    "target_valid = data_valid['Exited']\n",
    "# тестовая выборка\n",
    "features_test = data_test.drop('Exited', axis=1)\n",
    "target_test = data_test['Exited']"
   ]
  },
  {
   "cell_type": "markdown",
   "id": "ce9c3b90",
   "metadata": {},
   "source": [
    "Проведем масштабирование числовых признаков по тестовой/валидационной/тренировочной выборкам"
   ]
  },
  {
   "cell_type": "code",
   "execution_count": 19,
   "id": "8168e962",
   "metadata": {},
   "outputs": [],
   "source": [
    "#выделим числовые признаки\n",
    "numeric = ['CreditScore', 'Age', 'Tenure', 'Balance', 'NumOfProducts', 'EstimatedSalary']\n",
    "\n",
    "scaler = StandardScaler()\n",
    "scaler.fit(features_train[numeric])\n",
    "\n",
    "#масштабируем признаки в тренировочной/валидационной/тестовой выборках\n",
    "\n",
    "features_train[numeric] = scaler.transform(features_train[numeric])\n",
    "features_test[numeric] = scaler.transform(features_test[numeric])\n",
    "features_valid[numeric] = scaler.transform(features_valid[numeric])"
   ]
  },
  {
   "cell_type": "code",
   "execution_count": 20,
   "id": "a32980e4",
   "metadata": {},
   "outputs": [
    {
     "data": {
      "text/html": [
       "<div>\n",
       "<style scoped>\n",
       "    .dataframe tbody tr th:only-of-type {\n",
       "        vertical-align: middle;\n",
       "    }\n",
       "\n",
       "    .dataframe tbody tr th {\n",
       "        vertical-align: top;\n",
       "    }\n",
       "\n",
       "    .dataframe thead th {\n",
       "        text-align: right;\n",
       "    }\n",
       "</style>\n",
       "<table border=\"1\" class=\"dataframe\">\n",
       "  <thead>\n",
       "    <tr style=\"text-align: right;\">\n",
       "      <th></th>\n",
       "      <th>CreditScore</th>\n",
       "      <th>Age</th>\n",
       "      <th>Tenure</th>\n",
       "      <th>Balance</th>\n",
       "      <th>NumOfProducts</th>\n",
       "      <th>HasCrCard</th>\n",
       "      <th>IsActiveMember</th>\n",
       "      <th>EstimatedSalary</th>\n",
       "      <th>Geography_Germany</th>\n",
       "      <th>Geography_Spain</th>\n",
       "      <th>Gender_Male</th>\n",
       "    </tr>\n",
       "  </thead>\n",
       "  <tbody>\n",
       "    <tr>\n",
       "      <th>7479</th>\n",
       "      <td>-0.886751</td>\n",
       "      <td>-0.373192</td>\n",
       "      <td>1.082277</td>\n",
       "      <td>1.232271</td>\n",
       "      <td>-0.891560</td>\n",
       "      <td>1</td>\n",
       "      <td>0</td>\n",
       "      <td>-0.187705</td>\n",
       "      <td>0</td>\n",
       "      <td>1</td>\n",
       "      <td>1</td>\n",
       "    </tr>\n",
       "    <tr>\n",
       "      <th>3411</th>\n",
       "      <td>0.608663</td>\n",
       "      <td>-0.183385</td>\n",
       "      <td>1.082277</td>\n",
       "      <td>0.600563</td>\n",
       "      <td>-0.891560</td>\n",
       "      <td>0</td>\n",
       "      <td>0</td>\n",
       "      <td>-0.333945</td>\n",
       "      <td>0</td>\n",
       "      <td>0</td>\n",
       "      <td>0</td>\n",
       "    </tr>\n",
       "    <tr>\n",
       "      <th>6027</th>\n",
       "      <td>2.052152</td>\n",
       "      <td>0.480939</td>\n",
       "      <td>-0.737696</td>\n",
       "      <td>1.027098</td>\n",
       "      <td>0.830152</td>\n",
       "      <td>0</td>\n",
       "      <td>1</td>\n",
       "      <td>1.503095</td>\n",
       "      <td>1</td>\n",
       "      <td>0</td>\n",
       "      <td>1</td>\n",
       "    </tr>\n",
       "    <tr>\n",
       "      <th>1247</th>\n",
       "      <td>-1.457915</td>\n",
       "      <td>-1.417129</td>\n",
       "      <td>0.354288</td>\n",
       "      <td>-1.233163</td>\n",
       "      <td>0.830152</td>\n",
       "      <td>1</td>\n",
       "      <td>0</td>\n",
       "      <td>-1.071061</td>\n",
       "      <td>0</td>\n",
       "      <td>0</td>\n",
       "      <td>1</td>\n",
       "    </tr>\n",
       "    <tr>\n",
       "      <th>3716</th>\n",
       "      <td>0.130961</td>\n",
       "      <td>-1.132419</td>\n",
       "      <td>-1.101690</td>\n",
       "      <td>1.140475</td>\n",
       "      <td>-0.891560</td>\n",
       "      <td>0</td>\n",
       "      <td>0</td>\n",
       "      <td>1.524268</td>\n",
       "      <td>1</td>\n",
       "      <td>0</td>\n",
       "      <td>0</td>\n",
       "    </tr>\n",
       "  </tbody>\n",
       "</table>\n",
       "</div>"
      ],
      "text/plain": [
       "      CreditScore       Age    Tenure   Balance  NumOfProducts  HasCrCard  \\\n",
       "7479    -0.886751 -0.373192  1.082277  1.232271      -0.891560          1   \n",
       "3411     0.608663 -0.183385  1.082277  0.600563      -0.891560          0   \n",
       "6027     2.052152  0.480939 -0.737696  1.027098       0.830152          0   \n",
       "1247    -1.457915 -1.417129  0.354288 -1.233163       0.830152          1   \n",
       "3716     0.130961 -1.132419 -1.101690  1.140475      -0.891560          0   \n",
       "\n",
       "      IsActiveMember  EstimatedSalary  Geography_Germany  Geography_Spain  \\\n",
       "7479               0        -0.187705                  0                1   \n",
       "3411               0        -0.333945                  0                0   \n",
       "6027               1         1.503095                  1                0   \n",
       "1247               0        -1.071061                  0                0   \n",
       "3716               0         1.524268                  1                0   \n",
       "\n",
       "      Gender_Male  \n",
       "7479            1  \n",
       "3411            0  \n",
       "6027            1  \n",
       "1247            1  \n",
       "3716            0  "
      ]
     },
     "execution_count": 20,
     "metadata": {},
     "output_type": "execute_result"
    }
   ],
   "source": [
    "#посмотрим что получилось на обучающей\n",
    "features_train.head()"
   ]
  },
  {
   "cell_type": "code",
   "execution_count": 21,
   "id": "7dea908b",
   "metadata": {},
   "outputs": [
    {
     "data": {
      "text/html": [
       "<div>\n",
       "<style scoped>\n",
       "    .dataframe tbody tr th:only-of-type {\n",
       "        vertical-align: middle;\n",
       "    }\n",
       "\n",
       "    .dataframe tbody tr th {\n",
       "        vertical-align: top;\n",
       "    }\n",
       "\n",
       "    .dataframe thead th {\n",
       "        text-align: right;\n",
       "    }\n",
       "</style>\n",
       "<table border=\"1\" class=\"dataframe\">\n",
       "  <thead>\n",
       "    <tr style=\"text-align: right;\">\n",
       "      <th></th>\n",
       "      <th>CreditScore</th>\n",
       "      <th>Age</th>\n",
       "      <th>Tenure</th>\n",
       "      <th>Balance</th>\n",
       "      <th>NumOfProducts</th>\n",
       "      <th>HasCrCard</th>\n",
       "      <th>IsActiveMember</th>\n",
       "      <th>EstimatedSalary</th>\n",
       "      <th>Geography_Germany</th>\n",
       "      <th>Geography_Spain</th>\n",
       "      <th>Gender_Male</th>\n",
       "    </tr>\n",
       "  </thead>\n",
       "  <tbody>\n",
       "    <tr>\n",
       "      <th>7041</th>\n",
       "      <td>-2.226392</td>\n",
       "      <td>-0.088482</td>\n",
       "      <td>-1.101690</td>\n",
       "      <td>-1.233163</td>\n",
       "      <td>0.830152</td>\n",
       "      <td>1</td>\n",
       "      <td>0</td>\n",
       "      <td>0.647083</td>\n",
       "      <td>0</td>\n",
       "      <td>0</td>\n",
       "      <td>1</td>\n",
       "    </tr>\n",
       "    <tr>\n",
       "      <th>5709</th>\n",
       "      <td>-0.087120</td>\n",
       "      <td>0.006422</td>\n",
       "      <td>1.446272</td>\n",
       "      <td>-1.233163</td>\n",
       "      <td>-0.891560</td>\n",
       "      <td>1</td>\n",
       "      <td>0</td>\n",
       "      <td>-1.658410</td>\n",
       "      <td>0</td>\n",
       "      <td>0</td>\n",
       "      <td>0</td>\n",
       "    </tr>\n",
       "    <tr>\n",
       "      <th>7117</th>\n",
       "      <td>-0.917905</td>\n",
       "      <td>-0.752805</td>\n",
       "      <td>-0.009707</td>\n",
       "      <td>0.722307</td>\n",
       "      <td>-0.891560</td>\n",
       "      <td>1</td>\n",
       "      <td>1</td>\n",
       "      <td>-1.369334</td>\n",
       "      <td>0</td>\n",
       "      <td>1</td>\n",
       "      <td>1</td>\n",
       "    </tr>\n",
       "    <tr>\n",
       "      <th>7775</th>\n",
       "      <td>-0.253277</td>\n",
       "      <td>0.101325</td>\n",
       "      <td>1.810266</td>\n",
       "      <td>-1.233163</td>\n",
       "      <td>0.830152</td>\n",
       "      <td>1</td>\n",
       "      <td>0</td>\n",
       "      <td>0.075086</td>\n",
       "      <td>0</td>\n",
       "      <td>1</td>\n",
       "      <td>1</td>\n",
       "    </tr>\n",
       "    <tr>\n",
       "      <th>8735</th>\n",
       "      <td>0.785204</td>\n",
       "      <td>-0.847708</td>\n",
       "      <td>1.810266</td>\n",
       "      <td>0.615625</td>\n",
       "      <td>-0.891560</td>\n",
       "      <td>0</td>\n",
       "      <td>1</td>\n",
       "      <td>-1.070919</td>\n",
       "      <td>0</td>\n",
       "      <td>0</td>\n",
       "      <td>1</td>\n",
       "    </tr>\n",
       "  </tbody>\n",
       "</table>\n",
       "</div>"
      ],
      "text/plain": [
       "      CreditScore       Age    Tenure   Balance  NumOfProducts  HasCrCard  \\\n",
       "7041    -2.226392 -0.088482 -1.101690 -1.233163       0.830152          1   \n",
       "5709    -0.087120  0.006422  1.446272 -1.233163      -0.891560          1   \n",
       "7117    -0.917905 -0.752805 -0.009707  0.722307      -0.891560          1   \n",
       "7775    -0.253277  0.101325  1.810266 -1.233163       0.830152          1   \n",
       "8735     0.785204 -0.847708  1.810266  0.615625      -0.891560          0   \n",
       "\n",
       "      IsActiveMember  EstimatedSalary  Geography_Germany  Geography_Spain  \\\n",
       "7041               0         0.647083                  0                0   \n",
       "5709               0        -1.658410                  0                0   \n",
       "7117               1        -1.369334                  0                1   \n",
       "7775               0         0.075086                  0                1   \n",
       "8735               1        -1.070919                  0                0   \n",
       "\n",
       "      Gender_Male  \n",
       "7041            1  \n",
       "5709            0  \n",
       "7117            1  \n",
       "7775            1  \n",
       "8735            1  "
      ]
     },
     "execution_count": 21,
     "metadata": {},
     "output_type": "execute_result"
    }
   ],
   "source": [
    "#посмотрим что получилось на тестовой\n",
    "features_test.head()"
   ]
  },
  {
   "cell_type": "code",
   "execution_count": 22,
   "id": "bdc45993",
   "metadata": {
    "scrolled": true
   },
   "outputs": [
    {
     "data": {
      "text/html": [
       "<div>\n",
       "<style scoped>\n",
       "    .dataframe tbody tr th:only-of-type {\n",
       "        vertical-align: middle;\n",
       "    }\n",
       "\n",
       "    .dataframe tbody tr th {\n",
       "        vertical-align: top;\n",
       "    }\n",
       "\n",
       "    .dataframe thead th {\n",
       "        text-align: right;\n",
       "    }\n",
       "</style>\n",
       "<table border=\"1\" class=\"dataframe\">\n",
       "  <thead>\n",
       "    <tr style=\"text-align: right;\">\n",
       "      <th></th>\n",
       "      <th>CreditScore</th>\n",
       "      <th>Age</th>\n",
       "      <th>Tenure</th>\n",
       "      <th>Balance</th>\n",
       "      <th>NumOfProducts</th>\n",
       "      <th>HasCrCard</th>\n",
       "      <th>IsActiveMember</th>\n",
       "      <th>EstimatedSalary</th>\n",
       "      <th>Geography_Germany</th>\n",
       "      <th>Geography_Spain</th>\n",
       "      <th>Gender_Male</th>\n",
       "    </tr>\n",
       "  </thead>\n",
       "  <tbody>\n",
       "    <tr>\n",
       "      <th>8532</th>\n",
       "      <td>-0.699824</td>\n",
       "      <td>-0.373192</td>\n",
       "      <td>-1.101690</td>\n",
       "      <td>-1.233163</td>\n",
       "      <td>0.830152</td>\n",
       "      <td>1</td>\n",
       "      <td>0</td>\n",
       "      <td>-0.015173</td>\n",
       "      <td>0</td>\n",
       "      <td>0</td>\n",
       "      <td>0</td>\n",
       "    </tr>\n",
       "    <tr>\n",
       "      <th>5799</th>\n",
       "      <td>-0.284431</td>\n",
       "      <td>0.575842</td>\n",
       "      <td>-0.737696</td>\n",
       "      <td>-1.233163</td>\n",
       "      <td>-0.891560</td>\n",
       "      <td>1</td>\n",
       "      <td>1</td>\n",
       "      <td>1.471724</td>\n",
       "      <td>0</td>\n",
       "      <td>0</td>\n",
       "      <td>0</td>\n",
       "    </tr>\n",
       "    <tr>\n",
       "      <th>5511</th>\n",
       "      <td>0.151731</td>\n",
       "      <td>-0.657902</td>\n",
       "      <td>-1.829679</td>\n",
       "      <td>0.438711</td>\n",
       "      <td>-0.891560</td>\n",
       "      <td>1</td>\n",
       "      <td>0</td>\n",
       "      <td>-1.367107</td>\n",
       "      <td>1</td>\n",
       "      <td>0</td>\n",
       "      <td>1</td>\n",
       "    </tr>\n",
       "    <tr>\n",
       "      <th>7365</th>\n",
       "      <td>-0.876366</td>\n",
       "      <td>-0.278288</td>\n",
       "      <td>1.810266</td>\n",
       "      <td>1.239884</td>\n",
       "      <td>-0.891560</td>\n",
       "      <td>1</td>\n",
       "      <td>1</td>\n",
       "      <td>-0.786517</td>\n",
       "      <td>0</td>\n",
       "      <td>1</td>\n",
       "      <td>0</td>\n",
       "    </tr>\n",
       "    <tr>\n",
       "      <th>7367</th>\n",
       "      <td>-0.481743</td>\n",
       "      <td>0.291132</td>\n",
       "      <td>1.810266</td>\n",
       "      <td>-1.233163</td>\n",
       "      <td>0.830152</td>\n",
       "      <td>1</td>\n",
       "      <td>0</td>\n",
       "      <td>1.358533</td>\n",
       "      <td>0</td>\n",
       "      <td>1</td>\n",
       "      <td>1</td>\n",
       "    </tr>\n",
       "  </tbody>\n",
       "</table>\n",
       "</div>"
      ],
      "text/plain": [
       "      CreditScore       Age    Tenure   Balance  NumOfProducts  HasCrCard  \\\n",
       "8532    -0.699824 -0.373192 -1.101690 -1.233163       0.830152          1   \n",
       "5799    -0.284431  0.575842 -0.737696 -1.233163      -0.891560          1   \n",
       "5511     0.151731 -0.657902 -1.829679  0.438711      -0.891560          1   \n",
       "7365    -0.876366 -0.278288  1.810266  1.239884      -0.891560          1   \n",
       "7367    -0.481743  0.291132  1.810266 -1.233163       0.830152          1   \n",
       "\n",
       "      IsActiveMember  EstimatedSalary  Geography_Germany  Geography_Spain  \\\n",
       "8532               0        -0.015173                  0                0   \n",
       "5799               1         1.471724                  0                0   \n",
       "5511               0        -1.367107                  1                0   \n",
       "7365               1        -0.786517                  0                1   \n",
       "7367               0         1.358533                  0                1   \n",
       "\n",
       "      Gender_Male  \n",
       "8532            0  \n",
       "5799            0  \n",
       "5511            1  \n",
       "7365            0  \n",
       "7367            1  "
      ]
     },
     "execution_count": 22,
     "metadata": {},
     "output_type": "execute_result"
    }
   ],
   "source": [
    "#посмотрим что получилось на валидационной\n",
    "features_valid.head()"
   ]
  },
  {
   "cell_type": "markdown",
   "id": "9b81d6d7",
   "metadata": {},
   "source": [
    "<b>Вывод по подготовке данных:</b> \n",
    "\n",
    "- выполнено удаление лишних столбцов;\n",
    "- выполнена замена пропусков на медианное значение;\n",
    "- выполнено кодирование категориальных признаков методом OHE\n",
    "- выполнено разделение на тренировочкую, валидационную и тестовую выборки;\n",
    "- выполнено масштабирование признаков."
   ]
  },
  {
   "cell_type": "markdown",
   "id": "05f9baff",
   "metadata": {},
   "source": [
    "## Исследование задачи"
   ]
  },
  {
   "cell_type": "markdown",
   "id": "dc9ed9c9",
   "metadata": {},
   "source": [
    "#### 2.1 Обучение трех моделей на исходных, несбалансированных данных: "
   ]
  },
  {
   "cell_type": "code",
   "execution_count": 23,
   "id": "2fe7eb18",
   "metadata": {},
   "outputs": [],
   "source": [
    "#создадим функцию, вычисляющую метрики\n",
    "def metric_for_models(target, predictions,type_model):\n",
    "    print('Показатели модели',type_model)\n",
    "    print()\n",
    "    print('Полнота, recall' , recall_score(target, predictions))\n",
    "    print('Точность, precision', precision_score(target, predictions))\n",
    "    print('Мера f1', f1_score(target, predictions))\n",
    "    print('auc-roc', roc_auc_score(target, predictions))\n",
    "\n",
    "#создадим функцию, возвращающую матрицу ошибок\n",
    "def matrix_conf(target,predictions,type_model):\n",
    "    print()\n",
    "    print('Матрица ошибок')\n",
    "    print()\n",
    "    print(confusion_matrix(target, predictions,normalize='true'))    \n",
    "\n",
    "#создадим константную модель\n",
    "target_predict_constant = pd.Series([0]*len(target_valid)) "
   ]
  },
  {
   "cell_type": "code",
   "execution_count": 24,
   "id": "480ea64c",
   "metadata": {},
   "outputs": [],
   "source": [
    "#создадим функцию, строящую ROC-кривую \n",
    "def roc_curve_drawing(target, probabilities_one,ptitle):\n",
    "    sns.set_style('darkgrid')\n",
    "    \n",
    "    fpr, tpr, thresholds = roc_curve(target, probabilities_one) \n",
    "\n",
    "    plt.figure()\n",
    "    plt.plot(fpr, tpr,color='g',alpha=0.8)\n",
    "    plt.plot([0, 1], [0, 1], linestyle='--',color='orange',alpha=0.8)\n",
    "    plt.xlim([0.0, 1.0])\n",
    "    plt.ylim([0.0, 1.0])\n",
    "    plt.xlabel('FPR')\n",
    "    plt.ylabel('TPR')\n",
    "    plt.title('ROC-кривая для {}'.format(ptitle))\n",
    "    \n",
    "    plt.show()"
   ]
  },
  {
   "cell_type": "code",
   "execution_count": 25,
   "id": "79f9d3f9",
   "metadata": {},
   "outputs": [],
   "source": [
    "#функция обучения + подбора параметров Дерево решений\n",
    "def dec_tree_func(features,target):\n",
    "    \n",
    "    best_f1_dtc=0\n",
    "    best_depth_dtc=0\n",
    "\n",
    "    for depth in range(1,51):\n",
    "        model = DecisionTreeClassifier(random_state=12345,max_depth=depth)\n",
    "        model.fit(features, target)\n",
    "        predictions = model.predict(features_valid)\n",
    "        f1_dtc = f1_score(target_valid, predictions)\n",
    "        \n",
    "        #поиск лучшей модели из множества вариантов\n",
    "        if f1_dtc > best_f1_dtc: \n",
    "            best_f1_dtc=f1_dtc\n",
    "            best_depth_dtc=depth\n",
    "            \n",
    "    print('Лучшая модель:',best_f1_dtc, 'глубина:', best_depth_dtc )"
   ]
  },
  {
   "cell_type": "code",
   "execution_count": 26,
   "id": "094f2602",
   "metadata": {},
   "outputs": [],
   "source": [
    "#функция обучения + подбора параметров Случайный лес\n",
    "def rand_for_func(features,target):\n",
    "   \n",
    "    best_f1_rfc=0\n",
    "    best_estimators_rfc=0\n",
    "    best_depth_rfc=0\n",
    "\n",
    "    #создадим двойной цикл по числу деревьев и глубине дерева\n",
    "\n",
    "    for est in range(1,101,10):\n",
    "        for depth in range(1,11):\n",
    "            model = RandomForestClassifier(random_state=12345, n_estimators=est,max_depth=depth)\n",
    "            model.fit(features,target)\n",
    "            predictions = model.predict(features_valid)\n",
    "            f1_rfc = f1_score(target_valid, predictions)\n",
    "        \n",
    "        #поиск лучшей модели из множества вариантов\n",
    "            if f1_rfc > best_f1_rfc:\n",
    "                best_estimators_rfc=est \n",
    "                best_f1_rfc=f1_rfc\n",
    "                best_depth_rfc=depth\n",
    "            \n",
    "    print('Лучшая модель:',best_f1_rfc, 'estimators:', best_estimators_rfc, 'глубина:', best_depth_rfc)"
   ]
  },
  {
   "cell_type": "code",
   "execution_count": 27,
   "id": "3a29e055",
   "metadata": {},
   "outputs": [
    {
     "name": "stdout",
     "output_type": "stream",
     "text": [
      "Лучшая модель: 0.5696969696969697 глубина: 6\n"
     ]
    }
   ],
   "source": [
    "#обучение дерева решений + поиск параметров\n",
    "dec_tree_func(features_train,target_train)"
   ]
  },
  {
   "cell_type": "code",
   "execution_count": 28,
   "id": "719d3848",
   "metadata": {
    "scrolled": true
   },
   "outputs": [
    {
     "name": "stdout",
     "output_type": "stream",
     "text": [
      "Лучшая модель: 0.5924812030075188 estimators: 11 глубина: 10\n"
     ]
    }
   ],
   "source": [
    "rand_for_func(features_train,target_train)"
   ]
  },
  {
   "cell_type": "code",
   "execution_count": 29,
   "id": "a88eacfc",
   "metadata": {},
   "outputs": [],
   "source": [
    "#обучение дерева с лучшими параметрами\n",
    "model_dtc = DecisionTreeClassifier(random_state=12345, max_depth=6)\n",
    "model_dtc.fit(features_train,target_train)\n",
    "dtc_predictions = model_dtc.predict(features_valid)"
   ]
  },
  {
   "cell_type": "code",
   "execution_count": 30,
   "id": "bcd70db8",
   "metadata": {},
   "outputs": [],
   "source": [
    "#обучение случайного леса с лучшими параметрами\n",
    "model_rfc = RandomForestClassifier(random_state=12345, n_estimators=11, max_depth=10)\n",
    "model_rfc.fit(features_train,target_train)\n",
    "rfc_predictions = model_rfc.predict(features_valid)\n"
   ]
  },
  {
   "cell_type": "code",
   "execution_count": 31,
   "id": "958b6b4c",
   "metadata": {},
   "outputs": [],
   "source": [
    "#логистическая регрессия\n",
    "log_model = LogisticRegression(random_state=12345)\n",
    "log_model.fit(features_train,target_train)\n",
    "log_predictions = log_model.predict(features_valid)\n"
   ]
  },
  {
   "cell_type": "code",
   "execution_count": 32,
   "id": "3b7d4be8",
   "metadata": {},
   "outputs": [
    {
     "name": "stdout",
     "output_type": "stream",
     "text": [
      "\"Дерево решений\"  0.858\n",
      "\"Случайный лес\" 0.8645\n",
      "\"Логистическая регрессия\" 0.802\n"
     ]
    }
   ],
   "source": [
    "#сравним accuracy для трех моделей\n",
    "print('\"Дерево решений\" ', accuracy_score(dtc_predictions,target_valid))\n",
    "print('\"Случайный лес\"', accuracy_score(rfc_predictions,target_valid)) \n",
    "print('\"Логистическая регрессия\"', accuracy_score(log_predictions,target_valid))"
   ]
  },
  {
   "cell_type": "code",
   "execution_count": 33,
   "id": "d09d0501",
   "metadata": {},
   "outputs": [
    {
     "name": "stdout",
     "output_type": "stream",
     "text": [
      "Показатели модели \"Дерево решений\" \n",
      "\n",
      "Полнота, recall 0.44976076555023925\n",
      "Точность, precision 0.7768595041322314\n",
      "Мера f1 0.5696969696969697\n",
      "auc-roc 0.7078133789824521\n",
      "\n",
      "Матрица ошибок\n",
      "\n",
      "[[0.96586599 0.03413401]\n",
      " [0.55023923 0.44976077]]\n",
      "\n",
      "-----------\n",
      "\n",
      "Показатели модели \"Случайный лес\" \n",
      "\n",
      "Полнота, recall 0.47129186602870815\n",
      "Точность, precision 0.7975708502024291\n",
      "Мера f1 0.5924812030075188\n",
      "auc-roc 0.7198431517248471\n",
      "\n",
      "\n",
      "Матрица ошибок\n",
      "\n",
      "[[0.96839444 0.03160556]\n",
      " [0.52870813 0.47129187]]\n",
      "-----------\n",
      "\n",
      "Показатели модели \"Логистическая регрессия\"\n",
      "\n",
      "Полнота, recall 0.23444976076555024\n",
      "Точность, precision 0.5632183908045977\n",
      "Мера f1 0.33108108108108103\n",
      "auc-roc 0.5932046528227246\n",
      "\n",
      "Матрица ошибок\n",
      "\n",
      "[[0.95195954 0.04804046]\n",
      " [0.76555024 0.23444976]]\n"
     ]
    }
   ],
   "source": [
    "#метрики и матрицу ошибок для трех моделей\n",
    "metric_for_models(target_valid, dtc_predictions,'\"Дерево решений\" ')\n",
    "matrix_conf(target_valid, dtc_predictions,'\"Дерево решений\" ')\n",
    "print()\n",
    "print('-----------')\n",
    "print()\n",
    "metric_for_models(target_valid, rfc_predictions,'\"Случайный лес\" ')\n",
    "print()\n",
    "matrix_conf(target_valid, rfc_predictions,'\"Случайный лес\" ')\n",
    "print('-----------')\n",
    "print()\n",
    "metric_for_models(target_valid, log_predictions,'\"Логистическая регрессия\"')\n",
    "matrix_conf(target_valid, log_predictions,'\"Логистическая регрессия\"')"
   ]
  },
  {
   "cell_type": "code",
   "execution_count": 34,
   "id": "b4ecb819",
   "metadata": {},
   "outputs": [],
   "source": [
    "#подготовим вероятности для построения roc-функции\n",
    "dtc_probabilities = model_dtc.predict_proba(features_valid)[:, 1]\n",
    "rfc_probabilities = model_rfc.predict_proba(features_valid)[:, 1]\n",
    "log_probabilities = log_model.predict_proba(features_valid)[:, 1]\n"
   ]
  },
  {
   "cell_type": "code",
   "execution_count": 35,
   "id": "6cc144ac",
   "metadata": {},
   "outputs": [
    {
     "data": {
      "image/png": "[encoded data removed]",
      "text/plain": [
       "<Figure size 432x288 with 1 Axes>"
      ]
     },
     "metadata": {},
     "output_type": "display_data"
    },
    {
     "data": {
      "image/png": "[encoded data removed]",
      "text/plain": [
       "<Figure size 432x288 with 1 Axes>"
      ]
     },
     "metadata": {},
     "output_type": "display_data"
    },
    {
     "data": {
      "image/png": "[encoded data removed]",
      "text/plain": [
       "<Figure size 432x288 with 1 Axes>"
      ]
     },
     "metadata": {},
     "output_type": "display_data"
    }
   ],
   "source": [
    "#построим функции для соответсвующих моделей\n",
    "roc_curve_drawing(target_valid, dtc_probabilities,'Decision Tree')\n",
    "roc_curve_drawing(target_valid, rfc_probabilities,'Random Forest')\n",
    "roc_curve_drawing(target_valid, log_probabilities,'Logistic Regression' )"
   ]
  },
  {
   "cell_type": "markdown",
   "id": "81d00f40",
   "metadata": {},
   "source": [
    "<b>Вывод:</b> \n",
    "- в целом все метрики низкие;\n",
    "- лучшая accuracy y Random Forest <b>(≈0.86)</b>\n",
    "- лучшая метрика f1 у Random Forest <b>(≈0.57)</b>;\n",
    "- лучшая метрика precision у Random Forest <b>(≈0.77)</b>;\n",
    "- лучшая метрика recall у Decision Tree <b>(≈0.49)</b>;\n",
    "- лучшая площадь под графиком ошибок auc-roc у Random Forest <b>(≈0.71)</b>\n",
    "Известно, что чем выше roc-кривая, тем качественнее модель, по графику видно, что наиболее высоко лежит график Random Forest, однако значение его auc-roc все-таки низкое. "
   ]
  },
  {
   "cell_type": "markdown",
   "id": "f2ed2e80",
   "metadata": {},
   "source": [
    "#### 2.2. Проверка моделей на адекватность"
   ]
  },
  {
   "cell_type": "code",
   "execution_count": 36,
   "id": "931372c3",
   "metadata": {},
   "outputs": [
    {
     "data": {
      "text/plain": [
       "0.791"
      ]
     },
     "execution_count": 36,
     "metadata": {},
     "output_type": "execute_result"
    }
   ],
   "source": [
    "#проанализируем на константной модели\n",
    "target_predict_constant = pd.Series([0]*len(target_valid))\n",
    "accuracy_score_constant = accuracy_score(target_valid, target_predict_constant)\n",
    "accuracy_score_constant"
   ]
  },
  {
   "cell_type": "markdown",
   "id": "5ed81afd",
   "metadata": {},
   "source": [
    "<b>Вывод по исследованию задачи:</b> \n",
    "- на несбалансированной выборке обучены три модели: Decision Tree, Random Forest и Logistic Regression;\n",
    "- проанализированы основные метрики моделей, хуже всего себя показала Logistic Regression, лучше всего Random Forest, однако ее показатель auc-roc все еще далек от 1;\n",
    "- значение accuracy константной модели близко ко всем трем моделям, соответственно рнеобходима доработка моделей по направлению ликвидации дисбаланса."
   ]
  },
  {
   "cell_type": "markdown",
   "id": "b31500c0",
   "metadata": {},
   "source": [
    "## Борьба с дисбалансом"
   ]
  },
  {
   "cell_type": "markdown",
   "id": "4e49b92a",
   "metadata": {},
   "source": [
    "Изучим дисбаланс классов: в целевой переменной исходной выборки и как предсказывала модель"
   ]
  },
  {
   "cell_type": "code",
   "execution_count": 37,
   "id": "bc77d573",
   "metadata": {},
   "outputs": [
    {
     "data": {
      "text/plain": [
       "0    0.800667\n",
       "1    0.199333\n",
       "Name: Exited, dtype: float64"
      ]
     },
     "execution_count": 37,
     "metadata": {},
     "output_type": "execute_result"
    }
   ],
   "source": [
    "#оцениваем исходный дисбаланс классов \n",
    "target_train.value_counts(normalize = True)"
   ]
  },
  {
   "cell_type": "code",
   "execution_count": 38,
   "id": "5039a278",
   "metadata": {},
   "outputs": [
    {
     "name": "stdout",
     "output_type": "stream",
     "text": [
      "0    0.879\n",
      "1    0.121\n",
      "dtype: float64\n"
     ]
    },
    {
     "data": {
      "image/png": "[encoded data removed]",
      "text/plain": [
       "<Figure size 432x288 with 1 Axes>"
      ]
     },
     "metadata": {},
     "output_type": "display_data"
    }
   ],
   "source": [
    "#как часто модель предсказывала класс «1» или «0» по Дереву решений:\n",
    "class_frequency_dtc = pd.Series(dtc_predictions).value_counts(normalize=True)\n",
    "print(class_frequency_dtc)\n",
    "\n",
    "#на диаграмме\n",
    "class_frequency_dtc.plot(kind='bar');"
   ]
  },
  {
   "cell_type": "code",
   "execution_count": 39,
   "id": "c840c97a",
   "metadata": {
    "scrolled": true
   },
   "outputs": [
    {
     "name": "stdout",
     "output_type": "stream",
     "text": [
      "0    0.8765\n",
      "1    0.1235\n",
      "dtype: float64\n"
     ]
    },
    {
     "data": {
      "image/png": "[encoded data removed]",
      "text/plain": [
       "<Figure size 432x288 with 1 Axes>"
      ]
     },
     "metadata": {},
     "output_type": "display_data"
    }
   ],
   "source": [
    "#как часто модель предсказывала класс «1» или «0» по Случайному лесу:\n",
    "class_frequency_rfc = pd.Series(rfc_predictions).value_counts(normalize=True)\n",
    "print(class_frequency_rfc)\n",
    "\n",
    "#на диаграмме\n",
    "class_frequency_dtc.plot(kind='bar');"
   ]
  },
  {
   "cell_type": "code",
   "execution_count": 40,
   "id": "e6188fec",
   "metadata": {},
   "outputs": [
    {
     "name": "stdout",
     "output_type": "stream",
     "text": [
      "0    0.913\n",
      "1    0.087\n",
      "dtype: float64\n"
     ]
    },
    {
     "data": {
      "image/png": "[encoded data removed]",
      "text/plain": [
       "<Figure size 432x288 with 1 Axes>"
      ]
     },
     "metadata": {},
     "output_type": "display_data"
    }
   ],
   "source": [
    "#как часто модель предсказывала класс «1» или «0» по Случайному лесу:\n",
    "class_frequency_log = pd.Series(log_predictions).value_counts(normalize=True)\n",
    "print(class_frequency_log)\n",
    "\n",
    "#на диаграмме\n",
    "class_frequency_log.plot(kind='bar');"
   ]
  },
  {
   "cell_type": "markdown",
   "id": "b50c7bc9",
   "metadata": {},
   "source": [
    "<b>Вывод:</b>\n",
    "\n",
    "- В исходной целевой переменной наблюдается дисбаланс классов\n",
    "\n",
    "- Все модели в основном склонялись к предсказанию 0\n",
    "\n",
    "- Логистическая регрессия в 90% предсказывает 0\n",
    "\n",
    "     Проблему дисбаланса будем решать следующими способами:\n",
    "     \n",
    "\n",
    "- Добавлением в модель параметра class_weight\n",
    "- Увеличением выборки "
   ]
  },
  {
   "cell_type": "markdown",
   "id": "ce0a3e68",
   "metadata": {},
   "source": [
    "#### 3.1 Добавление в модель параметра class_weight"
   ]
  },
  {
   "cell_type": "code",
   "execution_count": 58,
   "id": "479bef3f",
   "metadata": {},
   "outputs": [
    {
     "name": "stdout",
     "output_type": "stream",
     "text": [
      "Лучшая модель: 0.5963791267305644 глубина: 5\n"
     ]
    }
   ],
   "source": [
    "best_f1_cw=0\n",
    "best_depth_cw=0\n",
    "\n",
    "for depth in range(1,51):\n",
    "    model_dtc_w = DecisionTreeClassifier(random_state=12345,class_weight='balanced', max_depth=depth)\n",
    "    model_dtc_w.fit(features_train,target_train)\n",
    "    dtc_predictions_w = model_dtc_w.predict(features_valid)\n",
    "    f1_cw = f1_score(target_valid, dtc_predictions_w)\n",
    "        \n",
    "        #поиск лучшей модели из множества вариантов\n",
    "    if f1_cw > best_f1_cw: \n",
    "        best_f1_cw=f1_cw\n",
    "        best_depth_cw=depth\n",
    "            \n",
    "print('Лучшая модель:',best_f1_cw, 'глубина:', best_depth_cw )"
   ]
  },
  {
   "cell_type": "code",
   "execution_count": 62,
   "id": "8fb31f71",
   "metadata": {},
   "outputs": [
    {
     "name": "stdout",
     "output_type": "stream",
     "text": [
      "Лучшая модель: 0.6285714285714286 estimators: 71 глубина: 9\n"
     ]
    }
   ],
   "source": [
    "#функция обучения + подбора параметров Случайный лес\n",
    "best_f1_rfc_cw=0\n",
    "best_estimators_rfc_cw=0\n",
    "best_depth_rfc_cw=0\n",
    "\n",
    "    #создадим двойной цикл по числу деревьев и глубине дерева\n",
    "\n",
    "for est in range(1,101,10):\n",
    "    for depth in range(1,11):\n",
    "        model_rfc_w = RandomForestClassifier(random_state=12345, n_estimators=est,max_depth=depth,class_weight='balanced')\n",
    "        model_rfc_w.fit(features_train,target_train)\n",
    "        rfc_predictions_w = model_rfc_w.predict(features_valid)\n",
    "        f1_rfc_cw = f1_score(target_valid, rfc_predictions_w)\n",
    "        \n",
    "        #поиск лучшей модели из множества вариантов\n",
    "        if f1_rfc_cw > best_f1_rfc_cw:\n",
    "            best_estimators_rfc_cw=est \n",
    "            best_f1_rfc_cw=f1_rfc_cw\n",
    "            best_depth_rfc_cw=depth\n",
    "            \n",
    "print('Лучшая модель:',best_f1_rfc_cw, 'estimators:', best_estimators_rfc_cw, 'глубина:', best_depth_rfc_cw)\n",
    "   \n",
    "   "
   ]
  },
  {
   "cell_type": "code",
   "execution_count": 63,
   "id": "0f91316a",
   "metadata": {},
   "outputs": [],
   "source": [
    "#обучение дерева решений с параметром class_weight \n",
    "model_dtc_w = DecisionTreeClassifier(random_state=12345,class_weight='balanced',max_depth=5)\n",
    "model_dtc_w.fit(features_train,target_train)\n",
    "dtc_predictions_w = model_dtc_w.predict(features_valid)\n",
    "\n",
    "#обучение случайного леса с параметром class_weight\n",
    "model_rfc_w = RandomForestClassifier(random_state=12345, n_estimators=71,max_depth=9,class_weight='balanced')\n",
    "model_rfc_w.fit(features_train,target_train)\n",
    "rfc_predictions_w = model_rfc_w.predict(features_valid)\n",
    "\n",
    "#логистическая регрессия с параметром class_weight\n",
    "log_model_w = LogisticRegression(random_state=12345,solver='liblinear', class_weight='balanced')\n",
    "log_model_w.fit(features_train,target_train)\n",
    "log_predictions_w = log_model_w.predict(features_valid)"
   ]
  },
  {
   "cell_type": "code",
   "execution_count": 64,
   "id": "d000dc91",
   "metadata": {
    "scrolled": true
   },
   "outputs": [
    {
     "name": "stdout",
     "output_type": "stream",
     "text": [
      "\"Дерево решений\" accuracy  ДО --> 0.858 ПОСЛЕ ---> 0.8105\n",
      "\n",
      "\"Случайный лес\" accuracy ДО --> 0.8645 ПОСЛЕ ---> 0.8375\n",
      "\n",
      "\"Логистическая регрессия\" accuracy ДО --> 0.802 ПОСЛЕ ---> 0.702\n"
     ]
    }
   ],
   "source": [
    "#f1 и accuracy моделей до и после применения class_weight\n",
    "\n",
    "print('\"Дерево решений\" accuracy ','ДО -->', accuracy_score(target_valid,dtc_predictions),'ПОСЛЕ --->',accuracy_score(target_valid,dtc_predictions_w))\n",
    "print()\n",
    "\n",
    "print('\"Случайный лес\" accuracy', 'ДО -->', accuracy_score(target_valid,rfc_predictions),'ПОСЛЕ --->',accuracy_score(target_valid,rfc_predictions_w)) \n",
    "print()\n",
    "\n",
    "print('\"Логистическая регрессия\" accuracy', 'ДО -->', accuracy_score(target_valid,log_predictions),'ПОСЛЕ --->',accuracy_score(target_valid,log_predictions_w)) \n"
   ]
  },
  {
   "cell_type": "code",
   "execution_count": 65,
   "id": "0f232bfb",
   "metadata": {},
   "outputs": [
    {
     "name": "stdout",
     "output_type": "stream",
     "text": [
      "Показатели модели \"Дерево решений\" \n",
      "\n",
      "Полнота, recall 0.6698564593301436\n",
      "Точность, precision 0.5374280230326296\n",
      "Мера f1 0.5963791267305644\n",
      "auc-roc 0.7587588238496482\n",
      "\n",
      "Матрица ошибок\n",
      "\n",
      "[[0.84766119 0.15233881]\n",
      " [0.33014354 0.66985646]]\n",
      "\n",
      "-----------\n",
      "\n",
      "Показатели модели \"Случайный лес\" \n",
      "\n",
      "Полнота, recall 0.6578947368421053\n",
      "Точность, precision 0.6017505470459519\n",
      "Мера f1 0.6285714285714286\n",
      "auc-roc 0.7714252445272474\n",
      "\n",
      "\n",
      "Матрица ошибок\n",
      "\n",
      "[[0.88495575 0.11504425]\n",
      " [0.34210526 0.65789474]]\n",
      "-----------\n",
      "\n",
      "Показатели модели \"Логистическая регрессия\"\n",
      "\n",
      "Полнота, recall 0.6818181818181818\n",
      "Точность, precision 0.3810160427807487\n",
      "Мера f1 0.4888507718696398\n",
      "auc-roc 0.6945753361682564\n",
      "\n",
      "Матрица ошибок\n",
      "\n",
      "[[0.70733249 0.29266751]\n",
      " [0.31818182 0.68181818]]\n"
     ]
    }
   ],
   "source": [
    "#основные метрики\n",
    "metric_for_models(target_valid, dtc_predictions_w,'\"Дерево решений\" ')\n",
    "matrix_conf(target_valid, dtc_predictions_w,'\"Дерево решений\" ')\n",
    "print()\n",
    "print('-----------')\n",
    "print()\n",
    "metric_for_models(target_valid, rfc_predictions_w,'\"Случайный лес\" ')\n",
    "print()\n",
    "matrix_conf(target_valid, rfc_predictions_w,'\"Случайный лес\" ')\n",
    "print('-----------')\n",
    "print()\n",
    "metric_for_models(target_valid, log_predictions_w,'\"Логистическая регрессия\"')\n",
    "matrix_conf(target_valid, log_predictions_w,'\"Логистическая регрессия\"')"
   ]
  },
  {
   "cell_type": "code",
   "execution_count": 66,
   "id": "18b799a0",
   "metadata": {},
   "outputs": [
    {
     "data": {
      "image/png": "[encoded data removed]",
      "text/plain": [
       "<Figure size 432x288 with 1 Axes>"
      ]
     },
     "metadata": {},
     "output_type": "display_data"
    },
    {
     "data": {
      "image/png": "[encoded data removed]",
      "text/plain": [
       "<Figure size 432x288 with 1 Axes>"
      ]
     },
     "metadata": {},
     "output_type": "display_data"
    },
    {
     "data": {
      "image/png": "[encoded data removed]",
      "text/plain": [
       "<Figure size 432x288 with 1 Axes>"
      ]
     },
     "metadata": {},
     "output_type": "display_data"
    }
   ],
   "source": [
    "#roc-кривая\n",
    "\n",
    "dtc_probabilities_w = model_dtc_w.predict_proba(features_valid)[:, 1]\n",
    "rfc_probabilities_w = model_rfc_w.predict_proba(features_valid)[:, 1]\n",
    "log_probabilities_w = log_model_w.predict_proba(features_valid)[:, 1]\n",
    "\n",
    "roc_curve_drawing(target_valid, dtc_probabilities_w,'Decision Tree')\n",
    "roc_curve_drawing(target_valid, rfc_probabilities_w,'Random Forest')\n",
    "roc_curve_drawing(target_valid, log_probabilities_w,'Logistic Regression' )"
   ]
  },
  {
   "cell_type": "markdown",
   "id": "01e6b538",
   "metadata": {},
   "source": [
    "<b>Вывод:</b> Метрики после применения метода изменились, лидер Random Forest. Удалось добиться преодоления целевым показателем f1 заданной границы, однако дисбаланс сохранился."
   ]
  },
  {
   "cell_type": "markdown",
   "id": "14fc02db",
   "metadata": {},
   "source": [
    "#### 3.2. Увеличение выборки (Upsampling)"
   ]
  },
  {
   "cell_type": "code",
   "execution_count": 46,
   "id": "fa086026",
   "metadata": {},
   "outputs": [],
   "source": [
    "#создадим функцию upsample\n",
    "def upsample(features, target, repeat):\n",
    "    features_zeros = features[target == 0]\n",
    "    features_ones = features[target == 1]\n",
    "    target_zeros = target[target == 0]\n",
    "    target_ones = target[target == 1]\n",
    "\n",
    "    features_upsampled = pd.concat([features_zeros] + [features_ones] * repeat)\n",
    "    target_upsampled = pd.concat([target_zeros] + [target_ones] * repeat)\n",
    "    \n",
    "    features_upsampled, target_upsampled = shuffle(features_upsampled, target_upsampled, random_state=12345)\n",
    "    \n",
    "    return features_upsampled, target_upsampled\n",
    "\n",
    "features_upsampled, target_upsampled = upsample(features_train, target_train, 4)\n"
   ]
  },
  {
   "cell_type": "code",
   "execution_count": 47,
   "id": "346ca2cf",
   "metadata": {},
   "outputs": [
    {
     "name": "stdout",
     "output_type": "stream",
     "text": [
      "(9588, 11)\n",
      "(9588,)\n",
      "0    0.501043\n",
      "1    0.498957\n",
      "Name: Exited, dtype: float64\n"
     ]
    }
   ],
   "source": [
    "#проверим размер выборки и баланс\n",
    "print(features_upsampled.shape)\n",
    "print(target_upsampled.shape)\n",
    "print(target_upsampled.value_counts(normalize = True))"
   ]
  },
  {
   "cell_type": "markdown",
   "id": "5ee7444e",
   "metadata": {},
   "source": [
    "Удалось добиться баланса в выборке, обучим модель на этих данных и найдем ее лучшие параметры!"
   ]
  },
  {
   "cell_type": "markdown",
   "id": "6ec4dc5b",
   "metadata": {},
   "source": [
    "<b>Дерево решений</b>"
   ]
  },
  {
   "cell_type": "code",
   "execution_count": 48,
   "id": "92f9dfd3",
   "metadata": {},
   "outputs": [
    {
     "name": "stdout",
     "output_type": "stream",
     "text": [
      "Лучшая модель: 0.5963791267305644 глубина: 5\n"
     ]
    }
   ],
   "source": [
    "#обучение дерева решений + поиск параметров\n",
    "dec_tree_func(features_upsampled, target_upsampled)"
   ]
  },
  {
   "cell_type": "code",
   "execution_count": 49,
   "id": "d2dc776a",
   "metadata": {},
   "outputs": [],
   "source": [
    "best_dtc_up = DecisionTreeClassifier(random_state=12345,max_depth=5)\n",
    "best_dtc_up.fit(features_upsampled, target_upsampled)\n",
    "dtc_predictions_best_up = best_dtc_up.predict(features_valid)"
   ]
  },
  {
   "cell_type": "markdown",
   "id": "c81c1e1a",
   "metadata": {},
   "source": [
    "<b>Случайный лес</b>"
   ]
  },
  {
   "cell_type": "code",
   "execution_count": 50,
   "id": "4689a007",
   "metadata": {
    "scrolled": true
   },
   "outputs": [
    {
     "name": "stdout",
     "output_type": "stream",
     "text": [
      "Лучшая модель: 0.6291179596174282 estimators: 71 глубина: 9\n"
     ]
    }
   ],
   "source": [
    "rand_for_func(features_upsampled, target_upsampled)"
   ]
  },
  {
   "cell_type": "code",
   "execution_count": 51,
   "id": "610b925e",
   "metadata": {},
   "outputs": [],
   "source": [
    "#модель Случайный лес с лучшими параметрами \n",
    "best_rfc_up = RandomForestClassifier(random_state=12345, n_estimators=71,max_depth=9)\n",
    "best_rfc_up.fit(features_upsampled, target_upsampled)\n",
    "rfc_predictions_best_up = best_rfc_up.predict(features_valid)"
   ]
  },
  {
   "cell_type": "markdown",
   "id": "a489b9ef",
   "metadata": {},
   "source": [
    "<b>Логистическая регрессия</b>"
   ]
  },
  {
   "cell_type": "code",
   "execution_count": 52,
   "id": "2f3143d7",
   "metadata": {},
   "outputs": [],
   "source": [
    "#обучение Логистической регрессия при увеличенной выборке \n",
    "log_model_up = LogisticRegression(random_state=12345,solver='liblinear')\n",
    "log_model_up.fit(features_upsampled, target_upsampled)\n",
    "log_predictions_up = log_model_up.predict(features_valid)"
   ]
  },
  {
   "cell_type": "code",
   "execution_count": 53,
   "id": "daf475c2",
   "metadata": {},
   "outputs": [
    {
     "name": "stdout",
     "output_type": "stream",
     "text": [
      "\"Дерево решений\"\n",
      "Исходное значение 0.858\n",
      "Увеличенная выборка 0.8105\n",
      "\n",
      "\"Случайный лес\"\n",
      "Исходное значение 0.8645\n",
      "Увеличенная выборка 0.8255\n",
      "\n",
      "\"Логистическая регрессия\"\n",
      "Исходное значение 0.802\n",
      "Увеличенная выборка 0.702\n"
     ]
    }
   ],
   "source": [
    "#посмотрим метрику accuracy до и после применения метода\n",
    "print('\"Дерево решений\"')\n",
    "print('Исходное значение',accuracy_score(target_valid,dtc_predictions))\n",
    "print('Увеличенная выборка',accuracy_score(target_valid,dtc_predictions_best_up))\n",
    "print()\n",
    "\n",
    "print('\"Случайный лес\"')\n",
    "print('Исходное значение',accuracy_score(target_valid,rfc_predictions))\n",
    "print('Увеличенная выборка',accuracy_score(target_valid,rfc_predictions_best_up))\n",
    "\n",
    "print()\n",
    "print('\"Логистическая регрессия\"')\n",
    "print('Исходное значение',accuracy_score(target_valid,log_predictions))\n",
    "print('Увеличенная выборка',accuracy_score(target_valid,log_predictions_up))"
   ]
  },
  {
   "cell_type": "code",
   "execution_count": 54,
   "id": "28a617a5",
   "metadata": {},
   "outputs": [
    {
     "name": "stdout",
     "output_type": "stream",
     "text": [
      "Показатели модели \"Дерево решений\" \n",
      "\n",
      "Полнота, recall 0.6698564593301436\n",
      "Точность, precision 0.5374280230326296\n",
      "Мера f1 0.5963791267305644\n",
      "auc-roc 0.7587588238496482\n",
      "\n",
      "-----------\n",
      "\n",
      "Показатели модели \"Случайный лес\" \n",
      "\n",
      "Полнота, recall 0.7081339712918661\n",
      "Точность, precision 0.5659655831739961\n",
      "Мера f1 0.6291179596174282\n",
      "auc-roc 0.7823223585915715\n",
      "\n",
      "-----------\n",
      "\n",
      "Показатели модели \"Логистическая регрессия\"\n",
      "\n",
      "Полнота, recall 0.6818181818181818\n",
      "Точность, precision 0.3810160427807487\n",
      "Мера f1 0.4888507718696398\n",
      "auc-roc 0.6945753361682564\n"
     ]
    }
   ],
   "source": [
    "#посмотрим на остальные метрики\n",
    "\n",
    "metric_for_models(target_valid, dtc_predictions_best_up,'\"Дерево решений\" ')\n",
    "print()\n",
    "print('-----------')\n",
    "print()\n",
    "metric_for_models(target_valid, rfc_predictions_best_up,'\"Случайный лес\" ')\n",
    "print()\n",
    "print('-----------')\n",
    "print()\n",
    "metric_for_models(target_valid, log_predictions_up,'\"Логистическая регрессия\"')"
   ]
  },
  {
   "cell_type": "code",
   "execution_count": 55,
   "id": "d2d4e5f8",
   "metadata": {},
   "outputs": [
    {
     "data": {
      "image/png": "[encoded data removed]",
      "text/plain": [
       "<Figure size 432x288 with 1 Axes>"
      ]
     },
     "metadata": {},
     "output_type": "display_data"
    },
    {
     "data": {
      "image/png": "[encoded data removed]",
      "text/plain": [
       "<Figure size 432x288 with 1 Axes>"
      ]
     },
     "metadata": {},
     "output_type": "display_data"
    },
    {
     "data": {
      "image/png": "[encoded data removed]",
      "text/plain": [
       "<Figure size 432x288 with 1 Axes>"
      ]
     },
     "metadata": {},
     "output_type": "display_data"
    }
   ],
   "source": [
    "#построим roc-кривые для моделей\n",
    "dtc_probabilities_up = best_dtc_up.predict_proba(features_valid)[:, 1]\n",
    "rfc_probabilities_up = best_rfc_up.predict_proba(features_valid)[:, 1]\n",
    "log_probabilities_up = log_model_up.predict_proba(features_valid)[:, 1]\n",
    "\n",
    "roc_curve_drawing(target_valid, dtc_probabilities,'Decision Tree')\n",
    "roc_curve_drawing(target_valid, rfc_probabilities,'Random Forest')\n",
    "roc_curve_drawing(target_valid, log_probabilities,'Logistic Regression' )"
   ]
  },
  {
   "cell_type": "markdown",
   "id": "5a6d03fd",
   "metadata": {},
   "source": [
    "<b>Вывод:</b> \n",
    "- удалось ликвидировать дисбаланс данных, за счет увеличения значений позитивного класса в 4 раза;\n",
    "- в целом почти все метрики моделей подросли по сравнению с несбалансированной;\n",
    "- после применения метода удалось добиться достижения целевого показателя по метрике на модели Random Forest: f1 ≈ 0.61\n",
    "- значение auc-roc у Random Forest выросло, незначительно снизилась accuracy;\n",
    "Попробуем еще немного улучшить модель Random Forest"
   ]
  },
  {
   "cell_type": "markdown",
   "id": "bb793d0d",
   "metadata": {},
   "source": [
    "## Тестирование модели"
   ]
  },
  {
   "cell_type": "code",
   "execution_count": 56,
   "id": "fe374950",
   "metadata": {},
   "outputs": [
    {
     "name": "stdout",
     "output_type": "stream",
     "text": [
      "Значение accuracy на тестовой выборке равно 0.8105\n"
     ]
    }
   ],
   "source": [
    "#тестирование модели\n",
    "predictions_test = best_rfc_up.predict(features_test)\n",
    "\n",
    "print('Значение accuracy на тестовой выборке равно {}'.format(accuracy_score(target_test, predictions_test)))"
   ]
  },
  {
   "cell_type": "code",
   "execution_count": 57,
   "id": "6c2cae95",
   "metadata": {},
   "outputs": [
    {
     "name": "stdout",
     "output_type": "stream",
     "text": [
      "Показатели модели \"Random Forest, тестовая выборка\"\n",
      "\n",
      "Полнота, recall 0.6903073286052009\n",
      "Точность, precision 0.5407407407407407\n",
      "Мера f1 0.6064382139148494\n",
      "auc-roc 0.7665233535860502\n"
     ]
    }
   ],
   "source": [
    "#основные метрики на тестовой\n",
    "metric_for_models(target_test, predictions_test,'\"Random Forest, тестовая выборка\"')"
   ]
  },
  {
   "cell_type": "markdown",
   "id": "54bbfb80",
   "metadata": {},
   "source": [
    "<b>ВЫВОД:</b>\n",
    "\n",
    "1. Были изучены исходные данные и проведена их подготовка для машинного обучения:\n",
    "- оценены и устранены пропуски в столбце Tenure (пропусков <10%, проведена замена на медианное значение);\n",
    "- удалены столбцы, не представляющие интереса для машинного обучения;\n",
    "- проведено кодирование по методу OHE категориальных данных;\n",
    "- проведено масштабирование числовых данных;\n",
    "- проведено разделение выборки на тренировочную/валидационную/тестовую по принципу 3:1:1(60%-20%-20%).\n",
    "2. Обучены три основные модели: Decision Tree, Random Forest и Logistic Regression на несбалансированных данных:\n",
    "- расчитаны основные метрики по моделям, установлено, что все три модели показали низкое значение по метрике f1 и auc-roc;\n",
    "- посроена roc-кривая для каждой из моделей на несбалансированной выборке;\n",
    "Выяснено, что наилучший результат на несбалансированных данных получен на модели Random Forest:\n",
    "- Полнота, recall 0.46172248803827753\n",
    "- Точность, precision 0.7689243027888446\n",
    "- Мера f1 0.5769805680119582\n",
    "- auc-roc 0.7125300177233107\n",
    "по confusion_matrix видно, что модель тяготеет к предсказанию нулевого класса.\n",
    "\n",
    "3. Проанализирован дисбалан данных и выбраны два метода его ликвидации:\n",
    "\n",
    "- Добавлением в модель параметра class_weight\n",
    "- Увеличением выборки upsampling\n",
    "    \n",
    "4. Добавление в модель параметра class_weight не принесли существенных изменений в метрики.\n",
    "\n",
    "5. При реализации метода upsampling удалось добиться выравнивания классов \n",
    "- \"0\"    0.501043\n",
    "- \"1\"    0.498957\n",
    "На сбалансированных данных метрики всех моделей улучшились, лучше всего себя показала Random Forest, на ней удалось получить:\n",
    "- Accuracy 0.85\n",
    "- Полнота 0.5502392344497608\n",
    "- Точность 0.6804733727810651\n",
    "- Мера f1 0.6084656084656085\n",
    "- auc-roc 0.7409856096395454\n",
    "\n",
    "Метрика f1 (0.61) > заданной целевой 0.59\n",
    "\n",
    "6. Произведено дальнейшее улучшение модели Random Forest при помощи GridSearchCV и получено увеличение метрик f1 и auc_roc:\n",
    "\n",
    "- Полнота, recall 0.6794258373205742\n",
    "- Точность, precision 0.5748987854251012\n",
    "- <b>Мера f1 0.6228070175438596</b>\n",
    "- <b>auc-roc 0.773341237244358</b>\n",
    "\n",
    "7. Произведена проверка на тестовой выборке и получены следующие метрики:\n",
    "- Полнота, recall 0.6690307328605201\n",
    "- Точность, precision 0.555992141453831\n",
    "- <b>Мера f1 0.6072961373390556</b>\n",
    "- <b>auc-roc 0.7628603252127585</b>\n",
    "\n",
    "Итоговая метрика на тестовой выборке f1 (0.61) > заданной целевой 0.59\n",
    "\n",
    "8. Модель прошла проверку на адекватность, ее accuracy и auc_roc на тестовой выборке выше, чем у констатной модели.\n",
    "- accuracy_score константой модели: 0.796\n",
    "- accuracy_score финальной модели: 0.817\n",
    "\n",
    "- auc-roc константой модели: 0.5\n",
    "- auc-roc финальной модели: 0.763\n",
    "\n",
    "\n"
   ]
  },
  {
   "cell_type": "markdown",
   "id": "4e40dc61",
   "metadata": {},
   "source": [
    "## Чек-лист готовности проекта"
   ]
  },
  {
   "cell_type": "markdown",
   "id": "5b6a5f99",
   "metadata": {},
   "source": [
    "Поставьте 'x' в выполненных пунктах. Далее нажмите Shift+Enter."
   ]
  },
  {
   "cell_type": "markdown",
   "id": "97a8b85f",
   "metadata": {},
   "source": [
    "- [x]  Jupyter Notebook открыт\n",
    "- [ ]  Весь код выполняется без ошибок\n",
    "- [ ]  Ячейки с кодом расположены в порядке исполнения\n",
    "- [ ]  Выполнен шаг 1: данные подготовлены\n",
    "- [ ]  Выполнен шаг 2: задача исследована\n",
    "    - [ ]  Исследован баланс классов\n",
    "    - [ ]  Изучены модели без учёта дисбаланса\n",
    "    - [ ]  Написаны выводы по результатам исследования\n",
    "- [ ]  Выполнен шаг 3: учтён дисбаланс\n",
    "    - [ ]  Применено несколько способов борьбы с дисбалансом\n",
    "    - [ ]  Написаны выводы по результатам исследования\n",
    "- [ ]  Выполнен шаг 4: проведено тестирование\n",
    "- [ ]  Удалось достичь *F1*-меры не менее 0.59\n",
    "- [ ]  Исследована метрика *AUC-ROC*"
   ]
  },
  {
   "cell_type": "code",
   "execution_count": null,
   "id": "8eceabf6",
   "metadata": {},
   "outputs": [],
   "source": []
  },
  {
   "cell_type": "code",
   "execution_count": null,
   "id": "420ded53",
   "metadata": {},
   "outputs": [],
   "source": []
  }
 ],
 "metadata": {
  "kernelspec": {
   "display_name": "Python 3 (ipykernel)",
   "language": "python",
   "name": "python3"
  },
  "language_info": {
   "codemirror_mode": {
    "name": "ipython",
    "version": 3
   },
   "file_extension": ".py",
   "mimetype": "text/x-python",
   "name": "python",
   "nbconvert_exporter": "python",
   "pygments_lexer": "ipython3",
   "version": "3.8.11"
  }
 },
 "nbformat": 4,
 "nbformat_minor": 5
}
