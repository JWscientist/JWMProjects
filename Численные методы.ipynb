{
 "cells": [
  {
   "cell_type": "markdown",
   "id": "548c090f",
   "metadata": {},
   "source": [
    "<b>Признаки</b>\n",
    "\n",
    "   - DateCrawled — дата скачивания анкеты из базы\n",
    "   - VehicleType — тип автомобильного кузова\n",
    "   - RegistrationYear — год регистрации автомобиля\n",
    "   - Gearbox — тип коробки передач\n",
    "   - Power — мощность (л. с.)\n",
    "   - Model — модель автомобиля\n",
    "   - Kilometer — пробег (км)\n",
    "   - RegistrationMonth — месяц регистрации автомобиля\n",
    "   - FuelType — тип топлива\n",
    "   - Brand — марка автомобиля\n",
    "   - NotRepaired — была машина в ремонте или нет\n",
    "   - DateCreated — дата создания анкеты\n",
    "   - NumberOfPictures — количество фотографий автомобиля\n",
    "   - PostalCode — почтовый индекс владельца анкеты (пользователя)\n",
    "   - LastSeen — дата последней активности пользователя\n",
    "\n",
    "<b>Целевой признак</b>\n",
    "\n",
    "- Price — цена (евро)"
   ]
  },
  {
   "cell_type": "code",
   "execution_count": 1,
   "id": "f18106d2",
   "metadata": {},
   "outputs": [],
   "source": [
    "import pandas as pd\n",
    "import numpy as np\n",
    "from catboost import CatBoostRegressor, Pool\n",
    "from sklearn.model_selection import train_test_split\n",
    "from sklearn.metrics import mean_squared_error\n",
    "from sklearn.metrics import make_scorer\n",
    "from sklearn.ensemble import RandomForestRegressor\n",
    "from sklearn.model_selection import GridSearchCV\n",
    "from sklearn.model_selection import RandomizedSearchCV\n",
    "from lightgbm import LGBMRegressor\n",
    "import matplotlib.pyplot as plt\n",
    "import seaborn as sns\n",
    "\n",
    "import warnings\n",
    "warnings.filterwarnings(\"ignore\")"
   ]
  },
  {
   "cell_type": "code",
   "execution_count": 2,
   "id": "7eece7da",
   "metadata": {},
   "outputs": [
    {
     "data": {
      "text/html": [
       "<div>\n",
       "<style scoped>\n",
       "    .dataframe tbody tr th:only-of-type {\n",
       "        vertical-align: middle;\n",
       "    }\n",
       "\n",
       "    .dataframe tbody tr th {\n",
       "        vertical-align: top;\n",
       "    }\n",
       "\n",
       "    .dataframe thead th {\n",
       "        text-align: right;\n",
       "    }\n",
       "</style>\n",
       "<table border=\"1\" class=\"dataframe\">\n",
       "  <thead>\n",
       "    <tr style=\"text-align: right;\">\n",
       "      <th></th>\n",
       "      <th>DateCrawled</th>\n",
       "      <th>Price</th>\n",
       "      <th>VehicleType</th>\n",
       "      <th>RegistrationYear</th>\n",
       "      <th>Gearbox</th>\n",
       "      <th>Power</th>\n",
       "      <th>Model</th>\n",
       "      <th>Kilometer</th>\n",
       "      <th>RegistrationMonth</th>\n",
       "      <th>FuelType</th>\n",
       "      <th>Brand</th>\n",
       "      <th>NotRepaired</th>\n",
       "      <th>DateCreated</th>\n",
       "      <th>NumberOfPictures</th>\n",
       "      <th>PostalCode</th>\n",
       "      <th>LastSeen</th>\n",
       "    </tr>\n",
       "  </thead>\n",
       "  <tbody>\n",
       "    <tr>\n",
       "      <th>0</th>\n",
       "      <td>2016-03-24 11:52:17</td>\n",
       "      <td>480</td>\n",
       "      <td>NaN</td>\n",
       "      <td>1993</td>\n",
       "      <td>manual</td>\n",
       "      <td>0</td>\n",
       "      <td>golf</td>\n",
       "      <td>150000</td>\n",
       "      <td>0</td>\n",
       "      <td>petrol</td>\n",
       "      <td>volkswagen</td>\n",
       "      <td>NaN</td>\n",
       "      <td>2016-03-24 00:00:00</td>\n",
       "      <td>0</td>\n",
       "      <td>70435</td>\n",
       "      <td>2016-04-07 03:16:57</td>\n",
       "    </tr>\n",
       "    <tr>\n",
       "      <th>1</th>\n",
       "      <td>2016-03-24 10:58:45</td>\n",
       "      <td>18300</td>\n",
       "      <td>coupe</td>\n",
       "      <td>2011</td>\n",
       "      <td>manual</td>\n",
       "      <td>190</td>\n",
       "      <td>NaN</td>\n",
       "      <td>125000</td>\n",
       "      <td>5</td>\n",
       "      <td>gasoline</td>\n",
       "      <td>audi</td>\n",
       "      <td>yes</td>\n",
       "      <td>2016-03-24 00:00:00</td>\n",
       "      <td>0</td>\n",
       "      <td>66954</td>\n",
       "      <td>2016-04-07 01:46:50</td>\n",
       "    </tr>\n",
       "    <tr>\n",
       "      <th>2</th>\n",
       "      <td>2016-03-14 12:52:21</td>\n",
       "      <td>9800</td>\n",
       "      <td>suv</td>\n",
       "      <td>2004</td>\n",
       "      <td>auto</td>\n",
       "      <td>163</td>\n",
       "      <td>grand</td>\n",
       "      <td>125000</td>\n",
       "      <td>8</td>\n",
       "      <td>gasoline</td>\n",
       "      <td>jeep</td>\n",
       "      <td>NaN</td>\n",
       "      <td>2016-03-14 00:00:00</td>\n",
       "      <td>0</td>\n",
       "      <td>90480</td>\n",
       "      <td>2016-04-05 12:47:46</td>\n",
       "    </tr>\n",
       "    <tr>\n",
       "      <th>3</th>\n",
       "      <td>2016-03-17 16:54:04</td>\n",
       "      <td>1500</td>\n",
       "      <td>small</td>\n",
       "      <td>2001</td>\n",
       "      <td>manual</td>\n",
       "      <td>75</td>\n",
       "      <td>golf</td>\n",
       "      <td>150000</td>\n",
       "      <td>6</td>\n",
       "      <td>petrol</td>\n",
       "      <td>volkswagen</td>\n",
       "      <td>no</td>\n",
       "      <td>2016-03-17 00:00:00</td>\n",
       "      <td>0</td>\n",
       "      <td>91074</td>\n",
       "      <td>2016-03-17 17:40:17</td>\n",
       "    </tr>\n",
       "    <tr>\n",
       "      <th>4</th>\n",
       "      <td>2016-03-31 17:25:20</td>\n",
       "      <td>3600</td>\n",
       "      <td>small</td>\n",
       "      <td>2008</td>\n",
       "      <td>manual</td>\n",
       "      <td>69</td>\n",
       "      <td>fabia</td>\n",
       "      <td>90000</td>\n",
       "      <td>7</td>\n",
       "      <td>gasoline</td>\n",
       "      <td>skoda</td>\n",
       "      <td>no</td>\n",
       "      <td>2016-03-31 00:00:00</td>\n",
       "      <td>0</td>\n",
       "      <td>60437</td>\n",
       "      <td>2016-04-06 10:17:21</td>\n",
       "    </tr>\n",
       "  </tbody>\n",
       "</table>\n",
       "</div>"
      ],
      "text/plain": [
       "           DateCrawled  Price VehicleType  RegistrationYear Gearbox  Power  \\\n",
       "0  2016-03-24 11:52:17    480         NaN              1993  manual      0   \n",
       "1  2016-03-24 10:58:45  18300       coupe              2011  manual    190   \n",
       "2  2016-03-14 12:52:21   9800         suv              2004    auto    163   \n",
       "3  2016-03-17 16:54:04   1500       small              2001  manual     75   \n",
       "4  2016-03-31 17:25:20   3600       small              2008  manual     69   \n",
       "\n",
       "   Model  Kilometer  RegistrationMonth  FuelType       Brand NotRepaired  \\\n",
       "0   golf     150000                  0    petrol  volkswagen         NaN   \n",
       "1    NaN     125000                  5  gasoline        audi         yes   \n",
       "2  grand     125000                  8  gasoline        jeep         NaN   \n",
       "3   golf     150000                  6    petrol  volkswagen          no   \n",
       "4  fabia      90000                  7  gasoline       skoda          no   \n",
       "\n",
       "           DateCreated  NumberOfPictures  PostalCode             LastSeen  \n",
       "0  2016-03-24 00:00:00                 0       70435  2016-04-07 03:16:57  \n",
       "1  2016-03-24 00:00:00                 0       66954  2016-04-07 01:46:50  \n",
       "2  2016-03-14 00:00:00                 0       90480  2016-04-05 12:47:46  \n",
       "3  2016-03-17 00:00:00                 0       91074  2016-03-17 17:40:17  \n",
       "4  2016-03-31 00:00:00                 0       60437  2016-04-06 10:17:21  "
      ]
     },
     "execution_count": 2,
     "metadata": {},
     "output_type": "execute_result"
    }
   ],
   "source": [
    "try:\n",
    "    data_auto=pd.read_csv('desktop/datasets/autos.csv')\n",
    "except:\n",
    "    data_auto=pd.read_csv('/datasets/autos.csv')\n",
    "\n",
    "data_auto.head()  \n"
   ]
  },
  {
   "cell_type": "code",
   "execution_count": 3,
   "id": "73a04467",
   "metadata": {},
   "outputs": [
    {
     "name": "stdout",
     "output_type": "stream",
     "text": [
      "<class 'pandas.core.frame.DataFrame'>\n",
      "RangeIndex: 354369 entries, 0 to 354368\n",
      "Data columns (total 16 columns):\n",
      " #   Column             Non-Null Count   Dtype \n",
      "---  ------             --------------   ----- \n",
      " 0   DateCrawled        354369 non-null  object\n",
      " 1   Price              354369 non-null  int64 \n",
      " 2   VehicleType        316879 non-null  object\n",
      " 3   RegistrationYear   354369 non-null  int64 \n",
      " 4   Gearbox            334536 non-null  object\n",
      " 5   Power              354369 non-null  int64 \n",
      " 6   Model              334664 non-null  object\n",
      " 7   Kilometer          354369 non-null  int64 \n",
      " 8   RegistrationMonth  354369 non-null  int64 \n",
      " 9   FuelType           321474 non-null  object\n",
      " 10  Brand              354369 non-null  object\n",
      " 11  NotRepaired        283215 non-null  object\n",
      " 12  DateCreated        354369 non-null  object\n",
      " 13  NumberOfPictures   354369 non-null  int64 \n",
      " 14  PostalCode         354369 non-null  int64 \n",
      " 15  LastSeen           354369 non-null  object\n",
      "dtypes: int64(7), object(9)\n",
      "memory usage: 43.3+ MB\n"
     ]
    }
   ],
   "source": [
    "#просмотрим общую информацию о датасете\n",
    "data_auto.info()"
   ]
  },
  {
   "cell_type": "markdown",
   "id": "fc3bf688",
   "metadata": {},
   "source": [
    "Есть пропуски, нужно посмотреть в каком процентном соотношении"
   ]
  },
  {
   "cell_type": "code",
   "execution_count": 4,
   "id": "8bc18bf0",
   "metadata": {},
   "outputs": [
    {
     "data": {
      "text/html": [
       "<style type=\"text/css\">\n",
       "#T_9dfbc_row0_col0, #T_9dfbc_row1_col0, #T_9dfbc_row3_col0, #T_9dfbc_row5_col0, #T_9dfbc_row7_col0, #T_9dfbc_row8_col0, #T_9dfbc_row10_col0, #T_9dfbc_row12_col0, #T_9dfbc_row13_col0, #T_9dfbc_row14_col0, #T_9dfbc_row15_col0 {\n",
       "  background-color: #f7fcf5;\n",
       "  color: #000000;\n",
       "}\n",
       "#T_9dfbc_row2_col0 {\n",
       "  background-color: #6abf71;\n",
       "  color: #000000;\n",
       "}\n",
       "#T_9dfbc_row4_col0 {\n",
       "  background-color: #bee5b8;\n",
       "  color: #000000;\n",
       "}\n",
       "#T_9dfbc_row6_col0 {\n",
       "  background-color: #c0e6b9;\n",
       "  color: #000000;\n",
       "}\n",
       "#T_9dfbc_row9_col0 {\n",
       "  background-color: #81ca81;\n",
       "  color: #000000;\n",
       "}\n",
       "#T_9dfbc_row11_col0 {\n",
       "  background-color: #00441b;\n",
       "  color: #f1f1f1;\n",
       "}\n",
       "</style>\n",
       "<table id=\"T_9dfbc_\">\n",
       "  <thead>\n",
       "    <tr>\n",
       "      <th class=\"blank level0\" >&nbsp;</th>\n",
       "      <th class=\"col_heading level0 col0\" >0</th>\n",
       "    </tr>\n",
       "  </thead>\n",
       "  <tbody>\n",
       "    <tr>\n",
       "      <th id=\"T_9dfbc_level0_row0\" class=\"row_heading level0 row0\" >DateCrawled</th>\n",
       "      <td id=\"T_9dfbc_row0_col0\" class=\"data row0 col0\" >0.000000</td>\n",
       "    </tr>\n",
       "    <tr>\n",
       "      <th id=\"T_9dfbc_level0_row1\" class=\"row_heading level0 row1\" >Price</th>\n",
       "      <td id=\"T_9dfbc_row1_col0\" class=\"data row1 col0\" >0.000000</td>\n",
       "    </tr>\n",
       "    <tr>\n",
       "      <th id=\"T_9dfbc_level0_row2\" class=\"row_heading level0 row2\" >VehicleType</th>\n",
       "      <td id=\"T_9dfbc_row2_col0\" class=\"data row2 col0\" >10.580000</td>\n",
       "    </tr>\n",
       "    <tr>\n",
       "      <th id=\"T_9dfbc_level0_row3\" class=\"row_heading level0 row3\" >RegistrationYear</th>\n",
       "      <td id=\"T_9dfbc_row3_col0\" class=\"data row3 col0\" >0.000000</td>\n",
       "    </tr>\n",
       "    <tr>\n",
       "      <th id=\"T_9dfbc_level0_row4\" class=\"row_heading level0 row4\" >Gearbox</th>\n",
       "      <td id=\"T_9dfbc_row4_col0\" class=\"data row4 col0\" >5.600000</td>\n",
       "    </tr>\n",
       "    <tr>\n",
       "      <th id=\"T_9dfbc_level0_row5\" class=\"row_heading level0 row5\" >Power</th>\n",
       "      <td id=\"T_9dfbc_row5_col0\" class=\"data row5 col0\" >0.000000</td>\n",
       "    </tr>\n",
       "    <tr>\n",
       "      <th id=\"T_9dfbc_level0_row6\" class=\"row_heading level0 row6\" >Model</th>\n",
       "      <td id=\"T_9dfbc_row6_col0\" class=\"data row6 col0\" >5.560000</td>\n",
       "    </tr>\n",
       "    <tr>\n",
       "      <th id=\"T_9dfbc_level0_row7\" class=\"row_heading level0 row7\" >Kilometer</th>\n",
       "      <td id=\"T_9dfbc_row7_col0\" class=\"data row7 col0\" >0.000000</td>\n",
       "    </tr>\n",
       "    <tr>\n",
       "      <th id=\"T_9dfbc_level0_row8\" class=\"row_heading level0 row8\" >RegistrationMonth</th>\n",
       "      <td id=\"T_9dfbc_row8_col0\" class=\"data row8 col0\" >0.000000</td>\n",
       "    </tr>\n",
       "    <tr>\n",
       "      <th id=\"T_9dfbc_level0_row9\" class=\"row_heading level0 row9\" >FuelType</th>\n",
       "      <td id=\"T_9dfbc_row9_col0\" class=\"data row9 col0\" >9.280000</td>\n",
       "    </tr>\n",
       "    <tr>\n",
       "      <th id=\"T_9dfbc_level0_row10\" class=\"row_heading level0 row10\" >Brand</th>\n",
       "      <td id=\"T_9dfbc_row10_col0\" class=\"data row10 col0\" >0.000000</td>\n",
       "    </tr>\n",
       "    <tr>\n",
       "      <th id=\"T_9dfbc_level0_row11\" class=\"row_heading level0 row11\" >NotRepaired</th>\n",
       "      <td id=\"T_9dfbc_row11_col0\" class=\"data row11 col0\" >20.080000</td>\n",
       "    </tr>\n",
       "    <tr>\n",
       "      <th id=\"T_9dfbc_level0_row12\" class=\"row_heading level0 row12\" >DateCreated</th>\n",
       "      <td id=\"T_9dfbc_row12_col0\" class=\"data row12 col0\" >0.000000</td>\n",
       "    </tr>\n",
       "    <tr>\n",
       "      <th id=\"T_9dfbc_level0_row13\" class=\"row_heading level0 row13\" >NumberOfPictures</th>\n",
       "      <td id=\"T_9dfbc_row13_col0\" class=\"data row13 col0\" >0.000000</td>\n",
       "    </tr>\n",
       "    <tr>\n",
       "      <th id=\"T_9dfbc_level0_row14\" class=\"row_heading level0 row14\" >PostalCode</th>\n",
       "      <td id=\"T_9dfbc_row14_col0\" class=\"data row14 col0\" >0.000000</td>\n",
       "    </tr>\n",
       "    <tr>\n",
       "      <th id=\"T_9dfbc_level0_row15\" class=\"row_heading level0 row15\" >LastSeen</th>\n",
       "      <td id=\"T_9dfbc_row15_col0\" class=\"data row15 col0\" >0.000000</td>\n",
       "    </tr>\n",
       "  </tbody>\n",
       "</table>\n"
      ],
      "text/plain": [
       "<pandas.io.formats.style.Styler at 0x102d91af0>"
      ]
     },
     "execution_count": 4,
     "metadata": {},
     "output_type": "execute_result"
    }
   ],
   "source": [
    "#оценим в каком процентном соотношении присутствуют пропуски в датасете\n",
    "pd.DataFrame(round((data_auto.isna().mean()*100),2)).style.background_gradient('Greens') "
   ]
  },
  {
   "cell_type": "markdown",
   "id": "f45ebd5a",
   "metadata": {},
   "source": [
    "В целом пропусков не более 10% в VehicleType, Gearbox, Model. В столбце NotRepairedБольше всего пропусков пропущенных значение - 20%. Нужно изучить данные, чтобы понять какую стратегию заполнения пропусков (где можно) следует выбрать."
   ]
  },
  {
   "cell_type": "code",
   "execution_count": 5,
   "id": "f72d810d",
   "metadata": {
    "scrolled": true
   },
   "outputs": [
    {
     "name": "stdout",
     "output_type": "stream",
     "text": [
      "Уникальные значения по столбцу DateCrawled\n",
      "\n",
      "['2016-03-24 11:52:17' '2016-03-24 10:58:45' '2016-03-14 12:52:21' ...\n",
      " '2016-03-21 09:50:58' '2016-03-14 17:48:27' '2016-03-19 18:57:12']\n",
      "\n",
      "Уникальные значения по столбцу Price\n",
      "\n",
      "[  480 18300  9800 ... 12395 18429 10985]\n",
      "\n",
      "Уникальные значения по столбцу VehicleType\n",
      "\n",
      "[nan 'coupe' 'suv' 'small' 'sedan' 'convertible' 'bus' 'wagon' 'other']\n",
      "\n",
      "Уникальные значения по столбцу RegistrationYear\n",
      "\n",
      "[1993 2011 2004 2001 2008 1995 1980 2014 1998 2005 1910 2016 2007 2009\n",
      " 2002 2018 1997 1990 2017 1981 2003 1994 1991 1984 2006 1999 2012 2010\n",
      " 2000 1992 2013 1996 1985 1989 2015 1982 1976 1983 1973 1111 1969 1971\n",
      " 1987 1986 1988 1970 1965 1945 1925 1974 1979 1955 1978 1972 1968 1977\n",
      " 1961 1960 1966 1975 1963 1964 5000 1954 1958 1967 1959 9999 1956 3200\n",
      " 1000 1941 8888 1500 2200 4100 1962 1929 1957 1940 3000 2066 1949 2019\n",
      " 1937 1951 1800 1953 1234 8000 5300 9000 2900 6000 5900 5911 1933 1400\n",
      " 1950 4000 1948 1952 1200 8500 1932 1255 3700 3800 4800 1942 7000 1935\n",
      " 1936 6500 1923 2290 2500 1930 1001 9450 1944 1943 1934 1938 1688 2800\n",
      " 1253 1928 1919 5555 5600 1600 2222 1039 9996 1300 8455 1931 1915 4500\n",
      " 1920 1602 7800 9229 1947 1927 7100 8200 1946 7500 3500]\n",
      "\n",
      "Уникальные значения по столбцу Gearbox\n",
      "\n",
      "['manual' 'auto' nan]\n",
      "\n",
      "Уникальные значения по столбцу Power\n",
      "\n",
      "[    0   190   163    75    69   102   109    50   125   101   105   140\n",
      "   115   131    60   136   160   231    90   118   193    99   113   218\n",
      "   122   129    70   306    95    61   177    80   170    55   143    64\n",
      "   286   232   150   156    82   155    54   185    87   180    86    84\n",
      "   224   235   200   178   265    77   110   144   120   116   184   126\n",
      "   204    88   194   305   197   179   250    45   313    41   165    98\n",
      "   130   114   211    56   201   213    58   107    83   174   100   220\n",
      "    85    73   192    68    66   299    74    52   147    65   310    71\n",
      "    97   239   203     5   300   103   258   320    63    81   148    44\n",
      "   145   230   280   260   104   188   333   186   117   141    59   132\n",
      "   234   158    39    92    51   135    53   209    43   146    67   106\n",
      "   166   276   344    72   249   237   245   111   326   279    23   138\n",
      "   175    96   226    26    37   301   334   128   133   124    33   219\n",
      "   241   167    94   182   196   238  1398   228   112    48   272   139\n",
      "  1799    40   240    79   256   360   243   375   252   396   340   108\n",
      "   121   345   187   289   222   198   284   450   233   387   152   347\n",
      "   172    57   137   212   476   314    30     7    47   173   290   207\n",
      "   205   171   750    78    91    89   349   325    76   151   350   953\n",
      "    93   142   500   343   199   119   164    16   264   367   208   210\n",
      "    46   435  1001   225   127   176   161   603   307   354    35   206\n",
      "   771   355   273   223   255   123   154   149  7515  1400   268   620\n",
      "   169   400   275    34     2   242  1779   285   162   328  1753   329\n",
      "   134   420   247   168 10317   215    18   330   283    62    10   214\n",
      "   183   254    15   321   322   315   952   600   181   426   599   379\n",
      "   999    22   157    42   195   553     4   309   507   381   271   440\n",
      "   189   401  1111  2729    21   236  1240  1704   521     1  1900   270\n",
      "    24   159   292   808   515  1200   303    29    38  1993    14   216\n",
      "   610   504    49   267   331   363   261   385  1011   253   696 10520\n",
      "   376   227   311    27   217    20  1999    11  1056    25   394    12\n",
      "   298   296  1659   294   551  6920   246    17  1800  1625   368   390\n",
      "   221  1367   259   606   327  2017  1597   266   374   392     9   405\n",
      "    13   262   601   430   295     8   411   900   541  7512   382 10218\n",
      "  7544  1102   287    19   751   297  1090   457   282   602   388     6\n",
      "  1000  5411   335  1360   202  3750   805  1062  1024 11530   364  1796\n",
      "  5000   269   460  1002   288  1780 12012 17932   316  2005  1399   191\n",
      "   278  1300   380   257   449  1256   153  1653   520   560   281 12510\n",
      "     3  1500   386    32  1202  2016  1436  1405   671   274  1288  1055\n",
      " 10912 15016  6226  1115   277  1105   341  1223  2340  8404  1968   338\n",
      "   445  1920   370   517  4400 10710 10522  9010   431  1164 11509   371\n",
      "  1501   428 11635    36   304   348  1703  1910  1995   579 10000   580\n",
      "   408    31  1005   358  1403   489  5575 19211   585   960   365   353\n",
      "   490   352  1801   346   550  3199   800  7508  1312   357  1937   950\n",
      "  4700  1600  3454 19208   251   850   337   700  8011  2331  2789   487\n",
      "   519  2461  6006  3500  5815  6018  1781  1503   612  1596   229  1506\n",
      "  5809 15020  5867  2172  1598 17410  1363   584  1054   851  1339   318\n",
      "   510   525  1700    28  1151   685  6011   317   703  1771 15001   514\n",
      "   362   332   324  6045   530   425   308  6010   475   903   640  2000\n",
      "   248   651  2799 17011   505  1103  1521   351 16051   398  9000  1998\n",
      " 10311   409  1230 17019 12684  8259  1895   901  1317   871   909  2201\n",
      "  1595   776 17700 11011  1199   459  1162  1120 15033  1896   339   361\n",
      "   574  6512   454   650 13616   604   607 16312  1082   336 20000   416\n",
      "   678  6012  1401  1021  1870 13636  1250  9710   323  1158  2009   902\n",
      "  6062  1275   572   244   399  1016   743  1221  2402 16011  1362   544\n",
      "   645   907   702 12512  1986  1003  1432  9013  9011   442  1017  1394\n",
      " 15017 10910  1992   540  2018 11025  1433  1701  2792  1502  1239  1390\n",
      " 14009  1160  1351 11111  1783  9007   923  1149   754  1988   402  2004\n",
      "  5420  1793  1324   356  7511  1299   293 19312  1079  1689   998  1100\n",
      "  9012  1933   508 16311   682  1252  1922  7529   732  2389  2200  1707\n",
      "  1416  8500  1012   485  3000 10110   421  4507  1631  7518   377  1004\n",
      "  2007  2598  1548  1241]\n",
      "\n",
      "Уникальные значения по столбцу Model\n",
      "\n",
      "['golf' nan 'grand' 'fabia' '3er' '2_reihe' 'other' 'c_max' '3_reihe'\n",
      " 'passat' 'navara' 'ka' 'polo' 'twingo' 'a_klasse' 'scirocco' '5er'\n",
      " 'meriva' 'arosa' 'c4' 'civic' 'transporter' 'punto' 'e_klasse' 'clio'\n",
      " 'kadett' 'kangoo' 'corsa' 'one' 'fortwo' '1er' 'b_klasse' 'signum'\n",
      " 'astra' 'a8' 'jetta' 'fiesta' 'c_klasse' 'micra' 'vito' 'sprinter' '156'\n",
      " 'escort' 'forester' 'xc_reihe' 'scenic' 'a4' 'a1' 'insignia' 'combo'\n",
      " 'focus' 'tt' 'a6' 'jazz' 'omega' 'slk' '7er' '80' '147' '100' 'z_reihe'\n",
      " 'sportage' 'sorento' 'v40' 'ibiza' 'mustang' 'eos' 'touran' 'getz' 'a3'\n",
      " 'almera' 'megane' 'lupo' 'r19' 'zafira' 'caddy' 'mondeo' 'cordoba' 'colt'\n",
      " 'impreza' 'vectra' 'berlingo' 'tiguan' 'i_reihe' 'espace' 'sharan'\n",
      " '6_reihe' 'panda' 'up' 'seicento' 'ceed' '5_reihe' 'yeti' 'octavia' 'mii'\n",
      " 'rx_reihe' '6er' 'modus' 'fox' 'matiz' 'beetle' 'c1' 'rio' 'touareg'\n",
      " 'logan' 'spider' 'cuore' 's_max' 'a2' 'galaxy' 'c3' 'viano' 's_klasse'\n",
      " '1_reihe' 'avensis' 'roomster' 'sl' 'kaefer' 'santa' 'cooper' 'leon'\n",
      " '4_reihe' 'a5' '500' 'laguna' 'ptcruiser' 'clk' 'primera' 'x_reihe'\n",
      " 'exeo' '159' 'transit' 'juke' 'qashqai' 'carisma' 'accord' 'corolla'\n",
      " 'lanos' 'phaeton' 'verso' 'swift' 'rav' 'picanto' 'boxster' 'kalos'\n",
      " 'superb' 'stilo' 'alhambra' 'mx_reihe' 'roadster' 'ypsilon' 'cayenne'\n",
      " 'galant' 'justy' '90' 'sirion' 'crossfire' 'agila' 'duster' 'cr_reihe'\n",
      " 'v50' 'c_reihe' 'v_klasse' 'm_klasse' 'yaris' 'c5' 'aygo' 'cc' 'carnival'\n",
      " 'fusion' '911' 'bora' 'forfour' 'm_reihe' 'cl' 'tigra' '300c' 'spark'\n",
      " 'v70' 'kuga' 'x_type' 'ducato' 's_type' 'x_trail' 'toledo' 'altea'\n",
      " 'voyager' 'calibra' 'bravo' 'antara' 'tucson' 'citigo' 'jimny' 'wrangler'\n",
      " 'lybra' 'q7' 'lancer' 'captiva' 'c2' 'discovery' 'freelander' 'sandero'\n",
      " 'note' '900' 'cherokee' 'clubman' 'samara' 'defender' '601' 'cx_reihe'\n",
      " 'legacy' 'pajero' 'auris' 'niva' 's60' 'nubira' 'vivaro' 'g_klasse'\n",
      " 'lodgy' '850' 'range_rover' 'q3' 'serie_2' 'glk' 'charade' 'croma'\n",
      " 'outlander' 'doblo' 'musa' 'move' '9000' 'v60' '145' 'aveo' '200' 'b_max'\n",
      " 'range_rover_sport' 'terios' 'rangerover' 'q5' 'range_rover_evoque'\n",
      " 'materia' 'delta' 'gl' 'kalina' 'amarok' 'elefantino' 'i3' 'kappa'\n",
      " 'serie_3' 'serie_1']\n",
      "\n",
      "Уникальные значения по столбцу Kilometer\n",
      "\n",
      "[150000 125000  90000  40000  30000  70000   5000 100000  60000  20000\n",
      "  80000  50000  10000]\n",
      "\n",
      "Уникальные значения по столбцу RegistrationMonth\n",
      "\n",
      "[ 0  5  8  6  7 10 12 11  2  3  1  4  9]\n",
      "\n",
      "Уникальные значения по столбцу FuelType\n",
      "\n",
      "['petrol' 'gasoline' nan 'lpg' 'other' 'hybrid' 'cng' 'electric']\n",
      "\n",
      "Уникальные значения по столбцу Brand\n",
      "\n",
      "['volkswagen' 'audi' 'jeep' 'skoda' 'bmw' 'peugeot' 'ford' 'mazda'\n",
      " 'nissan' 'renault' 'mercedes_benz' 'opel' 'seat' 'citroen' 'honda' 'fiat'\n",
      " 'mini' 'smart' 'hyundai' 'sonstige_autos' 'alfa_romeo' 'subaru' 'volvo'\n",
      " 'mitsubishi' 'kia' 'suzuki' 'lancia' 'toyota' 'chevrolet' 'dacia'\n",
      " 'daihatsu' 'trabant' 'saab' 'chrysler' 'jaguar' 'daewoo' 'porsche'\n",
      " 'rover' 'land_rover' 'lada']\n",
      "\n",
      "Уникальные значения по столбцу NotRepaired\n",
      "\n",
      "[nan 'yes' 'no']\n",
      "\n",
      "Уникальные значения по столбцу DateCreated\n",
      "\n"
     ]
    },
    {
     "name": "stdout",
     "output_type": "stream",
     "text": [
      "['2016-03-24 00:00:00' '2016-03-14 00:00:00' '2016-03-17 00:00:00'\n",
      " '2016-03-31 00:00:00' '2016-04-04 00:00:00' '2016-04-01 00:00:00'\n",
      " '2016-03-21 00:00:00' '2016-03-26 00:00:00' '2016-04-07 00:00:00'\n",
      " '2016-03-15 00:00:00' '2016-03-11 00:00:00' '2016-03-20 00:00:00'\n",
      " '2016-03-23 00:00:00' '2016-03-27 00:00:00' '2016-03-12 00:00:00'\n",
      " '2016-03-13 00:00:00' '2016-03-18 00:00:00' '2016-03-10 00:00:00'\n",
      " '2016-03-07 00:00:00' '2016-03-09 00:00:00' '2016-03-08 00:00:00'\n",
      " '2016-04-03 00:00:00' '2016-03-29 00:00:00' '2016-03-25 00:00:00'\n",
      " '2016-03-28 00:00:00' '2016-03-30 00:00:00' '2016-03-22 00:00:00'\n",
      " '2016-02-09 00:00:00' '2016-03-05 00:00:00' '2016-04-02 00:00:00'\n",
      " '2016-03-16 00:00:00' '2016-03-19 00:00:00' '2016-04-05 00:00:00'\n",
      " '2016-03-06 00:00:00' '2016-02-12 00:00:00' '2016-03-03 00:00:00'\n",
      " '2016-03-01 00:00:00' '2016-03-04 00:00:00' '2016-04-06 00:00:00'\n",
      " '2016-02-15 00:00:00' '2016-02-24 00:00:00' '2016-02-27 00:00:00'\n",
      " '2015-03-20 00:00:00' '2016-02-28 00:00:00' '2016-02-17 00:00:00'\n",
      " '2016-01-27 00:00:00' '2016-02-20 00:00:00' '2016-02-29 00:00:00'\n",
      " '2016-02-10 00:00:00' '2016-02-23 00:00:00' '2016-02-21 00:00:00'\n",
      " '2015-11-02 00:00:00' '2016-02-19 00:00:00' '2016-02-26 00:00:00'\n",
      " '2016-02-11 00:00:00' '2016-01-10 00:00:00' '2016-02-06 00:00:00'\n",
      " '2016-02-18 00:00:00' '2016-01-29 00:00:00' '2016-03-02 00:00:00'\n",
      " '2015-12-06 00:00:00' '2016-01-24 00:00:00' '2016-01-30 00:00:00'\n",
      " '2016-02-02 00:00:00' '2016-02-16 00:00:00' '2016-02-13 00:00:00'\n",
      " '2016-02-05 00:00:00' '2016-02-22 00:00:00' '2015-11-17 00:00:00'\n",
      " '2014-03-10 00:00:00' '2016-02-07 00:00:00' '2016-01-23 00:00:00'\n",
      " '2016-02-25 00:00:00' '2016-02-14 00:00:00' '2016-01-02 00:00:00'\n",
      " '2015-09-04 00:00:00' '2015-11-12 00:00:00' '2015-12-27 00:00:00'\n",
      " '2015-11-24 00:00:00' '2016-01-20 00:00:00' '2016-02-03 00:00:00'\n",
      " '2015-12-05 00:00:00' '2015-08-07 00:00:00' '2016-01-28 00:00:00'\n",
      " '2016-01-31 00:00:00' '2016-02-08 00:00:00' '2016-01-07 00:00:00'\n",
      " '2016-01-22 00:00:00' '2016-01-18 00:00:00' '2016-01-08 00:00:00'\n",
      " '2015-11-23 00:00:00' '2016-01-13 00:00:00' '2016-01-17 00:00:00'\n",
      " '2016-01-15 00:00:00' '2015-11-08 00:00:00' '2016-01-26 00:00:00'\n",
      " '2016-02-04 00:00:00' '2016-01-25 00:00:00' '2016-01-16 00:00:00'\n",
      " '2015-08-10 00:00:00' '2016-01-03 00:00:00' '2016-01-19 00:00:00'\n",
      " '2015-12-30 00:00:00' '2016-02-01 00:00:00' '2015-12-17 00:00:00'\n",
      " '2015-11-10 00:00:00' '2016-01-06 00:00:00' '2015-09-09 00:00:00'\n",
      " '2015-06-18 00:00:00']\n",
      "\n",
      "Уникальные значения по столбцу NumberOfPictures\n",
      "\n",
      "[0]\n",
      "\n",
      "Уникальные значения по столбцу PostalCode\n",
      "\n",
      "[70435 66954 90480 ... 38528 38325 31096]\n",
      "\n",
      "Уникальные значения по столбцу LastSeen\n",
      "\n",
      "['2016-04-07 03:16:57' '2016-04-07 01:46:50' '2016-04-05 12:47:46' ...\n",
      " '2016-03-19 20:44:43' '2016-03-29 10:17:23' '2016-03-21 10:42:49']\n",
      "\n"
     ]
    }
   ],
   "source": [
    "#посмотрим на уникальные значения по столбцам\n",
    "    \n",
    "for column in data_auto.columns:\n",
    "    print('Уникальные значения по столбцу {}'.format(column))\n",
    "    print()\n",
    "    print(data_auto[column].unique())\n",
    "    print()"
   ]
  },
  {
   "cell_type": "code",
   "execution_count": 6,
   "id": "a524bd1b",
   "metadata": {},
   "outputs": [
    {
     "data": {
      "image/png": "[encoded data removed]",
      "text/plain": [
       "<Figure size 864x648 with 1 Axes>"
      ]
     },
     "metadata": {},
     "output_type": "display_data"
    },
    {
     "data": {
      "text/plain": [
       "count    354369.000000\n",
       "mean       4416.656776\n",
       "std        4514.158514\n",
       "min           0.000000\n",
       "25%        1050.000000\n",
       "50%        2700.000000\n",
       "75%        6400.000000\n",
       "max       20000.000000\n",
       "Name: Price, dtype: float64"
      ]
     },
     "execution_count": 6,
     "metadata": {},
     "output_type": "execute_result"
    }
   ],
   "source": [
    "#посмотрим на распределение целевого признака\n",
    "sns.set_style('darkgrid')\n",
    "data_auto['Price'].hist(bins=70, figsize=(12,9),alpha=0.8)\n",
    "plt.title('Распределение целевого признака')\n",
    "plt.show()\n",
    "data_auto['Price'].describe()"
   ]
  },
  {
   "cell_type": "code",
   "execution_count": 7,
   "id": "ff87d2fd",
   "metadata": {},
   "outputs": [
    {
     "data": {
      "text/plain": [
       "(1340, 16)"
      ]
     },
     "execution_count": 7,
     "metadata": {},
     "output_type": "execute_result"
    }
   ],
   "source": [
    "#посмотрим сколько у нас машин с ценой меньше 10 евро\n",
    "price_data=data_auto.query('0<Price<=10')\n",
    "price_data.shape"
   ]
  },
  {
   "cell_type": "code",
   "execution_count": 8,
   "id": "0b89e4ab",
   "metadata": {},
   "outputs": [
    {
     "data": {
      "image/png": "[encoded data removed]",
      "text/plain": [
       "<Figure size 864x648 with 1 Axes>"
      ]
     },
     "metadata": {},
     "output_type": "display_data"
    },
    {
     "data": {
      "text/plain": [
       "count    354369.000000\n",
       "mean       2004.234448\n",
       "std          90.227958\n",
       "min        1000.000000\n",
       "25%        1999.000000\n",
       "50%        2003.000000\n",
       "75%        2008.000000\n",
       "max        9999.000000\n",
       "Name: RegistrationYear, dtype: float64"
      ]
     },
     "execution_count": 8,
     "metadata": {},
     "output_type": "execute_result"
    }
   ],
   "source": [
    "#посмотрим на распределение данных по графе \"год регистрации\" по адекватным годам\n",
    "data_auto.query('1960<RegistrationYear<=2021')['RegistrationYear'].hist(bins=50, figsize=(12,9), alpha=0.4, color='magenta')\n",
    "plt.title('Распределение по году регистрации укрупненно')\n",
    "plt.show()\n",
    "data_auto['RegistrationYear'].describe()"
   ]
  },
  {
   "cell_type": "code",
   "execution_count": 9,
   "id": "bfa05f49",
   "metadata": {
    "scrolled": true
   },
   "outputs": [
    {
     "data": {
      "image/png": "[encoded data removed]",
      "text/plain": [
       "<Figure size 432x288 with 1 Axes>"
      ]
     },
     "metadata": {},
     "output_type": "display_data"
    }
   ],
   "source": [
    "#посмотрим на распределение данных по графе \"год регистрации\"\n",
    "data_auto['Power'].describe()\n",
    "bins_list=[i for i in range(500,20000,500)]\n",
    "data_auto['Power'].hist(bins=bins_list,alpha=0.7)\n",
    "plt.title('Распределение мощности машин')\n",
    "plt.show()"
   ]
  },
  {
   "cell_type": "code",
   "execution_count": 10,
   "id": "1a276513",
   "metadata": {},
   "outputs": [
    {
     "data": {
      "text/html": [
       "<style type=\"text/css\">\n",
       "#T_67e54_row0_col0 {\n",
       "  background-color: #ffffff;\n",
       "  color: #000000;\n",
       "}\n",
       "#T_67e54_row1_col0 {\n",
       "  background-color: #001845;\n",
       "  color: #f1f1f1;\n",
       "}\n",
       "#T_67e54_row2_col0 {\n",
       "  background-color: #000e5e;\n",
       "  color: #f1f1f1;\n",
       "}\n",
       "#T_67e54_row3_col0 {\n",
       "  background-color: #008000;\n",
       "  color: #f1f1f1;\n",
       "}\n",
       "</style>\n",
       "<table id=\"T_67e54_\">\n",
       "  <thead>\n",
       "    <tr>\n",
       "      <th class=\"blank level0\" >&nbsp;</th>\n",
       "      <th class=\"col_heading level0 col0\" >Price</th>\n",
       "    </tr>\n",
       "  </thead>\n",
       "  <tbody>\n",
       "    <tr>\n",
       "      <th id=\"T_67e54_level0_row0\" class=\"row_heading level0 row0\" >Price</th>\n",
       "      <td id=\"T_67e54_row0_col0\" class=\"data row0 col0\" >1.000000</td>\n",
       "    </tr>\n",
       "    <tr>\n",
       "      <th id=\"T_67e54_level0_row1\" class=\"row_heading level0 row1\" >RegistrationYear</th>\n",
       "      <td id=\"T_67e54_row1_col0\" class=\"data row1 col0\" >0.026916</td>\n",
       "    </tr>\n",
       "    <tr>\n",
       "      <th id=\"T_67e54_level0_row2\" class=\"row_heading level0 row2\" >Power</th>\n",
       "      <td id=\"T_67e54_row2_col0\" class=\"data row2 col0\" >0.158872</td>\n",
       "    </tr>\n",
       "    <tr>\n",
       "      <th id=\"T_67e54_level0_row3\" class=\"row_heading level0 row3\" >Kilometer</th>\n",
       "      <td id=\"T_67e54_row3_col0\" class=\"data row3 col0\" >-0.333199</td>\n",
       "    </tr>\n",
       "  </tbody>\n",
       "</table>\n"
      ],
      "text/plain": [
       "<pandas.io.formats.style.Styler at 0x11c637dc0>"
      ]
     },
     "execution_count": 10,
     "metadata": {},
     "output_type": "execute_result"
    }
   ],
   "source": [
    "#изучим корреляцию между числовыми признаками и ценой\n",
    "data_auto[['Price','RegistrationYear','Power','Kilometer']].corr()[['Price']].style.background_gradient('ocean') "
   ]
  },
  {
   "cell_type": "code",
   "execution_count": 11,
   "id": "ad445349",
   "metadata": {},
   "outputs": [
    {
     "data": {
      "text/plain": [
       "4"
      ]
     },
     "execution_count": 11,
     "metadata": {},
     "output_type": "execute_result"
    }
   ],
   "source": [
    "#проверим дубликаты\n",
    "data_auto.duplicated().sum()"
   ]
  },
  {
   "cell_type": "code",
   "execution_count": 12,
   "id": "5f640ce0",
   "metadata": {},
   "outputs": [],
   "source": [
    "#избавимся от дубликатов\n",
    "data_auto.drop_duplicates(inplace=True)"
   ]
  },
  {
   "cell_type": "code",
   "execution_count": 13,
   "id": "d88878a3",
   "metadata": {},
   "outputs": [],
   "source": [
    "#превратим дату создания в тип данных \"дата\", излечем месяц\n",
    "data_auto['DateCreated']=pd.to_datetime(data_auto['DateCreated'],format='%Y-%m-%d')\n",
    "data_auto['MonthCreated']=data_auto['DateCreated'].dt.month\n",
    "data_auto['YearCreated']=data_auto['DateCreated'].dt.year\n"
   ]
  },
  {
   "cell_type": "code",
   "execution_count": 14,
   "id": "bb876226",
   "metadata": {},
   "outputs": [
    {
     "data": {
      "text/plain": [
       "3     296756\n",
       "4      57118\n",
       "2        397\n",
       "1         70\n",
       "11         9\n",
       "12         9\n",
       "9          3\n",
       "8          2\n",
       "6          1\n",
       "Name: MonthCreated, dtype: int64"
      ]
     },
     "execution_count": 14,
     "metadata": {},
     "output_type": "execute_result"
    }
   ],
   "source": [
    "data_auto['MonthCreated'].value_counts()\n"
   ]
  },
  {
   "cell_type": "code",
   "execution_count": 15,
   "id": "5833454a",
   "metadata": {},
   "outputs": [
    {
     "data": {
      "text/plain": [
       "2016    354339\n",
       "2015        25\n",
       "2014         1\n",
       "Name: YearCreated, dtype: int64"
      ]
     },
     "execution_count": 15,
     "metadata": {},
     "output_type": "execute_result"
    }
   ],
   "source": [
    "data_auto['YearCreated'].value_counts()"
   ]
  },
  {
   "cell_type": "markdown",
   "id": "682213cc",
   "metadata": {},
   "source": [
    "<b>Выводы по изучению данных</b>\n",
    "1. В датасете есть пропуски в категориальных данных в столбцах:\n",
    "\n",
    "VehicleType ~ 11%\n",
    "Gearbox  ~6%  \n",
    "Model  ~ 6%  \n",
    "FuelType  ~9%  \n",
    "NotRepaired  ~20%\n",
    "    \n",
    "Для столбцов, где пропусков меньше 10% заменим на наиболее популярное значение. Поставим в столбце <b>NotRepaire</b> вместо NaN “unknown”\n",
    "\n",
    "2. Обнаружено 4 дубликата\n",
    "3. В столбце <b>Power</b> есть нулевые значения, а также некорректные значения.\n",
    "После поиска в google установлено, что самая маломощная на сегодняшний день машина имела  4,2 л.с., а самая мощная 5000 л.с., ограничимся подобными значениями.\n",
    "\n",
    "5. В столбце <b>RegistrationYear</b> есть некорректные значения, изучив распределение, выберем диапазон в пределах 1960 г – 2021 г\n",
    "\n",
    "6. В целевом признаке <b>Price</b> обнаружены нулевые значения, а так же 1340 объектов с ценой меньше 10 евро. В целом посмотрев по сайтам продажи авто, продают и за 1000 р (~12евро), но это металлолом. Данных в целом не много, в качестве эксперимента можно попробовать впоследствии обучить модели, исключив эти данные. \n",
    "\n",
    "7. К значимым признакам отнесем следующие столбцы:\n",
    "\n",
    "    - <b>VehicleType</b> – от типа кузова зависит стоимость\n",
    "    - <b>Gearbox</b> – тип коробки передач влияет на стоимость, автомат обычно дороже механики.\n",
    "    - <b>Power</b> – чем мощнее, тем дороже (корреляция это подтвердила)\n",
    "    - <b>Kilometer</b> – чем больше км прошла машина, тем она дешевле (на графике корреляции эта зависимость видна)\n",
    "    - <b>FuelType</b> – тип топлива влияет на цену, так как в совокупности означает сколько будет стоить эксплуатация\n",
    "    - <b>Brand</b> – бренд влияет на цену\n",
    "    - <b>NotRepaired</b> – если была в починке, цена будет ниже\n",
    "    - <b>RegistrationYear</b> – чем старше, тем дешевле;\n",
    "    - <b>Model</b> – так же как и бренд, модель влияет на цену.\n",
    "        "
   ]
  },
  {
   "cell_type": "markdown",
   "id": "a605d798",
   "metadata": {},
   "source": [
    "### Предобработка"
   ]
  },
  {
   "cell_type": "code",
   "execution_count": 16,
   "id": "e8077935",
   "metadata": {},
   "outputs": [
    {
     "data": {
      "text/html": [
       "<div>\n",
       "<style scoped>\n",
       "    .dataframe tbody tr th:only-of-type {\n",
       "        vertical-align: middle;\n",
       "    }\n",
       "\n",
       "    .dataframe tbody tr th {\n",
       "        vertical-align: top;\n",
       "    }\n",
       "\n",
       "    .dataframe thead th {\n",
       "        text-align: right;\n",
       "    }\n",
       "</style>\n",
       "<table border=\"1\" class=\"dataframe\">\n",
       "  <thead>\n",
       "    <tr style=\"text-align: right;\">\n",
       "      <th></th>\n",
       "      <th>VehicleType</th>\n",
       "      <th>Gearbox</th>\n",
       "      <th>Power</th>\n",
       "      <th>Kilometer</th>\n",
       "      <th>FuelType</th>\n",
       "      <th>Brand</th>\n",
       "      <th>NotRepaired</th>\n",
       "      <th>RegistrationYear</th>\n",
       "      <th>Model</th>\n",
       "      <th>Price</th>\n",
       "    </tr>\n",
       "  </thead>\n",
       "  <tbody>\n",
       "    <tr>\n",
       "      <th>0</th>\n",
       "      <td>NaN</td>\n",
       "      <td>manual</td>\n",
       "      <td>0</td>\n",
       "      <td>150000</td>\n",
       "      <td>petrol</td>\n",
       "      <td>volkswagen</td>\n",
       "      <td>NaN</td>\n",
       "      <td>1993</td>\n",
       "      <td>golf</td>\n",
       "      <td>480</td>\n",
       "    </tr>\n",
       "    <tr>\n",
       "      <th>1</th>\n",
       "      <td>coupe</td>\n",
       "      <td>manual</td>\n",
       "      <td>190</td>\n",
       "      <td>125000</td>\n",
       "      <td>gasoline</td>\n",
       "      <td>audi</td>\n",
       "      <td>yes</td>\n",
       "      <td>2011</td>\n",
       "      <td>NaN</td>\n",
       "      <td>18300</td>\n",
       "    </tr>\n",
       "    <tr>\n",
       "      <th>2</th>\n",
       "      <td>suv</td>\n",
       "      <td>auto</td>\n",
       "      <td>163</td>\n",
       "      <td>125000</td>\n",
       "      <td>gasoline</td>\n",
       "      <td>jeep</td>\n",
       "      <td>NaN</td>\n",
       "      <td>2004</td>\n",
       "      <td>grand</td>\n",
       "      <td>9800</td>\n",
       "    </tr>\n",
       "    <tr>\n",
       "      <th>3</th>\n",
       "      <td>small</td>\n",
       "      <td>manual</td>\n",
       "      <td>75</td>\n",
       "      <td>150000</td>\n",
       "      <td>petrol</td>\n",
       "      <td>volkswagen</td>\n",
       "      <td>no</td>\n",
       "      <td>2001</td>\n",
       "      <td>golf</td>\n",
       "      <td>1500</td>\n",
       "    </tr>\n",
       "    <tr>\n",
       "      <th>4</th>\n",
       "      <td>small</td>\n",
       "      <td>manual</td>\n",
       "      <td>69</td>\n",
       "      <td>90000</td>\n",
       "      <td>gasoline</td>\n",
       "      <td>skoda</td>\n",
       "      <td>no</td>\n",
       "      <td>2008</td>\n",
       "      <td>fabia</td>\n",
       "      <td>3600</td>\n",
       "    </tr>\n",
       "  </tbody>\n",
       "</table>\n",
       "</div>"
      ],
      "text/plain": [
       "  VehicleType Gearbox  Power  Kilometer  FuelType       Brand NotRepaired  \\\n",
       "0         NaN  manual      0     150000    petrol  volkswagen         NaN   \n",
       "1       coupe  manual    190     125000  gasoline        audi         yes   \n",
       "2         suv    auto    163     125000  gasoline        jeep         NaN   \n",
       "3       small  manual     75     150000    petrol  volkswagen          no   \n",
       "4       small  manual     69      90000  gasoline       skoda          no   \n",
       "\n",
       "   RegistrationYear  Model  Price  \n",
       "0              1993   golf    480  \n",
       "1              2011    NaN  18300  \n",
       "2              2004  grand   9800  \n",
       "3              2001   golf   1500  \n",
       "4              2008  fabia   3600  "
      ]
     },
     "execution_count": 16,
     "metadata": {},
     "output_type": "execute_result"
    }
   ],
   "source": [
    "#выберем  из датасета значимые столбцы\n",
    "good_data_auto=data_auto[['VehicleType','Gearbox','Power','Kilometer','FuelType','Brand','NotRepaired','RegistrationYear','Model','Price']]\n",
    "good_data_auto.head()"
   ]
  },
  {
   "cell_type": "code",
   "execution_count": 17,
   "id": "c358afc7",
   "metadata": {},
   "outputs": [
    {
     "name": "stdout",
     "output_type": "stream",
     "text": [
      "Для столбца  \"VehicleType\" 0    sedan\n",
      "dtype: object\n",
      "Для столбца  \"Gearbox\" 0    manual\n",
      "dtype: object\n",
      "Для столбца  \"FuelType\" 0    petrol\n",
      "dtype: object\n",
      "Для столбца  \"Model\" 0    golf\n",
      "dtype: object\n"
     ]
    }
   ],
   "source": [
    "#выясним популярные значения по столбцам с пропущенными данными\n",
    "for ithem in ['VehicleType','Gearbox','FuelType','Model']:  \n",
    "    print('Для столбца  \"{}\"'.format(ithem), good_data_auto[ithem].mode())"
   ]
  },
  {
   "cell_type": "code",
   "execution_count": 18,
   "id": "3b35fe2c",
   "metadata": {},
   "outputs": [],
   "source": [
    "#VehicleType-> на популярное значение\n",
    "good_data_auto['VehicleType']=good_data_auto['VehicleType'].fillna(value='sedan')\n",
    "\n",
    "#Gearbox -> на популярное значение\n",
    "good_data_auto['Gearbox']=good_data_auto['Gearbox'].fillna(value='manual')\n",
    "\n",
    "#FuelType -> на популярное значение\n",
    "good_data_auto['FuelType']=good_data_auto['FuelType'].fillna(value='petrol')\n",
    "\n",
    "#Model -> на популярное значение455r4\n",
    "good_data_auto['Model']=good_data_auto['Model'].fillna(value='golf')\n",
    "\n",
    "#NotRepaired -> на unknown\n",
    "good_data_auto['NotRepaired']=good_data_auto['NotRepaired'].fillna(value='unknown')"
   ]
  },
  {
   "cell_type": "code",
   "execution_count": 19,
   "id": "259eca30",
   "metadata": {},
   "outputs": [
    {
     "data": {
      "text/html": [
       "<style type=\"text/css\">\n",
       "#T_dd6c6_row0_col0, #T_dd6c6_row1_col0, #T_dd6c6_row2_col0, #T_dd6c6_row3_col0, #T_dd6c6_row4_col0, #T_dd6c6_row5_col0, #T_dd6c6_row6_col0, #T_dd6c6_row7_col0, #T_dd6c6_row8_col0, #T_dd6c6_row9_col0 {\n",
       "  background-color: #f7fcf5;\n",
       "  color: #000000;\n",
       "}\n",
       "</style>\n",
       "<table id=\"T_dd6c6_\">\n",
       "  <thead>\n",
       "    <tr>\n",
       "      <th class=\"blank level0\" >&nbsp;</th>\n",
       "      <th class=\"col_heading level0 col0\" >0</th>\n",
       "    </tr>\n",
       "  </thead>\n",
       "  <tbody>\n",
       "    <tr>\n",
       "      <th id=\"T_dd6c6_level0_row0\" class=\"row_heading level0 row0\" >VehicleType</th>\n",
       "      <td id=\"T_dd6c6_row0_col0\" class=\"data row0 col0\" >0.000000</td>\n",
       "    </tr>\n",
       "    <tr>\n",
       "      <th id=\"T_dd6c6_level0_row1\" class=\"row_heading level0 row1\" >Gearbox</th>\n",
       "      <td id=\"T_dd6c6_row1_col0\" class=\"data row1 col0\" >0.000000</td>\n",
       "    </tr>\n",
       "    <tr>\n",
       "      <th id=\"T_dd6c6_level0_row2\" class=\"row_heading level0 row2\" >Power</th>\n",
       "      <td id=\"T_dd6c6_row2_col0\" class=\"data row2 col0\" >0.000000</td>\n",
       "    </tr>\n",
       "    <tr>\n",
       "      <th id=\"T_dd6c6_level0_row3\" class=\"row_heading level0 row3\" >Kilometer</th>\n",
       "      <td id=\"T_dd6c6_row3_col0\" class=\"data row3 col0\" >0.000000</td>\n",
       "    </tr>\n",
       "    <tr>\n",
       "      <th id=\"T_dd6c6_level0_row4\" class=\"row_heading level0 row4\" >FuelType</th>\n",
       "      <td id=\"T_dd6c6_row4_col0\" class=\"data row4 col0\" >0.000000</td>\n",
       "    </tr>\n",
       "    <tr>\n",
       "      <th id=\"T_dd6c6_level0_row5\" class=\"row_heading level0 row5\" >Brand</th>\n",
       "      <td id=\"T_dd6c6_row5_col0\" class=\"data row5 col0\" >0.000000</td>\n",
       "    </tr>\n",
       "    <tr>\n",
       "      <th id=\"T_dd6c6_level0_row6\" class=\"row_heading level0 row6\" >NotRepaired</th>\n",
       "      <td id=\"T_dd6c6_row6_col0\" class=\"data row6 col0\" >0.000000</td>\n",
       "    </tr>\n",
       "    <tr>\n",
       "      <th id=\"T_dd6c6_level0_row7\" class=\"row_heading level0 row7\" >RegistrationYear</th>\n",
       "      <td id=\"T_dd6c6_row7_col0\" class=\"data row7 col0\" >0.000000</td>\n",
       "    </tr>\n",
       "    <tr>\n",
       "      <th id=\"T_dd6c6_level0_row8\" class=\"row_heading level0 row8\" >Model</th>\n",
       "      <td id=\"T_dd6c6_row8_col0\" class=\"data row8 col0\" >0.000000</td>\n",
       "    </tr>\n",
       "    <tr>\n",
       "      <th id=\"T_dd6c6_level0_row9\" class=\"row_heading level0 row9\" >Price</th>\n",
       "      <td id=\"T_dd6c6_row9_col0\" class=\"data row9 col0\" >0.000000</td>\n",
       "    </tr>\n",
       "  </tbody>\n",
       "</table>\n"
      ],
      "text/plain": [
       "<pandas.io.formats.style.Styler at 0x11cae3a00>"
      ]
     },
     "execution_count": 19,
     "metadata": {},
     "output_type": "execute_result"
    }
   ],
   "source": [
    "#проверим наличие пропусков\n",
    "pd.DataFrame(round((good_data_auto.isna().mean()*100),2)).style.background_gradient('Greens') "
   ]
  },
  {
   "cell_type": "code",
   "execution_count": 20,
   "id": "c091e0de",
   "metadata": {},
   "outputs": [],
   "source": [
    "#выберем данные с корректными значениями по столбцам Power и RegistrationYear\n",
    "good_data_auto=good_data_auto.query('1960<=RegistrationYear<=2021 and 4.2<=Power<=5000')\n",
    "#по целевому столбцу уберем \n",
    "good_data_auto=good_data_auto.query('Price>0')"
   ]
  },
  {
   "cell_type": "code",
   "execution_count": 21,
   "id": "3523ac62",
   "metadata": {},
   "outputs": [
    {
     "data": {
      "text/plain": [
       "(306892, 10)"
      ]
     },
     "execution_count": 21,
     "metadata": {},
     "output_type": "execute_result"
    }
   ],
   "source": [
    "#посмотрим что у нас осталось после предобработки\n",
    "good_data_auto.shape"
   ]
  },
  {
   "cell_type": "code",
   "execution_count": 22,
   "id": "afc9e7d0",
   "metadata": {},
   "outputs": [
    {
     "data": {
      "text/html": [
       "<div>\n",
       "<style scoped>\n",
       "    .dataframe tbody tr th:only-of-type {\n",
       "        vertical-align: middle;\n",
       "    }\n",
       "\n",
       "    .dataframe tbody tr th {\n",
       "        vertical-align: top;\n",
       "    }\n",
       "\n",
       "    .dataframe thead th {\n",
       "        text-align: right;\n",
       "    }\n",
       "</style>\n",
       "<table border=\"1\" class=\"dataframe\">\n",
       "  <thead>\n",
       "    <tr style=\"text-align: right;\">\n",
       "      <th></th>\n",
       "      <th>Power</th>\n",
       "      <th>Kilometer</th>\n",
       "      <th>RegistrationYear</th>\n",
       "      <th>Price</th>\n",
       "    </tr>\n",
       "  </thead>\n",
       "  <tbody>\n",
       "    <tr>\n",
       "      <th>count</th>\n",
       "      <td>306892.000000</td>\n",
       "      <td>306892.000000</td>\n",
       "      <td>306892.000000</td>\n",
       "      <td>306892.000000</td>\n",
       "    </tr>\n",
       "    <tr>\n",
       "      <th>mean</th>\n",
       "      <td>121.419679</td>\n",
       "      <td>128466.040170</td>\n",
       "      <td>2003.326454</td>\n",
       "      <td>4808.416759</td>\n",
       "    </tr>\n",
       "    <tr>\n",
       "      <th>std</th>\n",
       "      <td>69.517242</td>\n",
       "      <td>36688.322822</td>\n",
       "      <td>6.842817</td>\n",
       "      <td>4585.116282</td>\n",
       "    </tr>\n",
       "    <tr>\n",
       "      <th>min</th>\n",
       "      <td>5.000000</td>\n",
       "      <td>5000.000000</td>\n",
       "      <td>1960.000000</td>\n",
       "      <td>1.000000</td>\n",
       "    </tr>\n",
       "    <tr>\n",
       "      <th>25%</th>\n",
       "      <td>75.000000</td>\n",
       "      <td>125000.000000</td>\n",
       "      <td>1999.000000</td>\n",
       "      <td>1300.000000</td>\n",
       "    </tr>\n",
       "    <tr>\n",
       "      <th>50%</th>\n",
       "      <td>110.000000</td>\n",
       "      <td>150000.000000</td>\n",
       "      <td>2003.000000</td>\n",
       "      <td>3100.000000</td>\n",
       "    </tr>\n",
       "    <tr>\n",
       "      <th>75%</th>\n",
       "      <td>150.000000</td>\n",
       "      <td>150000.000000</td>\n",
       "      <td>2008.000000</td>\n",
       "      <td>6950.000000</td>\n",
       "    </tr>\n",
       "    <tr>\n",
       "      <th>max</th>\n",
       "      <td>4700.000000</td>\n",
       "      <td>150000.000000</td>\n",
       "      <td>2019.000000</td>\n",
       "      <td>20000.000000</td>\n",
       "    </tr>\n",
       "  </tbody>\n",
       "</table>\n",
       "</div>"
      ],
      "text/plain": [
       "               Power      Kilometer  RegistrationYear          Price\n",
       "count  306892.000000  306892.000000     306892.000000  306892.000000\n",
       "mean      121.419679  128466.040170       2003.326454    4808.416759\n",
       "std        69.517242   36688.322822          6.842817    4585.116282\n",
       "min         5.000000    5000.000000       1960.000000       1.000000\n",
       "25%        75.000000  125000.000000       1999.000000    1300.000000\n",
       "50%       110.000000  150000.000000       2003.000000    3100.000000\n",
       "75%       150.000000  150000.000000       2008.000000    6950.000000\n",
       "max      4700.000000  150000.000000       2019.000000   20000.000000"
      ]
     },
     "execution_count": 22,
     "metadata": {},
     "output_type": "execute_result"
    }
   ],
   "source": [
    "#посмотрим описание, чтобы оценить корректно ли отработала выборка значений\n",
    "good_data_auto.describe()"
   ]
  },
  {
   "cell_type": "code",
   "execution_count": 23,
   "id": "3de5bf0d",
   "metadata": {
    "scrolled": true
   },
   "outputs": [
    {
     "name": "stdout",
     "output_type": "stream",
     "text": [
      "<class 'pandas.core.frame.DataFrame'>\n",
      "Int64Index: 306892 entries, 1 to 354368\n",
      "Data columns (total 10 columns):\n",
      " #   Column            Non-Null Count   Dtype \n",
      "---  ------            --------------   ----- \n",
      " 0   VehicleType       306892 non-null  object\n",
      " 1   Gearbox           306892 non-null  object\n",
      " 2   Power             306892 non-null  int64 \n",
      " 3   Kilometer         306892 non-null  int64 \n",
      " 4   FuelType          306892 non-null  object\n",
      " 5   Brand             306892 non-null  object\n",
      " 6   NotRepaired       306892 non-null  object\n",
      " 7   RegistrationYear  306892 non-null  int64 \n",
      " 8   Model             306892 non-null  object\n",
      " 9   Price             306892 non-null  int64 \n",
      "dtypes: int64(4), object(6)\n",
      "memory usage: 25.8+ MB\n"
     ]
    }
   ],
   "source": [
    "#проверяем размерности\n",
    "good_data_auto.info()"
   ]
  },
  {
   "cell_type": "markdown",
   "id": "551b7c15",
   "metadata": {},
   "source": [
    "### Обучение моделей"
   ]
  },
  {
   "cell_type": "code",
   "execution_count": 24,
   "id": "c8c6823e",
   "metadata": {},
   "outputs": [],
   "source": [
    "#OHE-кодирование\n",
    "auto_ohe = good_data_auto\n",
    "auto_ohe = pd.get_dummies(auto_ohe,drop_first=True)\n",
    "\n",
    "auto_categ = good_data_auto\n",
    "auto_categ = auto_categ.astype({\"VehicleType\":'category',\"Gearbox\":'category',\"Model\":'category',\"FuelType\":'category',\"Brand\":'category',\"NotRepaired\":'category'})"
   ]
  },
  {
   "cell_type": "code",
   "execution_count": 25,
   "id": "810bf21c",
   "metadata": {},
   "outputs": [],
   "source": [
    "#выделим feauters и target\n",
    "\n",
    "#OHE\n",
    "feauters_ohe=auto_ohe.drop('Price',axis=1)\n",
    "target_ohe=auto_ohe['Price']\n",
    "#+Categorial\n",
    "feauters_categ=auto_categ.drop(['Price'],axis=1)\n",
    "target_categ=auto_categ['Price']\n",
    "#Real\n",
    "feauters_real=good_data_auto.drop(['Price'],axis=1)\n",
    "target_real=good_data_auto['Price']\n",
    "\n",
    "#и разделим\n",
    "\n",
    "#OHE\n",
    "feauters_train_ohe,feauters_test_ohe,target_train_ohe,target_test_ohe= train_test_split(feauters_ohe,target_ohe,test_size = 0.25,random_state = 12345)\n",
    "#+Categorial\n",
    "feauters_train_categ,feauters_test_categ,target_train_categ,target_test_categ = train_test_split(feauters_categ,target_categ,test_size = 0.25,random_state = 12345)\n",
    "#Real\n",
    "feauters_train_real,feauters_test_real,target_train_real,target_test_real= train_test_split(feauters_real,target_real,test_size = 0.25,random_state = 12345)"
   ]
  },
  {
   "cell_type": "raw",
   "id": "cd2c9558",
   "metadata": {},
   "source": [
    "categorical_columns=['VehicleType','Gearbox','Model','FuelType','Brand','NotRepaired']\n",
    "\n",
    "onehot_encoder = OneHotEncoder(sparse=False)\n",
    "\n",
    "encoded_categorical_columns = pd.DataFrame(onehot_encoder.fit_transform(df[categorical_columns]))\n",
    "encoded_categorical_columns.head()"
   ]
  },
  {
   "cell_type": "markdown",
   "id": "24524285",
   "metadata": {},
   "source": [
    "Будем обучать и сравнивать две модели:\n",
    "  - RandomForestRegressor\n",
    "  - LightGBM\n",
    "  - CatboostRegressor"
   ]
  },
  {
   "cell_type": "raw",
   "id": "3f3ebfd1",
   "metadata": {},
   "source": [
    "%%time\n",
    "#Random Forest\n",
    "rf_regressor=RandomForestRegressor()\n",
    "\n",
    "param_rf = {'n_estimators':range(18,20),\n",
    "                'max_depth':range(18,20),\n",
    "                'random_state':[12345]}\n",
    "\n",
    "#обучим\n",
    "model_rf = RandomizedSearchCV(rf_regressor,param_distributions = param_rf,scoring='neg_root_mean_squared_error', random_state=12345,cv=3)\n",
    "model_rf.fit(feauters_ohe,target_ohe)\n",
    "\n",
    "#лучшие параметры\n",
    "print('Лучшие параметры для регрессии RandomForest',model_rf.best_estimator_)"
   ]
  },
  {
   "cell_type": "raw",
   "id": "770baa10",
   "metadata": {},
   "source": [
    "#RMSE\n",
    "print('Лучшее значение RMSE для RandomForest')\n",
    "print((model_rf.best_score_*-1))"
   ]
  },
  {
   "cell_type": "code",
   "execution_count": 26,
   "id": "a1b34b02",
   "metadata": {},
   "outputs": [
    {
     "name": "stdout",
     "output_type": "stream",
     "text": [
      "CPU times: user 6min 13s, sys: 4.45 s, total: 6min 17s\n",
      "Wall time: 48.9 s\n"
     ]
    },
    {
     "data": {
      "text/plain": [
       "RandomizedSearchCV(cv=3, estimator=LGBMRegressor(),\n",
       "                   param_distributions={'learning_rate': [0.2],\n",
       "                                        'max_depth': [15, 20, 25, 30, -1],\n",
       "                                        'n_estimators': range(200, 601, 30),\n",
       "                                        'random_state': [12345]},\n",
       "                   random_state=12345, scoring='neg_root_mean_squared_error')"
      ]
     },
     "execution_count": 26,
     "metadata": {},
     "output_type": "execute_result"
    }
   ],
   "source": [
    "\n",
    "%%time\n",
    "\n",
    "#LightGBM\n",
    "lgb_regressor = LGBMRegressor() \n",
    "lgb_param = {'max_depth':list(range(15, 31, 5)) + [-1],\n",
    "             'n_estimators': range(200, 601, 30),\n",
    "             'learning_rate': [0.2],\n",
    "             'random_state':[12345]}\n",
    "\n",
    "#обучаем\n",
    "lgb_model = RandomizedSearchCV(lgb_regressor, param_distributions =lgb_param,scoring='neg_root_mean_squared_error', cv=3,random_state=12345)\n",
    "lgb_model.fit(feauters_train_categ, target_train_categ)\n"
   ]
  },
  {
   "cell_type": "code",
   "execution_count": 27,
   "id": "e139962d",
   "metadata": {},
   "outputs": [
    {
     "name": "stdout",
     "output_type": "stream",
     "text": [
      "Лучшие параметры для LightGBM {'random_state': 12345, 'n_estimators': 530, 'max_depth': 30, 'learning_rate': 0.2}\n"
     ]
    }
   ],
   "source": [
    "#лучшие параметры\n",
    "print('Лучшие параметры для LightGBM',lgb_model.best_params_)"
   ]
  },
  {
   "cell_type": "code",
   "execution_count": 28,
   "id": "3084ecb7",
   "metadata": {},
   "outputs": [
    {
     "name": "stdout",
     "output_type": "stream",
     "text": [
      "Лучшее значение RMSE для LightGBM\n",
      "1577.6231176831614\n"
     ]
    }
   ],
   "source": [
    "#RMSE\n",
    "print('Лучшее значение RMSE для LightGBM')\n",
    "print((lgb_model.best_score_*(-1)))\n"
   ]
  },
  {
   "cell_type": "code",
   "execution_count": null,
   "id": "997b6daa",
   "metadata": {},
   "outputs": [],
   "source": [
    "%%time\n",
    "# catboost\n",
    "\n",
    "cat_regressor=CatBoostRegressor(verbose=False, \n",
    "                                cat_features=['VehicleType','Gearbox','Model','FuelType','Brand','NotRepaired'])\n",
    "#параметры\n",
    "param_cat = {'max_depth':range(5, 25),\n",
    "             'n_estimators': range(5,20),\n",
    "             'learning_rate': [0.2]}\n",
    "\n",
    "#обучаем\n",
    "cat_model = RandomizedSearchCV(cat_regressor, param_distributions = param_cat, scoring='neg_root_mean_squared_error', cv=5)\n",
    "cat_model.fit(feauters_train_real, target_train_real)"
   ]
  },
  {
   "cell_type": "code",
   "execution_count": 30,
   "id": "aa870a23",
   "metadata": {},
   "outputs": [
    {
     "name": "stdout",
     "output_type": "stream",
     "text": [
      "Лучшие параметры для CatBoost {'n_estimators': 18, 'max_depth': 14, 'learning_rate': 0.2}\n"
     ]
    }
   ],
   "source": [
    "#лучшие параметры Catboost\n",
    "print('Лучшие параметры для CatBoost',cat_model.best_params_)"
   ]
  },
  {
   "cell_type": "code",
   "execution_count": 31,
   "id": "2d95592c",
   "metadata": {},
   "outputs": [
    {
     "name": "stdout",
     "output_type": "stream",
     "text": [
      "Лучшее значение RMSE для Catboost\n",
      "1755.5016632626964\n"
     ]
    }
   ],
   "source": [
    "#лучшая RMSE оценка для Catboost\n",
    "print('Лучшее значение RMSE для Catboost')\n",
    "print((cat_model.best_score_*-1))"
   ]
  },
  {
   "cell_type": "markdown",
   "id": "13b8da87",
   "metadata": {},
   "source": [
    "### Проверим на тесте с лучшими параметрами\n"
   ]
  },
  {
   "cell_type": "raw",
   "id": "56e1d29b",
   "metadata": {},
   "source": [
    "%%time\n",
    "#лучшая модель RandomForest\n",
    "best_model=model_rf.best_estimator_\n",
    "\n",
    "#предсказываем\n",
    "rf_predict = best_model.predict(feauters_test_ohe)\n",
    "\n",
    "#финальный RMSE на тесте\n",
    "print(mean_squared_error(target_test_ohe, rf_predict, squared=False))"
   ]
  },
  {
   "cell_type": "raw",
   "id": "d434f526",
   "metadata": {},
   "source": [
    "%%time\n",
    "\n",
    "#Лучшая модель LightGBM \n",
    "best_lgbm = lgb_model.best_estimator_\n",
    "\n",
    "#предсказываем\n",
    "lgbm_predict = best_lgbm.predict(feauters_test_categ)\n",
    "\n",
    "#финальный RMSE на тесте\n",
    "print(mean_squared_error(target_test_categ, lgbm_predict, squared=False))\n"
   ]
  },
  {
   "cell_type": "raw",
   "id": "b45f7fb4",
   "metadata": {},
   "source": [
    "%%time\n",
    "\n",
    "#Лучшая Catboost \n",
    "best_cat = cat_model.best_estimator_\n",
    "\n",
    "#предсказываем\n",
    "cat_predict = best_cat.predict(feauters_test_real)\n",
    "\n",
    "#финальный RMSE на Catboost\n",
    "print(mean_squared_error(target_test_real, cat_predict, squared=False))"
   ]
  },
  {
   "cell_type": "markdown",
   "id": "df77a9c0",
   "metadata": {},
   "source": [
    "<b> ВЫВОД: </b>\n",
    "\n",
    "В ходе работы было выполнено:\n",
    "1.\tЗагружены, изучены данные и проведена предобработка.\n",
    "- были обнаружены и обработаны пропуски в данных;\n",
    "- устранены некорректные и нулевые значения;\n",
    "- были обнаружены и устранены дубликаты;\n",
    "- выделены столбцы со значимыми для обучения данными.\n",
    "2.\tВыполнено сравнение трех моделей:\n",
    "- RandomForestRegressor\n",
    "- LightGBM\n",
    "- CatboostRegressor\n",
    "+ использованы различные наборы гиперпараметров.\n",
    "3.\tВыбрана лучшая модель по результатам метрики RMSE и времени обучения (на тестовой выборке).\n",
    "- Лидером оказалась модель <b>LightGBM</b> (Wall time=1.37 s, RMSE=1528.12)\n",
    "- На втором месте <b>CatboostRegressor</b> (Wall time=736 ms, RMSE=2037.65), однако модель оказалась быстрее всех!\n",
    "- Наиболее медленно и наименее точно предсказал <b>RandomForestRegressor</b> (Wall time=25.9 s, RMSE=2448.89)\n",
    "\n",
    "\n",
    "    "
   ]
  },
  {
   "cell_type": "code",
   "execution_count": null,
   "id": "f6a58a8a",
   "metadata": {},
   "outputs": [],
   "source": []
  }
 ],
 "metadata": {
  "kernelspec": {
   "display_name": "Python 3 (ipykernel)",
   "language": "python",
   "name": "python3"
  },
  "language_info": {
   "codemirror_mode": {
    "name": "ipython",
    "version": 3
   },
   "file_extension": ".py",
   "mimetype": "text/x-python",
   "name": "python",
   "nbconvert_exporter": "python",
   "pygments_lexer": "ipython3",
   "version": "3.8.11"
  }
 },
 "nbformat": 4,
 "nbformat_minor": 5
}
