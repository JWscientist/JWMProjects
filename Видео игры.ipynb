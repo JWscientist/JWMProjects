{
 "cells": [
  {
   "cell_type": "markdown",
   "id": "e30b9b91",
   "metadata": {},
   "source": [
    "### Сборный проект. Анализ рынка компьютерных игр\n",
    "\n",
    "<b>Цель проекта:</b> выявить определяющие успешность игры закономерности\n",
    "\n",
    "<b>Исходные данные:</b>\n",
    "\n",
    "  - Name — название игры\n",
    "  - Platform — платформа\n",
    "  - Year_of_Release — год выпуска\n",
    "  - Genre — жанр игры\n",
    "  - NA_sales — продажи в Северной Америке (миллионы проданных копий)\n",
    "  - EU_sales — продажи в Европе (миллионы проданных копий)\n",
    "  - JP_sales — продажи в Японии (миллионы проданных копий)\n",
    "  - Other_sales — продажи в других странах (миллионы проданных копий)\n",
    "  - Critic_Score — оценка критиков (максимум 100)\n",
    "  - User_Score — оценка пользователей (максимум 10)\n",
    "  - Rating — рейтинг от организации ESRB (англ. Entertainment Software Rating Board). Эта ассоциация определяет рейтинг компьютерных игр и присваивает им подходящую возрастную категорию."
   ]
  },
  {
   "cell_type": "markdown",
   "id": "b793dd5e",
   "metadata": {},
   "source": [
    "### Шаг 1. Откройте файл с данными и изучите общую информацию"
   ]
  },
  {
   "cell_type": "code",
   "execution_count": 1,
   "id": "7e8aa99d",
   "metadata": {},
   "outputs": [],
   "source": [
    "import pandas as pd\n",
    "import numpy as np\n",
    "from scipy import stats as st\n",
    "import seaborn as sns\n",
    "import matplotlib.pyplot as plt"
   ]
  },
  {
   "cell_type": "code",
   "execution_count": 2,
   "id": "df60ce2f",
   "metadata": {},
   "outputs": [],
   "source": [
    "data_games=pd.read_csv('desktop/datasets/games.csv')"
   ]
  },
  {
   "cell_type": "code",
   "execution_count": 3,
   "id": "82f4cc45",
   "metadata": {},
   "outputs": [
    {
     "data": {
      "text/html": [
       "<div>\n",
       "<style scoped>\n",
       "    .dataframe tbody tr th:only-of-type {\n",
       "        vertical-align: middle;\n",
       "    }\n",
       "\n",
       "    .dataframe tbody tr th {\n",
       "        vertical-align: top;\n",
       "    }\n",
       "\n",
       "    .dataframe thead th {\n",
       "        text-align: right;\n",
       "    }\n",
       "</style>\n",
       "<table border=\"1\" class=\"dataframe\">\n",
       "  <thead>\n",
       "    <tr style=\"text-align: right;\">\n",
       "      <th></th>\n",
       "      <th>Name</th>\n",
       "      <th>Platform</th>\n",
       "      <th>Year_of_Release</th>\n",
       "      <th>Genre</th>\n",
       "      <th>NA_sales</th>\n",
       "      <th>EU_sales</th>\n",
       "      <th>JP_sales</th>\n",
       "      <th>Other_sales</th>\n",
       "      <th>Critic_Score</th>\n",
       "      <th>User_Score</th>\n",
       "      <th>Rating</th>\n",
       "    </tr>\n",
       "  </thead>\n",
       "  <tbody>\n",
       "    <tr>\n",
       "      <th>0</th>\n",
       "      <td>Wii Sports</td>\n",
       "      <td>Wii</td>\n",
       "      <td>2006.0</td>\n",
       "      <td>Sports</td>\n",
       "      <td>41.36</td>\n",
       "      <td>28.96</td>\n",
       "      <td>3.77</td>\n",
       "      <td>8.45</td>\n",
       "      <td>76.0</td>\n",
       "      <td>8</td>\n",
       "      <td>E</td>\n",
       "    </tr>\n",
       "    <tr>\n",
       "      <th>1</th>\n",
       "      <td>Super Mario Bros.</td>\n",
       "      <td>NES</td>\n",
       "      <td>1985.0</td>\n",
       "      <td>Platform</td>\n",
       "      <td>29.08</td>\n",
       "      <td>3.58</td>\n",
       "      <td>6.81</td>\n",
       "      <td>0.77</td>\n",
       "      <td>NaN</td>\n",
       "      <td>NaN</td>\n",
       "      <td>NaN</td>\n",
       "    </tr>\n",
       "    <tr>\n",
       "      <th>2</th>\n",
       "      <td>Mario Kart Wii</td>\n",
       "      <td>Wii</td>\n",
       "      <td>2008.0</td>\n",
       "      <td>Racing</td>\n",
       "      <td>15.68</td>\n",
       "      <td>12.76</td>\n",
       "      <td>3.79</td>\n",
       "      <td>3.29</td>\n",
       "      <td>82.0</td>\n",
       "      <td>8.3</td>\n",
       "      <td>E</td>\n",
       "    </tr>\n",
       "    <tr>\n",
       "      <th>3</th>\n",
       "      <td>Wii Sports Resort</td>\n",
       "      <td>Wii</td>\n",
       "      <td>2009.0</td>\n",
       "      <td>Sports</td>\n",
       "      <td>15.61</td>\n",
       "      <td>10.93</td>\n",
       "      <td>3.28</td>\n",
       "      <td>2.95</td>\n",
       "      <td>80.0</td>\n",
       "      <td>8</td>\n",
       "      <td>E</td>\n",
       "    </tr>\n",
       "    <tr>\n",
       "      <th>4</th>\n",
       "      <td>Pokemon Red/Pokemon Blue</td>\n",
       "      <td>GB</td>\n",
       "      <td>1996.0</td>\n",
       "      <td>Role-Playing</td>\n",
       "      <td>11.27</td>\n",
       "      <td>8.89</td>\n",
       "      <td>10.22</td>\n",
       "      <td>1.00</td>\n",
       "      <td>NaN</td>\n",
       "      <td>NaN</td>\n",
       "      <td>NaN</td>\n",
       "    </tr>\n",
       "  </tbody>\n",
       "</table>\n",
       "</div>"
      ],
      "text/plain": [
       "                       Name Platform  Year_of_Release         Genre  NA_sales  \\\n",
       "0                Wii Sports      Wii           2006.0        Sports     41.36   \n",
       "1         Super Mario Bros.      NES           1985.0      Platform     29.08   \n",
       "2            Mario Kart Wii      Wii           2008.0        Racing     15.68   \n",
       "3         Wii Sports Resort      Wii           2009.0        Sports     15.61   \n",
       "4  Pokemon Red/Pokemon Blue       GB           1996.0  Role-Playing     11.27   \n",
       "\n",
       "   EU_sales  JP_sales  Other_sales  Critic_Score User_Score Rating  \n",
       "0     28.96      3.77         8.45          76.0          8      E  \n",
       "1      3.58      6.81         0.77           NaN        NaN    NaN  \n",
       "2     12.76      3.79         3.29          82.0        8.3      E  \n",
       "3     10.93      3.28         2.95          80.0          8      E  \n",
       "4      8.89     10.22         1.00           NaN        NaN    NaN  "
      ]
     },
     "execution_count": 3,
     "metadata": {},
     "output_type": "execute_result"
    }
   ],
   "source": [
    "data_games.head()"
   ]
  },
  {
   "cell_type": "code",
   "execution_count": 4,
   "id": "3afcf826",
   "metadata": {},
   "outputs": [
    {
     "name": "stdout",
     "output_type": "stream",
     "text": [
      "<class 'pandas.core.frame.DataFrame'>\n",
      "RangeIndex: 16715 entries, 0 to 16714\n",
      "Data columns (total 11 columns):\n",
      " #   Column           Non-Null Count  Dtype  \n",
      "---  ------           --------------  -----  \n",
      " 0   Name             16713 non-null  object \n",
      " 1   Platform         16715 non-null  object \n",
      " 2   Year_of_Release  16446 non-null  float64\n",
      " 3   Genre            16713 non-null  object \n",
      " 4   NA_sales         16715 non-null  float64\n",
      " 5   EU_sales         16715 non-null  float64\n",
      " 6   JP_sales         16715 non-null  float64\n",
      " 7   Other_sales      16715 non-null  float64\n",
      " 8   Critic_Score     8137 non-null   float64\n",
      " 9   User_Score       10014 non-null  object \n",
      " 10  Rating           9949 non-null   object \n",
      "dtypes: float64(6), object(5)\n",
      "memory usage: 1.4+ MB\n"
     ]
    }
   ],
   "source": [
    "data_games.info()"
   ]
  },
  {
   "cell_type": "code",
   "execution_count": 5,
   "id": "019e087d",
   "metadata": {},
   "outputs": [
    {
     "data": {
      "text/plain": [
       "Name                  2\n",
       "Platform              0\n",
       "Year_of_Release     269\n",
       "Genre                 2\n",
       "NA_sales              0\n",
       "EU_sales              0\n",
       "JP_sales              0\n",
       "Other_sales           0\n",
       "Critic_Score       8578\n",
       "User_Score         6701\n",
       "Rating             6766\n",
       "dtype: int64"
      ]
     },
     "execution_count": 5,
     "metadata": {},
     "output_type": "execute_result"
    }
   ],
   "source": [
    "data_games.isna().sum()"
   ]
  },
  {
   "cell_type": "code",
   "execution_count": 6,
   "id": "7e24f526",
   "metadata": {},
   "outputs": [
    {
     "data": {
      "text/html": [
       "<style type=\"text/css\">\n",
       "#T_63390_row0_col0, #T_63390_row1_col0, #T_63390_row3_col0, #T_63390_row4_col0, #T_63390_row5_col0, #T_63390_row6_col0, #T_63390_row7_col0 {\n",
       "  background-color: #008000;\n",
       "  color: #f1f1f1;\n",
       "}\n",
       "#T_63390_row2_col0 {\n",
       "  background-color: #007408;\n",
       "  color: #f1f1f1;\n",
       "}\n",
       "#T_63390_row8_col0 {\n",
       "  background-color: #ffffff;\n",
       "  color: #000000;\n",
       "}\n",
       "#T_63390_row9_col0 {\n",
       "  background-color: #57abc7;\n",
       "  color: #f1f1f1;\n",
       "}\n",
       "#T_63390_row10_col0 {\n",
       "  background-color: #5daec9;\n",
       "  color: #f1f1f1;\n",
       "}\n",
       "</style>\n",
       "<table id=\"T_63390_\">\n",
       "  <thead>\n",
       "    <tr>\n",
       "      <th class=\"blank level0\" >&nbsp;</th>\n",
       "      <th class=\"col_heading level0 col0\" >0</th>\n",
       "    </tr>\n",
       "  </thead>\n",
       "  <tbody>\n",
       "    <tr>\n",
       "      <th id=\"T_63390_level0_row0\" class=\"row_heading level0 row0\" >Name</th>\n",
       "      <td id=\"T_63390_row0_col0\" class=\"data row0 col0\" >0.010000</td>\n",
       "    </tr>\n",
       "    <tr>\n",
       "      <th id=\"T_63390_level0_row1\" class=\"row_heading level0 row1\" >Platform</th>\n",
       "      <td id=\"T_63390_row1_col0\" class=\"data row1 col0\" >0.000000</td>\n",
       "    </tr>\n",
       "    <tr>\n",
       "      <th id=\"T_63390_level0_row2\" class=\"row_heading level0 row2\" >Year_of_Release</th>\n",
       "      <td id=\"T_63390_row2_col0\" class=\"data row2 col0\" >1.610000</td>\n",
       "    </tr>\n",
       "    <tr>\n",
       "      <th id=\"T_63390_level0_row3\" class=\"row_heading level0 row3\" >Genre</th>\n",
       "      <td id=\"T_63390_row3_col0\" class=\"data row3 col0\" >0.010000</td>\n",
       "    </tr>\n",
       "    <tr>\n",
       "      <th id=\"T_63390_level0_row4\" class=\"row_heading level0 row4\" >NA_sales</th>\n",
       "      <td id=\"T_63390_row4_col0\" class=\"data row4 col0\" >0.000000</td>\n",
       "    </tr>\n",
       "    <tr>\n",
       "      <th id=\"T_63390_level0_row5\" class=\"row_heading level0 row5\" >EU_sales</th>\n",
       "      <td id=\"T_63390_row5_col0\" class=\"data row5 col0\" >0.000000</td>\n",
       "    </tr>\n",
       "    <tr>\n",
       "      <th id=\"T_63390_level0_row6\" class=\"row_heading level0 row6\" >JP_sales</th>\n",
       "      <td id=\"T_63390_row6_col0\" class=\"data row6 col0\" >0.000000</td>\n",
       "    </tr>\n",
       "    <tr>\n",
       "      <th id=\"T_63390_level0_row7\" class=\"row_heading level0 row7\" >Other_sales</th>\n",
       "      <td id=\"T_63390_row7_col0\" class=\"data row7 col0\" >0.000000</td>\n",
       "    </tr>\n",
       "    <tr>\n",
       "      <th id=\"T_63390_level0_row8\" class=\"row_heading level0 row8\" >Critic_Score</th>\n",
       "      <td id=\"T_63390_row8_col0\" class=\"data row8 col0\" >51.320000</td>\n",
       "    </tr>\n",
       "    <tr>\n",
       "      <th id=\"T_63390_level0_row9\" class=\"row_heading level0 row9\" >User_Score</th>\n",
       "      <td id=\"T_63390_row9_col0\" class=\"data row9 col0\" >40.090000</td>\n",
       "    </tr>\n",
       "    <tr>\n",
       "      <th id=\"T_63390_level0_row10\" class=\"row_heading level0 row10\" >Rating</th>\n",
       "      <td id=\"T_63390_row10_col0\" class=\"data row10 col0\" >40.480000</td>\n",
       "    </tr>\n",
       "  </tbody>\n",
       "</table>\n"
      ],
      "text/plain": [
       "<pandas.io.formats.style.Styler at 0x11e7b53a0>"
      ]
     },
     "execution_count": 6,
     "metadata": {},
     "output_type": "execute_result"
    }
   ],
   "source": [
    "pd.DataFrame(round((data_games.isna().mean()*100),2)).style.background_gradient('ocean') "
   ]
  },
  {
   "cell_type": "code",
   "execution_count": 7,
   "id": "4962ca59",
   "metadata": {},
   "outputs": [
    {
     "data": {
      "text/plain": [
       "array([2006., 1985., 2008., 2009., 1996., 1989., 1984., 2005., 1999.,\n",
       "       2007., 2010., 2013., 2004., 1990., 1988., 2002., 2001., 2011.,\n",
       "       1998., 2015., 2012., 2014., 1992., 1997., 1993., 1994., 1982.,\n",
       "       2016., 2003., 1986., 2000.,   nan, 1995., 1991., 1981., 1987.,\n",
       "       1980., 1983.])"
      ]
     },
     "execution_count": 7,
     "metadata": {},
     "output_type": "execute_result"
    }
   ],
   "source": [
    "data_games['Year_of_Release'].unique()"
   ]
  },
  {
   "cell_type": "markdown",
   "id": "6f6f6f1d",
   "metadata": {},
   "source": [
    "не наблюдается \"странных\" значений, присутствуют пропуски"
   ]
  },
  {
   "cell_type": "code",
   "execution_count": 8,
   "id": "ac407998",
   "metadata": {},
   "outputs": [
    {
     "data": {
      "text/plain": [
       "array(['Wii', 'NES', 'GB', 'DS', 'X360', 'PS3', 'PS2', 'SNES', 'GBA',\n",
       "       'PS4', '3DS', 'N64', 'PS', 'XB', 'PC', '2600', 'PSP', 'XOne',\n",
       "       'WiiU', 'GC', 'GEN', 'DC', 'PSV', 'SAT', 'SCD', 'WS', 'NG', 'TG16',\n",
       "       '3DO', 'GG', 'PCFX'], dtype=object)"
      ]
     },
     "execution_count": 8,
     "metadata": {},
     "output_type": "execute_result"
    }
   ],
   "source": [
    "data_games['Platform'].unique()"
   ]
  },
  {
   "cell_type": "code",
   "execution_count": 9,
   "id": "6e1a4b79",
   "metadata": {},
   "outputs": [
    {
     "data": {
      "text/plain": [
       "array(['E', nan, 'M', 'T', 'E10+', 'K-A', 'AO', 'EC', 'RP'], dtype=object)"
      ]
     },
     "execution_count": 9,
     "metadata": {},
     "output_type": "execute_result"
    }
   ],
   "source": [
    "data_games['Rating'].unique()"
   ]
  },
  {
   "cell_type": "code",
   "execution_count": 10,
   "id": "fe78fdd4",
   "metadata": {},
   "outputs": [
    {
     "data": {
      "text/plain": [
       "count    16715.000000\n",
       "mean         0.263377\n",
       "std          0.813604\n",
       "min          0.000000\n",
       "25%          0.000000\n",
       "50%          0.080000\n",
       "75%          0.240000\n",
       "max         41.360000\n",
       "Name: NA_sales, dtype: float64"
      ]
     },
     "execution_count": 10,
     "metadata": {},
     "output_type": "execute_result"
    }
   ],
   "source": [
    "data_games['NA_sales'].describe()"
   ]
  },
  {
   "cell_type": "code",
   "execution_count": 11,
   "id": "f8e93186",
   "metadata": {},
   "outputs": [
    {
     "data": {
      "text/plain": [
       "count    16715.000000\n",
       "mean         0.145060\n",
       "std          0.503339\n",
       "min          0.000000\n",
       "25%          0.000000\n",
       "50%          0.020000\n",
       "75%          0.110000\n",
       "max         28.960000\n",
       "Name: EU_sales, dtype: float64"
      ]
     },
     "execution_count": 11,
     "metadata": {},
     "output_type": "execute_result"
    }
   ],
   "source": [
    "data_games['EU_sales'].describe()"
   ]
  },
  {
   "cell_type": "code",
   "execution_count": 12,
   "id": "337c76ac",
   "metadata": {},
   "outputs": [
    {
     "data": {
      "text/plain": [
       "count    16715.000000\n",
       "mean         0.077617\n",
       "std          0.308853\n",
       "min          0.000000\n",
       "25%          0.000000\n",
       "50%          0.000000\n",
       "75%          0.040000\n",
       "max         10.220000\n",
       "Name: JP_sales, dtype: float64"
      ]
     },
     "execution_count": 12,
     "metadata": {},
     "output_type": "execute_result"
    }
   ],
   "source": [
    "data_games['JP_sales'].describe()"
   ]
  },
  {
   "cell_type": "code",
   "execution_count": 13,
   "id": "45c51805",
   "metadata": {},
   "outputs": [
    {
     "data": {
      "text/plain": [
       "count    16715.000000\n",
       "mean         0.047342\n",
       "std          0.186731\n",
       "min          0.000000\n",
       "25%          0.000000\n",
       "50%          0.010000\n",
       "75%          0.030000\n",
       "max         10.570000\n",
       "Name: Other_sales, dtype: float64"
      ]
     },
     "execution_count": 13,
     "metadata": {},
     "output_type": "execute_result"
    }
   ],
   "source": [
    "data_games['Other_sales'].describe()"
   ]
  },
  {
   "cell_type": "code",
   "execution_count": 14,
   "id": "0094b7c6",
   "metadata": {},
   "outputs": [
    {
     "data": {
      "text/plain": [
       "array([76., nan, 82., 80., 89., 58., 87., 91., 61., 97., 95., 77., 88.,\n",
       "       83., 94., 93., 85., 86., 98., 96., 90., 84., 73., 74., 78., 92.,\n",
       "       71., 72., 68., 62., 49., 67., 81., 66., 56., 79., 70., 59., 64.,\n",
       "       75., 60., 63., 69., 50., 25., 42., 44., 55., 48., 57., 29., 47.,\n",
       "       65., 54., 20., 53., 37., 38., 33., 52., 30., 32., 43., 45., 51.,\n",
       "       40., 46., 39., 34., 35., 41., 36., 28., 31., 27., 26., 19., 23.,\n",
       "       24., 21., 17., 22., 13.])"
      ]
     },
     "execution_count": 14,
     "metadata": {},
     "output_type": "execute_result"
    }
   ],
   "source": [
    "data_games['Critic_Score'].unique()"
   ]
  },
  {
   "cell_type": "markdown",
   "id": "0262f558",
   "metadata": {},
   "source": [
    "нулевых значений нет, \"странных\" тоже, есть пропуски"
   ]
  },
  {
   "cell_type": "code",
   "execution_count": 15,
   "id": "9fcc78fd",
   "metadata": {},
   "outputs": [
    {
     "data": {
      "text/plain": [
       "tbd    2424\n",
       "7.8     324\n",
       "8       290\n",
       "8.2     282\n",
       "8.3     254\n",
       "       ... \n",
       "1.1       2\n",
       "1.9       2\n",
       "9.6       2\n",
       "0         1\n",
       "9.7       1\n",
       "Name: User_Score, Length: 96, dtype: int64"
      ]
     },
     "execution_count": 15,
     "metadata": {},
     "output_type": "execute_result"
    }
   ],
   "source": [
    "data_games['User_Score'].value_counts()"
   ]
  },
  {
   "cell_type": "markdown",
   "id": "2f0cc87d",
   "metadata": {},
   "source": [
    "есть нулевые значения! есть пропуски, есть значение tbd\n",
    "\n",
    "по мнению google TBD - аббревиатура от английского To Be Determined (будет определено) или To Be Decided (будет решено). Используется, если какая-то информация еще не определена или решение по вопросу не принято. Иными словами это те же пропуски."
   ]
  },
  {
   "cell_type": "code",
   "execution_count": 16,
   "id": "db1a8f9b",
   "metadata": {},
   "outputs": [
    {
     "data": {
      "text/plain": [
       "array(['E', nan, 'M', 'T', 'E10+', 'K-A', 'AO', 'EC', 'RP'], dtype=object)"
      ]
     },
     "execution_count": 16,
     "metadata": {},
     "output_type": "execute_result"
    }
   ],
   "source": [
    "data_games['Rating'].unique()"
   ]
  },
  {
   "cell_type": "markdown",
   "id": "f1ca5791",
   "metadata": {},
   "source": [
    "есть пропуски, так же после изучения Википедии, было установлено, что эти рейтинги:\n",
    "\n",
    "- E - Everyone - для всех, для детей от 6 лет.\n",
    "- T - Teen - игры для подростков старше 13 лет.\n",
    "- M - Mature - игры для подростков, старше 17 лет.\n",
    "- E10+ - Everyone 10 and older - для всех, старше 10 лет.\n",
    "- EC - Early Childhood - для детей от 3 лет.\n",
    "- RP - Rating Pending - рейтинг еще не присвоен, зачастую это игры добавленные сразу после презентации.\n",
    "- K-A - Kids to Adult - аналог E, которым K-A был заменен.\n",
    "- AO - Adults Only 18+ - только для взрослых, старше 18 лет.\n",
    "\n",
    "\n",
    "Таким образом K-A это старая версия E"
   ]
  },
  {
   "cell_type": "code",
   "execution_count": 17,
   "id": "8f498b96",
   "metadata": {},
   "outputs": [
    {
     "data": {
      "text/plain": [
       "array(['Sports', 'Platform', 'Racing', 'Role-Playing', 'Puzzle', 'Misc',\n",
       "       'Shooter', 'Simulation', 'Action', 'Fighting', 'Adventure',\n",
       "       'Strategy', nan], dtype=object)"
      ]
     },
     "execution_count": 17,
     "metadata": {},
     "output_type": "execute_result"
    }
   ],
   "source": [
    "data_games['Genre'].unique()"
   ]
  },
  {
   "cell_type": "markdown",
   "id": "f0d440de",
   "metadata": {},
   "source": [
    "<b>Вывод:</b> \n",
    "\n",
    "В целом, в данных отсуствуют \"странные\" значения, но присутствуют нулевые и пропущенные.\n",
    "\n",
    "Необходимо выполнить следующие операции:\n",
    " - привести строковые данные к нижнему регистру;\n",
    " - заменить типы данных (Year_of_Release   - к datetime, User_Score - к float, после обработки пропусков 'tbd');\n",
    " - выбрать стратегию обработки пропусков (столбцы Name, Year_of_Release, Genre, Critic_Score, User_Score, Rating)."
   ]
  },
  {
   "cell_type": "markdown",
   "id": "4b2d12e3",
   "metadata": {},
   "source": [
    "### Шаг 2. Подготовьте данные"
   ]
  },
  {
   "cell_type": "markdown",
   "id": "9a7aded3",
   "metadata": {},
   "source": [
    "- Замените названия столбцов (приведите к нижнему регистру);\n",
    "\n",
    "- Преобразуйте данные в нужные типы. Опишите, в каких столбцах заменили тип данных и почему;\n",
    "\n",
    "- Обработайте пропуски при необходимости:\n",
    "\n",
    "- Объясните, почему заполнили пропуски определённым образом или почему не стали это делать;\n",
    "\n",
    "- Опишите причины, которые могли привести к пропускам;\n",
    "\n",
    "- Обратите внимание на аббревиатуру 'tbd' в столбцах с рейтингом. Отдельно разберите это значение и опишите, как его обработать;\n",
    "\n",
    "- Посчитайте суммарные продажи во всех регионах и запишите их в отдельный столбец."
   ]
  },
  {
   "cell_type": "markdown",
   "id": "dda3fac5",
   "metadata": {},
   "source": [
    "#### Замена названий столбцов (приведение к нижнему регистру)"
   ]
  },
  {
   "cell_type": "code",
   "execution_count": 18,
   "id": "bf314af1",
   "metadata": {},
   "outputs": [
    {
     "data": {
      "text/html": [
       "<div>\n",
       "<style scoped>\n",
       "    .dataframe tbody tr th:only-of-type {\n",
       "        vertical-align: middle;\n",
       "    }\n",
       "\n",
       "    .dataframe tbody tr th {\n",
       "        vertical-align: top;\n",
       "    }\n",
       "\n",
       "    .dataframe thead th {\n",
       "        text-align: right;\n",
       "    }\n",
       "</style>\n",
       "<table border=\"1\" class=\"dataframe\">\n",
       "  <thead>\n",
       "    <tr style=\"text-align: right;\">\n",
       "      <th></th>\n",
       "      <th>name</th>\n",
       "      <th>platform</th>\n",
       "      <th>year_of_release</th>\n",
       "      <th>genre</th>\n",
       "      <th>na_sales</th>\n",
       "      <th>eu_sales</th>\n",
       "      <th>jp_sales</th>\n",
       "      <th>other_sales</th>\n",
       "      <th>critic_score</th>\n",
       "      <th>user_score</th>\n",
       "      <th>rating</th>\n",
       "    </tr>\n",
       "  </thead>\n",
       "  <tbody>\n",
       "    <tr>\n",
       "      <th>0</th>\n",
       "      <td>Wii Sports</td>\n",
       "      <td>Wii</td>\n",
       "      <td>2006.0</td>\n",
       "      <td>Sports</td>\n",
       "      <td>41.36</td>\n",
       "      <td>28.96</td>\n",
       "      <td>3.77</td>\n",
       "      <td>8.45</td>\n",
       "      <td>76.0</td>\n",
       "      <td>8</td>\n",
       "      <td>E</td>\n",
       "    </tr>\n",
       "    <tr>\n",
       "      <th>1</th>\n",
       "      <td>Super Mario Bros.</td>\n",
       "      <td>NES</td>\n",
       "      <td>1985.0</td>\n",
       "      <td>Platform</td>\n",
       "      <td>29.08</td>\n",
       "      <td>3.58</td>\n",
       "      <td>6.81</td>\n",
       "      <td>0.77</td>\n",
       "      <td>NaN</td>\n",
       "      <td>NaN</td>\n",
       "      <td>NaN</td>\n",
       "    </tr>\n",
       "    <tr>\n",
       "      <th>2</th>\n",
       "      <td>Mario Kart Wii</td>\n",
       "      <td>Wii</td>\n",
       "      <td>2008.0</td>\n",
       "      <td>Racing</td>\n",
       "      <td>15.68</td>\n",
       "      <td>12.76</td>\n",
       "      <td>3.79</td>\n",
       "      <td>3.29</td>\n",
       "      <td>82.0</td>\n",
       "      <td>8.3</td>\n",
       "      <td>E</td>\n",
       "    </tr>\n",
       "    <tr>\n",
       "      <th>3</th>\n",
       "      <td>Wii Sports Resort</td>\n",
       "      <td>Wii</td>\n",
       "      <td>2009.0</td>\n",
       "      <td>Sports</td>\n",
       "      <td>15.61</td>\n",
       "      <td>10.93</td>\n",
       "      <td>3.28</td>\n",
       "      <td>2.95</td>\n",
       "      <td>80.0</td>\n",
       "      <td>8</td>\n",
       "      <td>E</td>\n",
       "    </tr>\n",
       "    <tr>\n",
       "      <th>4</th>\n",
       "      <td>Pokemon Red/Pokemon Blue</td>\n",
       "      <td>GB</td>\n",
       "      <td>1996.0</td>\n",
       "      <td>Role-Playing</td>\n",
       "      <td>11.27</td>\n",
       "      <td>8.89</td>\n",
       "      <td>10.22</td>\n",
       "      <td>1.00</td>\n",
       "      <td>NaN</td>\n",
       "      <td>NaN</td>\n",
       "      <td>NaN</td>\n",
       "    </tr>\n",
       "  </tbody>\n",
       "</table>\n",
       "</div>"
      ],
      "text/plain": [
       "                       name platform  year_of_release         genre  na_sales  \\\n",
       "0                Wii Sports      Wii           2006.0        Sports     41.36   \n",
       "1         Super Mario Bros.      NES           1985.0      Platform     29.08   \n",
       "2            Mario Kart Wii      Wii           2008.0        Racing     15.68   \n",
       "3         Wii Sports Resort      Wii           2009.0        Sports     15.61   \n",
       "4  Pokemon Red/Pokemon Blue       GB           1996.0  Role-Playing     11.27   \n",
       "\n",
       "   eu_sales  jp_sales  other_sales  critic_score user_score rating  \n",
       "0     28.96      3.77         8.45          76.0          8      E  \n",
       "1      3.58      6.81         0.77           NaN        NaN    NaN  \n",
       "2     12.76      3.79         3.29          82.0        8.3      E  \n",
       "3     10.93      3.28         2.95          80.0          8      E  \n",
       "4      8.89     10.22         1.00           NaN        NaN    NaN  "
      ]
     },
     "execution_count": 18,
     "metadata": {},
     "output_type": "execute_result"
    }
   ],
   "source": [
    "#замена регистра столбцов\n",
    "data_games.columns = data_games.columns.str.lower()\n",
    "data_games.head()"
   ]
  },
  {
   "cell_type": "markdown",
   "id": "c8cd4ce9",
   "metadata": {},
   "source": [
    "#### Преобразование данных в нужные типы с описанием и замена пропусков"
   ]
  },
  {
   "cell_type": "code",
   "execution_count": 19,
   "id": "9906a1e5",
   "metadata": {},
   "outputs": [
    {
     "data": {
      "text/plain": [
       "array([2006, 1985, 2008, 2009, 1996, 1989, 1984, 2005, 1999, 2007, 2010,\n",
       "       2013, 2004, 1990, 1988, 2002, 2001, 2011, 1998, 2015, 2012, 2014,\n",
       "       1992, 1997, 1993, 1994, 1982, 2016, 2003, 1986, 2000, 2222, 1995,\n",
       "       1991, 1981, 1987, 1980, 1983])"
      ]
     },
     "execution_count": 19,
     "metadata": {},
     "output_type": "execute_result"
    }
   ],
   "source": [
    "#обработаем столбец с датой\n",
    "\n",
    "#заменим пропуски в столбце значением 2222, чтобы его можно было затем определить\n",
    "data_games['year_of_release'] = data_games['year_of_release'].fillna(2222)\n",
    "\n",
    "#для начала, сделаем его строкой\n",
    "data_games['year_of_release'] = data_games['year_of_release'].astype('int')\n",
    "\n",
    "#посмотрим что получилось\n",
    "data_games['year_of_release'].unique()"
   ]
  },
  {
   "cell_type": "code",
   "execution_count": 20,
   "id": "b00191bb",
   "metadata": {},
   "outputs": [
    {
     "data": {
      "text/plain": [
       "-1.0    9125\n",
       " 7.8     324\n",
       " 8.0     290\n",
       " 8.2     282\n",
       " 8.3     254\n",
       "        ... \n",
       " 1.5       2\n",
       " 0.3       2\n",
       " 1.1       2\n",
       " 0.0       1\n",
       " 9.7       1\n",
       "Name: user_score, Length: 96, dtype: int64"
      ]
     },
     "execution_count": 20,
     "metadata": {},
     "output_type": "execute_result"
    }
   ],
   "source": [
    "#обработаем столбец с user_score\n",
    "#для начала заменим tbd на -1 и nan на -1 (на 0 нельзя, такая оценка есть!)\n",
    "\n",
    "data_games['user_score'] = data_games['user_score'].replace('tbd', -1)\n",
    "data_games['user_score']=data_games['user_score'].fillna(value=-1).astype('float')\n",
    "\n",
    "#проверка замены\n",
    "data_games['user_score'].value_counts()"
   ]
  },
  {
   "cell_type": "markdown",
   "id": "c1266774",
   "metadata": {},
   "source": [
    "нецелесообразно заменять пропуски средним или частым значением, пропуском больше 10%, чтобы видеть, что значение пропущено оставляем -1 (на 0 нельзя, нулевое значение уже есть)"
   ]
  },
  {
   "cell_type": "code",
   "execution_count": 21,
   "id": "1c076104",
   "metadata": {},
   "outputs": [],
   "source": [
    "#обработаем пропуски в графах name, rating и genre\n",
    "data_games['name']=data_games['name'].fillna(value='no name')\n",
    "data_games['rating']=data_games['rating'].fillna(value='no raiting')\n",
    "data_games['genre']=data_games['genre'].fillna(value='no genre')\n",
    "\n",
    "#замена рейтинга старого образца на новый\n",
    "data_games['rating']=data_games['rating'].replace('K-A', 'E')"
   ]
  },
  {
   "cell_type": "code",
   "execution_count": 22,
   "id": "f98f48ff",
   "metadata": {},
   "outputs": [],
   "source": [
    "#обработаем пропуски в графе critic_score\n",
    "data_games['critic_score']=data_games['critic_score'].fillna(value=0)"
   ]
  },
  {
   "cell_type": "code",
   "execution_count": 23,
   "id": "373dc394",
   "metadata": {},
   "outputs": [
    {
     "data": {
      "text/plain": [
       "name               0\n",
       "platform           0\n",
       "year_of_release    0\n",
       "genre              0\n",
       "na_sales           0\n",
       "eu_sales           0\n",
       "jp_sales           0\n",
       "other_sales        0\n",
       "critic_score       0\n",
       "user_score         0\n",
       "rating             0\n",
       "dtype: int64"
      ]
     },
     "execution_count": 23,
     "metadata": {},
     "output_type": "execute_result"
    }
   ],
   "source": [
    "#посмотрим что у нас \n",
    "data_games.isna().sum()"
   ]
  },
  {
   "cell_type": "code",
   "execution_count": 24,
   "id": "aa5360af",
   "metadata": {},
   "outputs": [
    {
     "name": "stdout",
     "output_type": "stream",
     "text": [
      "<class 'pandas.core.frame.DataFrame'>\n",
      "RangeIndex: 16715 entries, 0 to 16714\n",
      "Data columns (total 11 columns):\n",
      " #   Column           Non-Null Count  Dtype  \n",
      "---  ------           --------------  -----  \n",
      " 0   name             16715 non-null  object \n",
      " 1   platform         16715 non-null  object \n",
      " 2   year_of_release  16715 non-null  int64  \n",
      " 3   genre            16715 non-null  object \n",
      " 4   na_sales         16715 non-null  float64\n",
      " 5   eu_sales         16715 non-null  float64\n",
      " 6   jp_sales         16715 non-null  float64\n",
      " 7   other_sales      16715 non-null  float64\n",
      " 8   critic_score     16715 non-null  float64\n",
      " 9   user_score       16715 non-null  float64\n",
      " 10  rating           16715 non-null  object \n",
      "dtypes: float64(6), int64(1), object(4)\n",
      "memory usage: 1.4+ MB\n"
     ]
    }
   ],
   "source": [
    "data_games.info()"
   ]
  },
  {
   "cell_type": "code",
   "execution_count": 25,
   "id": "6fc3ab07",
   "metadata": {},
   "outputs": [],
   "source": [
    "data_games['name']=data_games['name'].str.lower()\n",
    "data_games['platform']=data_games['platform'].str.lower() \n",
    "data_games['genre']=data_games['genre'].str.lower() \n",
    "data_games['rating']=data_games['rating'].str.lower() "
   ]
  },
  {
   "cell_type": "code",
   "execution_count": 26,
   "id": "61ac7e87",
   "metadata": {},
   "outputs": [
    {
     "data": {
      "text/plain": [
       "0"
      ]
     },
     "execution_count": 26,
     "metadata": {},
     "output_type": "execute_result"
    }
   ],
   "source": [
    "data_games.duplicated().sum()"
   ]
  },
  {
   "cell_type": "markdown",
   "id": "c7f2b5a1",
   "metadata": {},
   "source": [
    "Дубликатов нет)"
   ]
  },
  {
   "cell_type": "markdown",
   "id": "ea3d014d",
   "metadata": {},
   "source": [
    "#### Суммарные продажи во всех регионах "
   ]
  },
  {
   "cell_type": "code",
   "execution_count": 27,
   "id": "86895f7a",
   "metadata": {},
   "outputs": [
    {
     "data": {
      "text/html": [
       "<div>\n",
       "<style scoped>\n",
       "    .dataframe tbody tr th:only-of-type {\n",
       "        vertical-align: middle;\n",
       "    }\n",
       "\n",
       "    .dataframe tbody tr th {\n",
       "        vertical-align: top;\n",
       "    }\n",
       "\n",
       "    .dataframe thead th {\n",
       "        text-align: right;\n",
       "    }\n",
       "</style>\n",
       "<table border=\"1\" class=\"dataframe\">\n",
       "  <thead>\n",
       "    <tr style=\"text-align: right;\">\n",
       "      <th></th>\n",
       "      <th>name</th>\n",
       "      <th>platform</th>\n",
       "      <th>year_of_release</th>\n",
       "      <th>genre</th>\n",
       "      <th>na_sales</th>\n",
       "      <th>eu_sales</th>\n",
       "      <th>jp_sales</th>\n",
       "      <th>other_sales</th>\n",
       "      <th>critic_score</th>\n",
       "      <th>user_score</th>\n",
       "      <th>rating</th>\n",
       "      <th>total_sales</th>\n",
       "    </tr>\n",
       "  </thead>\n",
       "  <tbody>\n",
       "    <tr>\n",
       "      <th>0</th>\n",
       "      <td>wii sports</td>\n",
       "      <td>wii</td>\n",
       "      <td>2006</td>\n",
       "      <td>sports</td>\n",
       "      <td>41.36</td>\n",
       "      <td>28.96</td>\n",
       "      <td>3.77</td>\n",
       "      <td>8.45</td>\n",
       "      <td>76.0</td>\n",
       "      <td>8.0</td>\n",
       "      <td>e</td>\n",
       "      <td>82.54</td>\n",
       "    </tr>\n",
       "    <tr>\n",
       "      <th>1</th>\n",
       "      <td>super mario bros.</td>\n",
       "      <td>nes</td>\n",
       "      <td>1985</td>\n",
       "      <td>platform</td>\n",
       "      <td>29.08</td>\n",
       "      <td>3.58</td>\n",
       "      <td>6.81</td>\n",
       "      <td>0.77</td>\n",
       "      <td>0.0</td>\n",
       "      <td>-1.0</td>\n",
       "      <td>no raiting</td>\n",
       "      <td>40.24</td>\n",
       "    </tr>\n",
       "    <tr>\n",
       "      <th>2</th>\n",
       "      <td>mario kart wii</td>\n",
       "      <td>wii</td>\n",
       "      <td>2008</td>\n",
       "      <td>racing</td>\n",
       "      <td>15.68</td>\n",
       "      <td>12.76</td>\n",
       "      <td>3.79</td>\n",
       "      <td>3.29</td>\n",
       "      <td>82.0</td>\n",
       "      <td>8.3</td>\n",
       "      <td>e</td>\n",
       "      <td>35.52</td>\n",
       "    </tr>\n",
       "    <tr>\n",
       "      <th>3</th>\n",
       "      <td>wii sports resort</td>\n",
       "      <td>wii</td>\n",
       "      <td>2009</td>\n",
       "      <td>sports</td>\n",
       "      <td>15.61</td>\n",
       "      <td>10.93</td>\n",
       "      <td>3.28</td>\n",
       "      <td>2.95</td>\n",
       "      <td>80.0</td>\n",
       "      <td>8.0</td>\n",
       "      <td>e</td>\n",
       "      <td>32.77</td>\n",
       "    </tr>\n",
       "    <tr>\n",
       "      <th>4</th>\n",
       "      <td>pokemon red/pokemon blue</td>\n",
       "      <td>gb</td>\n",
       "      <td>1996</td>\n",
       "      <td>role-playing</td>\n",
       "      <td>11.27</td>\n",
       "      <td>8.89</td>\n",
       "      <td>10.22</td>\n",
       "      <td>1.00</td>\n",
       "      <td>0.0</td>\n",
       "      <td>-1.0</td>\n",
       "      <td>no raiting</td>\n",
       "      <td>31.38</td>\n",
       "    </tr>\n",
       "  </tbody>\n",
       "</table>\n",
       "</div>"
      ],
      "text/plain": [
       "                       name platform  year_of_release         genre  na_sales  \\\n",
       "0                wii sports      wii             2006        sports     41.36   \n",
       "1         super mario bros.      nes             1985      platform     29.08   \n",
       "2            mario kart wii      wii             2008        racing     15.68   \n",
       "3         wii sports resort      wii             2009        sports     15.61   \n",
       "4  pokemon red/pokemon blue       gb             1996  role-playing     11.27   \n",
       "\n",
       "   eu_sales  jp_sales  other_sales  critic_score  user_score      rating  \\\n",
       "0     28.96      3.77         8.45          76.0         8.0           e   \n",
       "1      3.58      6.81         0.77           0.0        -1.0  no raiting   \n",
       "2     12.76      3.79         3.29          82.0         8.3           e   \n",
       "3     10.93      3.28         2.95          80.0         8.0           e   \n",
       "4      8.89     10.22         1.00           0.0        -1.0  no raiting   \n",
       "\n",
       "   total_sales  \n",
       "0        82.54  \n",
       "1        40.24  \n",
       "2        35.52  \n",
       "3        32.77  \n",
       "4        31.38  "
      ]
     },
     "execution_count": 27,
     "metadata": {},
     "output_type": "execute_result"
    }
   ],
   "source": [
    "data_games['total_sales']=data_games['na_sales']+data_games['eu_sales']+data_games['jp_sales']+data_games['other_sales']\n",
    "data_games.head()"
   ]
  },
  {
   "cell_type": "markdown",
   "id": "50fbffd4",
   "metadata": {},
   "source": [
    "<b>Вывод: </b>\n",
    "\n",
    "заменены типы данных в следующих столбцах:\n",
    " - year_of_release --> на int:\n",
    " - user_score ---> на float\n",
    "\n",
    "произведены замены:\n",
    " - в name, genre, rating ---> 'no name','no genre','no raiting': все эти столбцы категориальные, чтобы \"видеть\" пропуски и исключать из анализа, лучше их заменить, пропусков достаточно много, заменять их на самое популярное значение или что-то еще нельзя, это приведет к искажению результатов анализа;\n",
    " \n",
    " - в critic_score замена на 0, такого значения нет в уникальных значениях, тип данных float, заменять пропуска на среднее значение или что-то еще нельзя, это приведет к искажению результатов анализа;\n",
    " \n",
    " - в user_score замена на -1, так как на 0 нельзя, нулевое значение есть в уникальных;\n",
    " \n",
    " - year_of_release замена пропусков и tbd, который означает отсутсвие на данный момент решения по вопросу (=по факту отсуствие данных) на 2222, для того, чтобы можно было перевести в int и затем видеть их в анализе, исключать и процессе.\n",
    " \n",
    "причины пропусков:\n",
    "- ошибки ввода,\n",
    "- неизвестные причины.\n",
    "\n",
    "подсчитаны и добавлены в таблицу данные по суммарным продажам по всем регионам."
   ]
  },
  {
   "cell_type": "markdown",
   "id": "a844e2e4",
   "metadata": {},
   "source": [
    "### Шаг 3. Проведите исследовательский анализ данных"
   ]
  },
  {
   "cell_type": "markdown",
   "id": "27515455",
   "metadata": {},
   "source": [
    "#### Посмотрите, сколько игр выпускалось в разные годы. Важны ли данные за все периоды?"
   ]
  },
  {
   "cell_type": "code",
   "execution_count": 28,
   "id": "f980565d",
   "metadata": {},
   "outputs": [
    {
     "data": {
      "text/html": [
       "<div>\n",
       "<style scoped>\n",
       "    .dataframe tbody tr th:only-of-type {\n",
       "        vertical-align: middle;\n",
       "    }\n",
       "\n",
       "    .dataframe tbody tr th {\n",
       "        vertical-align: top;\n",
       "    }\n",
       "\n",
       "    .dataframe thead th {\n",
       "        text-align: right;\n",
       "    }\n",
       "</style>\n",
       "<table border=\"1\" class=\"dataframe\">\n",
       "  <thead>\n",
       "    <tr style=\"text-align: right;\">\n",
       "      <th></th>\n",
       "      <th>count</th>\n",
       "    </tr>\n",
       "    <tr>\n",
       "      <th>year_of_release</th>\n",
       "      <th></th>\n",
       "    </tr>\n",
       "  </thead>\n",
       "  <tbody>\n",
       "    <tr>\n",
       "      <th>1980</th>\n",
       "      <td>9</td>\n",
       "    </tr>\n",
       "    <tr>\n",
       "      <th>1981</th>\n",
       "      <td>46</td>\n",
       "    </tr>\n",
       "    <tr>\n",
       "      <th>1982</th>\n",
       "      <td>36</td>\n",
       "    </tr>\n",
       "    <tr>\n",
       "      <th>1983</th>\n",
       "      <td>17</td>\n",
       "    </tr>\n",
       "    <tr>\n",
       "      <th>1984</th>\n",
       "      <td>14</td>\n",
       "    </tr>\n",
       "  </tbody>\n",
       "</table>\n",
       "</div>"
      ],
      "text/plain": [
       "                 count\n",
       "year_of_release       \n",
       "1980                 9\n",
       "1981                46\n",
       "1982                36\n",
       "1983                17\n",
       "1984                14"
      ]
     },
     "execution_count": 28,
     "metadata": {},
     "output_type": "execute_result"
    }
   ],
   "source": [
    "#исключим данных, в которых не было года\n",
    "data_per_year = data_games.query('year_of_release != 2222')\n",
    "\n",
    "#сводная таблица\n",
    "data_per_year=data_per_year.pivot_table(index='year_of_release',values='total_sales',aggfunc='count')\n",
    "data_per_year.columns = ['count']\n",
    "\n",
    "#посмотрим последние годы\n",
    "data_per_year.head(5)"
   ]
  },
  {
   "cell_type": "code",
   "execution_count": 29,
   "id": "9cd6a274",
   "metadata": {},
   "outputs": [
    {
     "data": {
      "image/png": "[encoded data removed]",
      "text/plain": [
       "<Figure size 1080x504 with 1 Axes>"
      ]
     },
     "metadata": {},
     "output_type": "display_data"
    }
   ],
   "source": [
    "#построим гистограмму и посмотрим на ней на распределение по годам\n",
    "sns.set_style('darkgrid')\n",
    "plt.figure(figsize=(15,7))\n",
    "\n",
    "sns.barplot(x=data_per_year.index, y='count', data=data_per_year, color='blue',alpha=0.4)\n",
    "plt.xlabel('Год выпуска игры', fontsize=14)\n",
    "plt.ylabel('Количество выпусков в год', fontsize=14)\n",
    "plt.title('Распределение выпусков игр по годам', fontsize=14)\n",
    "\n",
    "plt.show()\n",
    " "
   ]
  },
  {
   "cell_type": "markdown",
   "id": "3bf4b6ec",
   "metadata": {},
   "source": [
    "<b>Вывод:</b> Видим, что выпускаться игры начали в 1980, но до 1991 их было очень мало, эти годы можно не учитывать. Будем брать для анализа период с 1991 по 2016 год."
   ]
  },
  {
   "cell_type": "markdown",
   "id": "fd4762dd",
   "metadata": {},
   "source": [
    "#### Посмотрите, как менялись продажи по платформам. "
   ]
  },
  {
   "cell_type": "code",
   "execution_count": 30,
   "id": "0c71a237",
   "metadata": {},
   "outputs": [],
   "source": [
    "#таблица с актуальным периодом\n",
    "games_good_time=data_games.query('year_of_release !=2222 and year_of_release >= 1991')"
   ]
  },
  {
   "cell_type": "code",
   "execution_count": 31,
   "id": "26b11dbe",
   "metadata": {},
   "outputs": [
    {
     "data": {
      "text/html": [
       "<div>\n",
       "<style scoped>\n",
       "    .dataframe tbody tr th:only-of-type {\n",
       "        vertical-align: middle;\n",
       "    }\n",
       "\n",
       "    .dataframe tbody tr th {\n",
       "        vertical-align: top;\n",
       "    }\n",
       "\n",
       "    .dataframe thead th {\n",
       "        text-align: right;\n",
       "    }\n",
       "</style>\n",
       "<table border=\"1\" class=\"dataframe\">\n",
       "  <thead>\n",
       "    <tr style=\"text-align: right;\">\n",
       "      <th></th>\n",
       "      <th>total_sales</th>\n",
       "    </tr>\n",
       "    <tr>\n",
       "      <th>platform</th>\n",
       "      <th></th>\n",
       "    </tr>\n",
       "  </thead>\n",
       "  <tbody>\n",
       "    <tr>\n",
       "      <th>ps2</th>\n",
       "      <td>1233.56</td>\n",
       "    </tr>\n",
       "    <tr>\n",
       "      <th>x360</th>\n",
       "      <td>961.24</td>\n",
       "    </tr>\n",
       "    <tr>\n",
       "      <th>ps3</th>\n",
       "      <td>931.34</td>\n",
       "    </tr>\n",
       "    <tr>\n",
       "      <th>wii</th>\n",
       "      <td>891.18</td>\n",
       "    </tr>\n",
       "    <tr>\n",
       "      <th>ds</th>\n",
       "      <td>802.76</td>\n",
       "    </tr>\n",
       "  </tbody>\n",
       "</table>\n",
       "</div>"
      ],
      "text/plain": [
       "          total_sales\n",
       "platform             \n",
       "ps2           1233.56\n",
       "x360           961.24\n",
       "ps3            931.34\n",
       "wii            891.18\n",
       "ds             802.76"
      ]
     },
     "execution_count": 31,
     "metadata": {},
     "output_type": "execute_result"
    }
   ],
   "source": [
    "#выделим данные по актуальному периоду, исключив замененные нулевые значения\n",
    "data_games_platform=data_games.query('year_of_release !=2222 and year_of_release >1991')\n",
    "\n",
    "#сведем данные по платформам и отсортируем\n",
    "platform_sales=data_games_platform.pivot_table(index='platform', values='total_sales', aggfunc='sum').sort_values(by='total_sales', ascending=False)\n",
    "\n",
    "platform_sales.head()"
   ]
  },
  {
   "cell_type": "code",
   "execution_count": 32,
   "id": "0e5764b0",
   "metadata": {
    "scrolled": false
   },
   "outputs": [
    {
     "data": {
      "image/png": "[encoded data removed]",
      "text/plain": [
       "<Figure size 1080x504 with 1 Axes>"
      ]
     },
     "metadata": {},
     "output_type": "display_data"
    }
   ],
   "source": [
    "#посмотрим на распределение продаж по платформам по продажам\n",
    "\n",
    "sns.set_style('darkgrid')\n",
    "plt.figure(figsize=(15,7))\n",
    "\n",
    "\n",
    "sns.barplot(x=platform_sales.index, y='total_sales', data=platform_sales, color='red',alpha=0.4)\n",
    "plt.xlabel('Платформа', fontsize=14)\n",
    "plt.ylabel('Суммарные продажи, млн$', fontsize=14)\n",
    "plt.title('Распределение продаж по платформам', fontsize=14)\n",
    "\n",
    "plt.show()"
   ]
  },
  {
   "cell_type": "markdown",
   "id": "421fa40c",
   "metadata": {},
   "source": [
    "<b>Вывод:</b> По гистограмме видно, что с приличным отрывом лидируют 6 платформ: ps2,x360,ps3,wii,ds,ps."
   ]
  },
  {
   "cell_type": "markdown",
   "id": "50c68f14",
   "metadata": {},
   "source": [
    "#### Выберите платформы с наибольшими суммарными продажами и постройте распределение по годам"
   ]
  },
  {
   "cell_type": "code",
   "execution_count": 33,
   "id": "6dae6c1a",
   "metadata": {},
   "outputs": [
    {
     "data": {
      "text/html": [
       "<div>\n",
       "<style scoped>\n",
       "    .dataframe tbody tr th:only-of-type {\n",
       "        vertical-align: middle;\n",
       "    }\n",
       "\n",
       "    .dataframe tbody tr th {\n",
       "        vertical-align: top;\n",
       "    }\n",
       "\n",
       "    .dataframe thead th {\n",
       "        text-align: right;\n",
       "    }\n",
       "</style>\n",
       "<table border=\"1\" class=\"dataframe\">\n",
       "  <thead>\n",
       "    <tr style=\"text-align: right;\">\n",
       "      <th></th>\n",
       "      <th>name</th>\n",
       "      <th>platform</th>\n",
       "      <th>year_of_release</th>\n",
       "      <th>total_sales</th>\n",
       "    </tr>\n",
       "  </thead>\n",
       "  <tbody>\n",
       "    <tr>\n",
       "      <th>0</th>\n",
       "      <td>wii sports</td>\n",
       "      <td>wii</td>\n",
       "      <td>2006</td>\n",
       "      <td>82.54</td>\n",
       "    </tr>\n",
       "    <tr>\n",
       "      <th>2</th>\n",
       "      <td>mario kart wii</td>\n",
       "      <td>wii</td>\n",
       "      <td>2008</td>\n",
       "      <td>35.52</td>\n",
       "    </tr>\n",
       "    <tr>\n",
       "      <th>3</th>\n",
       "      <td>wii sports resort</td>\n",
       "      <td>wii</td>\n",
       "      <td>2009</td>\n",
       "      <td>32.77</td>\n",
       "    </tr>\n",
       "    <tr>\n",
       "      <th>6</th>\n",
       "      <td>new super mario bros.</td>\n",
       "      <td>ds</td>\n",
       "      <td>2006</td>\n",
       "      <td>29.80</td>\n",
       "    </tr>\n",
       "    <tr>\n",
       "      <th>7</th>\n",
       "      <td>wii play</td>\n",
       "      <td>wii</td>\n",
       "      <td>2006</td>\n",
       "      <td>28.91</td>\n",
       "    </tr>\n",
       "  </tbody>\n",
       "</table>\n",
       "</div>"
      ],
      "text/plain": [
       "                    name platform  year_of_release  total_sales\n",
       "0             wii sports      wii             2006        82.54\n",
       "2         mario kart wii      wii             2008        35.52\n",
       "3      wii sports resort      wii             2009        32.77\n",
       "6  new super mario bros.       ds             2006        29.80\n",
       "7               wii play      wii             2006        28.91"
      ]
     },
     "execution_count": 33,
     "metadata": {},
     "output_type": "execute_result"
    }
   ],
   "source": [
    "#выделение популярных платформ\n",
    "data_platform_top=data_games_platform[(data_games_platform['platform']=='ps2') | (data_games_platform['platform']=='x360') | (data_games_platform['platform']=='ps3') | (data_games_platform['platform']=='wii') | (data_games_platform['platform']=='ds') | (data_games_platform['platform']=='ps')]\n",
    "\n",
    "#оставим необходимые столбцы\n",
    "data_platform_top=data_platform_top[['name','platform','year_of_release','total_sales']]\n",
    "data_platform_top.head()"
   ]
  },
  {
   "cell_type": "code",
   "execution_count": 34,
   "id": "ad0e38fc",
   "metadata": {},
   "outputs": [
    {
     "data": {
      "text/plain": [
       "['wii', 'ds', 'x360', 'ps3', 'ps2', 'ps']"
      ]
     },
     "execution_count": 34,
     "metadata": {},
     "output_type": "execute_result"
    }
   ],
   "source": [
    "#выделим название платформ в список\n",
    "platform_list=data_platform_top['platform'].unique().tolist()\n",
    "platform_list"
   ]
  },
  {
   "cell_type": "code",
   "execution_count": 35,
   "id": "4a0a073e",
   "metadata": {},
   "outputs": [
    {
     "data": {
      "text/html": [
       "<div>\n",
       "<style scoped>\n",
       "    .dataframe tbody tr th:only-of-type {\n",
       "        vertical-align: middle;\n",
       "    }\n",
       "\n",
       "    .dataframe tbody tr th {\n",
       "        vertical-align: top;\n",
       "    }\n",
       "\n",
       "    .dataframe thead th {\n",
       "        text-align: right;\n",
       "    }\n",
       "</style>\n",
       "<table border=\"1\" class=\"dataframe\">\n",
       "  <thead>\n",
       "    <tr style=\"text-align: right;\">\n",
       "      <th>platform</th>\n",
       "      <th>ds</th>\n",
       "      <th>ps</th>\n",
       "      <th>ps2</th>\n",
       "      <th>ps3</th>\n",
       "      <th>wii</th>\n",
       "      <th>x360</th>\n",
       "    </tr>\n",
       "    <tr>\n",
       "      <th>year_of_release</th>\n",
       "      <th></th>\n",
       "      <th></th>\n",
       "      <th></th>\n",
       "      <th></th>\n",
       "      <th></th>\n",
       "      <th></th>\n",
       "    </tr>\n",
       "  </thead>\n",
       "  <tbody>\n",
       "    <tr>\n",
       "      <th>1994</th>\n",
       "      <td>0.0</td>\n",
       "      <td>6.03</td>\n",
       "      <td>0.0</td>\n",
       "      <td>0.0</td>\n",
       "      <td>0.0</td>\n",
       "      <td>0.0</td>\n",
       "    </tr>\n",
       "    <tr>\n",
       "      <th>1995</th>\n",
       "      <td>0.0</td>\n",
       "      <td>35.96</td>\n",
       "      <td>0.0</td>\n",
       "      <td>0.0</td>\n",
       "      <td>0.0</td>\n",
       "      <td>0.0</td>\n",
       "    </tr>\n",
       "    <tr>\n",
       "      <th>1996</th>\n",
       "      <td>0.0</td>\n",
       "      <td>94.70</td>\n",
       "      <td>0.0</td>\n",
       "      <td>0.0</td>\n",
       "      <td>0.0</td>\n",
       "      <td>0.0</td>\n",
       "    </tr>\n",
       "    <tr>\n",
       "      <th>1997</th>\n",
       "      <td>0.0</td>\n",
       "      <td>136.17</td>\n",
       "      <td>0.0</td>\n",
       "      <td>0.0</td>\n",
       "      <td>0.0</td>\n",
       "      <td>0.0</td>\n",
       "    </tr>\n",
       "    <tr>\n",
       "      <th>1998</th>\n",
       "      <td>0.0</td>\n",
       "      <td>169.49</td>\n",
       "      <td>0.0</td>\n",
       "      <td>0.0</td>\n",
       "      <td>0.0</td>\n",
       "      <td>0.0</td>\n",
       "    </tr>\n",
       "  </tbody>\n",
       "</table>\n",
       "</div>"
      ],
      "text/plain": [
       "platform          ds      ps  ps2  ps3  wii  x360\n",
       "year_of_release                                  \n",
       "1994             0.0    6.03  0.0  0.0  0.0   0.0\n",
       "1995             0.0   35.96  0.0  0.0  0.0   0.0\n",
       "1996             0.0   94.70  0.0  0.0  0.0   0.0\n",
       "1997             0.0  136.17  0.0  0.0  0.0   0.0\n",
       "1998             0.0  169.49  0.0  0.0  0.0   0.0"
      ]
     },
     "execution_count": 35,
     "metadata": {},
     "output_type": "execute_result"
    }
   ],
   "source": [
    "#построим графики для топ-6 платформ\n",
    "#сделаем сводную таблицу\n",
    "top_platform_plot=data_platform_top.pivot_table(index='year_of_release', columns='platform', values='total_sales', aggfunc='sum')\n",
    "\n",
    "#в некоторых годах продаж не было,заменим 0\n",
    "top_platform_plot=top_platform_plot.fillna(value=0)\n",
    "top_platform_plot.head()"
   ]
  },
  {
   "cell_type": "code",
   "execution_count": 36,
   "id": "eb8fc15d",
   "metadata": {},
   "outputs": [
    {
     "data": {
      "image/png": "[encoded data removed]",
      "text/plain": [
       "<Figure size 720x360 with 1 Axes>"
      ]
     },
     "metadata": {},
     "output_type": "display_data"
    }
   ],
   "source": [
    "#построим графики\n",
    "\n",
    "sns.set_style('darkgrid')\n",
    "\n",
    "\n",
    "top_platform_plot.plot(alpha=0.7,figsize=(10,5))\n",
    "plt.xlabel('год', fontsize=12)\n",
    "plt.ylabel('Суммарные продажи, млн$', fontsize=12)\n",
    "plt.title('Распределение продаж по платформам и годам', fontsize=12)\n",
    "\n",
    "plt.show()"
   ]
  },
  {
   "cell_type": "markdown",
   "id": "4a74fe83",
   "metadata": {},
   "source": [
    "<b>Вывод:</b> Из графиков видно, что при выходе новой версии платформы, продажи на старую стремительно падают. К примеру это видно по цепочке PS-> PS2-> PS3"
   ]
  },
  {
   "cell_type": "markdown",
   "id": "384b6178",
   "metadata": {},
   "source": [
    "#### За какой характерный срок появляются новые и исчезают старые платформы?"
   ]
  },
  {
   "cell_type": "code",
   "execution_count": 37,
   "id": "7c3d4e26",
   "metadata": {},
   "outputs": [
    {
     "data": {
      "text/plain": [
       "[10, 9, 11, 10, 11, 9]"
      ]
     },
     "execution_count": 37,
     "metadata": {},
     "output_type": "execute_result"
    }
   ],
   "source": [
    "#автоматизируем вычисление срока существования платформы из топ-6\n",
    "\n",
    "year_list=[]\n",
    "min_max=0\n",
    "\n",
    "#обойдем циклом все платформы ТОП-6 и посмотрим для них разницу между самым ранним годом релиза и самым поздним\n",
    "for element in  ('wii', 'ds', 'x360', 'ps3', 'ps2', 'ps'):\n",
    "    platform_plot=data_platform_top[(data_platform_top['platform']==element)]\n",
    "    min_max=(platform_plot['year_of_release'].max())-(platform_plot['year_of_release'].min())\n",
    "    year_list.append(min_max) \n",
    "\n",
    "year_list   \n",
    "    "
   ]
  },
  {
   "cell_type": "markdown",
   "id": "a59ad173",
   "metadata": {},
   "source": [
    "Видим, что топовые платформы существуют около 10 лет. Посмотрим что с жизненным циклом у всех остальных платформ."
   ]
  },
  {
   "cell_type": "code",
   "execution_count": 38,
   "id": "0fe36931",
   "metadata": {},
   "outputs": [
    {
     "name": "stdout",
     "output_type": "stream",
     "text": [
      "['wii', 'nes', 'gb', 'ds', 'x360', 'ps3', 'ps2', 'snes', 'gba', 'ps4', '3ds', 'n64', 'ps', 'xb', 'pc', '2600', 'psp', 'xone', 'wiiu', 'gc', 'gen', 'dc', 'psv', 'sat', 'scd', 'ws', 'ng', 'tg16', '3do', 'gg', 'pcfx']\n"
     ]
    }
   ],
   "source": [
    "#извлечем все платформы из исходного датасета в список:\n",
    "total_platform=data_games['platform'].unique().tolist()\n",
    "print(total_platform)"
   ]
  },
  {
   "cell_type": "code",
   "execution_count": 39,
   "id": "43d4d1e8",
   "metadata": {},
   "outputs": [
    {
     "data": {
      "text/html": [
       "<div>\n",
       "<style scoped>\n",
       "    .dataframe tbody tr th:only-of-type {\n",
       "        vertical-align: middle;\n",
       "    }\n",
       "\n",
       "    .dataframe tbody tr th {\n",
       "        vertical-align: top;\n",
       "    }\n",
       "\n",
       "    .dataframe thead th {\n",
       "        text-align: right;\n",
       "    }\n",
       "</style>\n",
       "<table border=\"1\" class=\"dataframe\">\n",
       "  <thead>\n",
       "    <tr style=\"text-align: right;\">\n",
       "      <th></th>\n",
       "      <th>period</th>\n",
       "    </tr>\n",
       "  </thead>\n",
       "  <tbody>\n",
       "    <tr>\n",
       "      <th>count</th>\n",
       "      <td>31.000000</td>\n",
       "    </tr>\n",
       "    <tr>\n",
       "      <th>mean</th>\n",
       "      <td>6.064516</td>\n",
       "    </tr>\n",
       "    <tr>\n",
       "      <th>std</th>\n",
       "      <td>5.006233</td>\n",
       "    </tr>\n",
       "    <tr>\n",
       "      <th>min</th>\n",
       "      <td>0.000000</td>\n",
       "    </tr>\n",
       "    <tr>\n",
       "      <th>25%</th>\n",
       "      <td>3.000000</td>\n",
       "    </tr>\n",
       "    <tr>\n",
       "      <th>50%</th>\n",
       "      <td>5.000000</td>\n",
       "    </tr>\n",
       "    <tr>\n",
       "      <th>75%</th>\n",
       "      <td>9.500000</td>\n",
       "    </tr>\n",
       "    <tr>\n",
       "      <th>max</th>\n",
       "      <td>24.000000</td>\n",
       "    </tr>\n",
       "  </tbody>\n",
       "</table>\n",
       "</div>"
      ],
      "text/plain": [
       "          period\n",
       "count  31.000000\n",
       "mean    6.064516\n",
       "std     5.006233\n",
       "min     0.000000\n",
       "25%     3.000000\n",
       "50%     5.000000\n",
       "75%     9.500000\n",
       "max    24.000000"
      ]
     },
     "execution_count": 39,
     "metadata": {},
     "output_type": "execute_result"
    }
   ],
   "source": [
    "#посчитаем жизненный цикл\n",
    "\n",
    "year_list_total=[]\n",
    "min_max_total=0\n",
    "\n",
    "#вычислим разницу в самом раннем году релиза и самым поздним\n",
    "\n",
    "for element in ('wii', 'nes', 'gb', 'ds', 'x360', 'ps3', 'ps2', 'snes', 'gba', 'ps4', '3ds', 'n64', 'ps', 'xb', 'pc', '2600', 'psp', 'xone', 'wiiu', 'gc', 'gen', 'dc', 'psv', 'sat', 'scd', 'ws', 'ng', 'tg16', '3do', 'gg', 'pcfx'):\n",
    "    \n",
    "    platform_plot_total = games_good_time[(games_good_time['platform']==element)] \n",
    "    min_max_total=(platform_plot_total['year_of_release'].max())-(platform_plot_total['year_of_release'].min())\n",
    "    year_list_total.append(min_max_total) \n",
    "\n",
    "#для удобства анализа создадим dataframe    \n",
    "year_list_total=pd.DataFrame(year_list_total)\n",
    "year_list_total.columns=['period']\n",
    "year_list_total=year_list_total.fillna(value=0)\n",
    "\n",
    "#посмотрим распределение\n",
    "year_list_total.describe()"
   ]
  },
  {
   "cell_type": "code",
   "execution_count": 40,
   "id": "f7967d59",
   "metadata": {},
   "outputs": [
    {
     "data": {
      "image/png": "[encoded data removed]",
      "text/plain": [
       "<Figure size 432x288 with 1 Axes>"
      ]
     },
     "metadata": {},
     "output_type": "display_data"
    }
   ],
   "source": [
    "#посмотрим на гистограмме\n",
    "year_list_total.boxplot()\n",
    "plt.title('Срок существования платформы')\n",
    "plt.ylabel('Период, лет')\n",
    "plt.show()"
   ]
  },
  {
   "cell_type": "markdown",
   "id": "8605265a",
   "metadata": {},
   "source": [
    "<b>Вывод:</b> Жизненный цикл по всем платформам от 3 до 10 лет, в среднем это 5 лет. ТОПовые платформы существуют около 10 лет. "
   ]
  },
  {
   "cell_type": "markdown",
   "id": "fa1932b3",
   "metadata": {},
   "source": [
    "#### Возьмите данные за соответствующий актуальный период. Актуальный период определите самостоятельно в результате исследования предыдущих вопросов. Основной фактор — эти данные помогут построить прогноз на 2017 год.\n",
    "\n",
    "Какие платформы лидируют по продажам, растут или падают? Выберите несколько потенциально прибыльных платформ."
   ]
  },
  {
   "cell_type": "markdown",
   "id": "3626286c",
   "metadata": {},
   "source": [
    "Актуальным можно считать период с 2011 по 2016 год. Период 5 лет выбран в связи со средней величиной жизненного цикла платформ. Посмотрим что происходит с платформами за период с 2011 по 2016 год."
   ]
  },
  {
   "cell_type": "code",
   "execution_count": 41,
   "id": "aedb6ae0",
   "metadata": {},
   "outputs": [
    {
     "data": {
      "text/html": [
       "<div>\n",
       "<style scoped>\n",
       "    .dataframe tbody tr th:only-of-type {\n",
       "        vertical-align: middle;\n",
       "    }\n",
       "\n",
       "    .dataframe tbody tr th {\n",
       "        vertical-align: top;\n",
       "    }\n",
       "\n",
       "    .dataframe thead th {\n",
       "        text-align: right;\n",
       "    }\n",
       "</style>\n",
       "<table border=\"1\" class=\"dataframe\">\n",
       "  <thead>\n",
       "    <tr style=\"text-align: right;\">\n",
       "      <th>platform</th>\n",
       "      <th>3ds</th>\n",
       "      <th>ds</th>\n",
       "      <th>pc</th>\n",
       "      <th>ps2</th>\n",
       "      <th>ps3</th>\n",
       "      <th>ps4</th>\n",
       "      <th>psp</th>\n",
       "      <th>psv</th>\n",
       "      <th>wii</th>\n",
       "      <th>wiiu</th>\n",
       "      <th>x360</th>\n",
       "      <th>xone</th>\n",
       "    </tr>\n",
       "    <tr>\n",
       "      <th>year_of_release</th>\n",
       "      <th></th>\n",
       "      <th></th>\n",
       "      <th></th>\n",
       "      <th></th>\n",
       "      <th></th>\n",
       "      <th></th>\n",
       "      <th></th>\n",
       "      <th></th>\n",
       "      <th></th>\n",
       "      <th></th>\n",
       "      <th></th>\n",
       "      <th></th>\n",
       "    </tr>\n",
       "  </thead>\n",
       "  <tbody>\n",
       "    <tr>\n",
       "      <th>2011</th>\n",
       "      <td>63.20</td>\n",
       "      <td>26.18</td>\n",
       "      <td>35.03</td>\n",
       "      <td>0.45</td>\n",
       "      <td>156.78</td>\n",
       "      <td>0.00</td>\n",
       "      <td>17.82</td>\n",
       "      <td>4.63</td>\n",
       "      <td>59.65</td>\n",
       "      <td>0.00</td>\n",
       "      <td>143.84</td>\n",
       "      <td>0.00</td>\n",
       "    </tr>\n",
       "    <tr>\n",
       "      <th>2012</th>\n",
       "      <td>51.36</td>\n",
       "      <td>11.01</td>\n",
       "      <td>23.22</td>\n",
       "      <td>0.00</td>\n",
       "      <td>107.36</td>\n",
       "      <td>0.00</td>\n",
       "      <td>7.69</td>\n",
       "      <td>16.19</td>\n",
       "      <td>21.71</td>\n",
       "      <td>17.56</td>\n",
       "      <td>99.74</td>\n",
       "      <td>0.00</td>\n",
       "    </tr>\n",
       "    <tr>\n",
       "      <th>2013</th>\n",
       "      <td>56.57</td>\n",
       "      <td>1.54</td>\n",
       "      <td>12.38</td>\n",
       "      <td>0.00</td>\n",
       "      <td>113.25</td>\n",
       "      <td>25.99</td>\n",
       "      <td>3.14</td>\n",
       "      <td>10.59</td>\n",
       "      <td>8.59</td>\n",
       "      <td>21.65</td>\n",
       "      <td>88.58</td>\n",
       "      <td>18.96</td>\n",
       "    </tr>\n",
       "    <tr>\n",
       "      <th>2014</th>\n",
       "      <td>43.76</td>\n",
       "      <td>0.00</td>\n",
       "      <td>13.28</td>\n",
       "      <td>0.00</td>\n",
       "      <td>47.76</td>\n",
       "      <td>100.00</td>\n",
       "      <td>0.24</td>\n",
       "      <td>11.90</td>\n",
       "      <td>3.75</td>\n",
       "      <td>22.03</td>\n",
       "      <td>34.74</td>\n",
       "      <td>54.07</td>\n",
       "    </tr>\n",
       "    <tr>\n",
       "      <th>2015</th>\n",
       "      <td>27.78</td>\n",
       "      <td>0.00</td>\n",
       "      <td>8.52</td>\n",
       "      <td>0.00</td>\n",
       "      <td>16.82</td>\n",
       "      <td>118.90</td>\n",
       "      <td>0.12</td>\n",
       "      <td>6.25</td>\n",
       "      <td>1.14</td>\n",
       "      <td>16.35</td>\n",
       "      <td>11.96</td>\n",
       "      <td>60.14</td>\n",
       "    </tr>\n",
       "  </tbody>\n",
       "</table>\n",
       "</div>"
      ],
      "text/plain": [
       "platform           3ds     ds     pc   ps2     ps3     ps4    psp    psv  \\\n",
       "year_of_release                                                            \n",
       "2011             63.20  26.18  35.03  0.45  156.78    0.00  17.82   4.63   \n",
       "2012             51.36  11.01  23.22  0.00  107.36    0.00   7.69  16.19   \n",
       "2013             56.57   1.54  12.38  0.00  113.25   25.99   3.14  10.59   \n",
       "2014             43.76   0.00  13.28  0.00   47.76  100.00   0.24  11.90   \n",
       "2015             27.78   0.00   8.52  0.00   16.82  118.90   0.12   6.25   \n",
       "\n",
       "platform           wii   wiiu    x360   xone  \n",
       "year_of_release                               \n",
       "2011             59.65   0.00  143.84   0.00  \n",
       "2012             21.71  17.56   99.74   0.00  \n",
       "2013              8.59  21.65   88.58  18.96  \n",
       "2014              3.75  22.03   34.74  54.07  \n",
       "2015              1.14  16.35   11.96  60.14  "
      ]
     },
     "execution_count": 41,
     "metadata": {},
     "output_type": "execute_result"
    }
   ],
   "source": [
    "#создадим таблицу с актуальным периодом\n",
    "data_actualy=games_good_time.query('year_of_release>=2011 and year_of_release<=2016')\n",
    "\n",
    "#сделаем сводную таблицу для актульного периода по платформам\n",
    "data_actualy=data_actualy.pivot_table(index='year_of_release', columns='platform', values='total_sales', aggfunc='sum')\n",
    "\n",
    "#в некоторых годах продаж не было,заменим 0\n",
    "data_actualy=data_actualy.fillna(value=0)\n",
    "\n",
    "data_actualy.head()"
   ]
  },
  {
   "cell_type": "code",
   "execution_count": 42,
   "id": "c16044bc",
   "metadata": {},
   "outputs": [
    {
     "data": {
      "image/png": "[encoded data removed]",
      "text/plain": [
       "<Figure size 864x504 with 1 Axes>"
      ]
     },
     "metadata": {},
     "output_type": "display_data"
    }
   ],
   "source": [
    "#построим графики за актуальный период\n",
    "\n",
    "sns.set_style('darkgrid')\n",
    "\n",
    "\n",
    "data_actualy.plot(alpha=0.7,figsize=(12,7))\n",
    "\n",
    "plt.xlabel('год', fontsize=12)\n",
    "plt.ylabel('Суммарные продажи, млн$', fontsize=12)\n",
    "plt.title('Распределение продаж по платформам за актуальный период', fontsize=12)\n",
    "\n",
    "plt.show()"
   ]
  },
  {
   "cell_type": "markdown",
   "id": "b9511b26",
   "metadata": {},
   "source": [
    "<b>Вывод:</b> Известно что, данные за 2016г неполные. Таким образом посмотрим, что происходило на конец 2015-го. Видим платформы, которые находятся в фазе спада, это: <b>X360,3DS,PS3</b>, есть несколько платформ, которые росли на конец 2015: <b> PS4, XOne</b>. Есть в целом слабо успешные платформы. Например PSV."
   ]
  },
  {
   "cell_type": "markdown",
   "id": "db89d37c",
   "metadata": {},
   "source": [
    "#### Постройте график «ящик с усами» по глобальным продажам игр в разбивке по платформам. Опишите результат."
   ]
  },
  {
   "cell_type": "code",
   "execution_count": 43,
   "id": "252db6d9",
   "metadata": {},
   "outputs": [
    {
     "data": {
      "image/png": "[encoded data removed]",
      "text/plain": [
       "<Figure size 432x288 with 1 Axes>"
      ]
     },
     "metadata": {},
     "output_type": "display_data"
    }
   ],
   "source": [
    "#посмотрим на общую картину продаж\n",
    "sns.set_style('darkgrid')\n",
    "plt.ylim(0,1000)\n",
    "plt.title('Распределение по глобальным продажам игр')\n",
    "platform_sales.boxplot()\n",
    "plt.show()"
   ]
  },
  {
   "cell_type": "code",
   "execution_count": 44,
   "id": "fb2269e7",
   "metadata": {
    "scrolled": true
   },
   "outputs": [
    {
     "data": {
      "text/html": [
       "<div>\n",
       "<style scoped>\n",
       "    .dataframe tbody tr th:only-of-type {\n",
       "        vertical-align: middle;\n",
       "    }\n",
       "\n",
       "    .dataframe tbody tr th {\n",
       "        vertical-align: top;\n",
       "    }\n",
       "\n",
       "    .dataframe thead th {\n",
       "        text-align: right;\n",
       "    }\n",
       "</style>\n",
       "<table border=\"1\" class=\"dataframe\">\n",
       "  <thead>\n",
       "    <tr style=\"text-align: right;\">\n",
       "      <th></th>\n",
       "      <th>total_sales</th>\n",
       "    </tr>\n",
       "  </thead>\n",
       "  <tbody>\n",
       "    <tr>\n",
       "      <th>count</th>\n",
       "      <td>30.000000</td>\n",
       "    </tr>\n",
       "    <tr>\n",
       "      <th>mean</th>\n",
       "      <td>278.623667</td>\n",
       "    </tr>\n",
       "    <tr>\n",
       "      <th>std</th>\n",
       "      <td>352.688854</td>\n",
       "    </tr>\n",
       "    <tr>\n",
       "      <th>min</th>\n",
       "      <td>0.030000</td>\n",
       "    </tr>\n",
       "    <tr>\n",
       "      <th>25%</th>\n",
       "      <td>8.262500</td>\n",
       "    </tr>\n",
       "    <tr>\n",
       "      <th>50%</th>\n",
       "      <td>168.445000</td>\n",
       "    </tr>\n",
       "    <tr>\n",
       "      <th>75%</th>\n",
       "      <td>307.042500</td>\n",
       "    </tr>\n",
       "    <tr>\n",
       "      <th>max</th>\n",
       "      <td>1233.560000</td>\n",
       "    </tr>\n",
       "  </tbody>\n",
       "</table>\n",
       "</div>"
      ],
      "text/plain": [
       "       total_sales\n",
       "count    30.000000\n",
       "mean    278.623667\n",
       "std     352.688854\n",
       "min       0.030000\n",
       "25%       8.262500\n",
       "50%     168.445000\n",
       "75%     307.042500\n",
       "max    1233.560000"
      ]
     },
     "execution_count": 44,
     "metadata": {},
     "output_type": "execute_result"
    }
   ],
   "source": [
    "platform_sales.describe()"
   ]
  },
  {
   "cell_type": "code",
   "execution_count": 45,
   "id": "fefb0967",
   "metadata": {
    "scrolled": true
   },
   "outputs": [
    {
     "data": {
      "image/png": "[encoded data removed]",
      "text/plain": [
       "<Figure size 720x360 with 1 Axes>"
      ]
     },
     "metadata": {},
     "output_type": "display_data"
    }
   ],
   "source": [
    "#построим \"ящик с усами\" для топ-6 платформ\n",
    "\n",
    "fig,ax = plt.subplots(figsize=(10,5))\n",
    "sns.set_style('darkgrid')\n",
    "\n",
    "data_platform_top.query('platform == @platform_list').pivot_table(index='name', values='total_sales',columns='platform').boxplot(ax=ax, grid=True)\n",
    "\n",
    "ax.set_ylim(0,2)\n",
    "\n",
    "plt.title('Распределение по тотальным продажам по наиболее популярным платформам')\n",
    "plt.xlabel('платформа')\n",
    "plt.ylabel('продажи, млн $')\n",
    "plt.show()"
   ]
  },
  {
   "cell_type": "code",
   "execution_count": 46,
   "id": "24d37b1c",
   "metadata": {},
   "outputs": [
    {
     "data": {
      "text/html": [
       "<div>\n",
       "<style scoped>\n",
       "    .dataframe tbody tr th:only-of-type {\n",
       "        vertical-align: middle;\n",
       "    }\n",
       "\n",
       "    .dataframe tbody tr th {\n",
       "        vertical-align: top;\n",
       "    }\n",
       "\n",
       "    .dataframe thead th {\n",
       "        text-align: right;\n",
       "    }\n",
       "</style>\n",
       "<table border=\"1\" class=\"dataframe\">\n",
       "  <thead>\n",
       "    <tr style=\"text-align: right;\">\n",
       "      <th>platform</th>\n",
       "      <th>ds</th>\n",
       "      <th>ps</th>\n",
       "      <th>ps2</th>\n",
       "      <th>ps3</th>\n",
       "      <th>wii</th>\n",
       "      <th>x360</th>\n",
       "    </tr>\n",
       "  </thead>\n",
       "  <tbody>\n",
       "    <tr>\n",
       "      <th>count</th>\n",
       "      <td>2120.000000</td>\n",
       "      <td>1190.000000</td>\n",
       "      <td>2127.000000</td>\n",
       "      <td>1305.000000</td>\n",
       "      <td>1286.000000</td>\n",
       "      <td>1231.000000</td>\n",
       "    </tr>\n",
       "    <tr>\n",
       "      <th>mean</th>\n",
       "      <td>0.378660</td>\n",
       "      <td>0.611412</td>\n",
       "      <td>0.579953</td>\n",
       "      <td>0.712686</td>\n",
       "      <td>0.692986</td>\n",
       "      <td>0.779720</td>\n",
       "    </tr>\n",
       "    <tr>\n",
       "      <th>std</th>\n",
       "      <td>1.436359</td>\n",
       "      <td>1.056807</td>\n",
       "      <td>1.138461</td>\n",
       "      <td>1.402625</td>\n",
       "      <td>3.165022</td>\n",
       "      <td>1.632676</td>\n",
       "    </tr>\n",
       "    <tr>\n",
       "      <th>min</th>\n",
       "      <td>0.010000</td>\n",
       "      <td>0.010000</td>\n",
       "      <td>0.000000</td>\n",
       "      <td>0.000000</td>\n",
       "      <td>0.010000</td>\n",
       "      <td>0.010000</td>\n",
       "    </tr>\n",
       "    <tr>\n",
       "      <th>25%</th>\n",
       "      <td>0.050000</td>\n",
       "      <td>0.110000</td>\n",
       "      <td>0.080000</td>\n",
       "      <td>0.110000</td>\n",
       "      <td>0.090000</td>\n",
       "      <td>0.110000</td>\n",
       "    </tr>\n",
       "    <tr>\n",
       "      <th>50%</th>\n",
       "      <td>0.110000</td>\n",
       "      <td>0.260000</td>\n",
       "      <td>0.230000</td>\n",
       "      <td>0.280000</td>\n",
       "      <td>0.190000</td>\n",
       "      <td>0.280000</td>\n",
       "    </tr>\n",
       "    <tr>\n",
       "      <th>75%</th>\n",
       "      <td>0.270000</td>\n",
       "      <td>0.660000</td>\n",
       "      <td>0.560000</td>\n",
       "      <td>0.760000</td>\n",
       "      <td>0.487500</td>\n",
       "      <td>0.770000</td>\n",
       "    </tr>\n",
       "    <tr>\n",
       "      <th>max</th>\n",
       "      <td>29.800000</td>\n",
       "      <td>10.950000</td>\n",
       "      <td>20.810000</td>\n",
       "      <td>21.050000</td>\n",
       "      <td>82.540000</td>\n",
       "      <td>21.820000</td>\n",
       "    </tr>\n",
       "  </tbody>\n",
       "</table>\n",
       "</div>"
      ],
      "text/plain": [
       "platform           ds           ps          ps2          ps3          wii  \\\n",
       "count     2120.000000  1190.000000  2127.000000  1305.000000  1286.000000   \n",
       "mean         0.378660     0.611412     0.579953     0.712686     0.692986   \n",
       "std          1.436359     1.056807     1.138461     1.402625     3.165022   \n",
       "min          0.010000     0.010000     0.000000     0.000000     0.010000   \n",
       "25%          0.050000     0.110000     0.080000     0.110000     0.090000   \n",
       "50%          0.110000     0.260000     0.230000     0.280000     0.190000   \n",
       "75%          0.270000     0.660000     0.560000     0.760000     0.487500   \n",
       "max         29.800000    10.950000    20.810000    21.050000    82.540000   \n",
       "\n",
       "platform         x360  \n",
       "count     1231.000000  \n",
       "mean         0.779720  \n",
       "std          1.632676  \n",
       "min          0.010000  \n",
       "25%          0.110000  \n",
       "50%          0.280000  \n",
       "75%          0.770000  \n",
       "max         21.820000  "
      ]
     },
     "execution_count": 46,
     "metadata": {},
     "output_type": "execute_result"
    }
   ],
   "source": [
    "#посмотрим описательную статистику\n",
    "data_platform_top.query('platform == @platform_list').pivot_table(index='name', values='total_sales',columns='platform').describe()\n"
   ]
  },
  {
   "cell_type": "markdown",
   "id": "a0b0b610",
   "metadata": {},
   "source": [
    "<b>Вывод:</b> Оценивая боксплоты и распределения, можно сказать, что самые прибыльные это <b>ps3</b> и <b>x360</b>, их медиана и верхний квартиль выше, чем у всех остальных. НА втором месте <b>PS</b>. В целом очевидно, что в ТОП-6 присутсвуют платформы серии PS."
   ]
  },
  {
   "cell_type": "markdown",
   "id": "cab234ff",
   "metadata": {},
   "source": [
    "#### Посмотрите, как влияют на продажи внутри одной популярной платформы отзывы пользователей и критиков. Постройте диаграмму рассеяния и посчитайте корреляцию между отзывами и продажами. Сформулируйте выводы.\n",
    "\n",
    "Пусть топовая платформа - ps2"
   ]
  },
  {
   "cell_type": "markdown",
   "id": "587c1f62",
   "metadata": {},
   "source": [
    "<b>Степени корреляции</b> \n",
    "- от <b>0 до 0,3 </b> -> очень слабая\n",
    "- от <b>0,3 до 0,5</b> ->\tслабая\n",
    "- от <b>0,5 до 0,7</b> ->\tсредняя\n",
    "- от <b>0,7 до 0,9</b> -> \tвысокая\n",
    "- от <b>0,9 до 1</b> ->\tочень высокая"
   ]
  },
  {
   "cell_type": "code",
   "execution_count": 47,
   "id": "143c8682",
   "metadata": {},
   "outputs": [],
   "source": [
    "#выделим данные по платформе ps2, исключив значения, которые были заменены в графах user_score и critic_score\n",
    "\n",
    "ps2_data=games_good_time[(games_good_time['platform']=='ps2') & (games_good_time['critic_score']!=-1) & (games_good_time['critic_score']!=0) & (games_good_time['user_score']!=-1)]\n",
    "\n",
    "ps2_data=ps2_data[['critic_score','user_score','na_sales','eu_sales','jp_sales','total_sales']]"
   ]
  },
  {
   "cell_type": "code",
   "execution_count": 48,
   "id": "3b6b8064",
   "metadata": {},
   "outputs": [
    {
     "data": {
      "text/html": [
       "<style type=\"text/css\">\n",
       "#T_49683_row0_col0, #T_49683_row1_col1, #T_49683_row2_col2, #T_49683_row3_col3, #T_49683_row4_col4, #T_49683_row5_col5 {\n",
       "  background-color: #ffffff;\n",
       "  color: #000000;\n",
       "}\n",
       "#T_49683_row0_col1 {\n",
       "  background-color: #004281;\n",
       "  color: #f1f1f1;\n",
       "}\n",
       "#T_49683_row0_col2 {\n",
       "  background-color: #001944;\n",
       "  color: #f1f1f1;\n",
       "}\n",
       "#T_49683_row0_col3 {\n",
       "  background-color: #003830;\n",
       "  color: #f1f1f1;\n",
       "}\n",
       "#T_49683_row0_col4 {\n",
       "  background-color: #006313;\n",
       "  color: #f1f1f1;\n",
       "}\n",
       "#T_49683_row0_col5 {\n",
       "  background-color: #001d42;\n",
       "  color: #f1f1f1;\n",
       "}\n",
       "#T_49683_row1_col0 {\n",
       "  background-color: #002b72;\n",
       "  color: #f1f1f1;\n",
       "}\n",
       "#T_49683_row1_col2, #T_49683_row1_col3, #T_49683_row1_col4, #T_49683_row1_col5, #T_49683_row3_col1, #T_49683_row4_col0 {\n",
       "  background-color: #008000;\n",
       "  color: #f1f1f1;\n",
       "}\n",
       "#T_49683_row2_col0 {\n",
       "  background-color: #002a39;\n",
       "  color: #f1f1f1;\n",
       "}\n",
       "#T_49683_row2_col1, #T_49683_row5_col1 {\n",
       "  background-color: #006c0d;\n",
       "  color: #f1f1f1;\n",
       "}\n",
       "#T_49683_row2_col3 {\n",
       "  background-color: #00699b;\n",
       "  color: #f1f1f1;\n",
       "}\n",
       "#T_49683_row2_col4 {\n",
       "  background-color: #004c22;\n",
       "  color: #f1f1f1;\n",
       "}\n",
       "#T_49683_row2_col5, #T_49683_row5_col2 {\n",
       "  background-color: #bddee9;\n",
       "  color: #000000;\n",
       "}\n",
       "#T_49683_row3_col0 {\n",
       "  background-color: #005a19;\n",
       "  color: #f1f1f1;\n",
       "}\n",
       "#T_49683_row3_col2 {\n",
       "  background-color: #006095;\n",
       "  color: #f1f1f1;\n",
       "}\n",
       "#T_49683_row3_col4 {\n",
       "  background-color: #004428;\n",
       "  color: #f1f1f1;\n",
       "}\n",
       "#T_49683_row3_col5 {\n",
       "  background-color: #2793b7;\n",
       "  color: #f1f1f1;\n",
       "}\n",
       "#T_49683_row4_col1 {\n",
       "  background-color: #007606;\n",
       "  color: #f1f1f1;\n",
       "}\n",
       "#T_49683_row4_col2 {\n",
       "  background-color: #00561c;\n",
       "  color: #f1f1f1;\n",
       "}\n",
       "#T_49683_row4_col3 {\n",
       "  background-color: #003b2e;\n",
       "  color: #f1f1f1;\n",
       "}\n",
       "#T_49683_row4_col5 {\n",
       "  background-color: #000156;\n",
       "  color: #f1f1f1;\n",
       "}\n",
       "#T_49683_row5_col0 {\n",
       "  background-color: #002c38;\n",
       "  color: #f1f1f1;\n",
       "}\n",
       "#T_49683_row5_col3 {\n",
       "  background-color: #3399bb;\n",
       "  color: #f1f1f1;\n",
       "}\n",
       "#T_49683_row5_col4 {\n",
       "  background-color: #00095b;\n",
       "  color: #f1f1f1;\n",
       "}\n",
       "</style>\n",
       "<table id=\"T_49683_\">\n",
       "  <thead>\n",
       "    <tr>\n",
       "      <th class=\"blank level0\" >&nbsp;</th>\n",
       "      <th class=\"col_heading level0 col0\" >critic_score</th>\n",
       "      <th class=\"col_heading level0 col1\" >user_score</th>\n",
       "      <th class=\"col_heading level0 col2\" >na_sales</th>\n",
       "      <th class=\"col_heading level0 col3\" >eu_sales</th>\n",
       "      <th class=\"col_heading level0 col4\" >jp_sales</th>\n",
       "      <th class=\"col_heading level0 col5\" >total_sales</th>\n",
       "    </tr>\n",
       "  </thead>\n",
       "  <tbody>\n",
       "    <tr>\n",
       "      <th id=\"T_49683_level0_row0\" class=\"row_heading level0 row0\" >critic_score</th>\n",
       "      <td id=\"T_49683_row0_col0\" class=\"data row0 col0\" >1.000000</td>\n",
       "      <td id=\"T_49683_row0_col1\" class=\"data row0 col1\" >0.565841</td>\n",
       "      <td id=\"T_49683_row0_col2\" class=\"data row0 col2\" >0.390233</td>\n",
       "      <td id=\"T_49683_row0_col3\" class=\"data row0 col3\" >0.291779</td>\n",
       "      <td id=\"T_49683_row0_col4\" class=\"data row0 col4\" >0.214256</td>\n",
       "      <td id=\"T_49683_row0_col5\" class=\"data row0 col5\" >0.386415</td>\n",
       "    </tr>\n",
       "    <tr>\n",
       "      <th id=\"T_49683_level0_row1\" class=\"row_heading level0 row1\" >user_score</th>\n",
       "      <td id=\"T_49683_row1_col0\" class=\"data row1 col0\" >0.565841</td>\n",
       "      <td id=\"T_49683_row1_col1\" class=\"data row1 col1\" >1.000000</td>\n",
       "      <td id=\"T_49683_row1_col2\" class=\"data row1 col2\" >0.169334</td>\n",
       "      <td id=\"T_49683_row1_col3\" class=\"data row1 col3\" >0.124795</td>\n",
       "      <td id=\"T_49683_row1_col4\" class=\"data row1 col4\" >0.147916</td>\n",
       "      <td id=\"T_49683_row1_col5\" class=\"data row1 col5\" >0.171690</td>\n",
       "    </tr>\n",
       "    <tr>\n",
       "      <th id=\"T_49683_level0_row2\" class=\"row_heading level0 row2\" >na_sales</th>\n",
       "      <td id=\"T_49683_row2_col0\" class=\"data row2 col0\" >0.390233</td>\n",
       "      <td id=\"T_49683_row2_col1\" class=\"data row2 col1\" >0.169334</td>\n",
       "      <td id=\"T_49683_row2_col2\" class=\"data row2 col2\" >1.000000</td>\n",
       "      <td id=\"T_49683_row2_col3\" class=\"data row2 col3\" >0.655312</td>\n",
       "      <td id=\"T_49683_row2_col4\" class=\"data row2 col4\" >0.261896</td>\n",
       "      <td id=\"T_49683_row2_col5\" class=\"data row2 col5\" >0.927369</td>\n",
       "    </tr>\n",
       "    <tr>\n",
       "      <th id=\"T_49683_level0_row3\" class=\"row_heading level0 row3\" >eu_sales</th>\n",
       "      <td id=\"T_49683_row3_col0\" class=\"data row3 col0\" >0.291779</td>\n",
       "      <td id=\"T_49683_row3_col1\" class=\"data row3 col1\" >0.124795</td>\n",
       "      <td id=\"T_49683_row3_col2\" class=\"data row3 col2\" >0.655312</td>\n",
       "      <td id=\"T_49683_row3_col3\" class=\"data row3 col3\" >1.000000</td>\n",
       "      <td id=\"T_49683_row3_col4\" class=\"data row3 col4\" >0.283266</td>\n",
       "      <td id=\"T_49683_row3_col5\" class=\"data row3 col5\" >0.766618</td>\n",
       "    </tr>\n",
       "    <tr>\n",
       "      <th id=\"T_49683_level0_row4\" class=\"row_heading level0 row4\" >jp_sales</th>\n",
       "      <td id=\"T_49683_row4_col0\" class=\"data row4 col0\" >0.214256</td>\n",
       "      <td id=\"T_49683_row4_col1\" class=\"data row4 col1\" >0.147916</td>\n",
       "      <td id=\"T_49683_row4_col2\" class=\"data row4 col2\" >0.261896</td>\n",
       "      <td id=\"T_49683_row4_col3\" class=\"data row4 col3\" >0.283266</td>\n",
       "      <td id=\"T_49683_row4_col4\" class=\"data row4 col4\" >1.000000</td>\n",
       "      <td id=\"T_49683_row4_col5\" class=\"data row4 col5\" >0.452669</td>\n",
       "    </tr>\n",
       "    <tr>\n",
       "      <th id=\"T_49683_level0_row5\" class=\"row_heading level0 row5\" >total_sales</th>\n",
       "      <td id=\"T_49683_row5_col0\" class=\"data row5 col0\" >0.386415</td>\n",
       "      <td id=\"T_49683_row5_col1\" class=\"data row5 col1\" >0.171690</td>\n",
       "      <td id=\"T_49683_row5_col2\" class=\"data row5 col2\" >0.927369</td>\n",
       "      <td id=\"T_49683_row5_col3\" class=\"data row5 col3\" >0.766618</td>\n",
       "      <td id=\"T_49683_row5_col4\" class=\"data row5 col4\" >0.452669</td>\n",
       "      <td id=\"T_49683_row5_col5\" class=\"data row5 col5\" >1.000000</td>\n",
       "    </tr>\n",
       "  </tbody>\n",
       "</table>\n"
      ],
      "text/plain": [
       "<pandas.io.formats.style.Styler at 0x12040b970>"
      ]
     },
     "execution_count": 48,
     "metadata": {},
     "output_type": "execute_result"
    }
   ],
   "source": [
    "#посчитаем корреляцию\n",
    "ps2_data.corr().style.background_gradient('ocean') "
   ]
  },
  {
   "cell_type": "code",
   "execution_count": 49,
   "id": "1280c2f0",
   "metadata": {
    "scrolled": true
   },
   "outputs": [
    {
     "data": {
      "image/png": "[encoded data removed]",
      "text/plain": [
       "<Figure size 432x288 with 2 Axes>"
      ]
     },
     "metadata": {},
     "output_type": "display_data"
    }
   ],
   "source": [
    "#тепловая карта корреляции\n",
    "sns.heatmap(ps2_data.corr(),cmap='Greens')\n",
    "plt.title('Тепловая карта коллеряции')\n",
    "plt.show()"
   ]
  },
  {
   "cell_type": "code",
   "execution_count": 50,
   "id": "2f7c3341",
   "metadata": {},
   "outputs": [
    {
     "data": {
      "image/png": "[encoded data removed]",
      "text/plain": [
       "<Figure size 648x648 with 36 Axes>"
      ]
     },
     "metadata": {},
     "output_type": "display_data"
    }
   ],
   "source": [
    "#посмотрим на матрице диаграмм рассеяния\n",
    "pd.plotting.scatter_matrix(ps2_data,figsize=(9,9));"
   ]
  },
  {
   "cell_type": "markdown",
   "id": "4d5b4b85",
   "metadata": {},
   "source": [
    "<b>Вывод:</b> \n",
    "\n",
    "МЫ посмотрели платформу PS2. \n",
    "Между оценкой критиков и продажами есть зависимость (слабая положительная – 0.39), причем наиболее подвержены влиянию мнения критиков в Северной Америке, наименее – в Японии (не мудрено – менталитет у японцев особый). Слабая положительная (0.17) зависимость между продажами и оценкой пользователей, причем американские пользователи опять лидируют в зависимости от оценки, на втором месте Япония и наименее подвержены отзывам в Европе."
   ]
  },
  {
   "cell_type": "markdown",
   "id": "4bcb2079",
   "metadata": {},
   "source": [
    "#### Соотнесите выводы с продажами игр на других платформах."
   ]
  },
  {
   "cell_type": "code",
   "execution_count": 51,
   "id": "bd2b378b",
   "metadata": {},
   "outputs": [],
   "source": [
    "#посмотрим корреляцию по остальным топовым платформам (x360,ps3,wii,ds,ps) по суммарным продажам\n",
    "\n",
    "#x360\n",
    "x360_data=games_good_time[(games_good_time['platform']=='x360') & (games_good_time['critic_score']!=-1) & (games_good_time['critic_score']!=0) & (games_good_time['user_score']!=-1)]\n",
    "x360_data=x360_data[['critic_score','user_score','na_sales','eu_sales','jp_sales','total_sales']]\n",
    "\n",
    "#ps3\n",
    "ps3_data=games_good_time[(games_good_time['platform']=='ps3') & (games_good_time['critic_score']!=-1) & (games_good_time['critic_score']!=0) & (games_good_time['user_score']!=-1)]\n",
    "ps3_data=ps3_data[['critic_score','user_score','na_sales','eu_sales','jp_sales','total_sales']]\n",
    "\n",
    "#wii\n",
    "wii_data=games_good_time[(games_good_time['platform']=='wii') & (games_good_time['critic_score']!=-1) & (games_good_time['critic_score']!=0) & (games_good_time['user_score']!=-1)]\n",
    "wii_data=wii_data[['critic_score','user_score','na_sales','eu_sales','jp_sales','total_sales']]\n",
    "\n",
    "#ds\n",
    "ds_data=games_good_time[(games_good_time['platform']=='ds') & (games_good_time['critic_score']!=-1) & (games_good_time['critic_score']!=0) & (games_good_time['user_score']!=-1)]\n",
    "ds_data=ds_data[['critic_score','user_score','na_sales','eu_sales','jp_sales','total_sales']]\n",
    "\n",
    "#ps\n",
    "ps_data=games_good_time[(games_good_time['platform']=='ps') & (games_good_time['critic_score']!=-1) & (games_good_time['critic_score']!=0) & (games_good_time['user_score']!=-1)]\n",
    "ps_data=ps_data[['critic_score','user_score','na_sales','eu_sales','jp_sales','total_sales']]\n"
   ]
  },
  {
   "cell_type": "code",
   "execution_count": 52,
   "id": "06ab7afb",
   "metadata": {},
   "outputs": [
    {
     "data": {
      "text/html": [
       "<style type=\"text/css\">\n",
       "#T_e92dd_row0_col0, #T_e92dd_row1_col1, #T_e92dd_row2_col2, #T_e92dd_row3_col3, #T_e92dd_row4_col4, #T_e92dd_row5_col5 {\n",
       "  background-color: #ffffff;\n",
       "  color: #000000;\n",
       "}\n",
       "#T_e92dd_row0_col1 {\n",
       "  background-color: #006095;\n",
       "  color: #f1f1f1;\n",
       "}\n",
       "#T_e92dd_row0_col2 {\n",
       "  background-color: #000c4d;\n",
       "  color: #f1f1f1;\n",
       "}\n",
       "#T_e92dd_row0_col3 {\n",
       "  background-color: #000a4e;\n",
       "  color: #f1f1f1;\n",
       "}\n",
       "#T_e92dd_row0_col4, #T_e92dd_row2_col0 {\n",
       "  background-color: #004e21;\n",
       "  color: #f1f1f1;\n",
       "}\n",
       "#T_e92dd_row0_col5 {\n",
       "  background-color: #000850;\n",
       "  color: #f1f1f1;\n",
       "}\n",
       "#T_e92dd_row1_col0, #T_e92dd_row4_col5 {\n",
       "  background-color: #00377a;\n",
       "  color: #f1f1f1;\n",
       "}\n",
       "#T_e92dd_row1_col2, #T_e92dd_row1_col3, #T_e92dd_row1_col4, #T_e92dd_row1_col5, #T_e92dd_row2_col1, #T_e92dd_row4_col0 {\n",
       "  background-color: #008000;\n",
       "  color: #f1f1f1;\n",
       "}\n",
       "#T_e92dd_row2_col3 {\n",
       "  background-color: #8dc6d9;\n",
       "  color: #000000;\n",
       "}\n",
       "#T_e92dd_row2_col4 {\n",
       "  background-color: #00206a;\n",
       "  color: #f1f1f1;\n",
       "}\n",
       "#T_e92dd_row2_col5 {\n",
       "  background-color: #f3f9fb;\n",
       "  color: #000000;\n",
       "}\n",
       "#T_e92dd_row3_col0 {\n",
       "  background-color: #004a24;\n",
       "  color: #f1f1f1;\n",
       "}\n",
       "#T_e92dd_row3_col1 {\n",
       "  background-color: #007e01;\n",
       "  color: #f1f1f1;\n",
       "}\n",
       "#T_e92dd_row3_col2 {\n",
       "  background-color: #90c7da;\n",
       "  color: #000000;\n",
       "}\n",
       "#T_e92dd_row3_col4 {\n",
       "  background-color: #001764;\n",
       "  color: #f1f1f1;\n",
       "}\n",
       "#T_e92dd_row3_col5, #T_e92dd_row5_col3 {\n",
       "  background-color: #cce5ee;\n",
       "  color: #000000;\n",
       "}\n",
       "#T_e92dd_row4_col1 {\n",
       "  background-color: #006313;\n",
       "  color: #f1f1f1;\n",
       "}\n",
       "#T_e92dd_row4_col2 {\n",
       "  background-color: #003176;\n",
       "  color: #f1f1f1;\n",
       "}\n",
       "#T_e92dd_row4_col3 {\n",
       "  background-color: #00276f;\n",
       "  color: #f1f1f1;\n",
       "}\n",
       "#T_e92dd_row5_col0 {\n",
       "  background-color: #004527;\n",
       "  color: #f1f1f1;\n",
       "}\n",
       "#T_e92dd_row5_col1 {\n",
       "  background-color: #007c02;\n",
       "  color: #f1f1f1;\n",
       "}\n",
       "#T_e92dd_row5_col2 {\n",
       "  background-color: #f6fbfc;\n",
       "  color: #000000;\n",
       "}\n",
       "#T_e92dd_row5_col4 {\n",
       "  background-color: #002870;\n",
       "  color: #f1f1f1;\n",
       "}\n",
       "</style>\n",
       "<table id=\"T_e92dd_\">\n",
       "  <thead>\n",
       "    <tr>\n",
       "      <th class=\"blank level0\" >&nbsp;</th>\n",
       "      <th class=\"col_heading level0 col0\" >critic_score</th>\n",
       "      <th class=\"col_heading level0 col1\" >user_score</th>\n",
       "      <th class=\"col_heading level0 col2\" >na_sales</th>\n",
       "      <th class=\"col_heading level0 col3\" >eu_sales</th>\n",
       "      <th class=\"col_heading level0 col4\" >jp_sales</th>\n",
       "      <th class=\"col_heading level0 col5\" >total_sales</th>\n",
       "    </tr>\n",
       "  </thead>\n",
       "  <tbody>\n",
       "    <tr>\n",
       "      <th id=\"T_e92dd_level0_row0\" class=\"row_heading level0 row0\" >critic_score</th>\n",
       "      <td id=\"T_e92dd_row0_col0\" class=\"data row0 col0\" >1.000000</td>\n",
       "      <td id=\"T_e92dd_row0_col1\" class=\"data row0 col1\" >0.625020</td>\n",
       "      <td id=\"T_e92dd_row0_col2\" class=\"data row0 col2\" >0.373209</td>\n",
       "      <td id=\"T_e92dd_row0_col3\" class=\"data row0 col3\" >0.380524</td>\n",
       "      <td id=\"T_e92dd_row0_col4\" class=\"data row0 col4\" >0.279094</td>\n",
       "      <td id=\"T_e92dd_row0_col5\" class=\"data row0 col5\" >0.388992</td>\n",
       "    </tr>\n",
       "    <tr>\n",
       "      <th id=\"T_e92dd_level0_row1\" class=\"row_heading level0 row1\" >user_score</th>\n",
       "      <td id=\"T_e92dd_row1_col0\" class=\"data row1 col0\" >0.625020</td>\n",
       "      <td id=\"T_e92dd_row1_col1\" class=\"data row1 col1\" >1.000000</td>\n",
       "      <td id=\"T_e92dd_row1_col2\" class=\"data row1 col2\" >0.102680</td>\n",
       "      <td id=\"T_e92dd_row1_col3\" class=\"data row1 col3\" >0.107795</td>\n",
       "      <td id=\"T_e92dd_row1_col4\" class=\"data row1 col4\" >0.172285</td>\n",
       "      <td id=\"T_e92dd_row1_col5\" class=\"data row1 col5\" >0.110280</td>\n",
       "    </tr>\n",
       "    <tr>\n",
       "      <th id=\"T_e92dd_level0_row2\" class=\"row_heading level0 row2\" >na_sales</th>\n",
       "      <td id=\"T_e92dd_row2_col0\" class=\"data row2 col0\" >0.373209</td>\n",
       "      <td id=\"T_e92dd_row2_col1\" class=\"data row2 col1\" >0.102680</td>\n",
       "      <td id=\"T_e92dd_row2_col2\" class=\"data row2 col2\" >1.000000</td>\n",
       "      <td id=\"T_e92dd_row2_col3\" class=\"data row2 col3\" >0.867076</td>\n",
       "      <td id=\"T_e92dd_row2_col4\" class=\"data row2 col4\" >0.516617</td>\n",
       "      <td id=\"T_e92dd_row2_col5\" class=\"data row2 col5\" >0.986051</td>\n",
       "    </tr>\n",
       "    <tr>\n",
       "      <th id=\"T_e92dd_level0_row3\" class=\"row_heading level0 row3\" >eu_sales</th>\n",
       "      <td id=\"T_e92dd_row3_col0\" class=\"data row3 col0\" >0.380524</td>\n",
       "      <td id=\"T_e92dd_row3_col1\" class=\"data row3 col1\" >0.107795</td>\n",
       "      <td id=\"T_e92dd_row3_col2\" class=\"data row3 col2\" >0.867076</td>\n",
       "      <td id=\"T_e92dd_row3_col3\" class=\"data row3 col3\" >1.000000</td>\n",
       "      <td id=\"T_e92dd_row3_col4\" class=\"data row3 col4\" >0.496487</td>\n",
       "      <td id=\"T_e92dd_row3_col5\" class=\"data row3 col5\" >0.937464</td>\n",
       "    </tr>\n",
       "    <tr>\n",
       "      <th id=\"T_e92dd_level0_row4\" class=\"row_heading level0 row4\" >jp_sales</th>\n",
       "      <td id=\"T_e92dd_row4_col0\" class=\"data row4 col0\" >0.279094</td>\n",
       "      <td id=\"T_e92dd_row4_col1\" class=\"data row4 col1\" >0.172285</td>\n",
       "      <td id=\"T_e92dd_row4_col2\" class=\"data row4 col2\" >0.516617</td>\n",
       "      <td id=\"T_e92dd_row4_col3\" class=\"data row4 col3\" >0.496487</td>\n",
       "      <td id=\"T_e92dd_row4_col4\" class=\"data row4 col4\" >1.000000</td>\n",
       "      <td id=\"T_e92dd_row4_col5\" class=\"data row4 col5\" >0.537560</td>\n",
       "    </tr>\n",
       "    <tr>\n",
       "      <th id=\"T_e92dd_level0_row5\" class=\"row_heading level0 row5\" >total_sales</th>\n",
       "      <td id=\"T_e92dd_row5_col0\" class=\"data row5 col0\" >0.388992</td>\n",
       "      <td id=\"T_e92dd_row5_col1\" class=\"data row5 col1\" >0.110280</td>\n",
       "      <td id=\"T_e92dd_row5_col2\" class=\"data row5 col2\" >0.986051</td>\n",
       "      <td id=\"T_e92dd_row5_col3\" class=\"data row5 col3\" >0.937464</td>\n",
       "      <td id=\"T_e92dd_row5_col4\" class=\"data row5 col4\" >0.537560</td>\n",
       "      <td id=\"T_e92dd_row5_col5\" class=\"data row5 col5\" >1.000000</td>\n",
       "    </tr>\n",
       "  </tbody>\n",
       "</table>\n"
      ],
      "text/plain": [
       "<pandas.io.formats.style.Styler at 0x120e54490>"
      ]
     },
     "execution_count": 52,
     "metadata": {},
     "output_type": "execute_result"
    }
   ],
   "source": [
    "#корреляция\n",
    "x360_data.corr().style.background_gradient('ocean') \n",
    " "
   ]
  },
  {
   "cell_type": "markdown",
   "id": "8aaa8ce4",
   "metadata": {},
   "source": [
    "<b>Вывод:</b> \n",
    "\n",
    "По платформе X360 картина схожая с PS2. \n",
    "Зависимость от оценок пользователей здесь ниже чем у PS2, с мнением критиков корреляция такая же. Отличие заключается в том, что чуть более зависят от оценков пользователей покупатели из Японии, наименее всего и по критикам и по оценке пользователей подвержена Америка (ее там и производят - возможно априори доверяют?)))"
   ]
  },
  {
   "cell_type": "code",
   "execution_count": 53,
   "id": "580d75fa",
   "metadata": {
    "scrolled": true
   },
   "outputs": [
    {
     "data": {
      "text/html": [
       "<style type=\"text/css\">\n",
       "#T_372b1_row0_col0, #T_372b1_row1_col1, #T_372b1_row2_col2, #T_372b1_row3_col3, #T_372b1_row4_col4, #T_372b1_row5_col5 {\n",
       "  background-color: #ffffff;\n",
       "  color: #000000;\n",
       "}\n",
       "#T_372b1_row0_col1 {\n",
       "  background-color: #006296;\n",
       "  color: #f1f1f1;\n",
       "}\n",
       "#T_372b1_row0_col2 {\n",
       "  background-color: #00075a;\n",
       "  color: #f1f1f1;\n",
       "}\n",
       "#T_372b1_row0_col3 {\n",
       "  background-color: #000c4d;\n",
       "  color: #f1f1f1;\n",
       "}\n",
       "#T_372b1_row0_col4 {\n",
       "  background-color: #007408;\n",
       "  color: #f1f1f1;\n",
       "}\n",
       "#T_372b1_row0_col5 {\n",
       "  background-color: #000055;\n",
       "  color: #f1f1f1;\n",
       "}\n",
       "#T_372b1_row1_col0 {\n",
       "  background-color: #00508a;\n",
       "  color: #f1f1f1;\n",
       "}\n",
       "#T_372b1_row1_col2, #T_372b1_row1_col3, #T_372b1_row1_col4, #T_372b1_row1_col5, #T_372b1_row3_col1, #T_372b1_row4_col0 {\n",
       "  background-color: #008000;\n",
       "  color: #f1f1f1;\n",
       "}\n",
       "#T_372b1_row2_col0 {\n",
       "  background-color: #000651;\n",
       "  color: #f1f1f1;\n",
       "}\n",
       "#T_372b1_row2_col1 {\n",
       "  background-color: #006e0c;\n",
       "  color: #f1f1f1;\n",
       "}\n",
       "#T_372b1_row2_col3 {\n",
       "  background-color: #69b4cd;\n",
       "  color: #f1f1f1;\n",
       "}\n",
       "#T_372b1_row2_col4 {\n",
       "  background-color: #002040;\n",
       "  color: #f1f1f1;\n",
       "}\n",
       "#T_372b1_row2_col5 {\n",
       "  background-color: #cce5ee;\n",
       "  color: #000000;\n",
       "}\n",
       "#T_372b1_row3_col0 {\n",
       "  background-color: #00283a;\n",
       "  color: #f1f1f1;\n",
       "}\n",
       "#T_372b1_row3_col2 {\n",
       "  background-color: #63b1cb;\n",
       "  color: #f1f1f1;\n",
       "}\n",
       "#T_372b1_row3_col4 {\n",
       "  background-color: #000e4c;\n",
       "  color: #f1f1f1;\n",
       "}\n",
       "#T_372b1_row3_col5 {\n",
       "  background-color: #deeef4;\n",
       "  color: #000000;\n",
       "}\n",
       "#T_372b1_row4_col1 {\n",
       "  background-color: #006611;\n",
       "  color: #f1f1f1;\n",
       "}\n",
       "#T_372b1_row4_col2 {\n",
       "  background-color: #001b43;\n",
       "  color: #f1f1f1;\n",
       "}\n",
       "#T_372b1_row4_col3 {\n",
       "  background-color: #000458;\n",
       "  color: #f1f1f1;\n",
       "}\n",
       "#T_372b1_row4_col5 {\n",
       "  background-color: #001d68;\n",
       "  color: #f1f1f1;\n",
       "}\n",
       "#T_372b1_row5_col0 {\n",
       "  background-color: #00114a;\n",
       "  color: #f1f1f1;\n",
       "}\n",
       "#T_372b1_row5_col1 {\n",
       "  background-color: #00700a;\n",
       "  color: #f1f1f1;\n",
       "}\n",
       "#T_372b1_row5_col2 {\n",
       "  background-color: #c9e4ed;\n",
       "  color: #000000;\n",
       "}\n",
       "#T_372b1_row5_col3 {\n",
       "  background-color: #e1f0f5;\n",
       "  color: #000000;\n",
       "}\n",
       "#T_372b1_row5_col4 {\n",
       "  background-color: #001563;\n",
       "  color: #f1f1f1;\n",
       "}\n",
       "</style>\n",
       "<table id=\"T_372b1_\">\n",
       "  <thead>\n",
       "    <tr>\n",
       "      <th class=\"blank level0\" >&nbsp;</th>\n",
       "      <th class=\"col_heading level0 col0\" >critic_score</th>\n",
       "      <th class=\"col_heading level0 col1\" >user_score</th>\n",
       "      <th class=\"col_heading level0 col2\" >na_sales</th>\n",
       "      <th class=\"col_heading level0 col3\" >eu_sales</th>\n",
       "      <th class=\"col_heading level0 col4\" >jp_sales</th>\n",
       "      <th class=\"col_heading level0 col5\" >total_sales</th>\n",
       "    </tr>\n",
       "  </thead>\n",
       "  <tbody>\n",
       "    <tr>\n",
       "      <th id=\"T_372b1_level0_row0\" class=\"row_heading level0 row0\" >critic_score</th>\n",
       "      <td id=\"T_372b1_row0_col0\" class=\"data row0 col0\" >1.000000</td>\n",
       "      <td id=\"T_372b1_row0_col1\" class=\"data row0 col1\" >0.631154</td>\n",
       "      <td id=\"T_372b1_row0_col2\" class=\"data row0 col2\" >0.450629</td>\n",
       "      <td id=\"T_372b1_row0_col3\" class=\"data row0 col3\" >0.378263</td>\n",
       "      <td id=\"T_372b1_row0_col4\" class=\"data row0 col4\" >0.194475</td>\n",
       "      <td id=\"T_372b1_row0_col5\" class=\"data row0 col5\" >0.428213</td>\n",
       "    </tr>\n",
       "    <tr>\n",
       "      <th id=\"T_372b1_level0_row1\" class=\"row_heading level0 row1\" >user_score</th>\n",
       "      <td id=\"T_372b1_row1_col0\" class=\"data row1 col0\" >0.631154</td>\n",
       "      <td id=\"T_372b1_row1_col1\" class=\"data row1 col1\" >1.000000</td>\n",
       "      <td id=\"T_372b1_row1_col2\" class=\"data row1 col2\" >0.150631</td>\n",
       "      <td id=\"T_372b1_row1_col3\" class=\"data row1 col3\" >0.107035</td>\n",
       "      <td id=\"T_372b1_row1_col4\" class=\"data row1 col4\" >0.166781</td>\n",
       "      <td id=\"T_372b1_row1_col5\" class=\"data row1 col5\" >0.143978</td>\n",
       "    </tr>\n",
       "    <tr>\n",
       "      <th id=\"T_372b1_level0_row2\" class=\"row_heading level0 row2\" >na_sales</th>\n",
       "      <td id=\"T_372b1_row2_col0\" class=\"data row2 col0\" >0.450629</td>\n",
       "      <td id=\"T_372b1_row2_col1\" class=\"data row2 col1\" >0.150631</td>\n",
       "      <td id=\"T_372b1_row2_col2\" class=\"data row2 col2\" >1.000000</td>\n",
       "      <td id=\"T_372b1_row2_col3\" class=\"data row2 col3\" >0.825403</td>\n",
       "      <td id=\"T_372b1_row2_col4\" class=\"data row2 col4\" >0.375620</td>\n",
       "      <td id=\"T_372b1_row2_col5\" class=\"data row2 col5\" >0.940013</td>\n",
       "    </tr>\n",
       "    <tr>\n",
       "      <th id=\"T_372b1_level0_row3\" class=\"row_heading level0 row3\" >eu_sales</th>\n",
       "      <td id=\"T_372b1_row3_col0\" class=\"data row3 col0\" >0.378263</td>\n",
       "      <td id=\"T_372b1_row3_col1\" class=\"data row3 col1\" >0.107035</td>\n",
       "      <td id=\"T_372b1_row3_col2\" class=\"data row3 col2\" >0.825403</td>\n",
       "      <td id=\"T_372b1_row3_col3\" class=\"data row3 col3\" >1.000000</td>\n",
       "      <td id=\"T_372b1_row3_col4\" class=\"data row3 col4\" >0.417368</td>\n",
       "      <td id=\"T_372b1_row3_col5\" class=\"data row3 col5\" >0.961846</td>\n",
       "    </tr>\n",
       "    <tr>\n",
       "      <th id=\"T_372b1_level0_row4\" class=\"row_heading level0 row4\" >jp_sales</th>\n",
       "      <td id=\"T_372b1_row4_col0\" class=\"data row4 col0\" >0.194475</td>\n",
       "      <td id=\"T_372b1_row4_col1\" class=\"data row4 col1\" >0.166781</td>\n",
       "      <td id=\"T_372b1_row4_col2\" class=\"data row4 col2\" >0.375620</td>\n",
       "      <td id=\"T_372b1_row4_col3\" class=\"data row4 col3\" >0.417368</td>\n",
       "      <td id=\"T_372b1_row4_col4\" class=\"data row4 col4\" >1.000000</td>\n",
       "      <td id=\"T_372b1_row4_col5\" class=\"data row4 col5\" >0.491768</td>\n",
       "    </tr>\n",
       "    <tr>\n",
       "      <th id=\"T_372b1_level0_row5\" class=\"row_heading level0 row5\" >total_sales</th>\n",
       "      <td id=\"T_372b1_row5_col0\" class=\"data row5 col0\" >0.428213</td>\n",
       "      <td id=\"T_372b1_row5_col1\" class=\"data row5 col1\" >0.143978</td>\n",
       "      <td id=\"T_372b1_row5_col2\" class=\"data row5 col2\" >0.940013</td>\n",
       "      <td id=\"T_372b1_row5_col3\" class=\"data row5 col3\" >0.961846</td>\n",
       "      <td id=\"T_372b1_row5_col4\" class=\"data row5 col4\" >0.491768</td>\n",
       "      <td id=\"T_372b1_row5_col5\" class=\"data row5 col5\" >1.000000</td>\n",
       "    </tr>\n",
       "  </tbody>\n",
       "</table>\n"
      ],
      "text/plain": [
       "<pandas.io.formats.style.Styler at 0x12057ad60>"
      ]
     },
     "execution_count": 53,
     "metadata": {},
     "output_type": "execute_result"
    }
   ],
   "source": [
    "#ps3\n",
    "ps3_data.corr().style.background_gradient('ocean') \n"
   ]
  },
  {
   "cell_type": "markdown",
   "id": "a35bc869",
   "metadata": {},
   "source": [
    "<b>Вывод:</b> \n",
    "\n",
    "Зависимость от мнения критиков и оценки пользователей выше, чем у PS2 и x360, возможно так как это была следующая версия после PS2, потенциальные покупатели хотели знать стоит ее брать или нет.    "
   ]
  },
  {
   "cell_type": "code",
   "execution_count": 54,
   "id": "59484adf",
   "metadata": {},
   "outputs": [
    {
     "data": {
      "text/html": [
       "<style type=\"text/css\">\n",
       "#T_90c5b_row0_col0, #T_90c5b_row1_col1, #T_90c5b_row2_col2, #T_90c5b_row3_col3, #T_90c5b_row4_col4, #T_90c5b_row5_col5 {\n",
       "  background-color: #ffffff;\n",
       "  color: #000000;\n",
       "}\n",
       "#T_90c5b_row0_col1 {\n",
       "  background-color: #007ba7;\n",
       "  color: #f1f1f1;\n",
       "}\n",
       "#T_90c5b_row0_col2, #T_90c5b_row0_col5 {\n",
       "  background-color: #006611;\n",
       "  color: #f1f1f1;\n",
       "}\n",
       "#T_90c5b_row0_col3 {\n",
       "  background-color: #00690f;\n",
       "  color: #f1f1f1;\n",
       "}\n",
       "#T_90c5b_row0_col4 {\n",
       "  background-color: #006313;\n",
       "  color: #f1f1f1;\n",
       "}\n",
       "#T_90c5b_row1_col0 {\n",
       "  background-color: #0072a1;\n",
       "  color: #f1f1f1;\n",
       "}\n",
       "#T_90c5b_row1_col2, #T_90c5b_row1_col3, #T_90c5b_row1_col4, #T_90c5b_row1_col5, #T_90c5b_row3_col0, #T_90c5b_row3_col1 {\n",
       "  background-color: #008000;\n",
       "  color: #f1f1f1;\n",
       "}\n",
       "#T_90c5b_row2_col0, #T_90c5b_row5_col0 {\n",
       "  background-color: #007a04;\n",
       "  color: #f1f1f1;\n",
       "}\n",
       "#T_90c5b_row2_col1, #T_90c5b_row5_col1 {\n",
       "  background-color: #007c02;\n",
       "  color: #f1f1f1;\n",
       "}\n",
       "#T_90c5b_row2_col3, #T_90c5b_row3_col2 {\n",
       "  background-color: #f0f7fa;\n",
       "  color: #000000;\n",
       "}\n",
       "#T_90c5b_row2_col4 {\n",
       "  background-color: #48a3c2;\n",
       "  color: #f1f1f1;\n",
       "}\n",
       "#T_90c5b_row2_col5, #T_90c5b_row5_col2 {\n",
       "  background-color: #fcfefe;\n",
       "  color: #000000;\n",
       "}\n",
       "#T_90c5b_row3_col4 {\n",
       "  background-color: #4ba5c3;\n",
       "  color: #f1f1f1;\n",
       "}\n",
       "#T_90c5b_row3_col5, #T_90c5b_row5_col3 {\n",
       "  background-color: #f9fcfd;\n",
       "  color: #000000;\n",
       "}\n",
       "#T_90c5b_row4_col0 {\n",
       "  background-color: #006f0b;\n",
       "  color: #f1f1f1;\n",
       "}\n",
       "#T_90c5b_row4_col1 {\n",
       "  background-color: #007507;\n",
       "  color: #f1f1f1;\n",
       "}\n",
       "#T_90c5b_row4_col2 {\n",
       "  background-color: #4ea6c4;\n",
       "  color: #f1f1f1;\n",
       "}\n",
       "#T_90c5b_row4_col3 {\n",
       "  background-color: #51a8c5;\n",
       "  color: #f1f1f1;\n",
       "}\n",
       "#T_90c5b_row4_col5 {\n",
       "  background-color: #6fb7cf;\n",
       "  color: #000000;\n",
       "}\n",
       "#T_90c5b_row5_col4 {\n",
       "  background-color: #6cb6ce;\n",
       "  color: #000000;\n",
       "}\n",
       "</style>\n",
       "<table id=\"T_90c5b_\">\n",
       "  <thead>\n",
       "    <tr>\n",
       "      <th class=\"blank level0\" >&nbsp;</th>\n",
       "      <th class=\"col_heading level0 col0\" >critic_score</th>\n",
       "      <th class=\"col_heading level0 col1\" >user_score</th>\n",
       "      <th class=\"col_heading level0 col2\" >na_sales</th>\n",
       "      <th class=\"col_heading level0 col3\" >eu_sales</th>\n",
       "      <th class=\"col_heading level0 col4\" >jp_sales</th>\n",
       "      <th class=\"col_heading level0 col5\" >total_sales</th>\n",
       "    </tr>\n",
       "  </thead>\n",
       "  <tbody>\n",
       "    <tr>\n",
       "      <th id=\"T_90c5b_level0_row0\" class=\"row_heading level0 row0\" >critic_score</th>\n",
       "      <td id=\"T_90c5b_row0_col0\" class=\"data row0 col0\" >1.000000</td>\n",
       "      <td id=\"T_90c5b_row0_col1\" class=\"data row0 col1\" >0.688285</td>\n",
       "      <td id=\"T_90c5b_row0_col2\" class=\"data row0 col2\" >0.171222</td>\n",
       "      <td id=\"T_90c5b_row0_col3\" class=\"data row0 col3\" >0.156829</td>\n",
       "      <td id=\"T_90c5b_row0_col4\" class=\"data row0 col4\" >0.196070</td>\n",
       "      <td id=\"T_90c5b_row0_col5\" class=\"data row0 col5\" >0.170855</td>\n",
       "    </tr>\n",
       "    <tr>\n",
       "      <th id=\"T_90c5b_level0_row1\" class=\"row_heading level0 row1\" >user_score</th>\n",
       "      <td id=\"T_90c5b_row1_col0\" class=\"data row1 col0\" >0.688285</td>\n",
       "      <td id=\"T_90c5b_row1_col1\" class=\"data row1 col1\" >1.000000</td>\n",
       "      <td id=\"T_90c5b_row1_col2\" class=\"data row1 col2\" >0.109735</td>\n",
       "      <td id=\"T_90c5b_row1_col3\" class=\"data row1 col3\" >0.102459</td>\n",
       "      <td id=\"T_90c5b_row1_col4\" class=\"data row1 col4\" >0.128983</td>\n",
       "      <td id=\"T_90c5b_row1_col5\" class=\"data row1 col5\" >0.110637</td>\n",
       "    </tr>\n",
       "    <tr>\n",
       "      <th id=\"T_90c5b_level0_row2\" class=\"row_heading level0 row2\" >na_sales</th>\n",
       "      <td id=\"T_90c5b_row2_col0\" class=\"data row2 col0\" >0.171222</td>\n",
       "      <td id=\"T_90c5b_row2_col1\" class=\"data row2 col1\" >0.109735</td>\n",
       "      <td id=\"T_90c5b_row2_col2\" class=\"data row2 col2\" >1.000000</td>\n",
       "      <td id=\"T_90c5b_row2_col3\" class=\"data row2 col3\" >0.979393</td>\n",
       "      <td id=\"T_90c5b_row2_col4\" class=\"data row2 col4\" >0.792153</td>\n",
       "      <td id=\"T_90c5b_row2_col5\" class=\"data row2 col5\" >0.994412</td>\n",
       "    </tr>\n",
       "    <tr>\n",
       "      <th id=\"T_90c5b_level0_row3\" class=\"row_heading level0 row3\" >eu_sales</th>\n",
       "      <td id=\"T_90c5b_row3_col0\" class=\"data row3 col0\" >0.156829</td>\n",
       "      <td id=\"T_90c5b_row3_col1\" class=\"data row3 col1\" >0.102459</td>\n",
       "      <td id=\"T_90c5b_row3_col2\" class=\"data row3 col2\" >0.979393</td>\n",
       "      <td id=\"T_90c5b_row3_col3\" class=\"data row3 col3\" >1.000000</td>\n",
       "      <td id=\"T_90c5b_row3_col4\" class=\"data row3 col4\" >0.795263</td>\n",
       "      <td id=\"T_90c5b_row3_col5\" class=\"data row3 col5\" >0.991969</td>\n",
       "    </tr>\n",
       "    <tr>\n",
       "      <th id=\"T_90c5b_level0_row4\" class=\"row_heading level0 row4\" >jp_sales</th>\n",
       "      <td id=\"T_90c5b_row4_col0\" class=\"data row4 col0\" >0.196070</td>\n",
       "      <td id=\"T_90c5b_row4_col1\" class=\"data row4 col1\" >0.128983</td>\n",
       "      <td id=\"T_90c5b_row4_col2\" class=\"data row4 col2\" >0.792153</td>\n",
       "      <td id=\"T_90c5b_row4_col3\" class=\"data row4 col3\" >0.795263</td>\n",
       "      <td id=\"T_90c5b_row4_col4\" class=\"data row4 col4\" >1.000000</td>\n",
       "      <td id=\"T_90c5b_row4_col5\" class=\"data row4 col5\" >0.829994</td>\n",
       "    </tr>\n",
       "    <tr>\n",
       "      <th id=\"T_90c5b_level0_row5\" class=\"row_heading level0 row5\" >total_sales</th>\n",
       "      <td id=\"T_90c5b_row5_col0\" class=\"data row5 col0\" >0.170855</td>\n",
       "      <td id=\"T_90c5b_row5_col1\" class=\"data row5 col1\" >0.110637</td>\n",
       "      <td id=\"T_90c5b_row5_col2\" class=\"data row5 col2\" >0.994412</td>\n",
       "      <td id=\"T_90c5b_row5_col3\" class=\"data row5 col3\" >0.991969</td>\n",
       "      <td id=\"T_90c5b_row5_col4\" class=\"data row5 col4\" >0.829994</td>\n",
       "      <td id=\"T_90c5b_row5_col5\" class=\"data row5 col5\" >1.000000</td>\n",
       "    </tr>\n",
       "  </tbody>\n",
       "</table>\n"
      ],
      "text/plain": [
       "<pandas.io.formats.style.Styler at 0x120e54730>"
      ]
     },
     "execution_count": 54,
     "metadata": {},
     "output_type": "execute_result"
    }
   ],
   "source": [
    "#wii\n",
    "wii_data.corr().style.background_gradient('ocean') \n"
   ]
  },
  {
   "cell_type": "markdown",
   "id": "3157468f",
   "metadata": {},
   "source": [
    "<b>Вывод:</b> \n",
    "\n",
    "Зависимость слабее, чем у PS2,PS3 и X360. Самые \"прислушивающиеся\" к критикам и отзывам других пользователей были потребители из Японии.    "
   ]
  },
  {
   "cell_type": "code",
   "execution_count": 55,
   "id": "120ff375",
   "metadata": {},
   "outputs": [
    {
     "data": {
      "text/html": [
       "<style type=\"text/css\">\n",
       "#T_33c53_row0_col0, #T_33c53_row1_col1, #T_33c53_row2_col2, #T_33c53_row3_col3, #T_33c53_row4_col4, #T_33c53_row5_col5 {\n",
       "  background-color: #ffffff;\n",
       "  color: #000000;\n",
       "}\n",
       "#T_33c53_row0_col1 {\n",
       "  background-color: #006b9c;\n",
       "  color: #f1f1f1;\n",
       "}\n",
       "#T_33c53_row0_col2 {\n",
       "  background-color: #00541d;\n",
       "  color: #f1f1f1;\n",
       "}\n",
       "#T_33c53_row0_col3, #T_33c53_row4_col1 {\n",
       "  background-color: #005c18;\n",
       "  color: #f1f1f1;\n",
       "}\n",
       "#T_33c53_row0_col4, #T_33c53_row4_col0 {\n",
       "  background-color: #006214;\n",
       "  color: #f1f1f1;\n",
       "}\n",
       "#T_33c53_row0_col5 {\n",
       "  background-color: #00571b;\n",
       "  color: #f1f1f1;\n",
       "}\n",
       "#T_33c53_row1_col0 {\n",
       "  background-color: #005b92;\n",
       "  color: #f1f1f1;\n",
       "}\n",
       "#T_33c53_row1_col2, #T_33c53_row1_col3, #T_33c53_row1_col4, #T_33c53_row1_col5, #T_33c53_row2_col1, #T_33c53_row3_col0, #T_33c53_row3_col1 {\n",
       "  background-color: #008000;\n",
       "  color: #f1f1f1;\n",
       "}\n",
       "#T_33c53_row2_col0 {\n",
       "  background-color: #007805;\n",
       "  color: #f1f1f1;\n",
       "}\n",
       "#T_33c53_row2_col3, #T_33c53_row3_col2, #T_33c53_row5_col4 {\n",
       "  background-color: #8dc6d9;\n",
       "  color: #000000;\n",
       "}\n",
       "#T_33c53_row2_col4 {\n",
       "  background-color: #007ea9;\n",
       "  color: #f1f1f1;\n",
       "}\n",
       "#T_33c53_row2_col5 {\n",
       "  background-color: #cce5ee;\n",
       "  color: #000000;\n",
       "}\n",
       "#T_33c53_row3_col4 {\n",
       "  background-color: #399cbd;\n",
       "  color: #f1f1f1;\n",
       "}\n",
       "#T_33c53_row3_col5, #T_33c53_row5_col3 {\n",
       "  background-color: #deeef4;\n",
       "  color: #000000;\n",
       "}\n",
       "#T_33c53_row4_col2 {\n",
       "  background-color: #188bb2;\n",
       "  color: #f1f1f1;\n",
       "}\n",
       "#T_33c53_row4_col3 {\n",
       "  background-color: #4ba5c3;\n",
       "  color: #f1f1f1;\n",
       "}\n",
       "#T_33c53_row4_col5 {\n",
       "  background-color: #96cbdc;\n",
       "  color: #000000;\n",
       "}\n",
       "#T_33c53_row5_col0 {\n",
       "  background-color: #006e0c;\n",
       "  color: #f1f1f1;\n",
       "}\n",
       "#T_33c53_row5_col1 {\n",
       "  background-color: #007408;\n",
       "  color: #f1f1f1;\n",
       "}\n",
       "#T_33c53_row5_col2 {\n",
       "  background-color: #cfe7ef;\n",
       "  color: #000000;\n",
       "}\n",
       "</style>\n",
       "<table id=\"T_33c53_\">\n",
       "  <thead>\n",
       "    <tr>\n",
       "      <th class=\"blank level0\" >&nbsp;</th>\n",
       "      <th class=\"col_heading level0 col0\" >critic_score</th>\n",
       "      <th class=\"col_heading level0 col1\" >user_score</th>\n",
       "      <th class=\"col_heading level0 col2\" >na_sales</th>\n",
       "      <th class=\"col_heading level0 col3\" >eu_sales</th>\n",
       "      <th class=\"col_heading level0 col4\" >jp_sales</th>\n",
       "      <th class=\"col_heading level0 col5\" >total_sales</th>\n",
       "    </tr>\n",
       "  </thead>\n",
       "  <tbody>\n",
       "    <tr>\n",
       "      <th id=\"T_33c53_level0_row0\" class=\"row_heading level0 row0\" >critic_score</th>\n",
       "      <td id=\"T_33c53_row0_col0\" class=\"data row0 col0\" >1.000000</td>\n",
       "      <td id=\"T_33c53_row0_col1\" class=\"data row0 col1\" >0.653908</td>\n",
       "      <td id=\"T_33c53_row0_col2\" class=\"data row0 col2\" >0.212458</td>\n",
       "      <td id=\"T_33c53_row0_col3\" class=\"data row0 col3\" >0.194390</td>\n",
       "      <td id=\"T_33c53_row0_col4\" class=\"data row0 col4\" >0.259340</td>\n",
       "      <td id=\"T_33c53_row0_col5\" class=\"data row0 col5\" >0.232258</td>\n",
       "    </tr>\n",
       "    <tr>\n",
       "      <th id=\"T_33c53_level0_row1\" class=\"row_heading level0 row1\" >user_score</th>\n",
       "      <td id=\"T_33c53_row1_col0\" class=\"data row1 col0\" >0.653908</td>\n",
       "      <td id=\"T_33c53_row1_col1\" class=\"data row1 col1\" >1.000000</td>\n",
       "      <td id=\"T_33c53_row1_col2\" class=\"data row1 col2\" >0.109008</td>\n",
       "      <td id=\"T_33c53_row1_col3\" class=\"data row1 col3\" >0.110368</td>\n",
       "      <td id=\"T_33c53_row1_col4\" class=\"data row1 col4\" >0.193256</td>\n",
       "      <td id=\"T_33c53_row1_col5\" class=\"data row1 col5\" >0.139976</td>\n",
       "    </tr>\n",
       "    <tr>\n",
       "      <th id=\"T_33c53_level0_row2\" class=\"row_heading level0 row2\" >na_sales</th>\n",
       "      <td id=\"T_33c53_row2_col0\" class=\"data row2 col0\" >0.212458</td>\n",
       "      <td id=\"T_33c53_row2_col1\" class=\"data row2 col1\" >0.109008</td>\n",
       "      <td id=\"T_33c53_row2_col2\" class=\"data row2 col2\" >1.000000</td>\n",
       "      <td id=\"T_33c53_row2_col3\" class=\"data row2 col3\" >0.865588</td>\n",
       "      <td id=\"T_33c53_row2_col4\" class=\"data row2 col4\" >0.728660</td>\n",
       "      <td id=\"T_33c53_row2_col5\" class=\"data row2 col5\" >0.942135</td>\n",
       "    </tr>\n",
       "    <tr>\n",
       "      <th id=\"T_33c53_level0_row3\" class=\"row_heading level0 row3\" >eu_sales</th>\n",
       "      <td id=\"T_33c53_row3_col0\" class=\"data row3 col0\" >0.194390</td>\n",
       "      <td id=\"T_33c53_row3_col1\" class=\"data row3 col1\" >0.110368</td>\n",
       "      <td id=\"T_33c53_row3_col2\" class=\"data row3 col2\" >0.865588</td>\n",
       "      <td id=\"T_33c53_row3_col3\" class=\"data row3 col3\" >1.000000</td>\n",
       "      <td id=\"T_33c53_row3_col4\" class=\"data row3 col4\" >0.790603</td>\n",
       "      <td id=\"T_33c53_row3_col5\" class=\"data row3 col5\" >0.961537</td>\n",
       "    </tr>\n",
       "    <tr>\n",
       "      <th id=\"T_33c53_level0_row4\" class=\"row_heading level0 row4\" >jp_sales</th>\n",
       "      <td id=\"T_33c53_row4_col0\" class=\"data row4 col0\" >0.259340</td>\n",
       "      <td id=\"T_33c53_row4_col1\" class=\"data row4 col1\" >0.193256</td>\n",
       "      <td id=\"T_33c53_row4_col2\" class=\"data row4 col2\" >0.728660</td>\n",
       "      <td id=\"T_33c53_row4_col3\" class=\"data row4 col3\" >0.790603</td>\n",
       "      <td id=\"T_33c53_row4_col4\" class=\"data row4 col4\" >1.000000</td>\n",
       "      <td id=\"T_33c53_row4_col5\" class=\"data row4 col5\" >0.879627</td>\n",
       "    </tr>\n",
       "    <tr>\n",
       "      <th id=\"T_33c53_level0_row5\" class=\"row_heading level0 row5\" >total_sales</th>\n",
       "      <td id=\"T_33c53_row5_col0\" class=\"data row5 col0\" >0.232258</td>\n",
       "      <td id=\"T_33c53_row5_col1\" class=\"data row5 col1\" >0.139976</td>\n",
       "      <td id=\"T_33c53_row5_col2\" class=\"data row5 col2\" >0.942135</td>\n",
       "      <td id=\"T_33c53_row5_col3\" class=\"data row5 col3\" >0.961537</td>\n",
       "      <td id=\"T_33c53_row5_col4\" class=\"data row5 col4\" >0.879627</td>\n",
       "      <td id=\"T_33c53_row5_col5\" class=\"data row5 col5\" >1.000000</td>\n",
       "    </tr>\n",
       "  </tbody>\n",
       "</table>\n"
      ],
      "text/plain": [
       "<pandas.io.formats.style.Styler at 0x120c85730>"
      ]
     },
     "execution_count": 55,
     "metadata": {},
     "output_type": "execute_result"
    }
   ],
   "source": [
    "#ds\n",
    "ds_data.corr().style.background_gradient('ocean') \n"
   ]
  },
  {
   "cell_type": "markdown",
   "id": "2047815a",
   "metadata": {},
   "source": [
    "<b>Вывод:</b> \n",
    "\n",
    "Зависимость слабее, чем у PS2,но больше чем у WII. И на этот раз самые требовательные оказались японцы. "
   ]
  },
  {
   "cell_type": "code",
   "execution_count": 56,
   "id": "0e87721a",
   "metadata": {},
   "outputs": [
    {
     "data": {
      "text/html": [
       "<style type=\"text/css\">\n",
       "#T_09a7a_row0_col0, #T_09a7a_row1_col1, #T_09a7a_row2_col2, #T_09a7a_row3_col3, #T_09a7a_row4_col4, #T_09a7a_row5_col5 {\n",
       "  background-color: #ffffff;\n",
       "  color: #000000;\n",
       "}\n",
       "#T_09a7a_row0_col1 {\n",
       "  background-color: #006296;\n",
       "  color: #f1f1f1;\n",
       "}\n",
       "#T_09a7a_row0_col2 {\n",
       "  background-color: #003333;\n",
       "  color: #f1f1f1;\n",
       "}\n",
       "#T_09a7a_row0_col3 {\n",
       "  background-color: #004e21;\n",
       "  color: #f1f1f1;\n",
       "}\n",
       "#T_09a7a_row0_col4 {\n",
       "  background-color: #004c22;\n",
       "  color: #f1f1f1;\n",
       "}\n",
       "#T_09a7a_row0_col5 {\n",
       "  background-color: #00392f;\n",
       "  color: #f1f1f1;\n",
       "}\n",
       "#T_09a7a_row1_col0 {\n",
       "  background-color: #004a86;\n",
       "  color: #f1f1f1;\n",
       "}\n",
       "#T_09a7a_row1_col2, #T_09a7a_row1_col3, #T_09a7a_row1_col4, #T_09a7a_row1_col5, #T_09a7a_row3_col0, #T_09a7a_row3_col1 {\n",
       "  background-color: #008000;\n",
       "  color: #f1f1f1;\n",
       "}\n",
       "#T_09a7a_row2_col0 {\n",
       "  background-color: #00571b;\n",
       "  color: #f1f1f1;\n",
       "}\n",
       "#T_09a7a_row2_col1 {\n",
       "  background-color: #007507;\n",
       "  color: #f1f1f1;\n",
       "}\n",
       "#T_09a7a_row2_col3 {\n",
       "  background-color: #abd5e3;\n",
       "  color: #000000;\n",
       "}\n",
       "#T_09a7a_row2_col4 {\n",
       "  background-color: #001865;\n",
       "  color: #f1f1f1;\n",
       "}\n",
       "#T_09a7a_row2_col5, #T_09a7a_row5_col2 {\n",
       "  background-color: #cce5ee;\n",
       "  color: #000000;\n",
       "}\n",
       "#T_09a7a_row3_col2 {\n",
       "  background-color: #a8d3e2;\n",
       "  color: #000000;\n",
       "}\n",
       "#T_09a7a_row3_col4 {\n",
       "  background-color: #000e5e;\n",
       "  color: #f1f1f1;\n",
       "}\n",
       "#T_09a7a_row3_col5 {\n",
       "  background-color: #bddee9;\n",
       "  color: #000000;\n",
       "}\n",
       "#T_09a7a_row4_col0 {\n",
       "  background-color: #007a04;\n",
       "  color: #f1f1f1;\n",
       "}\n",
       "#T_09a7a_row4_col1 {\n",
       "  background-color: #007c02;\n",
       "  color: #f1f1f1;\n",
       "}\n",
       "#T_09a7a_row4_col2 {\n",
       "  background-color: #001362;\n",
       "  color: #f1f1f1;\n",
       "}\n",
       "#T_09a7a_row4_col3 {\n",
       "  background-color: #000f5f;\n",
       "  color: #f1f1f1;\n",
       "}\n",
       "#T_09a7a_row4_col5 {\n",
       "  background-color: #0078a5;\n",
       "  color: #f1f1f1;\n",
       "}\n",
       "#T_09a7a_row5_col0 {\n",
       "  background-color: #00521e;\n",
       "  color: #f1f1f1;\n",
       "}\n",
       "#T_09a7a_row5_col1 {\n",
       "  background-color: #00690f;\n",
       "  color: #f1f1f1;\n",
       "}\n",
       "#T_09a7a_row5_col3 {\n",
       "  background-color: #c3e1eb;\n",
       "  color: #000000;\n",
       "}\n",
       "#T_09a7a_row5_col4 {\n",
       "  background-color: #007ea9;\n",
       "  color: #f1f1f1;\n",
       "}\n",
       "</style>\n",
       "<table id=\"T_09a7a_\">\n",
       "  <thead>\n",
       "    <tr>\n",
       "      <th class=\"blank level0\" >&nbsp;</th>\n",
       "      <th class=\"col_heading level0 col0\" >critic_score</th>\n",
       "      <th class=\"col_heading level0 col1\" >user_score</th>\n",
       "      <th class=\"col_heading level0 col2\" >na_sales</th>\n",
       "      <th class=\"col_heading level0 col3\" >eu_sales</th>\n",
       "      <th class=\"col_heading level0 col4\" >jp_sales</th>\n",
       "      <th class=\"col_heading level0 col5\" >total_sales</th>\n",
       "    </tr>\n",
       "  </thead>\n",
       "  <tbody>\n",
       "    <tr>\n",
       "      <th id=\"T_09a7a_level0_row0\" class=\"row_heading level0 row0\" >critic_score</th>\n",
       "      <td id=\"T_09a7a_row0_col0\" class=\"data row0 col0\" >1.000000</td>\n",
       "      <td id=\"T_09a7a_row0_col1\" class=\"data row0 col1\" >0.693122</td>\n",
       "      <td id=\"T_09a7a_row0_col2\" class=\"data row0 col2\" >0.422967</td>\n",
       "      <td id=\"T_09a7a_row0_col3\" class=\"data row0 col3\" >0.353796</td>\n",
       "      <td id=\"T_09a7a_row0_col4\" class=\"data row0 col4\" >0.364684</td>\n",
       "      <td id=\"T_09a7a_row0_col5\" class=\"data row0 col5\" >0.430232</td>\n",
       "    </tr>\n",
       "    <tr>\n",
       "      <th id=\"T_09a7a_level0_row1\" class=\"row_heading level0 row1\" >user_score</th>\n",
       "      <td id=\"T_09a7a_row1_col0\" class=\"data row1 col0\" >0.693122</td>\n",
       "      <td id=\"T_09a7a_row1_col1\" class=\"data row1 col1\" >1.000000</td>\n",
       "      <td id=\"T_09a7a_row1_col2\" class=\"data row1 col2\" >0.279084</td>\n",
       "      <td id=\"T_09a7a_row1_col3\" class=\"data row1 col3\" >0.256150</td>\n",
       "      <td id=\"T_09a7a_row1_col4\" class=\"data row1 col4\" >0.264542</td>\n",
       "      <td id=\"T_09a7a_row1_col5\" class=\"data row1 col5\" >0.300608</td>\n",
       "    </tr>\n",
       "    <tr>\n",
       "      <th id=\"T_09a7a_level0_row2\" class=\"row_heading level0 row2\" >na_sales</th>\n",
       "      <td id=\"T_09a7a_row2_col0\" class=\"data row2 col0\" >0.422967</td>\n",
       "      <td id=\"T_09a7a_row2_col1\" class=\"data row2 col1\" >0.279084</td>\n",
       "      <td id=\"T_09a7a_row2_col2\" class=\"data row2 col2\" >1.000000</td>\n",
       "      <td id=\"T_09a7a_row2_col3\" class=\"data row2 col3\" >0.917432</td>\n",
       "      <td id=\"T_09a7a_row2_col4\" class=\"data row2 col4\" >0.555654</td>\n",
       "      <td id=\"T_09a7a_row2_col5\" class=\"data row2 col5\" >0.951902</td>\n",
       "    </tr>\n",
       "    <tr>\n",
       "      <th id=\"T_09a7a_level0_row3\" class=\"row_heading level0 row3\" >eu_sales</th>\n",
       "      <td id=\"T_09a7a_row3_col0\" class=\"data row3 col0\" >0.353796</td>\n",
       "      <td id=\"T_09a7a_row3_col1\" class=\"data row3 col1\" >0.256150</td>\n",
       "      <td id=\"T_09a7a_row3_col2\" class=\"data row3 col2\" >0.917432</td>\n",
       "      <td id=\"T_09a7a_row3_col3\" class=\"data row3 col3\" >1.000000</td>\n",
       "      <td id=\"T_09a7a_row3_col4\" class=\"data row3 col4\" >0.534862</td>\n",
       "      <td id=\"T_09a7a_row3_col5\" class=\"data row3 col5\" >0.939276</td>\n",
       "    </tr>\n",
       "    <tr>\n",
       "      <th id=\"T_09a7a_level0_row4\" class=\"row_heading level0 row4\" >jp_sales</th>\n",
       "      <td id=\"T_09a7a_row4_col0\" class=\"data row4 col0\" >0.364684</td>\n",
       "      <td id=\"T_09a7a_row4_col1\" class=\"data row4 col1\" >0.264542</td>\n",
       "      <td id=\"T_09a7a_row4_col2\" class=\"data row4 col2\" >0.555654</td>\n",
       "      <td id=\"T_09a7a_row4_col3\" class=\"data row4 col3\" >0.534862</td>\n",
       "      <td id=\"T_09a7a_row4_col4\" class=\"data row4 col4\" >1.000000</td>\n",
       "      <td id=\"T_09a7a_row4_col5\" class=\"data row4 col5\" >0.751504</td>\n",
       "    </tr>\n",
       "    <tr>\n",
       "      <th id=\"T_09a7a_level0_row5\" class=\"row_heading level0 row5\" >total_sales</th>\n",
       "      <td id=\"T_09a7a_row5_col0\" class=\"data row5 col0\" >0.430232</td>\n",
       "      <td id=\"T_09a7a_row5_col1\" class=\"data row5 col1\" >0.300608</td>\n",
       "      <td id=\"T_09a7a_row5_col2\" class=\"data row5 col2\" >0.951902</td>\n",
       "      <td id=\"T_09a7a_row5_col3\" class=\"data row5 col3\" >0.939276</td>\n",
       "      <td id=\"T_09a7a_row5_col4\" class=\"data row5 col4\" >0.751504</td>\n",
       "      <td id=\"T_09a7a_row5_col5\" class=\"data row5 col5\" >1.000000</td>\n",
       "    </tr>\n",
       "  </tbody>\n",
       "</table>\n"
      ],
      "text/plain": [
       "<pandas.io.formats.style.Styler at 0x120e606a0>"
      ]
     },
     "execution_count": 56,
     "metadata": {},
     "output_type": "execute_result"
    }
   ],
   "source": [
    "#ps\n",
    "ps_data.corr().style.background_gradient('ocean')"
   ]
  },
  {
   "cell_type": "markdown",
   "id": "139fb98a",
   "metadata": {},
   "source": [
    "<b>Вывод:</b> \n",
    "\n",
    "Лидер среди ТОП-6 по зависимость от мнения пользователей и оценки критиков. Тем не менее заивисмость все равно слабая положительная."
   ]
  },
  {
   "cell_type": "markdown",
   "id": "f2612b5b",
   "metadata": {},
   "source": [
    "#### Посмотрите на общее распределение игр по жанрам. Что можно сказать о самых прибыльных жанрах? Выделяются ли жанры с высокими и низкими продажами?"
   ]
  },
  {
   "cell_type": "code",
   "execution_count": 57,
   "id": "01f4fc4d",
   "metadata": {},
   "outputs": [
    {
     "data": {
      "text/html": [
       "<div>\n",
       "<style scoped>\n",
       "    .dataframe tbody tr th:only-of-type {\n",
       "        vertical-align: middle;\n",
       "    }\n",
       "\n",
       "    .dataframe tbody tr th {\n",
       "        vertical-align: top;\n",
       "    }\n",
       "\n",
       "    .dataframe thead th {\n",
       "        text-align: right;\n",
       "    }\n",
       "</style>\n",
       "<table border=\"1\" class=\"dataframe\">\n",
       "  <thead>\n",
       "    <tr style=\"text-align: right;\">\n",
       "      <th></th>\n",
       "      <th>sum</th>\n",
       "      <th>count</th>\n",
       "    </tr>\n",
       "    <tr>\n",
       "      <th>genre</th>\n",
       "      <th></th>\n",
       "      <th></th>\n",
       "    </tr>\n",
       "  </thead>\n",
       "  <tbody>\n",
       "    <tr>\n",
       "      <th>action</th>\n",
       "      <td>1744.17</td>\n",
       "      <td>3369</td>\n",
       "    </tr>\n",
       "    <tr>\n",
       "      <th>sports</th>\n",
       "      <td>1331.27</td>\n",
       "      <td>2348</td>\n",
       "    </tr>\n",
       "    <tr>\n",
       "      <th>shooter</th>\n",
       "      <td>1052.45</td>\n",
       "      <td>1323</td>\n",
       "    </tr>\n",
       "    <tr>\n",
       "      <th>role-playing</th>\n",
       "      <td>934.56</td>\n",
       "      <td>1498</td>\n",
       "    </tr>\n",
       "    <tr>\n",
       "      <th>platform</th>\n",
       "      <td>827.77</td>\n",
       "      <td>888</td>\n",
       "    </tr>\n",
       "  </tbody>\n",
       "</table>\n",
       "</div>"
      ],
      "text/plain": [
       "                  sum  count\n",
       "genre                       \n",
       "action        1744.17   3369\n",
       "sports        1331.27   2348\n",
       "shooter       1052.45   1323\n",
       "role-playing   934.56   1498\n",
       "platform       827.77    888"
      ]
     },
     "execution_count": 57,
     "metadata": {},
     "output_type": "execute_result"
    }
   ],
   "source": [
    "#выберем нужные данные и сделаем сводную таблицу посчитав сумму и количество продаж по жанрам\n",
    "\n",
    "data_games_genre=data_games[(data_games['genre'] != 'no genre')].pivot_table(index='genre',values='total_sales', aggfunc=['sum','count'])\n",
    "data_games_genre.columns=['sum','count']\n",
    "data_games_genre.sort_values(by='sum',ascending=False,inplace=True)\n",
    "data_games_genre.head()"
   ]
  },
  {
   "cell_type": "code",
   "execution_count": 58,
   "id": "87c85899",
   "metadata": {},
   "outputs": [
    {
     "data": {
      "image/png": "[encoded data removed]",
      "text/plain": [
       "<Figure size 720x432 with 1 Axes>"
      ]
     },
     "metadata": {},
     "output_type": "display_data"
    }
   ],
   "source": [
    "#посмотрим на гистограме как выглядит распределение\n",
    "\n",
    "sns.set_style('darkgrid')\n",
    "\n",
    "data_games_genre.plot(kind='bar', alpha=0.7, figsize=(10,6))\n",
    "\n",
    "plt.title('Общее распределение по жанрам')\n",
    "plt.ylabel('суммарные продажи / количество проданных')\n",
    "plt.xlabel('жанр')\n",
    "plt.show()\n"
   ]
  },
  {
   "cell_type": "markdown",
   "id": "8fbb0b11",
   "metadata": {},
   "source": [
    "<b>Вывод:</b> \n",
    "\n",
    "Если выделять ТОП-3 продаж по жанрам, то это Action, Sports, Shooter Есть и ТОП-5 жанров с низкими продажами: это Strategy,Adventure,Puzzle. Пользователю явно хочется динамики, а стретегически мыслить скучно)) В целом произвродители могут ориентироваться на это при разраотке игр."
   ]
  },
  {
   "cell_type": "markdown",
   "id": "995fcf34",
   "metadata": {},
   "source": [
    "### Шаг 4. Составьте портрет пользователя каждого региона"
   ]
  },
  {
   "cell_type": "markdown",
   "id": "329f3869",
   "metadata": {},
   "source": [
    "#### Самые популярные платформы (топ-5). Опишите различия в долях продаж."
   ]
  },
  {
   "cell_type": "code",
   "execution_count": 59,
   "id": "2f260835",
   "metadata": {},
   "outputs": [],
   "source": [
    "#функция для построения круговых диаграмм\n",
    "def pie_drawing(data,region):\n",
    "    \n",
    "    labels=data.index\n",
    "    fig, ax = plt.subplots()\n",
    "    \n",
    "    ax.pie(x=data['ratio'], labels=labels,  autopct='%1.1f%%', normalize=False)\n",
    "    ax.axis('equal')\n",
    "    plt.title('Диаграмма долей продаж по {} '.format(region), fontsize=14)\n",
    "    plt.show()"
   ]
  },
  {
   "cell_type": "code",
   "execution_count": 60,
   "id": "3e46771d",
   "metadata": {},
   "outputs": [
    {
     "data": {
      "text/html": [
       "<div>\n",
       "<style scoped>\n",
       "    .dataframe tbody tr th:only-of-type {\n",
       "        vertical-align: middle;\n",
       "    }\n",
       "\n",
       "    .dataframe tbody tr th {\n",
       "        vertical-align: top;\n",
       "    }\n",
       "\n",
       "    .dataframe thead th {\n",
       "        text-align: right;\n",
       "    }\n",
       "</style>\n",
       "<table border=\"1\" class=\"dataframe\">\n",
       "  <thead>\n",
       "    <tr style=\"text-align: right;\">\n",
       "      <th></th>\n",
       "      <th>na_sales</th>\n",
       "      <th>ratio</th>\n",
       "    </tr>\n",
       "    <tr>\n",
       "      <th>platform</th>\n",
       "      <th></th>\n",
       "      <th></th>\n",
       "    </tr>\n",
       "  </thead>\n",
       "  <tbody>\n",
       "    <tr>\n",
       "      <th>x360</th>\n",
       "      <td>595.74</td>\n",
       "      <td>0.245568</td>\n",
       "    </tr>\n",
       "    <tr>\n",
       "      <th>ps2</th>\n",
       "      <td>572.92</td>\n",
       "      <td>0.236161</td>\n",
       "    </tr>\n",
       "    <tr>\n",
       "      <th>wii</th>\n",
       "      <td>486.87</td>\n",
       "      <td>0.200691</td>\n",
       "    </tr>\n",
       "    <tr>\n",
       "      <th>ps3</th>\n",
       "      <td>390.13</td>\n",
       "      <td>0.160814</td>\n",
       "    </tr>\n",
       "    <tr>\n",
       "      <th>ds</th>\n",
       "      <td>380.31</td>\n",
       "      <td>0.156766</td>\n",
       "    </tr>\n",
       "  </tbody>\n",
       "</table>\n",
       "</div>"
      ],
      "text/plain": [
       "          na_sales     ratio\n",
       "platform                    \n",
       "x360        595.74  0.245568\n",
       "ps2         572.92  0.236161\n",
       "wii         486.87  0.200691\n",
       "ps3         390.13  0.160814\n",
       "ds          380.31  0.156766"
      ]
     },
     "execution_count": 60,
     "metadata": {},
     "output_type": "execute_result"
    }
   ],
   "source": [
    "#NA - Северная Америка\n",
    "\n",
    "#группировка и сортировка\n",
    "na_sales = games_good_time.pivot_table(index='platform', values='na_sales', aggfunc='sum', ).sort_values(by='na_sales', ascending=False).iloc[:5]  \n",
    "            \n",
    "#отношение продажи по платформе к общей суммарным продажам по региону\n",
    "na_sales['ratio'] = na_sales['na_sales'] / na_sales['na_sales'].sum()          \n",
    "\n",
    "\n",
    "na_sales.head()"
   ]
  },
  {
   "cell_type": "code",
   "execution_count": 61,
   "id": "01079c47",
   "metadata": {},
   "outputs": [
    {
     "data": {
      "image/png": "[encoded data removed]",
      "text/plain": [
       "<Figure size 432x288 with 1 Axes>"
      ]
     },
     "metadata": {},
     "output_type": "display_data"
    }
   ],
   "source": [
    "pie_drawing(na_sales, 'Северной Америке')"
   ]
  },
  {
   "cell_type": "markdown",
   "id": "db9e4717",
   "metadata": {},
   "source": [
    "<b>Вывод:</b>\n",
    "\n",
    "В Америке хорошо продавалась x360,WII, из линейки PS самая успешная была - PS2. В целом линейка PS теряет рынок, так как из всех версий PS -> PS2 -> PS3 самая успешная по доле рынка была вторая."
   ]
  },
  {
   "cell_type": "code",
   "execution_count": 62,
   "id": "e67f2581",
   "metadata": {},
   "outputs": [
    {
     "data": {
      "text/html": [
       "<div>\n",
       "<style scoped>\n",
       "    .dataframe tbody tr th:only-of-type {\n",
       "        vertical-align: middle;\n",
       "    }\n",
       "\n",
       "    .dataframe tbody tr th {\n",
       "        vertical-align: top;\n",
       "    }\n",
       "\n",
       "    .dataframe thead th {\n",
       "        text-align: right;\n",
       "    }\n",
       "</style>\n",
       "<table border=\"1\" class=\"dataframe\">\n",
       "  <thead>\n",
       "    <tr style=\"text-align: right;\">\n",
       "      <th></th>\n",
       "      <th>eu_sales</th>\n",
       "      <th>ratio</th>\n",
       "    </tr>\n",
       "    <tr>\n",
       "      <th>platform</th>\n",
       "      <th></th>\n",
       "      <th></th>\n",
       "    </tr>\n",
       "  </thead>\n",
       "  <tbody>\n",
       "    <tr>\n",
       "      <th>ps2</th>\n",
       "      <td>332.63</td>\n",
       "      <td>0.237785</td>\n",
       "    </tr>\n",
       "    <tr>\n",
       "      <th>ps3</th>\n",
       "      <td>327.21</td>\n",
       "      <td>0.233910</td>\n",
       "    </tr>\n",
       "    <tr>\n",
       "      <th>x360</th>\n",
       "      <td>268.32</td>\n",
       "      <td>0.191812</td>\n",
       "    </tr>\n",
       "    <tr>\n",
       "      <th>wii</th>\n",
       "      <td>258.32</td>\n",
       "      <td>0.184663</td>\n",
       "    </tr>\n",
       "    <tr>\n",
       "      <th>ps</th>\n",
       "      <td>212.39</td>\n",
       "      <td>0.151830</td>\n",
       "    </tr>\n",
       "  </tbody>\n",
       "</table>\n",
       "</div>"
      ],
      "text/plain": [
       "          eu_sales     ratio\n",
       "platform                    \n",
       "ps2         332.63  0.237785\n",
       "ps3         327.21  0.233910\n",
       "x360        268.32  0.191812\n",
       "wii         258.32  0.184663\n",
       "ps          212.39  0.151830"
      ]
     },
     "execution_count": 62,
     "metadata": {},
     "output_type": "execute_result"
    }
   ],
   "source": [
    "#EU - Европейский регион\n",
    "#группировка и сортировка\n",
    "eu_sales = games_good_time.pivot_table(index='platform', values='eu_sales', aggfunc='sum').sort_values(by='eu_sales', ascending=False).iloc[:5]  \n",
    "            \n",
    "#отношение продажи по платформе к общей суммарным продажам по региону\n",
    "eu_sales['ratio'] = eu_sales['eu_sales'] / eu_sales['eu_sales'].sum()          \n",
    "\n",
    "eu_sales.head()"
   ]
  },
  {
   "cell_type": "code",
   "execution_count": 63,
   "id": "ac85e933",
   "metadata": {},
   "outputs": [
    {
     "data": {
      "image/png": "[encoded data removed]",
      "text/plain": [
       "<Figure size 432x288 with 1 Axes>"
      ]
     },
     "metadata": {},
     "output_type": "display_data"
    }
   ],
   "source": [
    "pie_drawing(eu_sales,'Европейскому региону')"
   ]
  },
  {
   "cell_type": "markdown",
   "id": "5669f7b5",
   "metadata": {},
   "source": [
    "<b>Вывод:</b> В Европе хорошо продавались PS2, PS3 и x360. Интерес к PS3 был чуть менее интенсивный, не пользовалась безоговорочной популярностью и x360."
   ]
  },
  {
   "cell_type": "code",
   "execution_count": 64,
   "id": "febc9030",
   "metadata": {},
   "outputs": [
    {
     "data": {
      "text/html": [
       "<div>\n",
       "<style scoped>\n",
       "    .dataframe tbody tr th:only-of-type {\n",
       "        vertical-align: middle;\n",
       "    }\n",
       "\n",
       "    .dataframe tbody tr th {\n",
       "        vertical-align: top;\n",
       "    }\n",
       "\n",
       "    .dataframe thead th {\n",
       "        text-align: right;\n",
       "    }\n",
       "</style>\n",
       "<table border=\"1\" class=\"dataframe\">\n",
       "  <thead>\n",
       "    <tr style=\"text-align: right;\">\n",
       "      <th></th>\n",
       "      <th>jp_sales</th>\n",
       "      <th>ratio</th>\n",
       "    </tr>\n",
       "    <tr>\n",
       "      <th>platform</th>\n",
       "      <th></th>\n",
       "      <th></th>\n",
       "    </tr>\n",
       "  </thead>\n",
       "  <tbody>\n",
       "    <tr>\n",
       "      <th>ds</th>\n",
       "      <td>175.00</td>\n",
       "      <td>0.263598</td>\n",
       "    </tr>\n",
       "    <tr>\n",
       "      <th>ps</th>\n",
       "      <td>139.78</td>\n",
       "      <td>0.210547</td>\n",
       "    </tr>\n",
       "    <tr>\n",
       "      <th>ps2</th>\n",
       "      <td>137.54</td>\n",
       "      <td>0.207173</td>\n",
       "    </tr>\n",
       "    <tr>\n",
       "      <th>snes</th>\n",
       "      <td>110.95</td>\n",
       "      <td>0.167121</td>\n",
       "    </tr>\n",
       "    <tr>\n",
       "      <th>3ds</th>\n",
       "      <td>100.62</td>\n",
       "      <td>0.151561</td>\n",
       "    </tr>\n",
       "  </tbody>\n",
       "</table>\n",
       "</div>"
      ],
      "text/plain": [
       "          jp_sales     ratio\n",
       "platform                    \n",
       "ds          175.00  0.263598\n",
       "ps          139.78  0.210547\n",
       "ps2         137.54  0.207173\n",
       "snes        110.95  0.167121\n",
       "3ds         100.62  0.151561"
      ]
     },
     "execution_count": 64,
     "metadata": {},
     "output_type": "execute_result"
    }
   ],
   "source": [
    "# JP - Япония\n",
    "#группировка и сортировка\n",
    "jp_sales = games_good_time.pivot_table(index='platform', values='jp_sales', aggfunc='sum').sort_values(by='jp_sales', ascending=False).iloc[:5]  \n",
    "            \n",
    "#отношение продажи по платформе к общей суммарным продажам по региону\n",
    "jp_sales['ratio'] = jp_sales['jp_sales'] / jp_sales['jp_sales'].sum()          \n",
    "\n",
    "jp_sales.head()"
   ]
  },
  {
   "cell_type": "code",
   "execution_count": 65,
   "id": "03078bdb",
   "metadata": {},
   "outputs": [
    {
     "data": {
      "image/png": "[encoded data removed]",
      "text/plain": [
       "<Figure size 432x288 with 1 Axes>"
      ]
     },
     "metadata": {},
     "output_type": "display_data"
    }
   ],
   "source": [
    "pie_drawing(jp_sales,'Японии')"
   ]
  },
  {
   "cell_type": "markdown",
   "id": "f21710d2",
   "metadata": {},
   "source": [
    "<b>Вывод:</b> В Японии все иначе, у них лидер по доле рынка - DS. Логично, раработчик - Nintendo, \"отечественный\" для японцев, имел успех PS и PS2 (в меньшей степени), а вот PS3 уже сильно просела по доле рынка."
   ]
  },
  {
   "cell_type": "markdown",
   "id": "4a44e400",
   "metadata": {},
   "source": [
    "#### Самые популярные жанры (топ-5). Поясните разницу."
   ]
  },
  {
   "cell_type": "code",
   "execution_count": 66,
   "id": "4fd6eec9",
   "metadata": {},
   "outputs": [
    {
     "data": {
      "text/html": [
       "<div>\n",
       "<style scoped>\n",
       "    .dataframe tbody tr th:only-of-type {\n",
       "        vertical-align: middle;\n",
       "    }\n",
       "\n",
       "    .dataframe tbody tr th {\n",
       "        vertical-align: top;\n",
       "    }\n",
       "\n",
       "    .dataframe thead th {\n",
       "        text-align: right;\n",
       "    }\n",
       "</style>\n",
       "<table border=\"1\" class=\"dataframe\">\n",
       "  <thead>\n",
       "    <tr style=\"text-align: right;\">\n",
       "      <th></th>\n",
       "      <th>na_sales</th>\n",
       "      <th>ratio</th>\n",
       "    </tr>\n",
       "    <tr>\n",
       "      <th>genre</th>\n",
       "      <th></th>\n",
       "      <th></th>\n",
       "    </tr>\n",
       "  </thead>\n",
       "  <tbody>\n",
       "    <tr>\n",
       "      <th>action</th>\n",
       "      <td>821.00</td>\n",
       "      <td>0.296718</td>\n",
       "    </tr>\n",
       "    <tr>\n",
       "      <th>sports</th>\n",
       "      <td>659.77</td>\n",
       "      <td>0.238448</td>\n",
       "    </tr>\n",
       "    <tr>\n",
       "      <th>shooter</th>\n",
       "      <td>533.99</td>\n",
       "      <td>0.192989</td>\n",
       "    </tr>\n",
       "    <tr>\n",
       "      <th>misc</th>\n",
       "      <td>396.22</td>\n",
       "      <td>0.143198</td>\n",
       "    </tr>\n",
       "    <tr>\n",
       "      <th>platform</th>\n",
       "      <td>355.96</td>\n",
       "      <td>0.128648</td>\n",
       "    </tr>\n",
       "  </tbody>\n",
       "</table>\n",
       "</div>"
      ],
      "text/plain": [
       "          na_sales     ratio\n",
       "genre                       \n",
       "action      821.00  0.296718\n",
       "sports      659.77  0.238448\n",
       "shooter     533.99  0.192989\n",
       "misc        396.22  0.143198\n",
       "platform    355.96  0.128648"
      ]
     },
     "execution_count": 66,
     "metadata": {},
     "output_type": "execute_result"
    }
   ],
   "source": [
    "# NA - Северная Америка\n",
    "\n",
    "#группировка и сортировка и выделение ТОП-5\n",
    "na_sales_genre = games_good_time.pivot_table(index='genre', values='na_sales', aggfunc='sum').sort_values(by='na_sales', ascending=False).iloc[:5]  \n",
    "            \n",
    "#отношение продажи по платформе к общей суммарным продажам по региону\n",
    "na_sales_genre['ratio'] = na_sales_genre['na_sales'] / na_sales_genre['na_sales'].sum()          \n",
    "\n",
    "na_sales_genre.head()"
   ]
  },
  {
   "cell_type": "code",
   "execution_count": 67,
   "id": "e4dd73f0",
   "metadata": {},
   "outputs": [
    {
     "data": {
      "image/png": "[encoded data removed]",
      "text/plain": [
       "<Figure size 432x288 with 1 Axes>"
      ]
     },
     "metadata": {},
     "output_type": "display_data"
    }
   ],
   "source": [
    "pie_drawing(na_sales_genre,'Северной Америке')"
   ]
  },
  {
   "cell_type": "markdown",
   "id": "402ab602",
   "metadata": {},
   "source": [
    "<b>Вывод:</b> В лидерах Action, Sport и Shooter. "
   ]
  },
  {
   "cell_type": "code",
   "execution_count": 68,
   "id": "e423ba29",
   "metadata": {},
   "outputs": [
    {
     "data": {
      "text/html": [
       "<div>\n",
       "<style scoped>\n",
       "    .dataframe tbody tr th:only-of-type {\n",
       "        vertical-align: middle;\n",
       "    }\n",
       "\n",
       "    .dataframe tbody tr th {\n",
       "        vertical-align: top;\n",
       "    }\n",
       "\n",
       "    .dataframe thead th {\n",
       "        text-align: right;\n",
       "    }\n",
       "</style>\n",
       "<table border=\"1\" class=\"dataframe\">\n",
       "  <thead>\n",
       "    <tr style=\"text-align: right;\">\n",
       "      <th></th>\n",
       "      <th>eu_sales</th>\n",
       "      <th>ratio</th>\n",
       "    </tr>\n",
       "    <tr>\n",
       "      <th>genre</th>\n",
       "      <th></th>\n",
       "      <th></th>\n",
       "    </tr>\n",
       "  </thead>\n",
       "  <tbody>\n",
       "    <tr>\n",
       "      <th>action</th>\n",
       "      <td>505.73</td>\n",
       "      <td>0.310643</td>\n",
       "    </tr>\n",
       "    <tr>\n",
       "      <th>sports</th>\n",
       "      <td>368.26</td>\n",
       "      <td>0.226203</td>\n",
       "    </tr>\n",
       "    <tr>\n",
       "      <th>shooter</th>\n",
       "      <td>311.69</td>\n",
       "      <td>0.191455</td>\n",
       "    </tr>\n",
       "    <tr>\n",
       "      <th>racing</th>\n",
       "      <td>231.93</td>\n",
       "      <td>0.142462</td>\n",
       "    </tr>\n",
       "    <tr>\n",
       "      <th>misc</th>\n",
       "      <td>210.40</td>\n",
       "      <td>0.129238</td>\n",
       "    </tr>\n",
       "  </tbody>\n",
       "</table>\n",
       "</div>"
      ],
      "text/plain": [
       "         eu_sales     ratio\n",
       "genre                      \n",
       "action     505.73  0.310643\n",
       "sports     368.26  0.226203\n",
       "shooter    311.69  0.191455\n",
       "racing     231.93  0.142462\n",
       "misc       210.40  0.129238"
      ]
     },
     "execution_count": 68,
     "metadata": {},
     "output_type": "execute_result"
    }
   ],
   "source": [
    "# EU - Европейский регион\n",
    "#группировка и сортировка\n",
    "eu_sales_genre = games_good_time.pivot_table(index='genre', values='eu_sales', aggfunc='sum').sort_values(by='eu_sales', ascending=False).iloc[:5] \n",
    "            \n",
    "#отношение продажи по платформе к общей суммарным продажам по региону\n",
    "eu_sales_genre['ratio'] = eu_sales_genre['eu_sales'] / eu_sales_genre['eu_sales'].sum()          \n",
    "\n",
    "\n",
    "eu_sales_genre.head()"
   ]
  },
  {
   "cell_type": "code",
   "execution_count": 69,
   "id": "a7cdd392",
   "metadata": {},
   "outputs": [
    {
     "data": {
      "image/png": "[encoded data removed]",
      "text/plain": [
       "<Figure size 432x288 with 1 Axes>"
      ]
     },
     "metadata": {},
     "output_type": "display_data"
    }
   ],
   "source": [
    "pie_drawing(eu_sales_genre,'Европейскому региону')"
   ]
  },
  {
   "cell_type": "markdown",
   "id": "351cbca5",
   "metadata": {},
   "source": [
    "<b>Вывод:</b> Точно такая же картина по ТОП-3 как у Америки у европейского пользователя. Логично, близкий \"западный\" менталитет."
   ]
  },
  {
   "cell_type": "code",
   "execution_count": 70,
   "id": "92adae3b",
   "metadata": {},
   "outputs": [
    {
     "data": {
      "text/html": [
       "<div>\n",
       "<style scoped>\n",
       "    .dataframe tbody tr th:only-of-type {\n",
       "        vertical-align: middle;\n",
       "    }\n",
       "\n",
       "    .dataframe tbody tr th {\n",
       "        vertical-align: top;\n",
       "    }\n",
       "\n",
       "    .dataframe thead th {\n",
       "        text-align: right;\n",
       "    }\n",
       "</style>\n",
       "<table border=\"1\" class=\"dataframe\">\n",
       "  <thead>\n",
       "    <tr style=\"text-align: right;\">\n",
       "      <th></th>\n",
       "      <th>jp_sales</th>\n",
       "      <th>ratio</th>\n",
       "    </tr>\n",
       "    <tr>\n",
       "      <th>genre</th>\n",
       "      <th></th>\n",
       "      <th></th>\n",
       "    </tr>\n",
       "  </thead>\n",
       "  <tbody>\n",
       "    <tr>\n",
       "      <th>role-playing</th>\n",
       "      <td>336.29</td>\n",
       "      <td>0.421047</td>\n",
       "    </tr>\n",
       "    <tr>\n",
       "      <th>action</th>\n",
       "      <td>150.82</td>\n",
       "      <td>0.188832</td>\n",
       "    </tr>\n",
       "    <tr>\n",
       "      <th>sports</th>\n",
       "      <td>115.45</td>\n",
       "      <td>0.144547</td>\n",
       "    </tr>\n",
       "    <tr>\n",
       "      <th>misc</th>\n",
       "      <td>102.16</td>\n",
       "      <td>0.127908</td>\n",
       "    </tr>\n",
       "    <tr>\n",
       "      <th>platform</th>\n",
       "      <td>93.98</td>\n",
       "      <td>0.117666</td>\n",
       "    </tr>\n",
       "  </tbody>\n",
       "</table>\n",
       "</div>"
      ],
      "text/plain": [
       "              jp_sales     ratio\n",
       "genre                           \n",
       "role-playing    336.29  0.421047\n",
       "action          150.82  0.188832\n",
       "sports          115.45  0.144547\n",
       "misc            102.16  0.127908\n",
       "platform         93.98  0.117666"
      ]
     },
     "execution_count": 70,
     "metadata": {},
     "output_type": "execute_result"
    }
   ],
   "source": [
    "# JP - Япония\n",
    "#группировка и сортировка\n",
    "jp_sales_genre = games_good_time.pivot_table(index='genre', values='jp_sales', aggfunc='sum').sort_values(by='jp_sales', ascending=False).iloc[:5]  \n",
    "            \n",
    "#отношение продажи по платформе к общей суммарным продажам по региону\n",
    "jp_sales_genre['ratio'] = jp_sales_genre['jp_sales'] / jp_sales_genre['jp_sales'].sum()          \n",
    "\n",
    "\n",
    "jp_sales_genre.head()"
   ]
  },
  {
   "cell_type": "code",
   "execution_count": 71,
   "id": "6fc0a5ec",
   "metadata": {},
   "outputs": [
    {
     "data": {
      "image/png": "[encoded data removed]",
      "text/plain": [
       "<Figure size 432x288 with 1 Axes>"
      ]
     },
     "metadata": {},
     "output_type": "display_data"
    }
   ],
   "source": [
    "pie_drawing(jp_sales_genre,'Японии')"
   ]
  },
  {
   "cell_type": "markdown",
   "id": "5074ab3e",
   "metadata": {},
   "source": [
    "<b>Вывод:</b> Японцы по своему менталитету сильно отличаются от западного мира, поэтому их любимый жанр role-playing вполне понятен, они любят переодеваться в героев аниме и манги, поэтому этот жанр - их."
   ]
  },
  {
   "cell_type": "markdown",
   "id": "f766e522",
   "metadata": {},
   "source": [
    "#### Влияет ли рейтинг ESRB на продажи в отдельном регионе?\n",
    "\n",
    "ESRB - рейтинг\n",
    "\n",
    "    E - Everyone - для всех, для детей от 6 лет.\n",
    "    T - Teen - игры для подростков старше 13 лет.\n",
    "    M - Mature - игры для подростков, старше 17 лет.\n",
    "    E10+ - Everyone 10 and older - для всех, старше 10 лет.\n",
    "    EC - Early Childhood - для детей от 3 лет.\n",
    "    RP - Rating Pending - рейтинг еще не присвоен, зачастую это игры добавленные сразу после презентации.\n",
    "    AO - Adults Only 18+ - только для взрослых, старше 18 лет.\n"
   ]
  },
  {
   "cell_type": "code",
   "execution_count": 72,
   "id": "cbb0f800",
   "metadata": {},
   "outputs": [
    {
     "data": {
      "text/html": [
       "<div>\n",
       "<style scoped>\n",
       "    .dataframe tbody tr th:only-of-type {\n",
       "        vertical-align: middle;\n",
       "    }\n",
       "\n",
       "    .dataframe tbody tr th {\n",
       "        vertical-align: top;\n",
       "    }\n",
       "\n",
       "    .dataframe thead th {\n",
       "        text-align: right;\n",
       "    }\n",
       "</style>\n",
       "<table border=\"1\" class=\"dataframe\">\n",
       "  <thead>\n",
       "    <tr style=\"text-align: right;\">\n",
       "      <th></th>\n",
       "      <th>na_sales</th>\n",
       "      <th>ratio</th>\n",
       "    </tr>\n",
       "    <tr>\n",
       "      <th>rating</th>\n",
       "      <th></th>\n",
       "      <th></th>\n",
       "    </tr>\n",
       "  </thead>\n",
       "  <tbody>\n",
       "    <tr>\n",
       "      <th>e</th>\n",
       "      <td>1276.80</td>\n",
       "      <td>0.409977</td>\n",
       "    </tr>\n",
       "    <tr>\n",
       "      <th>t</th>\n",
       "      <td>747.60</td>\n",
       "      <td>0.240052</td>\n",
       "    </tr>\n",
       "    <tr>\n",
       "      <th>m</th>\n",
       "      <td>742.89</td>\n",
       "      <td>0.238540</td>\n",
       "    </tr>\n",
       "    <tr>\n",
       "      <th>e10+</th>\n",
       "      <td>345.50</td>\n",
       "      <td>0.110939</td>\n",
       "    </tr>\n",
       "    <tr>\n",
       "      <th>ec</th>\n",
       "      <td>1.53</td>\n",
       "      <td>0.000491</td>\n",
       "    </tr>\n",
       "  </tbody>\n",
       "</table>\n",
       "</div>"
      ],
      "text/plain": [
       "        na_sales     ratio\n",
       "rating                    \n",
       "e        1276.80  0.409977\n",
       "t         747.60  0.240052\n",
       "m         742.89  0.238540\n",
       "e10+      345.50  0.110939\n",
       "ec          1.53  0.000491"
      ]
     },
     "execution_count": 72,
     "metadata": {},
     "output_type": "execute_result"
    }
   ],
   "source": [
    "# NA - Северная Америка\n",
    "#группировка и сортировка\n",
    "esrb_na_sales = games_good_time[(games_good_time['rating'] !='no raiting')].pivot_table(index='rating', values='na_sales', aggfunc='sum').sort_values(by='na_sales', ascending=False).iloc[:5]  \n",
    "            \n",
    "#отношение продажи по платформе к общей суммарным продажам по региону\n",
    "esrb_na_sales['ratio'] = esrb_na_sales['na_sales'] / esrb_na_sales['na_sales'].sum()          \n",
    "\n",
    "esrb_na_sales.head()"
   ]
  },
  {
   "cell_type": "code",
   "execution_count": 73,
   "id": "0964c363",
   "metadata": {},
   "outputs": [
    {
     "data": {
      "image/png": "[encoded data removed]",
      "text/plain": [
       "<Figure size 432x288 with 1 Axes>"
      ]
     },
     "metadata": {},
     "output_type": "display_data"
    }
   ],
   "source": [
    "pie_drawing(esrb_na_sales,'Северной Америке')"
   ]
  },
  {
   "cell_type": "markdown",
   "id": "62770a40",
   "metadata": {},
   "source": [
    "<b>Вывод:</b> Превалирует рейтинг E -  Everyone - для всех. На втором и третьем месте T - Teen - игры для подростков от 13 и старше 17."
   ]
  },
  {
   "cell_type": "code",
   "execution_count": 74,
   "id": "beed8312",
   "metadata": {},
   "outputs": [
    {
     "data": {
      "text/html": [
       "<div>\n",
       "<style scoped>\n",
       "    .dataframe tbody tr th:only-of-type {\n",
       "        vertical-align: middle;\n",
       "    }\n",
       "\n",
       "    .dataframe tbody tr th {\n",
       "        vertical-align: top;\n",
       "    }\n",
       "\n",
       "    .dataframe thead th {\n",
       "        text-align: right;\n",
       "    }\n",
       "</style>\n",
       "<table border=\"1\" class=\"dataframe\">\n",
       "  <thead>\n",
       "    <tr style=\"text-align: right;\">\n",
       "      <th></th>\n",
       "      <th>eu_sales</th>\n",
       "      <th>ratio</th>\n",
       "    </tr>\n",
       "    <tr>\n",
       "      <th>rating</th>\n",
       "      <th></th>\n",
       "      <th></th>\n",
       "    </tr>\n",
       "  </thead>\n",
       "  <tbody>\n",
       "    <tr>\n",
       "      <th>e</th>\n",
       "      <td>704.14</td>\n",
       "      <td>0.393409</td>\n",
       "    </tr>\n",
       "    <tr>\n",
       "      <th>m</th>\n",
       "      <td>480.00</td>\n",
       "      <td>0.268180</td>\n",
       "    </tr>\n",
       "    <tr>\n",
       "      <th>t</th>\n",
       "      <td>421.76</td>\n",
       "      <td>0.235641</td>\n",
       "    </tr>\n",
       "    <tr>\n",
       "      <th>e10+</th>\n",
       "      <td>183.33</td>\n",
       "      <td>0.102428</td>\n",
       "    </tr>\n",
       "    <tr>\n",
       "      <th>ao</th>\n",
       "      <td>0.61</td>\n",
       "      <td>0.000341</td>\n",
       "    </tr>\n",
       "  </tbody>\n",
       "</table>\n",
       "</div>"
      ],
      "text/plain": [
       "        eu_sales     ratio\n",
       "rating                    \n",
       "e         704.14  0.393409\n",
       "m         480.00  0.268180\n",
       "t         421.76  0.235641\n",
       "e10+      183.33  0.102428\n",
       "ao          0.61  0.000341"
      ]
     },
     "execution_count": 74,
     "metadata": {},
     "output_type": "execute_result"
    }
   ],
   "source": [
    "# EU - Европейский регион\n",
    "#группировка и сортировка\n",
    "esrb_eu_sales = games_good_time[(games_good_time['rating'] !='no raiting')].pivot_table(index='rating', values='eu_sales', aggfunc='sum').sort_values(by='eu_sales', ascending=False).iloc[:5]  \n",
    "            \n",
    "#отношение продажи по платформе к общей суммарным продажам по региону\n",
    "esrb_eu_sales['ratio'] = esrb_eu_sales['eu_sales'] / esrb_eu_sales['eu_sales'].sum()          \n",
    "\n",
    "esrb_eu_sales.head()"
   ]
  },
  {
   "cell_type": "code",
   "execution_count": 75,
   "id": "3a363bde",
   "metadata": {},
   "outputs": [
    {
     "data": {
      "image/png": "[encoded data removed]",
      "text/plain": [
       "<Figure size 432x288 with 1 Axes>"
      ]
     },
     "metadata": {},
     "output_type": "display_data"
    }
   ],
   "source": [
    "pie_drawing(esrb_eu_sales,'Европейскому региону')"
   ]
  },
  {
   "cell_type": "markdown",
   "id": "ea071409",
   "metadata": {},
   "source": [
    "<b>Вывод:</b> Аналогичная картина как в Америке и для Европы: в лидерах рейтинг E -  Everyone - для всех. На втором месте, правда, игры для тех, кому больше 17."
   ]
  },
  {
   "cell_type": "code",
   "execution_count": 76,
   "id": "355175e7",
   "metadata": {},
   "outputs": [
    {
     "data": {
      "text/html": [
       "<div>\n",
       "<style scoped>\n",
       "    .dataframe tbody tr th:only-of-type {\n",
       "        vertical-align: middle;\n",
       "    }\n",
       "\n",
       "    .dataframe tbody tr th {\n",
       "        vertical-align: top;\n",
       "    }\n",
       "\n",
       "    .dataframe thead th {\n",
       "        text-align: right;\n",
       "    }\n",
       "</style>\n",
       "<table border=\"1\" class=\"dataframe\">\n",
       "  <thead>\n",
       "    <tr style=\"text-align: right;\">\n",
       "      <th></th>\n",
       "      <th>jp_sales</th>\n",
       "      <th>ratio</th>\n",
       "    </tr>\n",
       "    <tr>\n",
       "      <th>rating</th>\n",
       "      <th></th>\n",
       "      <th></th>\n",
       "    </tr>\n",
       "  </thead>\n",
       "  <tbody>\n",
       "    <tr>\n",
       "      <th>e</th>\n",
       "      <td>199.42</td>\n",
       "      <td>0.439348</td>\n",
       "    </tr>\n",
       "    <tr>\n",
       "      <th>t</th>\n",
       "      <td>150.70</td>\n",
       "      <td>0.332011</td>\n",
       "    </tr>\n",
       "    <tr>\n",
       "      <th>m</th>\n",
       "      <td>63.58</td>\n",
       "      <td>0.140075</td>\n",
       "    </tr>\n",
       "    <tr>\n",
       "      <th>e10+</th>\n",
       "      <td>40.20</td>\n",
       "      <td>0.088566</td>\n",
       "    </tr>\n",
       "    <tr>\n",
       "      <th>ao</th>\n",
       "      <td>0.00</td>\n",
       "      <td>0.000000</td>\n",
       "    </tr>\n",
       "  </tbody>\n",
       "</table>\n",
       "</div>"
      ],
      "text/plain": [
       "        jp_sales     ratio\n",
       "rating                    \n",
       "e         199.42  0.439348\n",
       "t         150.70  0.332011\n",
       "m          63.58  0.140075\n",
       "e10+       40.20  0.088566\n",
       "ao          0.00  0.000000"
      ]
     },
     "execution_count": 76,
     "metadata": {},
     "output_type": "execute_result"
    }
   ],
   "source": [
    "# JP - Япония\n",
    "#группировка и сортировка\n",
    "esrb_jp_sales = games_good_time[(games_good_time['rating'] !='no raiting')].pivot_table(index='rating', values='jp_sales', aggfunc='sum').sort_values(by='jp_sales', ascending=False).iloc[:5]  \n",
    "            \n",
    "#отношение продажи по платформе к общей суммарным продажам по региону\n",
    "esrb_jp_sales['ratio'] = esrb_jp_sales['jp_sales'] / esrb_jp_sales['jp_sales'].sum()          \n",
    "\n",
    "esrb_jp_sales.head()"
   ]
  },
  {
   "cell_type": "code",
   "execution_count": 77,
   "id": "56ba9f64",
   "metadata": {},
   "outputs": [
    {
     "data": {
      "image/png": "[encoded data removed]",
      "text/plain": [
       "<Figure size 432x288 with 1 Axes>"
      ]
     },
     "metadata": {},
     "output_type": "display_data"
    }
   ],
   "source": [
    "pie_drawing(esrb_jp_sales,'Японии')"
   ]
  },
  {
   "cell_type": "markdown",
   "id": "f0cb914c",
   "metadata": {},
   "source": [
    "<b>Вывод:</b> Картина похожа, но доля \"для всех\" самая большая по регионам. И самая маленькая доля игр для подростков старше 17. Японцы очень дисциплинированы и возможно в этом возрасте готовятся к экзаменам и им не до игр? "
   ]
  },
  {
   "cell_type": "markdown",
   "id": "5cbcf3c0",
   "metadata": {},
   "source": [
    "### Шаг 5. Проверьте гипотезы\n",
    "Средние пользовательские рейтинги платформ Xbox One и PC одинаковые;\n",
    "\n",
    "Средние пользовательские рейтинги жанров Action (англ. «действие», экшен-игры) и Sports (англ. «спортивные соревнования») разные."
   ]
  },
  {
   "cell_type": "markdown",
   "id": "3537f0a1",
   "metadata": {},
   "source": [
    "Так как в гипотезах присуствует проверка средних был выбран метод ttest_ind, который вычисляет T-тест для средних двух независимых выборок баллов. Это двусторонний тест для нулевой гипотезы о том, что две независимые выборки имеют идентичные средние (ожидаемые) значения.\n",
    "\n",
    "При выборе критического уровня значимости учитывается объем выборки.  При малом объеме выборки более вероятно получить случайный результат. Следовательно, можно взять большую вероятность ошибки первого рода. Возьмем уровень критической значимости 0.05\n",
    "\n",
    "\n",
    "<b> Нулевая гипотеза H0 </b> - Средние пользовательские рейтинги платформ Xbox One и PC одинаковые\n",
    "\n",
    "<b> Альтернативная гипотеза H1 </b>- Средние пользовательские рейтинги отличаются\n"
   ]
  },
  {
   "cell_type": "code",
   "execution_count": 78,
   "id": "dc01ad49",
   "metadata": {},
   "outputs": [],
   "source": [
    "#выделяем таблицу c платформой Xbox One,убирая из нее сделанную замену\n",
    "data_games_xone=data_games[((data_games['platform'] == 'xone') & (data_games['year_of_release'] >= 1991) & (data_games['user_score'] != -1))]\n",
    "xone_mean=data_games_xone.pivot_table(index='name', values='user_score', aggfunc='mean')\n",
    "\n",
    "#выделяем таблицу c платформой PC,убирая из нее сделанную замену\n",
    "data_games_pc=data_games[((data_games['platform'] == 'pc') & (data_games['year_of_release'] >= 1991) & (data_games['user_score'] != -1))]\n",
    "pc_mean=data_games_pc.pivot_table(index='name', values='user_score', aggfunc='mean')"
   ]
  },
  {
   "cell_type": "code",
   "execution_count": 79,
   "id": "b8ac92ba",
   "metadata": {},
   "outputs": [
    {
     "name": "stdout",
     "output_type": "stream",
     "text": [
      "Дисперсия оценок пользователей выборки Action: 1.9069968429360702\n",
      "Дисперсия оценок пользователей выборки Sports: 2.3139231414330785\n"
     ]
    }
   ],
   "source": [
    "#вычислим дисперсию\n",
    "print('Дисперсия оценок пользователей выборки Action:', data_games_xone['user_score'].var())\n",
    "print('Дисперсия оценок пользователей выборки Sports:', data_games_pc['user_score'].var())"
   ]
  },
  {
   "cell_type": "markdown",
   "id": "359da662",
   "metadata": {},
   "source": [
    "Так как дисперсии для выборок сильно отличаются, то небоходимо учесть это в функции ttest_ind, добавив аргумент equal_var=False"
   ]
  },
  {
   "cell_type": "code",
   "execution_count": 80,
   "id": "8fd9c573",
   "metadata": {},
   "outputs": [
    {
     "name": "stdout",
     "output_type": "stream",
     "text": [
      "p-значение: [3.82294769e-06]\n",
      "Отвергаем нулевую гипотезу\n"
     ]
    }
   ],
   "source": [
    "#проверяем первую гипотезу \n",
    "\n",
    "alpha = .05\n",
    "results = st.ttest_ind(xone_mean, pc_mean,equal_var=False)\n",
    "\n",
    "print('p-значение:', results.pvalue)\n",
    "if (results.pvalue < alpha):\n",
    "    print(\"Отвергаем нулевую гипотезу\")\n",
    "else:\n",
    "    print(\"Не получилось отвергнуть нулевую гипотезу\")"
   ]
  },
  {
   "cell_type": "code",
   "execution_count": 81,
   "id": "399fa128",
   "metadata": {},
   "outputs": [
    {
     "name": "stdout",
     "output_type": "stream",
     "text": [
      "7.06857887874838\n",
      "6.521428571428572\n"
     ]
    }
   ],
   "source": [
    "#посмотрим что на самом деле\n",
    "print(pc_mean['user_score'].mean()) \n",
    "print(xone_mean['user_score'].mean()) "
   ]
  },
  {
   "cell_type": "markdown",
   "id": "9815af16",
   "metadata": {},
   "source": [
    "Действительно, средние почти одинаковые."
   ]
  },
  {
   "cell_type": "markdown",
   "id": "fca9d17f",
   "metadata": {},
   "source": [
    "<b> Нулевая гипотеза H0 </b>- Средние пользовательские рейтинги жанров Action и Sports одинаковые.\n",
    "\n",
    "<b> Альтернативная гипотеза H1 </b>- Средние пользовательские рейтинги отличаются"
   ]
  },
  {
   "cell_type": "markdown",
   "id": "cc5dbde3",
   "metadata": {},
   "source": [
    "Дисперсия близка друг к другу"
   ]
  },
  {
   "cell_type": "code",
   "execution_count": 82,
   "id": "3f859ced",
   "metadata": {},
   "outputs": [],
   "source": [
    "\n",
    "#выделяем таблицу c жанром Action,убирая из нее сделанную замену\n",
    "data_games_action=data_games[((data_games['genre'] == 'action') & (data_games['year_of_release'] >= 1991) & (data_games['genre'] !='no genre'))]\n",
    "action_mean=data_games_action.pivot_table(index='name', values='user_score')\n",
    "\n",
    "#выделяем таблицу c жанром Sports,убирая из нее сделанную замену\n",
    "data_games_sports=data_games[((data_games['genre'] == 'sports') & (data_games['year_of_release'] >= 1991) & (data_games['genre'] != 'no genre'))]\n",
    "sports_mean=data_games_sports.pivot_table(index='name', values='user_score')"
   ]
  },
  {
   "cell_type": "code",
   "execution_count": 83,
   "id": "6554da86",
   "metadata": {},
   "outputs": [
    {
     "name": "stdout",
     "output_type": "stream",
     "text": [
      "Дисперсия оценок пользователей выборки Action: 17.15518934020338\n",
      "Дисперсия оценок пользователей выборки Sports: 17.045241607447657\n"
     ]
    }
   ],
   "source": [
    "#вычислим дисперсию\n",
    "print('Дисперсия оценок пользователей выборки Action:', data_games_action['user_score'].var())\n",
    "print('Дисперсия оценок пользователей выборки Sports:', data_games_sports['user_score'].var())"
   ]
  },
  {
   "cell_type": "code",
   "execution_count": 84,
   "id": "bc064391",
   "metadata": {},
   "outputs": [
    {
     "name": "stdout",
     "output_type": "stream",
     "text": [
      "p-значение: [3.77624278e-09]\n",
      "Отвергаем нулевую гипотезу\n"
     ]
    }
   ],
   "source": [
    "#проверяем вторую гипотезу \n",
    "# H0=Средние пользовательские рейтинги жанров Action (англ. «действие», экшен-игры) и Sports (англ. «спортивные соревнования») одинаковые\n",
    "\n",
    "alpha = .05\n",
    "results = st.ttest_ind(action_mean, sports_mean)\n",
    "\n",
    "print('p-значение:', results.pvalue)\n",
    "if (results.pvalue < alpha):\n",
    "    print(\"Отвергаем нулевую гипотезу\")\n",
    "else:\n",
    "    print(\"Не получилось отвергнуть нулевую гипотезу\")"
   ]
  },
  {
   "cell_type": "code",
   "execution_count": 85,
   "id": "5638a748",
   "metadata": {},
   "outputs": [
    {
     "name": "stdout",
     "output_type": "stream",
     "text": [
      "2.6574807669720495\n",
      "1.8385910360707873\n"
     ]
    }
   ],
   "source": [
    "#посмотрим что на самом деле\n",
    "print(action_mean['user_score'].mean()) \n",
    "print(sports_mean['user_score'].mean()) "
   ]
  },
  {
   "cell_type": "markdown",
   "id": "cfe2583f",
   "metadata": {},
   "source": [
    "Действительно, средние отличаются."
   ]
  },
  {
   "cell_type": "markdown",
   "id": "49637b9c",
   "metadata": {},
   "source": [
    "<b> Вывод: <b/>  \n",
    "    \n",
    "После проверки гипотез было выявлено, что средние пользовательские рейтинги платформ Xbox One и PC одинаковые, а средние пользовательские рейтинги жанров Action и Sports отличаются."
   ]
  },
  {
   "cell_type": "markdown",
   "id": "104225cd",
   "metadata": {},
   "source": [
    "### Шаг 6. Напишите общий вывод"
   ]
  },
  {
   "cell_type": "markdown",
   "id": "e015265b",
   "metadata": {},
   "source": [
    "1. Были изучены данные по таблице, содержащей информацию о продажах компьютерных игр в разных регионах, проверено наличие пропущенных значений, дубликатов, неверных типов данных.\n",
    "\n",
    "В результате была выполнена предподготовка, в рамках которой:\n",
    "- обработан регистр заголовков таблицы;\n",
    "- строковые данные в столбцах таблице приведены к нижнему регистру; \n",
    "- проведена обработка пропусков:\n",
    "\n",
    "  так как пропусков оказалось  некоторых столбцах >10% принято решение заменить их на значения «маркеры», которые можно «увидеть» и исключить в процессе анализа.\n",
    "  \n",
    "   - в year_of_release  на 2222;\n",
    "   - в name, genre, rating на ‘no name’, ‘no genre’,’no rating’ соответственно;\n",
    "   -выяснено, что значение tbd в столбце user_score -  по факту тот же пропуск, он заменен на -1, так же как и присутствующие пропуски в этом столбце;\n",
    "   -в столбце rating  выявлен скрытый дубликат, устаревшая категория K-A, заменена на E;\n",
    "   -в столбце critic_score пропуск заменен на 0.\n",
    "   \n",
    "- рассчитаны и добавлены в таблицу суммарные по всем регионам.\n",
    "\n",
    "2. Произведен исследовательский анализ данных, в рамках которого определено, что для анализа интересны годы с 1991 по 2016, так как раньше 1991 было чрезвычайно мало продаж, рынок только начал развиваться. Были выявлены платформы-лидеры по суммарным продажам: PS2,X360,PS3,WII,DS,PS. Для них построено распределение по годам, выявлено, что они существовали около 10 лет, а в среднем платформы «живут» около 5 лет.\n",
    "Исходя из величины жизненного цикла платформы был выявлен актуальный период – с 2011 до 2016 года, проанализированы платформы, которые на конец 2015 демонстрировали рост: X360,3DS,PS3 и платформы-аутсайдеры с низкими продажами и слабой динамикой (PSV).\n",
    "Выявлено, что в ТОП-6 по продажам присутствуют различные версии платформы PS, самой успешной среди которых была PS3. В целом по анализу боксплотов PS3 и X360 наиболее прибыльные в ТОП-6.\n",
    "\n",
    "3. Оценена зависимость между продажами, оценками пользователей и критиков. Зависимость есть, но слабая. Установлен всплеск зависимости по платформе PS3. Сделано предположение, что после успеха PS2 пользователи тщательно изучали информацию о новой версии.\n",
    "\n",
    "\n",
    "4. По жанрам выявлены ТОП-3 популярных: Action, Sports, Shooter и 3 наименее популярных: Strategy, Adventure, Puzzle. Пользователи предпочитают «активные» и динамичные игры.\n",
    "\n",
    "\n",
    "5. По продажам по регионам Европа и Америка схожи в выборе платформ, а Япония идет своим особым путем и выбирает «отечественную» платформу DS. Тоже самое наблюдается при анализе жанров, которые предпочитают пользователи в разных странах. В Америке и Европе все те же ТОП-3: Action, Sports, Shooter. Японцы, любящие переодеваться в героев аниме и манги предпочитают role-playing. \n",
    "\n",
    "\n",
    "6. Интересная ситуация с категориями игр. В Америке и Европе опять схожая картина: большие доли имеют E(для всех), T(подростки от 13 лет) и M(подростки 17+). В Японии «проседает» категория M, сделано предположение, что чрезвычайно ответственные японские подростки в 17 лет вместе игр учат уроки, чтобы сдать экзамены.\n",
    "\n",
    "\n",
    "7. Так же проверены гипотезы и установлено, что средние пользовательские рейтинги платформ Xbox One и PC одинаковые, а средние пользовательские рейтинги жанров Action и Sports отличаются.\n",
    "\n",
    "\n",
    "8. В целом можно сказать, что при выборе стратегии рекламы компьютерных игр производителю нужно обращать внимание на географическое положение рынка, японский рынок сильно отличается по предпочтениям от Европы и Америки, несущественные различия присутствуют и между последними. \n",
    "\n",
    "\n"
   ]
  },
  {
   "cell_type": "code",
   "execution_count": null,
   "id": "f22d568d",
   "metadata": {},
   "outputs": [],
   "source": []
  }
 ],
 "metadata": {
  "kernelspec": {
   "display_name": "Python 3 (ipykernel)",
   "language": "python",
   "name": "python3"
  },
  "language_info": {
   "codemirror_mode": {
    "name": "ipython",
    "version": 3
   },
   "file_extension": ".py",
   "mimetype": "text/x-python",
   "name": "python",
   "nbconvert_exporter": "python",
   "pygments_lexer": "ipython3",
   "version": "3.8.11"
  }
 },
 "nbformat": 4,
 "nbformat_minor": 5
}
