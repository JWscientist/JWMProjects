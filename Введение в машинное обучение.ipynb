{
 "cells": [
  {
   "cell_type": "markdown",
   "id": "747ce825",
   "metadata": {},
   "source": [
    "### Введение в машинное"
   ]
  },
  {
   "cell_type": "markdown",
   "id": "410f95a2",
   "metadata": {},
   "source": [
    "<b>Цель проекта:</b> построить модель для задачи классификации, которая выберет подходящий тариф\n",
    "\n",
    "<b>Исходные данные:</b> \n",
    "\n",
    "   - сalls — количество звонков,\n",
    "   - minutes — суммарная длительность звонков в минутах,\n",
    "   - messages — количество sms-сообщений,\n",
    "   - mb_used — израсходованный интернет-трафик в Мб,\n",
    "   - is_ultra — каким тарифом пользовался в течение месяца («Ультра» — 1, «Смарт» — 0)."
   ]
  },
  {
   "cell_type": "markdown",
   "id": "7f99d9fa",
   "metadata": {},
   "source": [
    "### Откройте файл с данными и изучите его."
   ]
  },
  {
   "cell_type": "code",
   "execution_count": 1,
   "id": "f0333838",
   "metadata": {},
   "outputs": [],
   "source": [
    "import pandas as pd\n",
    "import numpy as np\n",
    "\n",
    "from sklearn.model_selection import train_test_split\n",
    "\n",
    "#модели\n",
    "from sklearn.tree import DecisionTreeClassifier\n",
    "from sklearn.ensemble import RandomForestClassifier\n",
    "from sklearn.linear_model import LogisticRegression\n",
    "\n",
    "#метики\n",
    "from sklearn.metrics import accuracy_score\n",
    "from sklearn.metrics import confusion_matrix\n",
    "from sklearn.metrics import recall_score\n",
    "from sklearn.metrics import precision_score\n",
    "from sklearn.metrics import f1_score\n",
    "from sklearn.metrics import roc_auc_score\n",
    "from sklearn.metrics import roc_curve\n",
    "\n",
    "#визуализация\n",
    "import seaborn as sns\n",
    "import matplotlib.pyplot as plt"
   ]
  },
  {
   "cell_type": "code",
   "execution_count": 2,
   "id": "ddcb5d03",
   "metadata": {},
   "outputs": [
    {
     "data": {
      "text/html": [
       "<div>\n",
       "<style scoped>\n",
       "    .dataframe tbody tr th:only-of-type {\n",
       "        vertical-align: middle;\n",
       "    }\n",
       "\n",
       "    .dataframe tbody tr th {\n",
       "        vertical-align: top;\n",
       "    }\n",
       "\n",
       "    .dataframe thead th {\n",
       "        text-align: right;\n",
       "    }\n",
       "</style>\n",
       "<table border=\"1\" class=\"dataframe\">\n",
       "  <thead>\n",
       "    <tr style=\"text-align: right;\">\n",
       "      <th></th>\n",
       "      <th>calls</th>\n",
       "      <th>minutes</th>\n",
       "      <th>messages</th>\n",
       "      <th>mb_used</th>\n",
       "      <th>is_ultra</th>\n",
       "    </tr>\n",
       "  </thead>\n",
       "  <tbody>\n",
       "    <tr>\n",
       "      <th>0</th>\n",
       "      <td>40.0</td>\n",
       "      <td>311.90</td>\n",
       "      <td>83.0</td>\n",
       "      <td>19915.42</td>\n",
       "      <td>0</td>\n",
       "    </tr>\n",
       "    <tr>\n",
       "      <th>1</th>\n",
       "      <td>85.0</td>\n",
       "      <td>516.75</td>\n",
       "      <td>56.0</td>\n",
       "      <td>22696.96</td>\n",
       "      <td>0</td>\n",
       "    </tr>\n",
       "    <tr>\n",
       "      <th>2</th>\n",
       "      <td>77.0</td>\n",
       "      <td>467.66</td>\n",
       "      <td>86.0</td>\n",
       "      <td>21060.45</td>\n",
       "      <td>0</td>\n",
       "    </tr>\n",
       "    <tr>\n",
       "      <th>3</th>\n",
       "      <td>106.0</td>\n",
       "      <td>745.53</td>\n",
       "      <td>81.0</td>\n",
       "      <td>8437.39</td>\n",
       "      <td>1</td>\n",
       "    </tr>\n",
       "    <tr>\n",
       "      <th>4</th>\n",
       "      <td>66.0</td>\n",
       "      <td>418.74</td>\n",
       "      <td>1.0</td>\n",
       "      <td>14502.75</td>\n",
       "      <td>0</td>\n",
       "    </tr>\n",
       "  </tbody>\n",
       "</table>\n",
       "</div>"
      ],
      "text/plain": [
       "   calls  minutes  messages   mb_used  is_ultra\n",
       "0   40.0   311.90      83.0  19915.42         0\n",
       "1   85.0   516.75      56.0  22696.96         0\n",
       "2   77.0   467.66      86.0  21060.45         0\n",
       "3  106.0   745.53      81.0   8437.39         1\n",
       "4   66.0   418.74       1.0  14502.75         0"
      ]
     },
     "execution_count": 2,
     "metadata": {},
     "output_type": "execute_result"
    }
   ],
   "source": [
    "try:\n",
    "    data_mob=pd.read_csv('desktop/datasets/users_behavior.csv')\n",
    "except:\n",
    "    data_mob=pd.read_csv('/datasets/users_behavior.csv')\n",
    "\n",
    "data_mob.head()    "
   ]
  },
  {
   "cell_type": "code",
   "execution_count": 3,
   "id": "977979df",
   "metadata": {},
   "outputs": [
    {
     "name": "stdout",
     "output_type": "stream",
     "text": [
      "<class 'pandas.core.frame.DataFrame'>\n",
      "RangeIndex: 3214 entries, 0 to 3213\n",
      "Data columns (total 5 columns):\n",
      " #   Column    Non-Null Count  Dtype  \n",
      "---  ------    --------------  -----  \n",
      " 0   calls     3214 non-null   float64\n",
      " 1   minutes   3214 non-null   float64\n",
      " 2   messages  3214 non-null   float64\n",
      " 3   mb_used   3214 non-null   float64\n",
      " 4   is_ultra  3214 non-null   int64  \n",
      "dtypes: float64(4), int64(1)\n",
      "memory usage: 125.7 KB\n"
     ]
    }
   ],
   "source": [
    "#общая информация о датасете\n",
    "data_mob.info()"
   ]
  },
  {
   "cell_type": "code",
   "execution_count": 4,
   "id": "fa6f8afe",
   "metadata": {},
   "outputs": [
    {
     "data": {
      "text/html": [
       "<div>\n",
       "<style scoped>\n",
       "    .dataframe tbody tr th:only-of-type {\n",
       "        vertical-align: middle;\n",
       "    }\n",
       "\n",
       "    .dataframe tbody tr th {\n",
       "        vertical-align: top;\n",
       "    }\n",
       "\n",
       "    .dataframe thead th {\n",
       "        text-align: right;\n",
       "    }\n",
       "</style>\n",
       "<table border=\"1\" class=\"dataframe\">\n",
       "  <thead>\n",
       "    <tr style=\"text-align: right;\">\n",
       "      <th></th>\n",
       "      <th>calls</th>\n",
       "      <th>minutes</th>\n",
       "      <th>messages</th>\n",
       "      <th>mb_used</th>\n",
       "      <th>is_ultra</th>\n",
       "    </tr>\n",
       "  </thead>\n",
       "  <tbody>\n",
       "    <tr>\n",
       "      <th>count</th>\n",
       "      <td>3214.000000</td>\n",
       "      <td>3214.000000</td>\n",
       "      <td>3214.000000</td>\n",
       "      <td>3214.000000</td>\n",
       "      <td>3214.000000</td>\n",
       "    </tr>\n",
       "    <tr>\n",
       "      <th>mean</th>\n",
       "      <td>63.038892</td>\n",
       "      <td>438.208787</td>\n",
       "      <td>38.281269</td>\n",
       "      <td>17207.673836</td>\n",
       "      <td>0.306472</td>\n",
       "    </tr>\n",
       "    <tr>\n",
       "      <th>std</th>\n",
       "      <td>33.236368</td>\n",
       "      <td>234.569872</td>\n",
       "      <td>36.148326</td>\n",
       "      <td>7570.968246</td>\n",
       "      <td>0.461100</td>\n",
       "    </tr>\n",
       "    <tr>\n",
       "      <th>min</th>\n",
       "      <td>0.000000</td>\n",
       "      <td>0.000000</td>\n",
       "      <td>0.000000</td>\n",
       "      <td>0.000000</td>\n",
       "      <td>0.000000</td>\n",
       "    </tr>\n",
       "    <tr>\n",
       "      <th>25%</th>\n",
       "      <td>40.000000</td>\n",
       "      <td>274.575000</td>\n",
       "      <td>9.000000</td>\n",
       "      <td>12491.902500</td>\n",
       "      <td>0.000000</td>\n",
       "    </tr>\n",
       "    <tr>\n",
       "      <th>50%</th>\n",
       "      <td>62.000000</td>\n",
       "      <td>430.600000</td>\n",
       "      <td>30.000000</td>\n",
       "      <td>16943.235000</td>\n",
       "      <td>0.000000</td>\n",
       "    </tr>\n",
       "    <tr>\n",
       "      <th>75%</th>\n",
       "      <td>82.000000</td>\n",
       "      <td>571.927500</td>\n",
       "      <td>57.000000</td>\n",
       "      <td>21424.700000</td>\n",
       "      <td>1.000000</td>\n",
       "    </tr>\n",
       "    <tr>\n",
       "      <th>max</th>\n",
       "      <td>244.000000</td>\n",
       "      <td>1632.060000</td>\n",
       "      <td>224.000000</td>\n",
       "      <td>49745.730000</td>\n",
       "      <td>1.000000</td>\n",
       "    </tr>\n",
       "  </tbody>\n",
       "</table>\n",
       "</div>"
      ],
      "text/plain": [
       "             calls      minutes     messages       mb_used     is_ultra\n",
       "count  3214.000000  3214.000000  3214.000000   3214.000000  3214.000000\n",
       "mean     63.038892   438.208787    38.281269  17207.673836     0.306472\n",
       "std      33.236368   234.569872    36.148326   7570.968246     0.461100\n",
       "min       0.000000     0.000000     0.000000      0.000000     0.000000\n",
       "25%      40.000000   274.575000     9.000000  12491.902500     0.000000\n",
       "50%      62.000000   430.600000    30.000000  16943.235000     0.000000\n",
       "75%      82.000000   571.927500    57.000000  21424.700000     1.000000\n",
       "max     244.000000  1632.060000   224.000000  49745.730000     1.000000"
      ]
     },
     "execution_count": 4,
     "metadata": {},
     "output_type": "execute_result"
    }
   ],
   "source": [
    "data_mob.describe()"
   ]
  },
  {
   "cell_type": "code",
   "execution_count": 5,
   "id": "4dc90b45",
   "metadata": {},
   "outputs": [
    {
     "data": {
      "text/plain": [
       "0"
      ]
     },
     "execution_count": 5,
     "metadata": {},
     "output_type": "execute_result"
    }
   ],
   "source": [
    "#проверим наличие дубликатов\n",
    "data_mob.duplicated().sum()"
   ]
  },
  {
   "cell_type": "code",
   "execution_count": 6,
   "id": "a5bbc967",
   "metadata": {},
   "outputs": [
    {
     "data": {
      "text/plain": [
       "calls       0\n",
       "minutes     0\n",
       "messages    0\n",
       "mb_used     0\n",
       "is_ultra    0\n",
       "dtype: int64"
      ]
     },
     "execution_count": 6,
     "metadata": {},
     "output_type": "execute_result"
    }
   ],
   "source": [
    "data_mob.isnull().sum()"
   ]
  },
  {
   "cell_type": "markdown",
   "id": "c05d3362",
   "metadata": {},
   "source": [
    "<b>Вывод:</b> \n",
    "\n",
    "С данными все в порядке, нет пропусков, дубликатов, типы данных сответствуют, нет отрицательных значений."
   ]
  },
  {
   "cell_type": "markdown",
   "id": "eacac33e",
   "metadata": {},
   "source": [
    "#### Разделите исходные данные на обучающую, валидационную и тестовую выборки."
   ]
  },
  {
   "cell_type": "code",
   "execution_count": 7,
   "id": "55cc9686",
   "metadata": {},
   "outputs": [],
   "source": [
    "#разбиваем данные на выборки по принципу 3:1:1 \n",
    "#(60% тренировочная, 20% валидационная, 20% тестовая)\n",
    "data_mob_train, data_mob_valid = train_test_split(data_mob, test_size=0.4, random_state=12345)\n",
    "data_mob_valid,data_mob_test = train_test_split(data_mob_valid, test_size=0.5, random_state=12345)"
   ]
  },
  {
   "cell_type": "code",
   "execution_count": 8,
   "id": "d34a66f0",
   "metadata": {},
   "outputs": [
    {
     "name": "stdout",
     "output_type": "stream",
     "text": [
      "Размер обучающей выборки: 1928 объектов\n",
      "Размер валидационной выборки: 643 объекта\n",
      "Размер тестовой выборки: 643 объекта\n"
     ]
    }
   ],
   "source": [
    "#посмотрим что получилось\n",
    "print('Размер обучающей выборки:', data_mob_train.shape[0],'объектов')\n",
    "print('Размер валидационной выборки:', data_mob_valid.shape[0],'объекта')\n",
    "print('Размер тестовой выборки:',data_mob_test.shape[0],'объекта')"
   ]
  },
  {
   "cell_type": "code",
   "execution_count": 9,
   "id": "a2679e4f",
   "metadata": {},
   "outputs": [],
   "source": [
    "#выделяем признаки и целевую переменную\n",
    "\n",
    "# тренировочная выборка\n",
    "features_train = data_mob_train.drop('is_ultra', axis=1)\n",
    "target_train = data_mob_train['is_ultra']\n",
    "# валидационная выборка\n",
    "features_valid = data_mob_valid.drop('is_ultra', axis=1)\n",
    "target_valid = data_mob_valid['is_ultra']\n",
    "# тестовая выборка\n",
    "features_test = data_mob_test.drop('is_ultra', axis=1)\n",
    "target_test = data_mob_test['is_ultra']"
   ]
  },
  {
   "cell_type": "markdown",
   "id": "d5712e2b",
   "metadata": {},
   "source": [
    "### 3. Исследуйте модели"
   ]
  },
  {
   "cell_type": "code",
   "execution_count": 10,
   "id": "9ceca97e",
   "metadata": {},
   "outputs": [],
   "source": [
    "#создадим функцию, которая будет визуализировать зависимость изменения \n",
    "#качества от изменения гиперпараметров\n",
    "\n",
    "def drawind_scores(data_d,data_accur,xlab):\n",
    "    plt.figure(figsize=(12, 5))\n",
    "    sns.set_style('darkgrid') \n",
    "    sns.lineplot(x=data_d, y=data_accur,color='g',alpha=0.5)\n",
    "    plt.title('Cравнение accuracy при разной {}'.format(xlab), fontsize=12) \n",
    "    plt.ylabel('аccuracies') \n",
    "    plt.xlabel(xlab)\n",
    "    plt.show()    "
   ]
  },
  {
   "cell_type": "markdown",
   "id": "3a242a49",
   "metadata": {},
   "source": [
    "#### Дерево решений"
   ]
  },
  {
   "cell_type": "code",
   "execution_count": 11,
   "id": "9ffd1736",
   "metadata": {},
   "outputs": [
    {
     "name": "stdout",
     "output_type": "stream",
     "text": [
      "Глубина (depth): 1 --> Качество (accuracy): 0.7542768273716952\n",
      "Глубина (depth): 2 --> Качество (accuracy): 0.7822706065318819\n",
      "Глубина (depth): 3 --> Качество (accuracy): 0.7853810264385692\n",
      "Глубина (depth): 4 --> Качество (accuracy): 0.7791601866251944\n",
      "Глубина (depth): 5 --> Качество (accuracy): 0.7791601866251944\n",
      "Глубина (depth): 6 --> Качество (accuracy): 0.7838258164852255\n",
      "Глубина (depth): 7 --> Качество (accuracy): 0.7822706065318819\n",
      "Глубина (depth): 8 --> Качество (accuracy): 0.7791601866251944\n",
      "Глубина (depth): 9 --> Качество (accuracy): 0.7822706065318819\n",
      "Глубина (depth): 10 --> Качество (accuracy): 0.7744945567651633\n"
     ]
    },
    {
     "data": {
      "image/png": "[encoded data removed]",
      "text/plain": [
       "<Figure size 864x360 with 1 Axes>"
      ]
     },
     "metadata": {
      "needs_background": "light"
     },
     "output_type": "display_data"
    }
   ],
   "source": [
    "#обучим модель Дерево Решений + проверим разную глубину\n",
    "\n",
    "#создадим пустые списки для фиксирования глубины и качества \n",
    "depths = []\n",
    "accuracies_dt = []\n",
    "\n",
    "\n",
    "for depth in range(1,11):\n",
    "    model = DecisionTreeClassifier(random_state=12345, max_depth=depth)\n",
    "    model.fit(features_train,target_train)\n",
    "    dt_predictions = model.predict(features_valid)\n",
    "    dt_result = accuracy_score(target_valid, dt_predictions)\n",
    "    \n",
    "    depths.append(depth)\n",
    "    accuracies_dt.append(dt_result)\n",
    "     \n",
    "    print('Глубина (depth):', depth, '-->', end=' ')\n",
    "    print('Качество (accuracy):', dt_result)\n",
    "\n",
    "    \n",
    "#посмотрим для удобства изменения на графике \n",
    "drawind_scores(depths,accuracies_dt,'depth')"
   ]
  },
  {
   "cell_type": "markdown",
   "id": "b4e3ed2f",
   "metadata": {},
   "source": [
    "#### Случайный лес"
   ]
  },
  {
   "cell_type": "code",
   "execution_count": 12,
   "id": "805ca137",
   "metadata": {
    "scrolled": false
   },
   "outputs": [
    {
     "name": "stdout",
     "output_type": "stream",
     "text": [
      "Estimators: 1 --> Качество (accuracy): 0.7107309486780715\n",
      "Estimators: 11 --> Качество (accuracy): 0.7838258164852255\n",
      "Estimators: 21 --> Качество (accuracy): 0.7931570762052877\n",
      "Estimators: 31 --> Качество (accuracy): 0.7822706065318819\n",
      "Estimators: 41 --> Качество (accuracy): 0.7869362363919129\n",
      "Estimators: 51 --> Качество (accuracy): 0.7916018662519441\n",
      "Estimators: 61 --> Качество (accuracy): 0.7807153965785381\n",
      "Estimators: 71 --> Качество (accuracy): 0.7807153965785381\n",
      "Estimators: 81 --> Качество (accuracy): 0.7807153965785381\n",
      "Estimators: 91 --> Качество (accuracy): 0.7838258164852255\n",
      "Estimators: 101 --> Качество (accuracy): 0.7853810264385692\n"
     ]
    },
    {
     "data": {
      "image/png": "[encoded data removed]",
      "text/plain": [
       "<Figure size 864x360 with 1 Axes>"
      ]
     },
     "metadata": {},
     "output_type": "display_data"
    }
   ],
   "source": [
    "#обучим модель Случайный лес + проверим разное количество деревьев\n",
    "#создадим пустые списки для фиксирования числа деревьев и качества\n",
    "\n",
    "estimators = []\n",
    "accuracies_rf = []\n",
    "\n",
    "for est in range(1,111,10):\n",
    "    model = RandomForestClassifier(random_state=12345, n_estimators=est)\n",
    "    model.fit(features_train,target_train)\n",
    "    rf_predictions = model.predict(features_valid)\n",
    "    rf_result = accuracy_score(target_valid, rf_predictions)\n",
    "    \n",
    "    estimators.append(est)\n",
    "    accuracies_rf.append(rf_result)\n",
    "    \n",
    "    print('Estimators:', est, '-->', end=' ')\n",
    "    print('Качество (accuracy):', rf_result)\n",
    "    \n",
    "#посмотрим на графике\n",
    "drawind_scores(estimators,accuracies_rf,'estimators')"
   ]
  },
  {
   "cell_type": "markdown",
   "id": "00adc0bb",
   "metadata": {},
   "source": [
    "#### Случайный лес + смена параметров"
   ]
  },
  {
   "cell_type": "code",
   "execution_count": 13,
   "id": "fb31ee44",
   "metadata": {},
   "outputs": [
    {
     "name": "stdout",
     "output_type": "stream",
     "text": [
      "Лучшая модель: 0.80248833592535 estimators: 8 глубина: 8\n"
     ]
    }
   ],
   "source": [
    "#обучим модель Случайный лес \n",
    "# + проведем эксперимент с разным количеством деревьев + одновременно глубиной дерева\n",
    "\n",
    "best_result=0\n",
    "best_estimators=0\n",
    "best_depth=0\n",
    "\n",
    "#создадим двойной цикл по числу деревьев и глубине дерева\n",
    "\n",
    "for est in range(1,11):\n",
    "    for depth in range(1,11):\n",
    "        model = RandomForestClassifier(random_state=12345, max_depth=depth, n_estimators=est)\n",
    "        model.fit(features_train,target_train)\n",
    "        rf_predictions = model.predict(features_valid)\n",
    "        rf_result = accuracy_score(target_valid, rf_predictions)\n",
    "        \n",
    "        #поиск лучшей модели из множества вариантов\n",
    "        if rf_result > best_result:\n",
    "            best_estimators=est \n",
    "            best_result=rf_result\n",
    "            best_depth=depth\n",
    "            \n",
    "print('Лучшая модель:',best_result, 'estimators:', best_estimators, 'глубина:', best_depth )"
   ]
  },
  {
   "cell_type": "markdown",
   "id": "a3e19f2d",
   "metadata": {},
   "source": [
    "#### Логистическая регрессия"
   ]
  },
  {
   "cell_type": "code",
   "execution_count": 14,
   "id": "32e87a6d",
   "metadata": {},
   "outputs": [
    {
     "name": "stdout",
     "output_type": "stream",
     "text": [
      "Качество на Логистической регрессии ---> 0.7107309486780715\n"
     ]
    }
   ],
   "source": [
    "#обучим модель Логистическая регрессия + проверим \n",
    "\n",
    "log_model = LogisticRegression(random_state=12345)\n",
    "log_model.fit(features_train,target_train)\n",
    "\n",
    "log_predictions = log_model.predict(features_valid)\n",
    "log_result = accuracy_score(target_valid, log_predictions)\n",
    "\n",
    "print('Качество на Логистической регрессии --->',log_result)"
   ]
  },
  {
   "cell_type": "markdown",
   "id": "efdb4fb4",
   "metadata": {},
   "source": [
    "<b>Вывод по изучению моделей</b>:\n",
    "\n",
    "В результате анализа были получены следующие результаты по моделям:\n",
    "    \n",
    "   - DecisionTreeClassifier показала лучшее значение при глубине (depth): 3, accuracy составило <b>0.7854</b>\n",
    "   - RandomForestClassifier показал лучшее значение при числе деревьев (estimators): 21, accuracy составило <b>0.79316</b>\n",
    "   - RandomForestClassifier с одновременной отработкой числа деревьев и глубины показала лучшее значение accuracy: <b> 0.8025</b> (estimators: 8 глубина: 8), проверим ее на тестовой выборке;\n",
    "   - LogisticRegression показала лучшее значение <b> 0.7107 </b>\n",
    " "
   ]
  },
  {
   "cell_type": "markdown",
   "id": "c54877d6",
   "metadata": {},
   "source": [
    "### 4. Проверьте модель на тестовой выборке¶\n"
   ]
  },
  {
   "cell_type": "code",
   "execution_count": 17,
   "id": "0c666744",
   "metadata": {},
   "outputs": [
    {
     "name": "stdout",
     "output_type": "stream",
     "text": [
      "На тестовой выборке значение Accuracy: 0.7962674961119751\n"
     ]
    }
   ],
   "source": [
    "#теперь проверим на тестовой выборке \n",
    "model = RandomForestClassifier(random_state=12345, n_estimators=8, max_depth=8)\n",
    "model.fit(features_train,target_train)\n",
    "predictions = model.predict(features_test)\n",
    "result = accuracy_score(target_test, predictions)\n",
    "print('На тестовой выборке значение Accuracy:', result)"
   ]
  },
  {
   "cell_type": "markdown",
   "id": "cedb47e2",
   "metadata": {},
   "source": [
    "<b>Вывод:</b>\n",
    "На тестовой выборке по подобранной модели получено значение Accuracy: <b>0.7962674961119751</b>"
   ]
  },
  {
   "cell_type": "markdown",
   "id": "4e0ed1ea",
   "metadata": {},
   "source": [
    "### 5. Проверьте модели на адекватность"
   ]
  },
  {
   "cell_type": "markdown",
   "id": "57f99711",
   "metadata": {},
   "source": [
    "Учитывая, что в данных 70% пользователей выбирают \"Smart\",в случает случайного выбора у нас будет в 70% предсказание - Smart. Наша модель точнее."
   ]
  },
  {
   "cell_type": "code",
   "execution_count": 16,
   "id": "bfde8d14",
   "metadata": {},
   "outputs": [
    {
     "data": {
      "text/plain": [
       "0    0.693528\n",
       "1    0.306472\n",
       "Name: is_ultra, dtype: float64"
      ]
     },
     "execution_count": 16,
     "metadata": {},
     "output_type": "execute_result"
    }
   ],
   "source": [
    "data_mob['is_ultra'].value_counts(normalize=True)"
   ]
  },
  {
   "cell_type": "markdown",
   "id": "c8e6bc4a",
   "metadata": {},
   "source": [
    "### 6. Общий вывод"
   ]
  },
  {
   "cell_type": "markdown",
   "id": "25195fe8",
   "metadata": {},
   "source": [
    "<b>1.</b> При подготовке датасета к обучению он был проанализирован на наличие дубликатов, пропусков, несоответствия типов данных и отрицательных значений. Были применены методы: \n",
    "- info()\n",
    "- decribe()\n",
    "- duplicated().sum()\n",
    "- isnull().sum()\n",
    "Никаких отклонений найдено не было.\n",
    "\n",
    "<b>2.</b> Было произведено разделение датасета на обучающую, валидационную и тестовую выборки в размере 3:1:1 (60%,20%,20%)\n",
    "\n",
    "<b>3.</b> Были проанализированы следующие модели:\n",
    "\n",
    "    DecisionTreeClassifier \n",
    "    RandomForestClassifier \n",
    "    LogisticRegression \n",
    " \n",
    "Были изменены гиперпараметры:\n",
    " - у модели DecisionTreeClassifier менялось глубтина дерева (от 1 до 10)\n",
    " - у модели RandomForestClassifier  в одном случае менялось число деревьев, в другом - глубина дерева + число деревьев;\n",
    "\n",
    "На основе сравнительного анализа была выбрана наиболее точная модель - RandomForestClassifier показавшая значение accuracy: 0.8025 (estimators: 8 глубина: 8)\n",
    " \n",
    "<b>4.</b> Наиболее точная модель была опробована на тестовой выборке, показав значение Accuracy: 0.7962674961119751\n",
    " \n",
    "<b>5.</b> Оценена адекватность модели, сделан вывод, что в случае если бы модель предсказывала SMart, она бы делала это в 70%, точность выбранной модели 80%."
   ]
  },
  {
   "cell_type": "code",
   "execution_count": null,
   "id": "dd4bc422",
   "metadata": {},
   "outputs": [],
   "source": []
  }
 ],
 "metadata": {
  "kernelspec": {
   "display_name": "Python 3 (ipykernel)",
   "language": "python",
   "name": "python3"
  },
  "language_info": {
   "codemirror_mode": {
    "name": "ipython",
    "version": 3
   },
   "file_extension": ".py",
   "mimetype": "text/x-python",
   "name": "python",
   "nbconvert_exporter": "python",
   "pygments_lexer": "ipython3",
   "version": "3.8.11"
  }
 },
 "nbformat": 4,
 "nbformat_minor": 5
}
